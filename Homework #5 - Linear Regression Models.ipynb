{
 "cells": [
  {
   "cell_type": "markdown",
   "metadata": {},
   "source": [
    "# Hmwk #5 - Regression Analysis"
   ]
  },
  {
   "cell_type": "markdown",
   "metadata": {},
   "source": [
    "## Problem #1 - Trees"
   ]
  },
  {
   "cell_type": "markdown",
   "metadata": {},
   "source": [
    "Foresters want to measure the volume of a tree in order to estimate how much lumber they would get for that tree. Knowing the girth and height of the tree, one could apply a cylinder approximation, but the tree does not have a uniform girth along its entire length -- the tree gets much smaller at the top. The UsingR library has a data set \"trees\", that contains a set of measurements of the girth and height of a tree. Use the library to assess a linear model. For example, you might try:"
   ]
  },
  {
   "cell_type": "code",
   "execution_count": 1,
   "metadata": {
    "collapsed": false
   },
   "outputs": [
    {
     "name": "stderr",
     "output_type": "stream",
     "text": [
      "Loading required package: MASS\n",
      "Loading required package: HistData\n",
      "Loading required package: Hmisc\n",
      "Loading required package: lattice\n",
      "Loading required package: survival\n",
      "Loading required package: Formula\n",
      "Loading required package: ggplot2\n",
      "\n",
      "Attaching package: ‘Hmisc’\n",
      "\n",
      "The following objects are masked from ‘package:base’:\n",
      "\n",
      "    format.pval, round.POSIXt, trunc.POSIXt, units\n",
      "\n",
      "\n",
      "Attaching package: ‘UsingR’\n",
      "\n",
      "The following object is masked from ‘package:survival’:\n",
      "\n",
      "    cancer\n",
      "\n"
     ]
    },
    {
     "data": {
      "text/plain": [
       "     Girth           Height       Volume     \n",
       " Min.   : 8.30   Min.   :63   Min.   :10.20  \n",
       " 1st Qu.:11.05   1st Qu.:72   1st Qu.:19.40  \n",
       " Median :12.90   Median :76   Median :24.20  \n",
       " Mean   :13.25   Mean   :76   Mean   :30.17  \n",
       " 3rd Qu.:15.25   3rd Qu.:80   3rd Qu.:37.30  \n",
       " Max.   :20.60   Max.   :87   Max.   :77.00  "
      ]
     },
     "execution_count": 1,
     "metadata": {},
     "output_type": "execute_result"
    }
   ],
   "source": [
    "library(UsingR)\n",
    "summary(trees)"
   ]
  },
  {
   "cell_type": "markdown",
   "metadata": {},
   "source": [
    "** If we look at the regression model **"
   ]
  },
  {
   "cell_type": "code",
   "execution_count": 2,
   "metadata": {
    "collapsed": false
   },
   "outputs": [
    {
     "data": {
      "text/plain": [
       "\n",
       "Call:\n",
       "lm(formula = Volume ~ Height + Girth, data = trees)\n",
       "\n",
       "Residuals:\n",
       "    Min      1Q  Median      3Q     Max \n",
       "-6.4065 -2.6493 -0.2876  2.2003  8.4847 \n",
       "\n",
       "Coefficients:\n",
       "            Estimate Std. Error t value Pr(>|t|)    \n",
       "(Intercept) -57.9877     8.6382  -6.713 2.75e-07 ***\n",
       "Height        0.3393     0.1302   2.607   0.0145 *  \n",
       "Girth         4.7082     0.2643  17.816  < 2e-16 ***\n",
       "---\n",
       "Signif. codes:  0 ‘***’ 0.001 ‘**’ 0.01 ‘*’ 0.05 ‘.’ 0.1 ‘ ’ 1\n",
       "\n",
       "Residual standard error: 3.882 on 28 degrees of freedom\n",
       "Multiple R-squared:  0.948,\tAdjusted R-squared:  0.9442 \n",
       "F-statistic:   255 on 2 and 28 DF,  p-value: < 2.2e-16\n"
      ]
     },
     "execution_count": 2,
     "metadata": {},
     "output_type": "execute_result"
    }
   ],
   "source": [
    "m = lm(Volume ~ Height + Girth, data=trees)\n",
    "summary(m)"
   ]
  },
  {
   "cell_type": "markdown",
   "metadata": {},
   "source": [
    "This provides a model, but doesn't say if it's any good. Do the following using R -- i.e. use the output of the 'lm' linear model where possible. Show your work."
   ]
  },
  {
   "cell_type": "markdown",
   "metadata": {},
   "source": [
    "### What is the R^2 for this model"
   ]
  },
  {
   "cell_type": "code",
   "execution_count": null,
   "metadata": {
    "collapsed": true
   },
   "outputs": [],
   "source": []
  },
  {
   "cell_type": "markdown",
   "metadata": {},
   "source": [
    "### Compute the 95% confidence interval for the Height parameter \n",
    "(**nb:** you're being asked to calculate the CI of the parameter from the multi-linear model, not the CI of the Height data itself). To do this, you would use the standard error (shown in the summary of the linear model -- e.g. 0.1302 for parameter Height) for each parameter -- this is the standard error for that parameter derived from the MSE as described in the slides concerning multi-linear regression. You would then conduct the T-distribution using that standard error with n-k-1 degrees of freedom. See the slides on linear regression."
   ]
  },
  {
   "cell_type": "code",
   "execution_count": null,
   "metadata": {
    "collapsed": true
   },
   "outputs": [],
   "source": []
  },
  {
   "cell_type": "markdown",
   "metadata": {},
   "source": [
    "### Compute the 95% confidence interval for the Girth parameter \n",
    "(**nb:** as above). Verify your value using the **confint** function in R."
   ]
  },
  {
   "cell_type": "code",
   "execution_count": null,
   "metadata": {
    "collapsed": true
   },
   "outputs": [],
   "source": []
  },
  {
   "cell_type": "markdown",
   "metadata": {},
   "source": [
    "### Does the Height parameter statistically equal zero? Does the Girth?"
   ]
  },
  {
   "cell_type": "code",
   "execution_count": null,
   "metadata": {
    "collapsed": true
   },
   "outputs": [],
   "source": []
  },
  {
   "cell_type": "markdown",
   "metadata": {},
   "source": [
    "### Complete this sentence:\n",
    "\"For every unit increase in Girth, the Volume increases by ______ and for every unit increase in Height, the Volume increases by ______\""
   ]
  },
  {
   "cell_type": "code",
   "execution_count": null,
   "metadata": {
    "collapsed": true
   },
   "outputs": [],
   "source": []
  },
  {
   "cell_type": "markdown",
   "metadata": {},
   "source": [
    "## Problem #2 - Body Fat"
   ]
  },
  {
   "cell_type": "code",
   "execution_count": 7,
   "metadata": {
    "collapsed": false
   },
   "outputs": [
    {
     "data": {
      "text/plain": [
       "      case           body.fat     body.fat.siri      density     \n",
       " Min.   :  1.00   Min.   : 0.00   Min.   : 0.00   Min.   :0.995  \n",
       " 1st Qu.: 63.75   1st Qu.:12.80   1st Qu.:12.47   1st Qu.:1.041  \n",
       " Median :126.50   Median :19.00   Median :19.20   Median :1.055  \n",
       " Mean   :126.50   Mean   :18.94   Mean   :19.15   Mean   :1.056  \n",
       " 3rd Qu.:189.25   3rd Qu.:24.60   3rd Qu.:25.30   3rd Qu.:1.070  \n",
       " Max.   :252.00   Max.   :45.10   Max.   :47.50   Max.   :1.109  \n",
       "      age            weight          height           BMI       \n",
       " Min.   :22.00   Min.   :118.5   Min.   :29.50   Min.   :18.10  \n",
       " 1st Qu.:35.75   1st Qu.:159.0   1st Qu.:68.25   1st Qu.:23.10  \n",
       " Median :43.00   Median :176.5   Median :70.00   Median :25.05  \n",
       " Mean   :44.88   Mean   :178.9   Mean   :70.15   Mean   :25.44  \n",
       " 3rd Qu.:54.00   3rd Qu.:197.0   3rd Qu.:72.25   3rd Qu.:27.32  \n",
       " Max.   :81.00   Max.   :363.1   Max.   :77.75   Max.   :48.90  \n",
       "    ffweight          neck           chest           abdomen      \n",
       " Min.   :105.9   Min.   :31.10   Min.   : 79.30   Min.   : 69.40  \n",
       " 1st Qu.:131.3   1st Qu.:36.40   1st Qu.: 94.35   1st Qu.: 84.58  \n",
       " Median :141.6   Median :38.00   Median : 99.65   Median : 90.95  \n",
       " Mean   :143.7   Mean   :37.99   Mean   :100.82   Mean   : 92.56  \n",
       " 3rd Qu.:153.9   3rd Qu.:39.42   3rd Qu.:105.38   3rd Qu.: 99.33  \n",
       " Max.   :240.5   Max.   :51.20   Max.   :136.20   Max.   :148.10  \n",
       "      hip            thigh            knee           ankle          bicep      \n",
       " Min.   : 85.0   Min.   :47.20   Min.   :33.00   Min.   :19.1   Min.   :24.80  \n",
       " 1st Qu.: 95.5   1st Qu.:56.00   1st Qu.:36.98   1st Qu.:22.0   1st Qu.:30.20  \n",
       " Median : 99.3   Median :59.00   Median :38.50   Median :22.8   Median :32.05  \n",
       " Mean   : 99.9   Mean   :59.41   Mean   :38.59   Mean   :23.1   Mean   :32.27  \n",
       " 3rd Qu.:103.5   3rd Qu.:62.35   3rd Qu.:39.92   3rd Qu.:24.0   3rd Qu.:34.33  \n",
       " Max.   :147.7   Max.   :87.30   Max.   :49.10   Max.   :33.9   Max.   :45.00  \n",
       "    forearm          wrist      \n",
       " Min.   :21.00   Min.   :15.80  \n",
       " 1st Qu.:27.30   1st Qu.:17.60  \n",
       " Median :28.70   Median :18.30  \n",
       " Mean   :28.66   Mean   :18.23  \n",
       " 3rd Qu.:30.00   3rd Qu.:18.80  \n",
       " Max.   :34.90   Max.   :21.40  "
      ]
     },
     "execution_count": 7,
     "metadata": {},
     "output_type": "execute_result"
    }
   ],
   "source": [
    "summary(fat)"
   ]
  },
  {
   "cell_type": "markdown",
   "metadata": {},
   "source": [
    "The Body Mass Index (BMI) is a model to predict the percentage of body fat based on your weight and height. The VMI is defined as the ratio of weight (in kilograms) to the square of height (in metres). A BMI of 18.5 to 25 is considered \"healthy\", a BMI of 25 to 30 is \"overweight\" and a BMI over 30 is \"obese\". The dataset 'fat' from UsingR contains 19 factors. The true body fat is body.fat and BMI field is the BMI.\n",
    "\n"
   ]
  },
  {
   "cell_type": "markdown",
   "metadata": {},
   "source": [
    "### Using the 'fat' data set, build a linear model\n",
    "of the body.fat predicted by BMI.\n",
    "Describe the linear model -- what are the intercept and slope.\n",
    "What is the $r^2$ of that model?\n"
   ]
  },
  {
   "cell_type": "code",
   "execution_count": 15,
   "metadata": {
    "collapsed": false
   },
   "outputs": [
    {
     "data": {
      "text/plain": [
       "\n",
       "Call:\n",
       "lm(formula = body.fat ~ BMI, data = fat)\n",
       "\n",
       "Coefficients:\n",
       "(Intercept)          BMI  \n",
       "    -20.405        1.547  \n"
      ]
     },
     "execution_count": 15,
     "metadata": {},
     "output_type": "execute_result"
    },
    {
     "data": {
      "text/html": [
       "0.529975533278187"
      ],
      "text/latex": [
       "0.529975533278187"
      ],
      "text/markdown": [
       "0.529975533278187"
      ],
      "text/plain": [
       "[1] 0.5299755"
      ]
     },
     "execution_count": 15,
     "metadata": {},
     "output_type": "execute_result"
    }
   ],
   "source": [
    "(fatty.lm=lm(body.fat~BMI,data=fat))\n",
    "summary(fatty.lm)$r.squared "
   ]
  },
  {
   "cell_type": "markdown",
   "metadata": {},
   "source": [
    "### Come up with a minimal model that predicts body.fat using the other factors with an R2 of at least 0.72\n",
    "We will use these different factors to come up with a minimal model that predicts body.fat using the other factors with an R2 of at least 0.72. Each factor in the final model should be significant at the 95% level -- this means that the confidence interval of the parameter at the 95% confidence level should not include zero. \n",
    "\n",
    "Include your description showing both your final result and the process by which you achieve that result. Your model shouldn't use the \"density\" or \"body.fat.siri\" factors, as those are the \"gold standard\" measurements used to calculate body fat (using a dunk tank). I'm not certain what \"ffweight\" is, but don't use that either.\n",
    "\n",
    "You may want to understand the \"p-value\" for problem - basically, the p-value is the probability of observing a value at least as large as the \"t-value\" (which is the estimate / std. error). Effectively, this is providing a way to determine if that value is statistically equal to zero.\n",
    "\n",
    "You should describe the process you use, not just the end result. You should also insure that the linear model is valid, meaning that the predictors are not correlated, etc. Wikipedia has a good article on such \"stepwise refinement\" mechanisms [ http://en.wikipedia.org/wiki/Stepwise_regression ]. See also the discussion on page 125 of the book by Faraway on Practical Regression Analysis using R (on the couse web page or http://cran.r-project.org/doc/contrib/Faraway-PRA.pdf). They describe a \"backward\" and \"forward\" mechanism where you either start with all terms & toss some away or start adding terms to a null model."
   ]
  },
  {
   "cell_type": "code",
   "execution_count": 58,
   "metadata": {
    "collapsed": false
   },
   "outputs": [
    {
     "data": {
      "text/plain": [
       "\n",
       "Call:\n",
       "lm(formula = body.fat ~ weight + abdomen + wrist, data = fat)\n",
       "\n",
       "Residuals:\n",
       "     Min       1Q   Median       3Q      Max \n",
       "-12.1509  -2.9833  -0.1719   2.9955   9.1195 \n",
       "\n",
       "Coefficients:\n",
       "             Estimate Std. Error t value Pr(>|t|)    \n",
       "(Intercept) -24.76129    6.31599  -3.920 0.000114 ***\n",
       "weight       -0.10558    0.02191  -4.820 2.51e-06 ***\n",
       "abdomen       0.90191    0.05202  17.338  < 2e-16 ***\n",
       "wrist        -1.14570    0.40412  -2.835 0.004959 ** \n",
       "---\n",
       "Signif. codes:  0 ‘***’ 0.001 ‘**’ 0.01 ‘*’ 0.05 ‘.’ 0.1 ‘ ’ 1\n",
       "\n",
       "Residual standard error: 4.07 on 248 degrees of freedom\n",
       "Multiple R-squared:  0.7276,\tAdjusted R-squared:  0.7243 \n",
       "F-statistic: 220.8 on 3 and 248 DF,  p-value: < 2.2e-16\n"
      ]
     },
     "execution_count": 58,
     "metadata": {},
     "output_type": "execute_result"
    },
    {
     "name": "stdout",
     "output_type": "stream",
     "text": [
      "\n",
      "Correlations between fat-weight, fat-abdoment, fat-wrist:\n"
     ]
    },
    {
     "data": {
      "text/html": [
       "0.613156110031314"
      ],
      "text/latex": [
       "0.613156110031314"
      ],
      "text/markdown": [
       "0.613156110031314"
      ],
      "text/plain": [
       "[1] 0.6131561"
      ]
     },
     "execution_count": 58,
     "metadata": {},
     "output_type": "execute_result"
    },
    {
     "data": {
      "text/html": [
       "0.813706221642791"
      ],
      "text/latex": [
       "0.813706221642791"
      ],
      "text/markdown": [
       "0.813706221642791"
      ],
      "text/plain": [
       "[1] 0.8137062"
      ]
     },
     "execution_count": 58,
     "metadata": {},
     "output_type": "execute_result"
    },
    {
     "data": {
      "text/html": [
       "0.347572756593503"
      ],
      "text/latex": [
       "0.347572756593503"
      ],
      "text/markdown": [
       "0.347572756593503"
      ],
      "text/plain": [
       "[1] 0.3475728"
      ]
     },
     "execution_count": 58,
     "metadata": {},
     "output_type": "execute_result"
    }
   ],
   "source": [
    "fatty.lm=lm(body.fat~.,data=fat)\n",
    "\n",
    "#Remove density, siri, and ffweight as per instructions\n",
    "#Remove case as the case number shouldn't be important with a valid study\n",
    "#summary(fatty.lm)$r.squared\n",
    "fatty.lm=update(fatty.lm, . ~ . - density)\n",
    "#summary(fatty.lm)$r.squared\n",
    "fatty.lm=update(fatty.lm, . ~ . - body.fat.siri)\n",
    "#summary(fatty.lm)$r.squared\n",
    "fatty.lm=update(fatty.lm, . ~ . - ffweight)\n",
    "#summary(fatty.lm)$r.squared\n",
    "fatty.lm=update(fatty.lm, . ~ . - case)\n",
    "#summary(fatty.lm)\n",
    "\n",
    "#Remove knee as it has highest P-value\n",
    "fatty.lm=update(fatty.lm, . ~ . - knee)\n",
    "#summary(fatty.lm)\n",
    "\n",
    "#Remove BMI as it has highest P-value\n",
    "fatty.lm=update(fatty.lm, . ~ . - BMI)\n",
    "#summary(fatty.lm)\n",
    "\n",
    "#Remove Chest as it has highest P-value\n",
    "fatty.lm=update(fatty.lm, . ~ . - chest)\n",
    "#summary(fatty.lm)\n",
    "\n",
    "#Remove height\n",
    "fatty.lm=update(fatty.lm, . ~ . - height)\n",
    "#summary(fatty.lm)\n",
    "\n",
    "#Remove ankle\n",
    "fatty.lm=update(fatty.lm, . ~ . - ankle)\n",
    "#summary(fatty.lm)\n",
    "\n",
    "#Remove bicep\n",
    "fatty.lm=update(fatty.lm, . ~ . - bicep)\n",
    "#summary(fatty.lm)\n",
    "\n",
    "#Remove hip\n",
    "fatty.lm=update(fatty.lm, . ~ . - hip)\n",
    "#summary(fatty.lm)\n",
    "\n",
    "#Remove neck\n",
    "fatty.lm=update(fatty.lm, . ~ . - neck)\n",
    "#summary(fatty.lm)\n",
    "\n",
    "#Remove thigh\n",
    "fatty.lm=update(fatty.lm, . ~ . - thigh)\n",
    "#summary(fatty.lm)\n",
    "\n",
    "#Remove age\n",
    "fatty.lm=update(fatty.lm, . ~ . - age)\n",
    "#summary(fatty.lm)\n",
    "\n",
    "#Remove forearm\n",
    "fatty.lm=update(fatty.lm, . ~ . - forearm)\n",
    "summary(fatty.lm)\n",
    "\n",
    "#find correlations between remaining factors and body fat\n",
    "writeLines(\"\\nCorrelations between fat-weight, fat-abdoment, fat-wrist:\")\n",
    "cor(fat$body.fat, fat$weight)\n",
    "cor(fat$body.fat, fat$abdomen)\n",
    "cor(fat$body.fat, fat$wrist)\n",
    "\n"
   ]
  },
  {
   "cell_type": "markdown",
   "metadata": {},
   "source": [
    "## Problem #3 - Wireless networks\n",
    "\n",
    "This data contains measurements from 3 wireless network devices. One is an 802.11 \"Wifi\" interface running at 1Mbs/s. The second is that same interface running at 11Mb/s. Lastly, the same interface running at 54Mb/s. The data is stored as R vectors named x1, y1, x11, y11 and x54, y54. The X value is the packet size for the time measurement recorded at the corresponding Y value. The units are milliseconds. For example, x11[1] is 350 bytes and y11[1] is 1.436782 millseconds. It took 1.436782 milliseconds to transmit a 350 byte packet."
   ]
  },
  {
   "cell_type": "code",
   "execution_count": 4,
   "metadata": {
    "collapsed": true
   },
   "outputs": [],
   "source": [
    "x11 = c(350, 350, 350, 350, 350, 450, 450, 450, 450, 450, 550, 550, 550,\n",
    "550, 550, 650, 650, 650, 650, 650, 750, 750, 750, 750, 750, 850, 850,\n",
    "850, 850, 850, 950, 950, 950, 950, 950, 1050, 1050, 1050, 1050, 1050,\n",
    "1150, 1150, 1150, 1150, 1150, 1250, 1250, 1250, 1250, 1250, 1350,\n",
    "1350, 1350, 1350, 1350, 1450, 1450, 1450, 1450, 1450 )\n",
    "\n",
    "y11 = c(\n",
    "1.436782, 1.407063, 1.436782, 1.426737, 1.416832, 1.50015, 1.533978,\n",
    "1.50015, 1.522533, 1.511259, 1.619433, 1.619433, 1.576541, 1.576541,\n",
    "1.587050, 1.682935, 1.662787, 1.693193, 1.682935, 1.693193, 1.745505,\n",
    "1.755310, 1.765225, 1.755310, 1.755002, 1.833853, 1.805054, 1.824152,\n",
    "1.853568, 1.853568, 1.915342, 1.915342, 1.915342, 1.904762, 1.915342,\n",
    "1.992429, 1.982161, 1.992429, 1.961169, 1.971998, 2.072539, 2.052124,\n",
    "2.062281, 2.062281, 2.082466, 2.15378, 2.143623, 2.133561, 2.113718,\n",
    "2.103934, 2.182453, 2.182453, 2.182453, 2.154244, 2.182453, 2.241147,\n",
    "2.26142, 2.241147, 2.301496, 2.282063)\n",
    "\n",
    "x1 = c( 350, 350, 350, 350, 350, 450, 450, 450, 450, 450, 550, 550,\n",
    "550, 550, 550, 650, 650, 650, 650, 650, 750, 750, 750, 750, 750, 850,\n",
    "850, 850, 850, 850, 950, 950, 950, 950, 950, 1050, 1050, 1050, 1050,\n",
    "1050, 1150, 1150, 1150, 1150, 1150, 1250, 1250, 1250, 1250, 1250,\n",
    "1350, 1350, 1350, 1350, 1350, 1450, 1450, 1450, 1450, 1450)\n",
    "\n",
    "y1 = c( 4.161465, 4.078303, 4.078303, 4.078303, 4.078303, 4.741584,\n",
    "4.741584, 4.741584, 4.741584, 4.741584, 5.534034, 5.534034, 5.534034,\n",
    "5.534034, 5.534034, 6.30517, 6.30517, 6.30517, 6.30517, 6.30517,\n",
    "7.097232, 7.097232, 7.097232, 6.939625, 7.097232, 7.830854, 7.830854,\n",
    "7.830854, 7.830854, 7.830854, 8.403361, 8.403361, 8.403361, 8.403361,\n",
    "8.403361, 9.14913, 9.14913, 9.14913, 9.14913, 9.14913, 9.910803,\n",
    "9.910803, 9.910803, 9.910803, 9.910803, 10.81081, 10.81081, 10.55966,\n",
    "10.81081, 10.81081, 11.60093, 11.60093, 11.33787, 11.33787, 11.33787,\n",
    "12.16545, 12.16545, 12.16545, 12.16545, 12.16545)\n",
    "\n",
    "x54 = c( 350, 350, 350, 350, 450, 450, 450, 450, 550, 550, 550, 550,\n",
    "650, 650, 650, 650, 750, 750, 750, 750, 850, 850, 850, 850, 950, 950,\n",
    "950, 950, 1050, 1050, 1050, 1050, 1150, 1150, 1150, 1150, 1250, 1250,\n",
    "1250, 1250, 1350, 1350, 1350, 1350, 1450, 1450, 1450, 1450)\n",
    "\n",
    "y54 = c( 0.2812386, 0.2804341, 0.2798769, 0.2815553, 0.2995088,\n",
    "0.2986679, 0.3006705, 0.298454, 0.311886, 0.3199386, 0.3163556,\n",
    "0.3186439, 0.3333333, 0.3369953, 0.3340236, 0.3311258, 0.3412969,\n",
    "0.3373933, 0.341006, 0.3411456, 0.3531198, 0.3563284, 0.3578714,\n",
    "0.3521871, 0.3733154, 0.3752768, 0.3761803, 0.3780432, 0.3957888,\n",
    "0.3914660, 0.3928656, 0.3961651, 0.4116921, 0.4088307, 0.4083966,\n",
    "0.4038935, 0.4210704, 0.4251339, 0.4259488, 0.4252243, 0.4428698,\n",
    "0.4405869, 0.4386157, 0.4402959, 0.4577287, 0.4561211, 0.4573938,\n",
    "0.4607658)"
   ]
  },
  {
   "cell_type": "markdown",
   "metadata": {},
   "source": [
    "### Answer the following questions:\n",
    "\n",
    "To answer these questions, you should use the lecture slides on linear regression and section 13 from the SimpleR.pdf book from the course website (page 77). You can also refer to the material by Boudec, but his write-up is, as per normal, complex.\n",
    "\n",
    "* Using R as a calculator, but not using the built-in regression functions, calculate using the equations in the Linear Regression slides:\n",
    "* The slope (b) and intercept (a) of the regression model for the 1Mb/s network (using x1, y1)\n",
    "* The coefficient of determination for the model for the 1Mb/s network (using x1,y1)\n",
    "* The standard deviation for slope & intercept and the 95% confidence interval for the 1Mb/s network (using x1,y1)\n",
    "* The predicted time, standard deviation and 95% confidence interval for the predicted time to transmit a 40 byte Wifi packet for the 1Mb/s network (using x1,y1)\n",
    "* The predicted time, standard deviation and 95% confidence interval to transmit a 750 byte packet for the 1Mb/s network (using x1,y1)"
   ]
  },
  {
   "cell_type": "code",
   "execution_count": 113,
   "metadata": {
    "collapsed": false
   },
   "outputs": [
    {
     "name": "stdout",
     "output_type": "stream",
     "text": [
      "[1] \"Slope (b):\"\n"
     ]
    },
    {
     "data": {
      "text/html": [
       "0.00736104904895105"
      ],
      "text/latex": [
       "0.00736104904895105"
      ],
      "text/markdown": [
       "0.00736104904895105"
      ],
      "text/plain": [
       "[1] 0.007361049"
      ]
     },
     "execution_count": 113,
     "metadata": {},
     "output_type": "execute_result"
    },
    {
     "name": "stdout",
     "output_type": "stream",
     "text": [
      "[1] \"Intercept (a):\"\n"
     ]
    },
    {
     "data": {
      "text/html": [
       "1.49211468927739"
      ],
      "text/latex": [
       "1.49211468927739"
      ],
      "text/markdown": [
       "1.49211468927739"
      ],
      "text/plain": [
       "[1] 1.492115"
      ]
     },
     "execution_count": 113,
     "metadata": {},
     "output_type": "execute_result"
    },
    {
     "name": "stdout",
     "output_type": "stream",
     "text": [
      "[1] \"Coefficient of Determination (R2) :\"\n"
     ]
    },
    {
     "data": {
      "text/html": [
       "0.999155065938872"
      ],
      "text/latex": [
       "0.999155065938872"
      ],
      "text/markdown": [
       "0.999155065938872"
      ],
      "text/plain": [
       "[1] 0.9991551"
      ]
     },
     "execution_count": 113,
     "metadata": {},
     "output_type": "execute_result"
    },
    {
     "name": "stdout",
     "output_type": "stream",
     "text": [
      "\n",
      "\n",
      "\n",
      "\n",
      "[1] \"Std(b), Std(a):\"\n"
     ]
    },
    {
     "data": {
      "text/html": [
       "2.81074001391503e-05"
      ],
      "text/latex": [
       "2.81074001391503e-05"
      ],
      "text/markdown": [
       "2.81074001391503e-05"
      ],
      "text/plain": [
       "[1] 2.81074e-05"
      ]
     },
     "execution_count": 113,
     "metadata": {},
     "output_type": "execute_result"
    },
    {
     "data": {
      "text/html": [
       "0.0270936481790362"
      ],
      "text/latex": [
       "0.0270936481790362"
      ],
      "text/markdown": [
       "0.0270936481790362"
      ],
      "text/plain": [
       "[1] 0.02709365"
      ]
     },
     "execution_count": 113,
     "metadata": {},
     "output_type": "execute_result"
    },
    {
     "name": "stdout",
     "output_type": "stream",
     "text": [
      "\n",
      "\n",
      "[1] \"95 Conf interval b +-\"\n"
     ]
    },
    {
     "data": {
      "text/html": [
       "0.00741729182671956"
      ],
      "text/latex": [
       "0.00741729182671956"
      ],
      "text/markdown": [
       "0.00741729182671956"
      ],
      "text/plain": [
       "[1] 0.007417292"
      ]
     },
     "execution_count": 113,
     "metadata": {},
     "output_type": "execute_result"
    },
    {
     "data": {
      "text/html": [
       "0.00730480627118253"
      ],
      "text/latex": [
       "0.00730480627118253"
      ],
      "text/markdown": [
       "0.00730480627118253"
      ],
      "text/plain": [
       "[1] 0.007304806"
      ]
     },
     "execution_count": 113,
     "metadata": {},
     "output_type": "execute_result"
    },
    {
     "name": "stdout",
     "output_type": "stream",
     "text": [
      "[1] \"95 Conf interval a +-\"\n"
     ]
    },
    {
     "data": {
      "text/html": [
       "1.54632895405919"
      ],
      "text/latex": [
       "1.54632895405919"
      ],
      "text/markdown": [
       "1.54632895405919"
      ],
      "text/plain": [
       "[1] 1.546329"
      ]
     },
     "execution_count": 113,
     "metadata": {},
     "output_type": "execute_result"
    },
    {
     "data": {
      "text/html": [
       "1.43790042449559"
      ],
      "text/latex": [
       "1.43790042449559"
      ],
      "text/markdown": [
       "1.43790042449559"
      ],
      "text/plain": [
       "[1] 1.4379"
      ]
     },
     "execution_count": 113,
     "metadata": {},
     "output_type": "execute_result"
    },
    {
     "name": "stdout",
     "output_type": "stream",
     "text": [
      "\n",
      "\n",
      "[1] \"Predicted value y_p 40\"\n"
     ]
    },
    {
     "data": {
      "text/html": [
       "1.78655665123543"
      ],
      "text/latex": [
       "1.78655665123543"
      ],
      "text/markdown": [
       "1.78655665123543"
      ],
      "text/plain": [
       "[1] 1.786557"
      ]
     },
     "execution_count": 113,
     "metadata": {},
     "output_type": "execute_result"
    },
    {
     "name": "stdout",
     "output_type": "stream",
     "text": [
      "[1] \"Confidence interval for y_p 40 +-\"\n"
     ]
    },
    {
     "data": {
      "text/html": [
       "1.94572238739662"
      ],
      "text/latex": [
       "1.94572238739662"
      ],
      "text/markdown": [
       "1.94572238739662"
      ],
      "text/plain": [
       "[1] 1.945722"
      ]
     },
     "execution_count": 113,
     "metadata": {},
     "output_type": "execute_result"
    },
    {
     "data": {
      "text/html": [
       "1.62739091507425"
      ],
      "text/latex": [
       "1.62739091507425"
      ],
      "text/markdown": [
       "1.62739091507425"
      ],
      "text/plain": [
       "[1] 1.627391"
      ]
     },
     "execution_count": 113,
     "metadata": {},
     "output_type": "execute_result"
    },
    {
     "name": "stdout",
     "output_type": "stream",
     "text": [
      "[1] \"Std for y_p 40\"\n"
     ]
    },
    {
     "data": {
      "text/html": [
       "0.0795432802614719"
      ],
      "text/latex": [
       "0.0795432802614719"
      ],
      "text/markdown": [
       "0.0795432802614719"
      ],
      "text/plain": [
       "[1] 0.07954328"
      ]
     },
     "execution_count": 113,
     "metadata": {},
     "output_type": "execute_result"
    },
    {
     "name": "stdout",
     "output_type": "stream",
     "text": [
      "\n",
      "\n",
      "[1] \"Predicted value y_p 750\"\n"
     ]
    },
    {
     "data": {
      "text/html": [
       "7.01290147599068"
      ],
      "text/latex": [
       "7.01290147599068"
      ],
      "text/markdown": [
       "7.01290147599068"
      ],
      "text/plain": [
       "[1] 7.012901"
      ]
     },
     "execution_count": 113,
     "metadata": {},
     "output_type": "execute_result"
    },
    {
     "name": "stdout",
     "output_type": "stream",
     "text": [
      "[1] \"Confidence interval for y_p 750 +-\"\n"
     ]
    },
    {
     "data": {
      "text/html": [
       "7.16477433385565"
      ],
      "text/latex": [
       "7.16477433385565"
      ],
      "text/markdown": [
       "7.16477433385565"
      ],
      "text/plain": [
       "[1] 7.164774"
      ]
     },
     "execution_count": 113,
     "metadata": {},
     "output_type": "execute_result"
    },
    {
     "data": {
      "text/html": [
       "6.8610286181257"
      ],
      "text/latex": [
       "6.8610286181257"
      ],
      "text/markdown": [
       "6.8610286181257"
      ],
      "text/plain": [
       "[1] 6.861029"
      ]
     },
     "execution_count": 113,
     "metadata": {},
     "output_type": "execute_result"
    },
    {
     "name": "stdout",
     "output_type": "stream",
     "text": [
      "[1] \"Std for y_p 750\"\n"
     ]
    },
    {
     "data": {
      "text/html": [
       "0.0758986550034274"
      ],
      "text/latex": [
       "0.0758986550034274"
      ],
      "text/markdown": [
       "0.0758986550034274"
      ],
      "text/plain": [
       "[1] 0.07589866"
      ]
     },
     "execution_count": 113,
     "metadata": {},
     "output_type": "execute_result"
    }
   ],
   "source": [
    "#Pre-Calculations\n",
    "x1_sum <- sum(x1)\n",
    "y1_sum <- sum(y1)\n",
    "x1y1_sum <- sum(x1*y1)\n",
    "x1_sq_sum <- sum(x1*x1)\n",
    "y1_sq_sum <- sum(y1*y1)\n",
    "N <- length(x1)\n",
    "\n",
    "#Slope\n",
    "print(\"Slope (b):\")\n",
    "(b <- ((N*x1y1_sum - x1_sum*y1_sum) / \n",
    "         (N*x1_sq_sum - x1_sum*x1_sum)) )\n",
    "\n",
    "#Intercept\n",
    "print(\"Intercept (a):\")\n",
    "(a <- ((x1_sq_sum*y1_sum - x1_sum*x1y1_sum) /\n",
    "         (N*x1_sq_sum - x1_sum*x1_sum)) )\n",
    "\n",
    "#Coefficient of Determiniation\n",
    "print(\"Coefficient of Determination (R2) :\")\n",
    "(R2 <- ((N*x1y1_sum-x1_sum*y1_sum)^2) / \n",
    "((N*x1_sq_sum-x1_sum*x1_sum)*(N*y1_sq_sum-y1_sum*y1_sum)) )\n",
    "writeLines(\"\\n\")\n",
    "\n",
    "#Check work\n",
    "#summary(lm(y1~x1))\n",
    "\n",
    "# MSE=SSE/dof,  dof=n-2\n",
    "# se=sqrt(MSE)\n",
    "Sxx = sum( (x1-mean(x1))^2 )\n",
    "Sxy = sum( (x1-mean(x1))*(y1-mean(y1)) )\n",
    "Syy = sum( (y1-mean(y1))^2 )\n",
    "b2 <- Sxy/Sxx\n",
    "SSE <- Syy - b2*Sxy\n",
    "\n",
    "MSE <- SSE/(length(x1)-2)\n",
    "se <- (MSE)^(0.5)\n",
    "\n",
    "writeLines(\"\\n\")\n",
    "print(\"Std(b), Std(a):\")\n",
    "(std_b <- se/sqrt(Sxx))\n",
    "(std_a <- se*sqrt(sum(x1^2))/(sqrt(N*Sxx)))\n",
    "\n",
    "writeLines(\"\\n\")\n",
    "print(\"95 Conf interval b +-\")\n",
    "(b+qt(.975, N-1)*std_b)\n",
    "(b-qt(.975, N-1)*std_b)\n",
    "\n",
    "\n",
    "print(\"95 Conf interval a +-\")\n",
    "(a+qt(.975, N-1)*std_a)\n",
    "(a-qt(.975, N-1)*std_a)\n",
    "\n",
    "\n",
    "writeLines(\"\\n\")\n",
    "print(\"Predicted value y_p 40\")\n",
    "(y_p = b*40+a)\n",
    "\n",
    "print(\"Confidence interval for y_p 40 +-\")\n",
    "(y_p + qt(.975, N-1)*se*sqrt(1+1/N+((40-mean(x1))^2)/Sxx))\n",
    "(y_p - qt(.975, N-1)*se*sqrt(1+1/N+((40-mean(x1))^2)/Sxx))\n",
    "\n",
    "print(\"Std for y_p 40\")\n",
    "se*sqrt(1+1/N+((40-mean(x1))^2)/Sxx)\n",
    "\n",
    "\n",
    "writeLines(\"\\n\")\n",
    "print(\"Predicted value y_p 750\")\n",
    "(y_p = b*750+a)\n",
    "\n",
    "print(\"Confidence interval for y_p 750 +-\")\n",
    "(y_p + qt(.975, N-1)*se*sqrt(1+1/N+((750-mean(x1))^2)/Sxx))\n",
    "(y_p - qt(.975, N-1)*se*sqrt(1+1/N+((750-mean(x1))^2)/Sxx))\n",
    "\n",
    "print(\"Std for y_p 750\")\n",
    "se*sqrt(1+1/N+((750-mean(x1))^2)/Sxx)"
   ]
  },
  {
   "cell_type": "markdown",
   "metadata": {},
   "source": [
    "### Settle a law suit\n",
    "\n",
    "Using the 'lm' functions in R or the simple.lm functions from the UsingR package (documented in the Simple R guide, section 13 page 77), answer the following questions\n",
    "* Prepare a plot of the data, the regression model and the 95% confidence interval for each of the data sets. Label the plot with the parameters of the regression model. If you plot all the data on a single plot, you can put the parameters in the legend rather than the title.\n",
    "* Larry the Lawyer wants to sue because the 11Mb/s network is not 11 times \"faster\" than the 1Mb/s network. Compare the slope (time per byte) and intercept (overhead per packet). Is the 11Mb/s network 11 times faster at a 95% confidence level? Is the overhead different?\n",
    "* Using your models, predict the time to transmit a 40 byte packet using each network (using a 95% confidence interval). What's Larry doing now (i.e. crying or filiing a suit?)\n",
    "* Repeat that for a 750 and 1500 byte packet. Does Larry still have a case? What if you compare the time to transmit a 40 byte packet to a 1500 byte packet, which is 37 times bigger?\n",
    "* For the 54Mb/s data, argue that the regression model is or is not appropriate for the data. Use the full range of techniques described in Jain and in class. Are there specific measurement samples which seem to be more problematic than others? Which ones?"
   ]
  },
  {
   "cell_type": "code",
   "execution_count": 117,
   "metadata": {
    "collapsed": false
   },
   "outputs": [
    {
     "data": {
      "text/plain": [
       "\n",
       "Call:\n",
       "lm(formula = y ~ x)\n",
       "\n",
       "Coefficients:\n",
       "(Intercept)            x  \n",
       "   1.492115     0.007361  \n"
      ]
     },
     "execution_count": 117,
     "metadata": {},
     "output_type": "execute_result"
    },
    {
     "data": {
      "image/png": "[encoded data removed]",
      "image/svg+xml": [
       "<?xml version=\"1.0\" encoding=\"UTF-8\"?>\n",
       "<svg xmlns=\"http://www.w3.org/2000/svg\" xmlns:xlink=\"http://www.w3.org/1999/xlink\" width=\"504pt\" height=\"504pt\" viewBox=\"0 0 504 504\" version=\"1.1\">\n",
       "<defs>\n",
       "<g>\n",
       "<symbol overflow=\"visible\" id=\"glyph0-0\">\n",
       "<path style=\"stroke:none;\" d=\"\"/>\n",
       "</symbol>\n",
       "<symbol overflow=\"visible\" id=\"glyph0-1\">\n",
       "<path style=\"stroke:none;\" d=\"M 3.921875 -2.046875 L 3.921875 0 L 4.984375 0 L 4.984375 -2.046875 L 6.234375 -2.046875 L 6.234375 -2.984375 L 4.984375 -2.984375 L 4.984375 -8.515625 L 4.203125 -8.515625 L 0.34375 -3.15625 L 0.34375 -2.046875 Z M 3.921875 -2.984375 L 1.265625 -2.984375 L 3.921875 -6.703125 Z M 3.921875 -2.984375 \"/>\n",
       "</symbol>\n",
       "<symbol overflow=\"visible\" id=\"glyph0-2\">\n",
       "<path style=\"stroke:none;\" d=\"M 3.296875 -8.515625 C 2.515625 -8.515625 1.78125 -8.15625 1.34375 -7.578125 C 0.796875 -6.828125 0.515625 -5.6875 0.515625 -4.109375 C 0.515625 -1.25 1.46875 0.28125 3.296875 0.28125 C 5.09375 0.28125 6.078125 -1.25 6.078125 -4.046875 C 6.078125 -5.703125 5.8125 -6.796875 5.25 -7.578125 C 4.8125 -8.171875 4.109375 -8.515625 3.296875 -8.515625 Z M 3.296875 -7.578125 C 4.4375 -7.578125 5 -6.421875 5 -4.140625 C 5 -1.734375 4.453125 -0.59375 3.28125 -0.59375 C 2.15625 -0.59375 1.59375 -1.78125 1.59375 -4.109375 C 1.59375 -6.4375 2.15625 -7.578125 3.296875 -7.578125 Z M 3.296875 -7.578125 \"/>\n",
       "</symbol>\n",
       "<symbol overflow=\"visible\" id=\"glyph0-3\">\n",
       "<path style=\"stroke:none;\" d=\"M 5.96875 -6.28125 C 5.765625 -7.6875 4.859375 -8.515625 3.5625 -8.515625 C 2.625 -8.515625 1.78125 -8.046875 1.28125 -7.296875 C 0.75 -6.46875 0.515625 -5.421875 0.515625 -3.875 C 0.515625 -2.453125 0.734375 -1.53125 1.234375 -0.78125 C 1.6875 -0.09375 2.4375 0.28125 3.375 0.28125 C 4.984375 0.28125 6.15625 -0.921875 6.15625 -2.59375 C 6.15625 -4.171875 5.078125 -5.296875 3.546875 -5.296875 C 2.71875 -5.296875 2.046875 -4.96875 1.59375 -4.34375 C 1.609375 -6.421875 2.28125 -7.578125 3.484375 -7.578125 C 4.234375 -7.578125 4.75 -7.109375 4.921875 -6.28125 Z M 3.421875 -4.359375 C 4.4375 -4.359375 5.078125 -3.640625 5.078125 -2.515625 C 5.078125 -1.4375 4.359375 -0.65625 3.390625 -0.65625 C 2.40625 -0.65625 1.65625 -1.46875 1.65625 -2.5625 C 1.65625 -3.625 2.375 -4.359375 3.421875 -4.359375 Z M 3.421875 -4.359375 \"/>\n",
       "</symbol>\n",
       "<symbol overflow=\"visible\" id=\"glyph0-4\">\n",
       "<path style=\"stroke:none;\" d=\"M 4.6875 -4.46875 C 5.5625 -5 5.859375 -5.4375 5.859375 -6.234375 C 5.859375 -7.578125 4.8125 -8.515625 3.296875 -8.515625 C 1.796875 -8.515625 0.75 -7.578125 0.75 -6.234375 C 0.75 -5.453125 1.03125 -5.015625 1.890625 -4.46875 C 0.921875 -4.015625 0.4375 -3.296875 0.4375 -2.359375 C 0.4375 -0.796875 1.625 0.28125 3.296875 0.28125 C 4.984375 0.28125 6.15625 -0.796875 6.15625 -2.359375 C 6.15625 -3.296875 5.671875 -4.015625 4.6875 -4.46875 Z M 3.296875 -7.578125 C 4.203125 -7.578125 4.78125 -7.046875 4.78125 -6.21875 C 4.78125 -5.421875 4.1875 -4.890625 3.296875 -4.890625 C 2.40625 -4.890625 1.828125 -5.421875 1.828125 -6.234375 C 1.828125 -7.046875 2.40625 -7.578125 3.296875 -7.578125 Z M 3.296875 -4.015625 C 4.359375 -4.015625 5.078125 -3.34375 5.078125 -2.34375 C 5.078125 -1.328125 4.359375 -0.65625 3.28125 -0.65625 C 2.25 -0.65625 1.53125 -1.34375 1.53125 -2.34375 C 1.53125 -3.34375 2.25 -4.015625 3.296875 -4.015625 Z M 3.296875 -4.015625 \"/>\n",
       "</symbol>\n",
       "<symbol overflow=\"visible\" id=\"glyph0-5\">\n",
       "<path style=\"stroke:none;\" d=\"M 3.109375 -6.0625 L 3.109375 0 L 4.15625 0 L 4.15625 -8.515625 L 3.46875 -8.515625 C 3.09375 -7.203125 2.859375 -7.015625 1.21875 -6.8125 L 1.21875 -6.0625 Z M 3.109375 -6.0625 \"/>\n",
       "</symbol>\n",
       "<symbol overflow=\"visible\" id=\"glyph0-6\">\n",
       "<path style=\"stroke:none;\" d=\"M 6.078125 -1.046875 L 1.59375 -1.046875 C 1.703125 -1.734375 2.09375 -2.1875 3.125 -2.796875 L 4.328125 -3.4375 C 5.515625 -4.09375 6.125 -4.96875 6.125 -6.015625 C 6.125 -6.71875 5.84375 -7.375 5.34375 -7.84375 C 4.84375 -8.296875 4.21875 -8.515625 3.40625 -8.515625 C 2.328125 -8.515625 1.53125 -8.125 1.0625 -7.40625 C 0.75 -6.953125 0.625 -6.421875 0.59375 -5.5625 L 1.65625 -5.5625 C 1.6875 -6.125 1.765625 -6.484375 1.90625 -6.75 C 2.1875 -7.265625 2.734375 -7.578125 3.375 -7.578125 C 4.328125 -7.578125 5.046875 -6.90625 5.046875 -5.984375 C 5.046875 -5.3125 4.65625 -4.734375 3.90625 -4.3125 L 2.796875 -3.6875 C 1.015625 -2.671875 0.5 -1.875 0.40625 0 L 6.078125 0 Z M 6.078125 -1.046875 \"/>\n",
       "</symbol>\n",
       "<symbol overflow=\"visible\" id=\"glyph0-7\">\n",
       "<path style=\"stroke:none;\" d=\"M 3.5 -3.25 L 5.609375 -6.28125 L 4.484375 -6.28125 L 2.96875 -4.015625 L 1.46875 -6.28125 L 0.328125 -6.28125 L 2.421875 -3.203125 L 0.203125 0 L 1.34375 0 L 2.9375 -2.40625 L 4.515625 0 L 5.671875 0 Z M 3.5 -3.25 \"/>\n",
       "</symbol>\n",
       "<symbol overflow=\"visible\" id=\"glyph1-0\">\n",
       "<path style=\"stroke:none;\" d=\"\"/>\n",
       "</symbol>\n",
       "<symbol overflow=\"visible\" id=\"glyph1-1\">\n",
       "<path style=\"stroke:none;\" d=\"M -2.046875 -3.921875 L 0 -3.921875 L 0 -4.984375 L -2.046875 -4.984375 L -2.046875 -6.234375 L -2.984375 -6.234375 L -2.984375 -4.984375 L -8.515625 -4.984375 L -8.515625 -4.203125 L -3.15625 -0.34375 L -2.046875 -0.34375 Z M -2.984375 -3.921875 L -2.984375 -1.265625 L -6.703125 -3.921875 Z M -2.984375 -3.921875 \"/>\n",
       "</symbol>\n",
       "<symbol overflow=\"visible\" id=\"glyph1-2\">\n",
       "<path style=\"stroke:none;\" d=\"M -6.28125 -5.96875 C -7.6875 -5.765625 -8.515625 -4.859375 -8.515625 -3.5625 C -8.515625 -2.625 -8.046875 -1.78125 -7.296875 -1.28125 C -6.46875 -0.75 -5.421875 -0.515625 -3.875 -0.515625 C -2.453125 -0.515625 -1.53125 -0.734375 -0.78125 -1.234375 C -0.09375 -1.6875 0.28125 -2.4375 0.28125 -3.375 C 0.28125 -4.984375 -0.921875 -6.15625 -2.59375 -6.15625 C -4.171875 -6.15625 -5.296875 -5.078125 -5.296875 -3.546875 C -5.296875 -2.71875 -4.96875 -2.046875 -4.34375 -1.59375 C -6.421875 -1.609375 -7.578125 -2.28125 -7.578125 -3.484375 C -7.578125 -4.234375 -7.109375 -4.75 -6.28125 -4.921875 Z M -4.359375 -3.421875 C -4.359375 -4.4375 -3.640625 -5.078125 -2.515625 -5.078125 C -1.4375 -5.078125 -0.65625 -4.359375 -0.65625 -3.390625 C -0.65625 -2.40625 -1.46875 -1.65625 -2.5625 -1.65625 C -3.625 -1.65625 -4.359375 -2.375 -4.359375 -3.421875 Z M -4.359375 -3.421875 \"/>\n",
       "</symbol>\n",
       "<symbol overflow=\"visible\" id=\"glyph1-3\">\n",
       "<path style=\"stroke:none;\" d=\"M -4.46875 -4.6875 C -5 -5.5625 -5.4375 -5.859375 -6.234375 -5.859375 C -7.578125 -5.859375 -8.515625 -4.8125 -8.515625 -3.296875 C -8.515625 -1.796875 -7.578125 -0.75 -6.234375 -0.75 C -5.453125 -0.75 -5.015625 -1.03125 -4.46875 -1.890625 C -4.015625 -0.921875 -3.296875 -0.4375 -2.359375 -0.4375 C -0.796875 -0.4375 0.28125 -1.625 0.28125 -3.296875 C 0.28125 -4.984375 -0.796875 -6.15625 -2.359375 -6.15625 C -3.296875 -6.15625 -4.015625 -5.671875 -4.46875 -4.6875 Z M -7.578125 -3.296875 C -7.578125 -4.203125 -7.046875 -4.78125 -6.21875 -4.78125 C -5.421875 -4.78125 -4.890625 -4.1875 -4.890625 -3.296875 C -4.890625 -2.40625 -5.421875 -1.828125 -6.234375 -1.828125 C -7.046875 -1.828125 -7.578125 -2.40625 -7.578125 -3.296875 Z M -4.015625 -3.296875 C -4.015625 -4.359375 -3.34375 -5.078125 -2.34375 -5.078125 C -1.328125 -5.078125 -0.65625 -4.359375 -0.65625 -3.28125 C -0.65625 -2.25 -1.34375 -1.53125 -2.34375 -1.53125 C -3.34375 -1.53125 -4.015625 -2.25 -4.015625 -3.296875 Z M -4.015625 -3.296875 \"/>\n",
       "</symbol>\n",
       "<symbol overflow=\"visible\" id=\"glyph1-4\">\n",
       "<path style=\"stroke:none;\" d=\"M -6.0625 -3.109375 L 0 -3.109375 L 0 -4.15625 L -8.515625 -4.15625 L -8.515625 -3.46875 C -7.203125 -3.09375 -7.015625 -2.859375 -6.8125 -1.21875 L -6.0625 -1.21875 Z M -6.0625 -3.109375 \"/>\n",
       "</symbol>\n",
       "<symbol overflow=\"visible\" id=\"glyph1-5\">\n",
       "<path style=\"stroke:none;\" d=\"M -8.515625 -3.296875 C -8.515625 -2.515625 -8.15625 -1.78125 -7.578125 -1.34375 C -6.828125 -0.796875 -5.6875 -0.515625 -4.109375 -0.515625 C -1.25 -0.515625 0.28125 -1.46875 0.28125 -3.296875 C 0.28125 -5.09375 -1.25 -6.078125 -4.046875 -6.078125 C -5.703125 -6.078125 -6.796875 -5.8125 -7.578125 -5.25 C -8.171875 -4.8125 -8.515625 -4.109375 -8.515625 -3.296875 Z M -7.578125 -3.296875 C -7.578125 -4.4375 -6.421875 -5 -4.140625 -5 C -1.734375 -5 -0.59375 -4.453125 -0.59375 -3.28125 C -0.59375 -2.15625 -1.78125 -1.59375 -4.109375 -1.59375 C -6.4375 -1.59375 -7.578125 -2.15625 -7.578125 -3.296875 Z M -7.578125 -3.296875 \"/>\n",
       "</symbol>\n",
       "<symbol overflow=\"visible\" id=\"glyph1-6\">\n",
       "<path style=\"stroke:none;\" d=\"M -1.046875 -6.078125 L -1.046875 -1.59375 C -1.734375 -1.703125 -2.1875 -2.09375 -2.796875 -3.125 L -3.4375 -4.328125 C -4.09375 -5.515625 -4.96875 -6.125 -6.015625 -6.125 C -6.71875 -6.125 -7.375 -5.84375 -7.84375 -5.34375 C -8.296875 -4.84375 -8.515625 -4.21875 -8.515625 -3.40625 C -8.515625 -2.328125 -8.125 -1.53125 -7.40625 -1.0625 C -6.953125 -0.75 -6.421875 -0.625 -5.5625 -0.59375 L -5.5625 -1.65625 C -6.125 -1.6875 -6.484375 -1.765625 -6.75 -1.90625 C -7.265625 -2.1875 -7.578125 -2.734375 -7.578125 -3.375 C -7.578125 -4.328125 -6.90625 -5.046875 -5.984375 -5.046875 C -5.3125 -5.046875 -4.734375 -4.65625 -4.3125 -3.90625 L -3.6875 -2.796875 C -2.671875 -1.015625 -1.875 -0.5 0 -0.40625 L 0 -6.078125 Z M -1.046875 -6.078125 \"/>\n",
       "</symbol>\n",
       "<symbol overflow=\"visible\" id=\"glyph1-7\">\n",
       "<path style=\"stroke:none;\" d=\"M -6.28125 -4.65625 L -1.390625 -2.921875 L -6.28125 -1.3125 L -6.28125 -0.234375 L 0.03125 -2.359375 L 1.015625 -1.984375 C 1.46875 -1.828125 1.625 -1.59375 1.625 -1.171875 C 1.625 -1.03125 1.609375 -0.859375 1.5625 -0.640625 L 2.453125 -0.640625 C 2.5625 -0.859375 2.609375 -1.0625 2.609375 -1.3125 C 2.609375 -1.640625 2.515625 -1.984375 2.3125 -2.25 C 2.09375 -2.5625 1.828125 -2.75 1.3125 -2.9375 L -6.28125 -5.734375 Z M -6.28125 -4.65625 \"/>\n",
       "</symbol>\n",
       "<symbol overflow=\"visible\" id=\"glyph2-0\">\n",
       "<path style=\"stroke:none;\" d=\"\"/>\n",
       "</symbol>\n",
       "<symbol overflow=\"visible\" id=\"glyph2-1\">\n",
       "<path style=\"stroke:none;\" d=\"M 5.671875 -7.78125 L 4.0625 -2.125 L 2.34375 -7.78125 L 0.125 -7.78125 L 3.03125 0.3125 L 3.03125 0.375 C 3.03125 1.109375 2.484375 1.671875 1.765625 1.671875 C 1.609375 1.671875 1.5 1.65625 1.234375 1.578125 L 1.234375 3.09375 C 1.546875 3.140625 1.71875 3.15625 1.953125 3.15625 C 2.46875 3.15625 3.0625 3.046875 3.421875 2.90625 C 3.96875 2.671875 4.21875 2.34375 4.546875 1.421875 L 7.75 -7.78125 Z M 5.671875 -7.78125 \"/>\n",
       "</symbol>\n",
       "<symbol overflow=\"visible\" id=\"glyph2-2\">\n",
       "<path style=\"stroke:none;\" d=\"\"/>\n",
       "</symbol>\n",
       "<symbol overflow=\"visible\" id=\"glyph2-3\">\n",
       "<path style=\"stroke:none;\" d=\"M 7.6875 -5.921875 L 0.71875 -5.921875 L 0.71875 -4.203125 L 7.6875 -4.203125 Z M 7.6875 -2.46875 L 0.71875 -2.46875 L 0.71875 -0.75 L 7.6875 -0.75 Z M 7.6875 -2.46875 \"/>\n",
       "</symbol>\n",
       "<symbol overflow=\"visible\" id=\"glyph2-4\">\n",
       "<path style=\"stroke:none;\" d=\"M 3.9375 -10.4375 C 2.84375 -10.4375 1.90625 -9.96875 1.28125 -9.125 C 0.6875 -8.328125 0.421875 -7.015625 0.421875 -5.046875 C 0.421875 -3.234375 0.65625 -1.953125 1.140625 -1.1875 C 1.75 -0.21875 2.734375 0.328125 3.9375 0.328125 C 5.046875 0.328125 5.953125 -0.109375 6.578125 -0.984375 C 7.15625 -1.75 7.453125 -3.078125 7.453125 -4.984375 C 7.453125 -6.859375 7.21875 -8.125 6.734375 -8.921875 C 6.125 -9.890625 5.125 -10.4375 3.9375 -10.4375 Z M 3.9375 -8.796875 C 4.453125 -8.796875 4.875 -8.515625 5.109375 -7.984375 C 5.3125 -7.546875 5.4375 -6.421875 5.4375 -5.03125 C 5.4375 -3.890625 5.3125 -2.734375 5.171875 -2.328125 C 4.9375 -1.734375 4.515625 -1.390625 3.9375 -1.390625 C 3.40625 -1.390625 3 -1.671875 2.75 -2.1875 C 2.546875 -2.625 2.4375 -3.703125 2.4375 -5.0625 C 2.4375 -6.25 2.546875 -7.421875 2.6875 -7.84375 C 2.921875 -8.453125 3.359375 -8.796875 3.9375 -8.796875 Z M 3.9375 -8.796875 \"/>\n",
       "</symbol>\n",
       "<symbol overflow=\"visible\" id=\"glyph2-5\">\n",
       "<path style=\"stroke:none;\" d=\"M 3.078125 -2.109375 L 0.921875 -2.109375 L 0.921875 0 L 3.078125 0 Z M 3.078125 -2.109375 \"/>\n",
       "</symbol>\n",
       "<symbol overflow=\"visible\" id=\"glyph2-6\">\n",
       "<path style=\"stroke:none;\" d=\"M 3.421875 -7.046875 L 3.421875 0 L 5.453125 0 L 5.453125 -10.21875 L 4.109375 -10.21875 C 3.78125 -9 2.734375 -8.390625 0.984375 -8.390625 L 0.984375 -7.046875 Z M 3.421875 -7.046875 \"/>\n",
       "</symbol>\n",
       "<symbol overflow=\"visible\" id=\"glyph2-7\">\n",
       "<path style=\"stroke:none;\" d=\"M 5.109375 -3.921875 L 7.65625 -7.78125 L 5.234375 -7.78125 L 3.96875 -5.4375 L 2.703125 -7.78125 L 0.28125 -7.78125 L 2.828125 -3.921875 L 0.234375 0 L 2.65625 0 L 3.96875 -2.421875 L 5.28125 0 L 7.703125 0 Z M 5.109375 -3.921875 \"/>\n",
       "</symbol>\n",
       "<symbol overflow=\"visible\" id=\"glyph2-8\">\n",
       "<path style=\"stroke:none;\" d=\"M 7.671875 -4.1875 L 5.0625 -4.1875 L 5.0625 -6.8125 L 3.34375 -6.8125 L 3.34375 -4.1875 L 0.71875 -4.1875 L 0.71875 -2.484375 L 3.34375 -2.484375 L 3.34375 0.140625 L 5.0625 0.140625 L 5.0625 -2.484375 L 7.671875 -2.484375 Z M 7.671875 -4.1875 \"/>\n",
       "</symbol>\n",
       "<symbol overflow=\"visible\" id=\"glyph2-9\">\n",
       "<path style=\"stroke:none;\" d=\"M 7.515625 -3.9375 L 6.453125 -3.9375 L 6.453125 -10.21875 L 4.078125 -10.21875 L 0.34375 -3.96875 L 0.34375 -2.265625 L 4.4375 -2.265625 L 4.4375 0 L 6.453125 0 L 6.453125 -2.265625 L 7.515625 -2.265625 Z M 4.4375 -3.9375 L 1.765625 -3.9375 L 4.4375 -8.296875 Z M 4.4375 -3.9375 \"/>\n",
       "</symbol>\n",
       "<symbol overflow=\"visible\" id=\"glyph2-10\">\n",
       "<path style=\"stroke:none;\" d=\"M 0.546875 -2.375 C 0.59375 -0.8125 1.921875 0.34375 3.671875 0.34375 C 4.984375 0.34375 5.984375 -0.203125 6.578125 -1.234375 C 7.109375 -2.140625 7.4375 -3.6875 7.4375 -5.328125 C 7.4375 -6.8125 7.1875 -8 6.734375 -8.765625 C 6.078125 -9.859375 5.078125 -10.4375 3.84375 -10.4375 C 1.796875 -10.4375 0.40625 -8.953125 0.40625 -6.828125 C 0.40625 -4.71875 1.640625 -3.28125 3.453125 -3.28125 C 3.96875 -3.28125 4.46875 -3.421875 4.78125 -3.65625 C 4.96875 -3.78125 5.078125 -3.921875 5.421875 -4.296875 C 5.421875 -2.34375 4.875 -1.390625 3.734375 -1.390625 C 3.03125 -1.390625 2.53125 -1.765625 2.5 -2.375 Z M 3.78125 -8.78125 C 4.765625 -8.78125 5.375 -8.03125 5.375 -6.828125 C 5.375 -5.703125 4.734375 -4.953125 3.8125 -4.953125 C 2.890625 -4.953125 2.3125 -5.6875 2.3125 -6.859375 C 2.3125 -8.03125 2.890625 -8.78125 3.78125 -8.78125 Z M 3.78125 -8.78125 \"/>\n",
       "</symbol>\n",
       "</g>\n",
       "<clipPath id=\"clip1\">\n",
       "  <path d=\"M 59.039062 59.039062 L 474.757812 59.039062 L 474.757812 431.558594 L 59.039062 431.558594 Z M 59.039062 59.039062 \"/>\n",
       "</clipPath>\n",
       "</defs>\n",
       "<g id=\"surface89\">\n",
       "<rect x=\"0\" y=\"0\" width=\"504\" height=\"504\" style=\"fill:rgb(100%,100%,100%);fill-opacity:1;stroke:none;\"/>\n",
       "<path style=\"fill:none;stroke-width:0.75;stroke-linecap:round;stroke-linejoin:round;stroke:rgb(0%,0%,0%);stroke-opacity:1;stroke-miterlimit:10;\" d=\"M 77.101562 413.261719 C 77.101562 416.863281 71.699219 416.863281 71.699219 413.261719 C 71.699219 409.664062 77.101562 409.664062 77.101562 413.261719 \"/>\n",
       "<path style=\"fill:none;stroke-width:0.75;stroke-linecap:round;stroke-linejoin:round;stroke:rgb(0%,0%,0%);stroke-opacity:1;stroke-miterlimit:10;\" d=\"M 77.101562 416.800781 C 77.101562 420.398438 71.699219 420.398438 71.699219 416.800781 C 71.699219 413.199219 77.101562 413.199219 77.101562 416.800781 \"/>\n",
       "<path style=\"fill:none;stroke-width:0.75;stroke-linecap:round;stroke-linejoin:round;stroke:rgb(0%,0%,0%);stroke-opacity:1;stroke-miterlimit:10;\" d=\"M 77.101562 416.800781 C 77.101562 420.398438 71.699219 420.398438 71.699219 416.800781 C 71.699219 413.199219 77.101562 413.199219 77.101562 416.800781 \"/>\n",
       "<path style=\"fill:none;stroke-width:0.75;stroke-linecap:round;stroke-linejoin:round;stroke:rgb(0%,0%,0%);stroke-opacity:1;stroke-miterlimit:10;\" d=\"M 77.101562 416.800781 C 77.101562 420.398438 71.699219 420.398438 71.699219 416.800781 C 71.699219 413.199219 77.101562 413.199219 77.101562 416.800781 \"/>\n",
       "<path style=\"fill:none;stroke-width:0.75;stroke-linecap:round;stroke-linejoin:round;stroke:rgb(0%,0%,0%);stroke-opacity:1;stroke-miterlimit:10;\" d=\"M 77.101562 416.800781 C 77.101562 420.398438 71.699219 420.398438 71.699219 416.800781 C 71.699219 413.199219 77.101562 413.199219 77.101562 416.800781 \"/>\n",
       "<path style=\"fill:none;stroke-width:0.75;stroke-linecap:round;stroke-linejoin:round;stroke:rgb(0%,0%,0%);stroke-opacity:1;stroke-miterlimit:10;\" d=\"M 112.007812 388.585938 C 112.007812 392.1875 106.609375 392.1875 106.609375 388.585938 C 106.609375 384.984375 112.007812 384.984375 112.007812 388.585938 \"/>\n",
       "<path style=\"fill:none;stroke-width:0.75;stroke-linecap:round;stroke-linejoin:round;stroke:rgb(0%,0%,0%);stroke-opacity:1;stroke-miterlimit:10;\" d=\"M 112.007812 388.585938 C 112.007812 392.1875 106.609375 392.1875 106.609375 388.585938 C 106.609375 384.984375 112.007812 384.984375 112.007812 388.585938 \"/>\n",
       "<path style=\"fill:none;stroke-width:0.75;stroke-linecap:round;stroke-linejoin:round;stroke:rgb(0%,0%,0%);stroke-opacity:1;stroke-miterlimit:10;\" d=\"M 112.007812 388.585938 C 112.007812 392.1875 106.609375 392.1875 106.609375 388.585938 C 106.609375 384.984375 112.007812 384.984375 112.007812 388.585938 \"/>\n",
       "<path style=\"fill:none;stroke-width:0.75;stroke-linecap:round;stroke-linejoin:round;stroke:rgb(0%,0%,0%);stroke-opacity:1;stroke-miterlimit:10;\" d=\"M 112.007812 388.585938 C 112.007812 392.1875 106.609375 392.1875 106.609375 388.585938 C 106.609375 384.984375 112.007812 384.984375 112.007812 388.585938 \"/>\n",
       "<path style=\"fill:none;stroke-width:0.75;stroke-linecap:round;stroke-linejoin:round;stroke:rgb(0%,0%,0%);stroke-opacity:1;stroke-miterlimit:10;\" d=\"M 112.007812 388.585938 C 112.007812 392.1875 106.609375 392.1875 106.609375 388.585938 C 106.609375 384.984375 112.007812 384.984375 112.007812 388.585938 \"/>\n",
       "<path style=\"fill:none;stroke-width:0.75;stroke-linecap:round;stroke-linejoin:round;stroke:rgb(0%,0%,0%);stroke-opacity:1;stroke-miterlimit:10;\" d=\"M 146.917969 354.878906 C 146.917969 358.476562 141.519531 358.476562 141.519531 354.878906 C 141.519531 351.277344 146.917969 351.277344 146.917969 354.878906 \"/>\n",
       "<path style=\"fill:none;stroke-width:0.75;stroke-linecap:round;stroke-linejoin:round;stroke:rgb(0%,0%,0%);stroke-opacity:1;stroke-miterlimit:10;\" d=\"M 146.917969 354.878906 C 146.917969 358.476562 141.519531 358.476562 141.519531 354.878906 C 141.519531 351.277344 146.917969 351.277344 146.917969 354.878906 \"/>\n",
       "<path style=\"fill:none;stroke-width:0.75;stroke-linecap:round;stroke-linejoin:round;stroke:rgb(0%,0%,0%);stroke-opacity:1;stroke-miterlimit:10;\" d=\"M 146.917969 354.878906 C 146.917969 358.476562 141.519531 358.476562 141.519531 354.878906 C 141.519531 351.277344 146.917969 351.277344 146.917969 354.878906 \"/>\n",
       "<path style=\"fill:none;stroke-width:0.75;stroke-linecap:round;stroke-linejoin:round;stroke:rgb(0%,0%,0%);stroke-opacity:1;stroke-miterlimit:10;\" d=\"M 146.917969 354.878906 C 146.917969 358.476562 141.519531 358.476562 141.519531 354.878906 C 141.519531 351.277344 146.917969 351.277344 146.917969 354.878906 \"/>\n",
       "<path style=\"fill:none;stroke-width:0.75;stroke-linecap:round;stroke-linejoin:round;stroke:rgb(0%,0%,0%);stroke-opacity:1;stroke-miterlimit:10;\" d=\"M 146.917969 354.878906 C 146.917969 358.476562 141.519531 358.476562 141.519531 354.878906 C 141.519531 351.277344 146.917969 351.277344 146.917969 354.878906 \"/>\n",
       "<path style=\"fill:none;stroke-width:0.75;stroke-linecap:round;stroke-linejoin:round;stroke:rgb(0%,0%,0%);stroke-opacity:1;stroke-miterlimit:10;\" d=\"M 181.828125 322.078125 C 181.828125 325.675781 176.425781 325.675781 176.425781 322.078125 C 176.425781 318.476562 181.828125 318.476562 181.828125 322.078125 \"/>\n",
       "<path style=\"fill:none;stroke-width:0.75;stroke-linecap:round;stroke-linejoin:round;stroke:rgb(0%,0%,0%);stroke-opacity:1;stroke-miterlimit:10;\" d=\"M 181.828125 322.078125 C 181.828125 325.675781 176.425781 325.675781 176.425781 322.078125 C 176.425781 318.476562 181.828125 318.476562 181.828125 322.078125 \"/>\n",
       "<path style=\"fill:none;stroke-width:0.75;stroke-linecap:round;stroke-linejoin:round;stroke:rgb(0%,0%,0%);stroke-opacity:1;stroke-miterlimit:10;\" d=\"M 181.828125 322.078125 C 181.828125 325.675781 176.425781 325.675781 176.425781 322.078125 C 176.425781 318.476562 181.828125 318.476562 181.828125 322.078125 \"/>\n",
       "<path style=\"fill:none;stroke-width:0.75;stroke-linecap:round;stroke-linejoin:round;stroke:rgb(0%,0%,0%);stroke-opacity:1;stroke-miterlimit:10;\" d=\"M 181.828125 322.078125 C 181.828125 325.675781 176.425781 325.675781 176.425781 322.078125 C 176.425781 318.476562 181.828125 318.476562 181.828125 322.078125 \"/>\n",
       "<path style=\"fill:none;stroke-width:0.75;stroke-linecap:round;stroke-linejoin:round;stroke:rgb(0%,0%,0%);stroke-opacity:1;stroke-miterlimit:10;\" d=\"M 181.828125 322.078125 C 181.828125 325.675781 176.425781 325.675781 176.425781 322.078125 C 176.425781 318.476562 181.828125 318.476562 181.828125 322.078125 \"/>\n",
       "<path style=\"fill:none;stroke-width:0.75;stroke-linecap:round;stroke-linejoin:round;stroke:rgb(0%,0%,0%);stroke-opacity:1;stroke-miterlimit:10;\" d=\"M 216.738281 288.386719 C 216.738281 291.984375 211.335938 291.984375 211.335938 288.386719 C 211.335938 284.785156 216.738281 284.785156 216.738281 288.386719 \"/>\n",
       "<path style=\"fill:none;stroke-width:0.75;stroke-linecap:round;stroke-linejoin:round;stroke:rgb(0%,0%,0%);stroke-opacity:1;stroke-miterlimit:10;\" d=\"M 216.738281 288.386719 C 216.738281 291.984375 211.335938 291.984375 211.335938 288.386719 C 211.335938 284.785156 216.738281 284.785156 216.738281 288.386719 \"/>\n",
       "<path style=\"fill:none;stroke-width:0.75;stroke-linecap:round;stroke-linejoin:round;stroke:rgb(0%,0%,0%);stroke-opacity:1;stroke-miterlimit:10;\" d=\"M 216.738281 288.386719 C 216.738281 291.984375 211.335938 291.984375 211.335938 288.386719 C 211.335938 284.785156 216.738281 284.785156 216.738281 288.386719 \"/>\n",
       "<path style=\"fill:none;stroke-width:0.75;stroke-linecap:round;stroke-linejoin:round;stroke:rgb(0%,0%,0%);stroke-opacity:1;stroke-miterlimit:10;\" d=\"M 216.738281 295.089844 C 216.738281 298.6875 211.335938 298.6875 211.335938 295.089844 C 211.335938 291.488281 216.738281 291.488281 216.738281 295.089844 \"/>\n",
       "<path style=\"fill:none;stroke-width:0.75;stroke-linecap:round;stroke-linejoin:round;stroke:rgb(0%,0%,0%);stroke-opacity:1;stroke-miterlimit:10;\" d=\"M 216.738281 288.386719 C 216.738281 291.984375 211.335938 291.984375 211.335938 288.386719 C 211.335938 284.785156 216.738281 284.785156 216.738281 288.386719 \"/>\n",
       "<path style=\"fill:none;stroke-width:0.75;stroke-linecap:round;stroke-linejoin:round;stroke:rgb(0%,0%,0%);stroke-opacity:1;stroke-miterlimit:10;\" d=\"M 251.644531 257.179688 C 251.644531 260.777344 246.246094 260.777344 246.246094 257.179688 C 246.246094 253.578125 251.644531 253.578125 251.644531 257.179688 \"/>\n",
       "<path style=\"fill:none;stroke-width:0.75;stroke-linecap:round;stroke-linejoin:round;stroke:rgb(0%,0%,0%);stroke-opacity:1;stroke-miterlimit:10;\" d=\"M 251.644531 257.179688 C 251.644531 260.777344 246.246094 260.777344 246.246094 257.179688 C 246.246094 253.578125 251.644531 253.578125 251.644531 257.179688 \"/>\n",
       "<path style=\"fill:none;stroke-width:0.75;stroke-linecap:round;stroke-linejoin:round;stroke:rgb(0%,0%,0%);stroke-opacity:1;stroke-miterlimit:10;\" d=\"M 251.644531 257.179688 C 251.644531 260.777344 246.246094 260.777344 246.246094 257.179688 C 246.246094 253.578125 251.644531 253.578125 251.644531 257.179688 \"/>\n",
       "<path style=\"fill:none;stroke-width:0.75;stroke-linecap:round;stroke-linejoin:round;stroke:rgb(0%,0%,0%);stroke-opacity:1;stroke-miterlimit:10;\" d=\"M 251.644531 257.179688 C 251.644531 260.777344 246.246094 260.777344 246.246094 257.179688 C 246.246094 253.578125 251.644531 253.578125 251.644531 257.179688 \"/>\n",
       "<path style=\"fill:none;stroke-width:0.75;stroke-linecap:round;stroke-linejoin:round;stroke:rgb(0%,0%,0%);stroke-opacity:1;stroke-miterlimit:10;\" d=\"M 251.644531 257.179688 C 251.644531 260.777344 246.246094 260.777344 246.246094 257.179688 C 246.246094 253.578125 251.644531 253.578125 251.644531 257.179688 \"/>\n",
       "<path style=\"fill:none;stroke-width:0.75;stroke-linecap:round;stroke-linejoin:round;stroke:rgb(0%,0%,0%);stroke-opacity:1;stroke-miterlimit:10;\" d=\"M 286.554688 232.828125 C 286.554688 236.425781 281.15625 236.425781 281.15625 232.828125 C 281.15625 229.226562 286.554688 229.226562 286.554688 232.828125 \"/>\n",
       "<path style=\"fill:none;stroke-width:0.75;stroke-linecap:round;stroke-linejoin:round;stroke:rgb(0%,0%,0%);stroke-opacity:1;stroke-miterlimit:10;\" d=\"M 286.554688 232.828125 C 286.554688 236.425781 281.15625 236.425781 281.15625 232.828125 C 281.15625 229.226562 286.554688 229.226562 286.554688 232.828125 \"/>\n",
       "<path style=\"fill:none;stroke-width:0.75;stroke-linecap:round;stroke-linejoin:round;stroke:rgb(0%,0%,0%);stroke-opacity:1;stroke-miterlimit:10;\" d=\"M 286.554688 232.828125 C 286.554688 236.425781 281.15625 236.425781 281.15625 232.828125 C 281.15625 229.226562 286.554688 229.226562 286.554688 232.828125 \"/>\n",
       "<path style=\"fill:none;stroke-width:0.75;stroke-linecap:round;stroke-linejoin:round;stroke:rgb(0%,0%,0%);stroke-opacity:1;stroke-miterlimit:10;\" d=\"M 286.554688 232.828125 C 286.554688 236.425781 281.15625 236.425781 281.15625 232.828125 C 281.15625 229.226562 286.554688 229.226562 286.554688 232.828125 \"/>\n",
       "<path style=\"fill:none;stroke-width:0.75;stroke-linecap:round;stroke-linejoin:round;stroke:rgb(0%,0%,0%);stroke-opacity:1;stroke-miterlimit:10;\" d=\"M 286.554688 232.828125 C 286.554688 236.425781 281.15625 236.425781 281.15625 232.828125 C 281.15625 229.226562 286.554688 229.226562 286.554688 232.828125 \"/>\n",
       "<path style=\"fill:none;stroke-width:0.75;stroke-linecap:round;stroke-linejoin:round;stroke:rgb(0%,0%,0%);stroke-opacity:1;stroke-miterlimit:10;\" d=\"M 321.464844 201.105469 C 321.464844 204.703125 316.0625 204.703125 316.0625 201.105469 C 316.0625 197.503906 321.464844 197.503906 321.464844 201.105469 \"/>\n",
       "<path style=\"fill:none;stroke-width:0.75;stroke-linecap:round;stroke-linejoin:round;stroke:rgb(0%,0%,0%);stroke-opacity:1;stroke-miterlimit:10;\" d=\"M 321.464844 201.105469 C 321.464844 204.703125 316.0625 204.703125 316.0625 201.105469 C 316.0625 197.503906 321.464844 197.503906 321.464844 201.105469 \"/>\n",
       "<path style=\"fill:none;stroke-width:0.75;stroke-linecap:round;stroke-linejoin:round;stroke:rgb(0%,0%,0%);stroke-opacity:1;stroke-miterlimit:10;\" d=\"M 321.464844 201.105469 C 321.464844 204.703125 316.0625 204.703125 316.0625 201.105469 C 316.0625 197.503906 321.464844 197.503906 321.464844 201.105469 \"/>\n",
       "<path style=\"fill:none;stroke-width:0.75;stroke-linecap:round;stroke-linejoin:round;stroke:rgb(0%,0%,0%);stroke-opacity:1;stroke-miterlimit:10;\" d=\"M 321.464844 201.105469 C 321.464844 204.703125 316.0625 204.703125 316.0625 201.105469 C 316.0625 197.503906 321.464844 197.503906 321.464844 201.105469 \"/>\n",
       "<path style=\"fill:none;stroke-width:0.75;stroke-linecap:round;stroke-linejoin:round;stroke:rgb(0%,0%,0%);stroke-opacity:1;stroke-miterlimit:10;\" d=\"M 321.464844 201.105469 C 321.464844 204.703125 316.0625 204.703125 316.0625 201.105469 C 316.0625 197.503906 321.464844 197.503906 321.464844 201.105469 \"/>\n",
       "<path style=\"fill:none;stroke-width:0.75;stroke-linecap:round;stroke-linejoin:round;stroke:rgb(0%,0%,0%);stroke-opacity:1;stroke-miterlimit:10;\" d=\"M 356.371094 168.707031 C 356.371094 172.304688 350.972656 172.304688 350.972656 168.707031 C 350.972656 165.105469 356.371094 165.105469 356.371094 168.707031 \"/>\n",
       "<path style=\"fill:none;stroke-width:0.75;stroke-linecap:round;stroke-linejoin:round;stroke:rgb(0%,0%,0%);stroke-opacity:1;stroke-miterlimit:10;\" d=\"M 356.371094 168.707031 C 356.371094 172.304688 350.972656 172.304688 350.972656 168.707031 C 350.972656 165.105469 356.371094 165.105469 356.371094 168.707031 \"/>\n",
       "<path style=\"fill:none;stroke-width:0.75;stroke-linecap:round;stroke-linejoin:round;stroke:rgb(0%,0%,0%);stroke-opacity:1;stroke-miterlimit:10;\" d=\"M 356.371094 168.707031 C 356.371094 172.304688 350.972656 172.304688 350.972656 168.707031 C 350.972656 165.105469 356.371094 165.105469 356.371094 168.707031 \"/>\n",
       "<path style=\"fill:none;stroke-width:0.75;stroke-linecap:round;stroke-linejoin:round;stroke:rgb(0%,0%,0%);stroke-opacity:1;stroke-miterlimit:10;\" d=\"M 356.371094 168.707031 C 356.371094 172.304688 350.972656 172.304688 350.972656 168.707031 C 350.972656 165.105469 356.371094 165.105469 356.371094 168.707031 \"/>\n",
       "<path style=\"fill:none;stroke-width:0.75;stroke-linecap:round;stroke-linejoin:round;stroke:rgb(0%,0%,0%);stroke-opacity:1;stroke-miterlimit:10;\" d=\"M 356.371094 168.707031 C 356.371094 172.304688 350.972656 172.304688 350.972656 168.707031 C 350.972656 165.105469 356.371094 165.105469 356.371094 168.707031 \"/>\n",
       "<path style=\"fill:none;stroke-width:0.75;stroke-linecap:round;stroke-linejoin:round;stroke:rgb(0%,0%,0%);stroke-opacity:1;stroke-miterlimit:10;\" d=\"M 391.28125 130.421875 C 391.28125 134.023438 385.882812 134.023438 385.882812 130.421875 C 385.882812 126.820312 391.28125 126.820312 391.28125 130.421875 \"/>\n",
       "<path style=\"fill:none;stroke-width:0.75;stroke-linecap:round;stroke-linejoin:round;stroke:rgb(0%,0%,0%);stroke-opacity:1;stroke-miterlimit:10;\" d=\"M 391.28125 130.421875 C 391.28125 134.023438 385.882812 134.023438 385.882812 130.421875 C 385.882812 126.820312 391.28125 126.820312 391.28125 130.421875 \"/>\n",
       "<path style=\"fill:none;stroke-width:0.75;stroke-linecap:round;stroke-linejoin:round;stroke:rgb(0%,0%,0%);stroke-opacity:1;stroke-miterlimit:10;\" d=\"M 391.28125 141.105469 C 391.28125 144.703125 385.882812 144.703125 385.882812 141.105469 C 385.882812 137.503906 391.28125 137.503906 391.28125 141.105469 \"/>\n",
       "<path style=\"fill:none;stroke-width:0.75;stroke-linecap:round;stroke-linejoin:round;stroke:rgb(0%,0%,0%);stroke-opacity:1;stroke-miterlimit:10;\" d=\"M 391.28125 130.421875 C 391.28125 134.023438 385.882812 134.023438 385.882812 130.421875 C 385.882812 126.820312 391.28125 126.820312 391.28125 130.421875 \"/>\n",
       "<path style=\"fill:none;stroke-width:0.75;stroke-linecap:round;stroke-linejoin:round;stroke:rgb(0%,0%,0%);stroke-opacity:1;stroke-miterlimit:10;\" d=\"M 391.28125 130.421875 C 391.28125 134.023438 385.882812 134.023438 385.882812 130.421875 C 385.882812 126.820312 391.28125 126.820312 391.28125 130.421875 \"/>\n",
       "<path style=\"fill:none;stroke-width:0.75;stroke-linecap:round;stroke-linejoin:round;stroke:rgb(0%,0%,0%);stroke-opacity:1;stroke-miterlimit:10;\" d=\"M 426.191406 96.8125 C 426.191406 100.414062 420.789062 100.414062 420.789062 96.8125 C 420.789062 93.210938 426.191406 93.210938 426.191406 96.8125 \"/>\n",
       "<path style=\"fill:none;stroke-width:0.75;stroke-linecap:round;stroke-linejoin:round;stroke:rgb(0%,0%,0%);stroke-opacity:1;stroke-miterlimit:10;\" d=\"M 426.191406 96.8125 C 426.191406 100.414062 420.789062 100.414062 420.789062 96.8125 C 420.789062 93.210938 426.191406 93.210938 426.191406 96.8125 \"/>\n",
       "<path style=\"fill:none;stroke-width:0.75;stroke-linecap:round;stroke-linejoin:round;stroke:rgb(0%,0%,0%);stroke-opacity:1;stroke-miterlimit:10;\" d=\"M 426.191406 108.003906 C 426.191406 111.601562 420.789062 111.601562 420.789062 108.003906 C 420.789062 104.402344 426.191406 104.402344 426.191406 108.003906 \"/>\n",
       "<path style=\"fill:none;stroke-width:0.75;stroke-linecap:round;stroke-linejoin:round;stroke:rgb(0%,0%,0%);stroke-opacity:1;stroke-miterlimit:10;\" d=\"M 426.191406 108.003906 C 426.191406 111.601562 420.789062 111.601562 420.789062 108.003906 C 420.789062 104.402344 426.191406 104.402344 426.191406 108.003906 \"/>\n",
       "<path style=\"fill:none;stroke-width:0.75;stroke-linecap:round;stroke-linejoin:round;stroke:rgb(0%,0%,0%);stroke-opacity:1;stroke-miterlimit:10;\" d=\"M 426.191406 108.003906 C 426.191406 111.601562 420.789062 111.601562 420.789062 108.003906 C 420.789062 104.402344 426.191406 104.402344 426.191406 108.003906 \"/>\n",
       "<path style=\"fill:none;stroke-width:0.75;stroke-linecap:round;stroke-linejoin:round;stroke:rgb(0%,0%,0%);stroke-opacity:1;stroke-miterlimit:10;\" d=\"M 461.101562 72.800781 C 461.101562 76.398438 455.699219 76.398438 455.699219 72.800781 C 455.699219 69.199219 461.101562 69.199219 461.101562 72.800781 \"/>\n",
       "<path style=\"fill:none;stroke-width:0.75;stroke-linecap:round;stroke-linejoin:round;stroke:rgb(0%,0%,0%);stroke-opacity:1;stroke-miterlimit:10;\" d=\"M 461.101562 72.800781 C 461.101562 76.398438 455.699219 76.398438 455.699219 72.800781 C 455.699219 69.199219 461.101562 69.199219 461.101562 72.800781 \"/>\n",
       "<path style=\"fill:none;stroke-width:0.75;stroke-linecap:round;stroke-linejoin:round;stroke:rgb(0%,0%,0%);stroke-opacity:1;stroke-miterlimit:10;\" d=\"M 461.101562 72.800781 C 461.101562 76.398438 455.699219 76.398438 455.699219 72.800781 C 455.699219 69.199219 461.101562 69.199219 461.101562 72.800781 \"/>\n",
       "<path style=\"fill:none;stroke-width:0.75;stroke-linecap:round;stroke-linejoin:round;stroke:rgb(0%,0%,0%);stroke-opacity:1;stroke-miterlimit:10;\" d=\"M 461.101562 72.800781 C 461.101562 76.398438 455.699219 76.398438 455.699219 72.800781 C 455.699219 69.199219 461.101562 69.199219 461.101562 72.800781 \"/>\n",
       "<path style=\"fill:none;stroke-width:0.75;stroke-linecap:round;stroke-linejoin:round;stroke:rgb(0%,0%,0%);stroke-opacity:1;stroke-miterlimit:10;\" d=\"M 461.101562 72.800781 C 461.101562 76.398438 455.699219 76.398438 455.699219 72.800781 C 455.699219 69.199219 461.101562 69.199219 461.101562 72.800781 \"/>\n",
       "<path style=\"fill:none;stroke-width:0.75;stroke-linecap:round;stroke-linejoin:round;stroke:rgb(0%,0%,0%);stroke-opacity:1;stroke-miterlimit:10;\" d=\"M 91.855469 430.558594 L 440.945312 430.558594 \"/>\n",
       "<path style=\"fill:none;stroke-width:0.75;stroke-linecap:round;stroke-linejoin:round;stroke:rgb(0%,0%,0%);stroke-opacity:1;stroke-miterlimit:10;\" d=\"M 91.855469 430.558594 L 91.855469 437.761719 \"/>\n",
       "<path style=\"fill:none;stroke-width:0.75;stroke-linecap:round;stroke-linejoin:round;stroke:rgb(0%,0%,0%);stroke-opacity:1;stroke-miterlimit:10;\" d=\"M 161.671875 430.558594 L 161.671875 437.761719 \"/>\n",
       "<path style=\"fill:none;stroke-width:0.75;stroke-linecap:round;stroke-linejoin:round;stroke:rgb(0%,0%,0%);stroke-opacity:1;stroke-miterlimit:10;\" d=\"M 231.492188 430.558594 L 231.492188 437.761719 \"/>\n",
       "<path style=\"fill:none;stroke-width:0.75;stroke-linecap:round;stroke-linejoin:round;stroke:rgb(0%,0%,0%);stroke-opacity:1;stroke-miterlimit:10;\" d=\"M 301.308594 430.558594 L 301.308594 437.761719 \"/>\n",
       "<path style=\"fill:none;stroke-width:0.75;stroke-linecap:round;stroke-linejoin:round;stroke:rgb(0%,0%,0%);stroke-opacity:1;stroke-miterlimit:10;\" d=\"M 371.128906 430.558594 L 371.128906 437.761719 \"/>\n",
       "<path style=\"fill:none;stroke-width:0.75;stroke-linecap:round;stroke-linejoin:round;stroke:rgb(0%,0%,0%);stroke-opacity:1;stroke-miterlimit:10;\" d=\"M 440.945312 430.558594 L 440.945312 437.761719 \"/>\n",
       "<g style=\"fill:rgb(0%,0%,0%);fill-opacity:1;\">\n",
       "  <use xlink:href=\"#glyph0-1\" x=\"81.355469\" y=\"455.916016\"/>\n",
       "  <use xlink:href=\"#glyph0-2\" x=\"88.027344\" y=\"455.916016\"/>\n",
       "  <use xlink:href=\"#glyph0-2\" x=\"94.699219\" y=\"455.916016\"/>\n",
       "</g>\n",
       "<g style=\"fill:rgb(0%,0%,0%);fill-opacity:1;\">\n",
       "  <use xlink:href=\"#glyph0-3\" x=\"151.171875\" y=\"455.916016\"/>\n",
       "  <use xlink:href=\"#glyph0-2\" x=\"157.84375\" y=\"455.916016\"/>\n",
       "  <use xlink:href=\"#glyph0-2\" x=\"164.515625\" y=\"455.916016\"/>\n",
       "</g>\n",
       "<g style=\"fill:rgb(0%,0%,0%);fill-opacity:1;\">\n",
       "  <use xlink:href=\"#glyph0-4\" x=\"220.992188\" y=\"455.916016\"/>\n",
       "  <use xlink:href=\"#glyph0-2\" x=\"227.664062\" y=\"455.916016\"/>\n",
       "  <use xlink:href=\"#glyph0-2\" x=\"234.335938\" y=\"455.916016\"/>\n",
       "</g>\n",
       "<g style=\"fill:rgb(0%,0%,0%);fill-opacity:1;\">\n",
       "  <use xlink:href=\"#glyph0-5\" x=\"287.808594\" y=\"455.916016\"/>\n",
       "  <use xlink:href=\"#glyph0-2\" x=\"294.480469\" y=\"455.916016\"/>\n",
       "  <use xlink:href=\"#glyph0-2\" x=\"301.152344\" y=\"455.916016\"/>\n",
       "  <use xlink:href=\"#glyph0-2\" x=\"307.824219\" y=\"455.916016\"/>\n",
       "</g>\n",
       "<g style=\"fill:rgb(0%,0%,0%);fill-opacity:1;\">\n",
       "  <use xlink:href=\"#glyph0-5\" x=\"357.628906\" y=\"455.916016\"/>\n",
       "  <use xlink:href=\"#glyph0-6\" x=\"364.300781\" y=\"455.916016\"/>\n",
       "  <use xlink:href=\"#glyph0-2\" x=\"370.972656\" y=\"455.916016\"/>\n",
       "  <use xlink:href=\"#glyph0-2\" x=\"377.644531\" y=\"455.916016\"/>\n",
       "</g>\n",
       "<g style=\"fill:rgb(0%,0%,0%);fill-opacity:1;\">\n",
       "  <use xlink:href=\"#glyph0-5\" x=\"427.445312\" y=\"455.916016\"/>\n",
       "  <use xlink:href=\"#glyph0-1\" x=\"434.117188\" y=\"455.916016\"/>\n",
       "  <use xlink:href=\"#glyph0-2\" x=\"440.789062\" y=\"455.916016\"/>\n",
       "  <use xlink:href=\"#glyph0-2\" x=\"447.460938\" y=\"455.916016\"/>\n",
       "</g>\n",
       "<path style=\"fill:none;stroke-width:0.75;stroke-linecap:round;stroke-linejoin:round;stroke:rgb(0%,0%,0%);stroke-opacity:1;stroke-miterlimit:10;\" d=\"M 59.039062 420.128906 L 59.039062 79.835938 \"/>\n",
       "<path style=\"fill:none;stroke-width:0.75;stroke-linecap:round;stroke-linejoin:round;stroke:rgb(0%,0%,0%);stroke-opacity:1;stroke-miterlimit:10;\" d=\"M 59.039062 420.128906 L 51.839844 420.128906 \"/>\n",
       "<path style=\"fill:none;stroke-width:0.75;stroke-linecap:round;stroke-linejoin:round;stroke:rgb(0%,0%,0%);stroke-opacity:1;stroke-miterlimit:10;\" d=\"M 59.039062 335.058594 L 51.839844 335.058594 \"/>\n",
       "<path style=\"fill:none;stroke-width:0.75;stroke-linecap:round;stroke-linejoin:round;stroke:rgb(0%,0%,0%);stroke-opacity:1;stroke-miterlimit:10;\" d=\"M 59.039062 249.984375 L 51.839844 249.984375 \"/>\n",
       "<path style=\"fill:none;stroke-width:0.75;stroke-linecap:round;stroke-linejoin:round;stroke:rgb(0%,0%,0%);stroke-opacity:1;stroke-miterlimit:10;\" d=\"M 59.039062 164.910156 L 51.839844 164.910156 \"/>\n",
       "<path style=\"fill:none;stroke-width:0.75;stroke-linecap:round;stroke-linejoin:round;stroke:rgb(0%,0%,0%);stroke-opacity:1;stroke-miterlimit:10;\" d=\"M 59.039062 79.835938 L 51.839844 79.835938 \"/>\n",
       "<g style=\"fill:rgb(0%,0%,0%);fill-opacity:1;\">\n",
       "  <use xlink:href=\"#glyph1-1\" x=\"41.197266\" y=\"423.628906\"/>\n",
       "</g>\n",
       "<g style=\"fill:rgb(0%,0%,0%);fill-opacity:1;\">\n",
       "  <use xlink:href=\"#glyph1-2\" x=\"41.197266\" y=\"338.558594\"/>\n",
       "</g>\n",
       "<g style=\"fill:rgb(0%,0%,0%);fill-opacity:1;\">\n",
       "  <use xlink:href=\"#glyph1-3\" x=\"41.197266\" y=\"253.484375\"/>\n",
       "</g>\n",
       "<g style=\"fill:rgb(0%,0%,0%);fill-opacity:1;\">\n",
       "  <use xlink:href=\"#glyph1-4\" x=\"41.197266\" y=\"171.910156\"/>\n",
       "  <use xlink:href=\"#glyph1-5\" x=\"41.197266\" y=\"165.238281\"/>\n",
       "</g>\n",
       "<g style=\"fill:rgb(0%,0%,0%);fill-opacity:1;\">\n",
       "  <use xlink:href=\"#glyph1-4\" x=\"41.197266\" y=\"86.835938\"/>\n",
       "  <use xlink:href=\"#glyph1-6\" x=\"41.197266\" y=\"80.164062\"/>\n",
       "</g>\n",
       "<path style=\"fill:none;stroke-width:0.75;stroke-linecap:round;stroke-linejoin:round;stroke:rgb(0%,0%,0%);stroke-opacity:1;stroke-miterlimit:10;\" d=\"M 59.039062 430.558594 L 473.761719 430.558594 L 473.761719 59.039062 L 59.039062 59.039062 L 59.039062 430.558594 \"/>\n",
       "<g style=\"fill:rgb(0%,0%,0%);fill-opacity:1;\">\n",
       "  <use xlink:href=\"#glyph0-7\" x=\"263.398438\" y=\"484.716797\"/>\n",
       "</g>\n",
       "<g style=\"fill:rgb(0%,0%,0%);fill-opacity:1;\">\n",
       "  <use xlink:href=\"#glyph1-7\" x=\"12.396484\" y=\"247.800781\"/>\n",
       "</g>\n",
       "<g clip-path=\"url(#clip1)\" clip-rule=\"nonzero\">\n",
       "<path style=\"fill:none;stroke-width:0.75;stroke-linecap:round;stroke-linejoin:round;stroke:rgb(0%,0%,0%);stroke-opacity:1;stroke-miterlimit:10;\" d=\"M 59.039062 430.996094 L 473.761719 59.015625 \"/>\n",
       "</g>\n",
       "<g style=\"fill:rgb(0%,0%,0%);fill-opacity:1;\">\n",
       "  <use xlink:href=\"#glyph2-1\" x=\"207.898438\" y=\"34.116211\"/>\n",
       "  <use xlink:href=\"#glyph2-2\" x=\"215.908203\" y=\"34.116211\"/>\n",
       "  <use xlink:href=\"#glyph2-3\" x=\"219.913086\" y=\"34.116211\"/>\n",
       "  <use xlink:href=\"#glyph2-2\" x=\"228.326172\" y=\"34.116211\"/>\n",
       "  <use xlink:href=\"#glyph2-2\" x=\"232.331055\" y=\"34.116211\"/>\n",
       "  <use xlink:href=\"#glyph2-4\" x=\"236.335938\" y=\"34.116211\"/>\n",
       "  <use xlink:href=\"#glyph2-5\" x=\"244.345703\" y=\"34.116211\"/>\n",
       "  <use xlink:href=\"#glyph2-4\" x=\"248.350586\" y=\"34.116211\"/>\n",
       "  <use xlink:href=\"#glyph2-6\" x=\"256.360352\" y=\"34.116211\"/>\n",
       "  <use xlink:href=\"#glyph2-2\" x=\"264.370117\" y=\"34.116211\"/>\n",
       "  <use xlink:href=\"#glyph2-7\" x=\"268.375\" y=\"34.116211\"/>\n",
       "  <use xlink:href=\"#glyph2-2\" x=\"276.384766\" y=\"34.116211\"/>\n",
       "  <use xlink:href=\"#glyph2-2\" x=\"280.389648\" y=\"34.116211\"/>\n",
       "  <use xlink:href=\"#glyph2-8\" x=\"284.394531\" y=\"34.116211\"/>\n",
       "  <use xlink:href=\"#glyph2-2\" x=\"292.807617\" y=\"34.116211\"/>\n",
       "  <use xlink:href=\"#glyph2-6\" x=\"296.8125\" y=\"34.116211\"/>\n",
       "  <use xlink:href=\"#glyph2-5\" x=\"304.822266\" y=\"34.116211\"/>\n",
       "  <use xlink:href=\"#glyph2-9\" x=\"308.827148\" y=\"34.116211\"/>\n",
       "  <use xlink:href=\"#glyph2-10\" x=\"316.836914\" y=\"34.116211\"/>\n",
       "</g>\n",
       "</g>\n",
       "</svg>\n"
      ],
      "text/plain": [
       "Plot with title “y =  0.01 x  + 1.49”"
      ]
     },
     "metadata": {
      "image/svg+xml": {
       "isolated": true
      }
     },
     "output_type": "display_data"
    },
    {
     "data": {
      "text/plain": [
       "\n",
       "Call:\n",
       "lm(formula = y ~ x)\n",
       "\n",
       "Coefficients:\n",
       "(Intercept)            x  \n",
       "  1.1810648    0.0007561  \n"
      ]
     },
     "execution_count": 117,
     "metadata": {},
     "output_type": "execute_result"
    },
    {
     "data": {
      "image/png": "[encoded data removed]",
      "image/svg+xml": [
       "<?xml version=\"1.0\" encoding=\"UTF-8\"?>\n",
       "<svg xmlns=\"http://www.w3.org/2000/svg\" xmlns:xlink=\"http://www.w3.org/1999/xlink\" width=\"504pt\" height=\"504pt\" viewBox=\"0 0 504 504\" version=\"1.1\">\n",
       "<defs>\n",
       "<g>\n",
       "<symbol overflow=\"visible\" id=\"glyph0-0\">\n",
       "<path style=\"stroke:none;\" d=\"\"/>\n",
       "</symbol>\n",
       "<symbol overflow=\"visible\" id=\"glyph0-1\">\n",
       "<path style=\"stroke:none;\" d=\"M 3.921875 -2.046875 L 3.921875 0 L 4.984375 0 L 4.984375 -2.046875 L 6.234375 -2.046875 L 6.234375 -2.984375 L 4.984375 -2.984375 L 4.984375 -8.515625 L 4.203125 -8.515625 L 0.34375 -3.15625 L 0.34375 -2.046875 Z M 3.921875 -2.984375 L 1.265625 -2.984375 L 3.921875 -6.703125 Z M 3.921875 -2.984375 \"/>\n",
       "</symbol>\n",
       "<symbol overflow=\"visible\" id=\"glyph0-2\">\n",
       "<path style=\"stroke:none;\" d=\"M 3.296875 -8.515625 C 2.515625 -8.515625 1.78125 -8.15625 1.34375 -7.578125 C 0.796875 -6.828125 0.515625 -5.6875 0.515625 -4.109375 C 0.515625 -1.25 1.46875 0.28125 3.296875 0.28125 C 5.09375 0.28125 6.078125 -1.25 6.078125 -4.046875 C 6.078125 -5.703125 5.8125 -6.796875 5.25 -7.578125 C 4.8125 -8.171875 4.109375 -8.515625 3.296875 -8.515625 Z M 3.296875 -7.578125 C 4.4375 -7.578125 5 -6.421875 5 -4.140625 C 5 -1.734375 4.453125 -0.59375 3.28125 -0.59375 C 2.15625 -0.59375 1.59375 -1.78125 1.59375 -4.109375 C 1.59375 -6.4375 2.15625 -7.578125 3.296875 -7.578125 Z M 3.296875 -7.578125 \"/>\n",
       "</symbol>\n",
       "<symbol overflow=\"visible\" id=\"glyph0-3\">\n",
       "<path style=\"stroke:none;\" d=\"M 5.96875 -6.28125 C 5.765625 -7.6875 4.859375 -8.515625 3.5625 -8.515625 C 2.625 -8.515625 1.78125 -8.046875 1.28125 -7.296875 C 0.75 -6.46875 0.515625 -5.421875 0.515625 -3.875 C 0.515625 -2.453125 0.734375 -1.53125 1.234375 -0.78125 C 1.6875 -0.09375 2.4375 0.28125 3.375 0.28125 C 4.984375 0.28125 6.15625 -0.921875 6.15625 -2.59375 C 6.15625 -4.171875 5.078125 -5.296875 3.546875 -5.296875 C 2.71875 -5.296875 2.046875 -4.96875 1.59375 -4.34375 C 1.609375 -6.421875 2.28125 -7.578125 3.484375 -7.578125 C 4.234375 -7.578125 4.75 -7.109375 4.921875 -6.28125 Z M 3.421875 -4.359375 C 4.4375 -4.359375 5.078125 -3.640625 5.078125 -2.515625 C 5.078125 -1.4375 4.359375 -0.65625 3.390625 -0.65625 C 2.40625 -0.65625 1.65625 -1.46875 1.65625 -2.5625 C 1.65625 -3.625 2.375 -4.359375 3.421875 -4.359375 Z M 3.421875 -4.359375 \"/>\n",
       "</symbol>\n",
       "<symbol overflow=\"visible\" id=\"glyph0-4\">\n",
       "<path style=\"stroke:none;\" d=\"M 4.6875 -4.46875 C 5.5625 -5 5.859375 -5.4375 5.859375 -6.234375 C 5.859375 -7.578125 4.8125 -8.515625 3.296875 -8.515625 C 1.796875 -8.515625 0.75 -7.578125 0.75 -6.234375 C 0.75 -5.453125 1.03125 -5.015625 1.890625 -4.46875 C 0.921875 -4.015625 0.4375 -3.296875 0.4375 -2.359375 C 0.4375 -0.796875 1.625 0.28125 3.296875 0.28125 C 4.984375 0.28125 6.15625 -0.796875 6.15625 -2.359375 C 6.15625 -3.296875 5.671875 -4.015625 4.6875 -4.46875 Z M 3.296875 -7.578125 C 4.203125 -7.578125 4.78125 -7.046875 4.78125 -6.21875 C 4.78125 -5.421875 4.1875 -4.890625 3.296875 -4.890625 C 2.40625 -4.890625 1.828125 -5.421875 1.828125 -6.234375 C 1.828125 -7.046875 2.40625 -7.578125 3.296875 -7.578125 Z M 3.296875 -4.015625 C 4.359375 -4.015625 5.078125 -3.34375 5.078125 -2.34375 C 5.078125 -1.328125 4.359375 -0.65625 3.28125 -0.65625 C 2.25 -0.65625 1.53125 -1.34375 1.53125 -2.34375 C 1.53125 -3.34375 2.25 -4.015625 3.296875 -4.015625 Z M 3.296875 -4.015625 \"/>\n",
       "</symbol>\n",
       "<symbol overflow=\"visible\" id=\"glyph0-5\">\n",
       "<path style=\"stroke:none;\" d=\"M 3.109375 -6.0625 L 3.109375 0 L 4.15625 0 L 4.15625 -8.515625 L 3.46875 -8.515625 C 3.09375 -7.203125 2.859375 -7.015625 1.21875 -6.8125 L 1.21875 -6.0625 Z M 3.109375 -6.0625 \"/>\n",
       "</symbol>\n",
       "<symbol overflow=\"visible\" id=\"glyph0-6\">\n",
       "<path style=\"stroke:none;\" d=\"M 6.078125 -1.046875 L 1.59375 -1.046875 C 1.703125 -1.734375 2.09375 -2.1875 3.125 -2.796875 L 4.328125 -3.4375 C 5.515625 -4.09375 6.125 -4.96875 6.125 -6.015625 C 6.125 -6.71875 5.84375 -7.375 5.34375 -7.84375 C 4.84375 -8.296875 4.21875 -8.515625 3.40625 -8.515625 C 2.328125 -8.515625 1.53125 -8.125 1.0625 -7.40625 C 0.75 -6.953125 0.625 -6.421875 0.59375 -5.5625 L 1.65625 -5.5625 C 1.6875 -6.125 1.765625 -6.484375 1.90625 -6.75 C 2.1875 -7.265625 2.734375 -7.578125 3.375 -7.578125 C 4.328125 -7.578125 5.046875 -6.90625 5.046875 -5.984375 C 5.046875 -5.3125 4.65625 -4.734375 3.90625 -4.3125 L 2.796875 -3.6875 C 1.015625 -2.671875 0.5 -1.875 0.40625 0 L 6.078125 0 Z M 6.078125 -1.046875 \"/>\n",
       "</symbol>\n",
       "<symbol overflow=\"visible\" id=\"glyph0-7\">\n",
       "<path style=\"stroke:none;\" d=\"M 3.5 -3.25 L 5.609375 -6.28125 L 4.484375 -6.28125 L 2.96875 -4.015625 L 1.46875 -6.28125 L 0.328125 -6.28125 L 2.421875 -3.203125 L 0.203125 0 L 1.34375 0 L 2.9375 -2.40625 L 4.515625 0 L 5.671875 0 Z M 3.5 -3.25 \"/>\n",
       "</symbol>\n",
       "<symbol overflow=\"visible\" id=\"glyph1-0\">\n",
       "<path style=\"stroke:none;\" d=\"\"/>\n",
       "</symbol>\n",
       "<symbol overflow=\"visible\" id=\"glyph1-1\">\n",
       "<path style=\"stroke:none;\" d=\"M -6.0625 -3.109375 L 0 -3.109375 L 0 -4.15625 L -8.515625 -4.15625 L -8.515625 -3.46875 C -7.203125 -3.09375 -7.015625 -2.859375 -6.8125 -1.21875 L -6.0625 -1.21875 Z M -6.0625 -3.109375 \"/>\n",
       "</symbol>\n",
       "<symbol overflow=\"visible\" id=\"glyph1-2\">\n",
       "<path style=\"stroke:none;\" d=\"M -1.25 -2.296875 L -1.25 -1.046875 L 0 -1.046875 L 0 -2.296875 Z M -1.25 -2.296875 \"/>\n",
       "</symbol>\n",
       "<symbol overflow=\"visible\" id=\"glyph1-3\">\n",
       "<path style=\"stroke:none;\" d=\"M -2.046875 -3.921875 L 0 -3.921875 L 0 -4.984375 L -2.046875 -4.984375 L -2.046875 -6.234375 L -2.984375 -6.234375 L -2.984375 -4.984375 L -8.515625 -4.984375 L -8.515625 -4.203125 L -3.15625 -0.34375 L -2.046875 -0.34375 Z M -2.984375 -3.921875 L -2.984375 -1.265625 L -6.703125 -3.921875 Z M -2.984375 -3.921875 \"/>\n",
       "</symbol>\n",
       "<symbol overflow=\"visible\" id=\"glyph1-4\">\n",
       "<path style=\"stroke:none;\" d=\"M -6.28125 -5.96875 C -7.6875 -5.765625 -8.515625 -4.859375 -8.515625 -3.5625 C -8.515625 -2.625 -8.046875 -1.78125 -7.296875 -1.28125 C -6.46875 -0.75 -5.421875 -0.515625 -3.875 -0.515625 C -2.453125 -0.515625 -1.53125 -0.734375 -0.78125 -1.234375 C -0.09375 -1.6875 0.28125 -2.4375 0.28125 -3.375 C 0.28125 -4.984375 -0.921875 -6.15625 -2.59375 -6.15625 C -4.171875 -6.15625 -5.296875 -5.078125 -5.296875 -3.546875 C -5.296875 -2.71875 -4.96875 -2.046875 -4.34375 -1.59375 C -6.421875 -1.609375 -7.578125 -2.28125 -7.578125 -3.484375 C -7.578125 -4.234375 -7.109375 -4.75 -6.28125 -4.921875 Z M -4.359375 -3.421875 C -4.359375 -4.4375 -3.640625 -5.078125 -2.515625 -5.078125 C -1.4375 -5.078125 -0.65625 -4.359375 -0.65625 -3.390625 C -0.65625 -2.40625 -1.46875 -1.65625 -2.5625 -1.65625 C -3.625 -1.65625 -4.359375 -2.375 -4.359375 -3.421875 Z M -4.359375 -3.421875 \"/>\n",
       "</symbol>\n",
       "<symbol overflow=\"visible\" id=\"glyph1-5\">\n",
       "<path style=\"stroke:none;\" d=\"M -4.46875 -4.6875 C -5 -5.5625 -5.4375 -5.859375 -6.234375 -5.859375 C -7.578125 -5.859375 -8.515625 -4.8125 -8.515625 -3.296875 C -8.515625 -1.796875 -7.578125 -0.75 -6.234375 -0.75 C -5.453125 -0.75 -5.015625 -1.03125 -4.46875 -1.890625 C -4.015625 -0.921875 -3.296875 -0.4375 -2.359375 -0.4375 C -0.796875 -0.4375 0.28125 -1.625 0.28125 -3.296875 C 0.28125 -4.984375 -0.796875 -6.15625 -2.359375 -6.15625 C -3.296875 -6.15625 -4.015625 -5.671875 -4.46875 -4.6875 Z M -7.578125 -3.296875 C -7.578125 -4.203125 -7.046875 -4.78125 -6.21875 -4.78125 C -5.421875 -4.78125 -4.890625 -4.1875 -4.890625 -3.296875 C -4.890625 -2.40625 -5.421875 -1.828125 -6.234375 -1.828125 C -7.046875 -1.828125 -7.578125 -2.40625 -7.578125 -3.296875 Z M -4.015625 -3.296875 C -4.015625 -4.359375 -3.34375 -5.078125 -2.34375 -5.078125 C -1.328125 -5.078125 -0.65625 -4.359375 -0.65625 -3.28125 C -0.65625 -2.25 -1.34375 -1.53125 -2.34375 -1.53125 C -3.34375 -1.53125 -4.015625 -2.25 -4.015625 -3.296875 Z M -4.015625 -3.296875 \"/>\n",
       "</symbol>\n",
       "<symbol overflow=\"visible\" id=\"glyph1-6\">\n",
       "<path style=\"stroke:none;\" d=\"M -1.046875 -6.078125 L -1.046875 -1.59375 C -1.734375 -1.703125 -2.1875 -2.09375 -2.796875 -3.125 L -3.4375 -4.328125 C -4.09375 -5.515625 -4.96875 -6.125 -6.015625 -6.125 C -6.71875 -6.125 -7.375 -5.84375 -7.84375 -5.34375 C -8.296875 -4.84375 -8.515625 -4.21875 -8.515625 -3.40625 C -8.515625 -2.328125 -8.125 -1.53125 -7.40625 -1.0625 C -6.953125 -0.75 -6.421875 -0.625 -5.5625 -0.59375 L -5.5625 -1.65625 C -6.125 -1.6875 -6.484375 -1.765625 -6.75 -1.90625 C -7.265625 -2.1875 -7.578125 -2.734375 -7.578125 -3.375 C -7.578125 -4.328125 -6.90625 -5.046875 -5.984375 -5.046875 C -5.3125 -5.046875 -4.734375 -4.65625 -4.3125 -3.90625 L -3.6875 -2.796875 C -2.671875 -1.015625 -1.875 -0.5 0 -0.40625 L 0 -6.078125 Z M -1.046875 -6.078125 \"/>\n",
       "</symbol>\n",
       "<symbol overflow=\"visible\" id=\"glyph1-7\">\n",
       "<path style=\"stroke:none;\" d=\"M -8.515625 -3.296875 C -8.515625 -2.515625 -8.15625 -1.78125 -7.578125 -1.34375 C -6.828125 -0.796875 -5.6875 -0.515625 -4.109375 -0.515625 C -1.25 -0.515625 0.28125 -1.46875 0.28125 -3.296875 C 0.28125 -5.09375 -1.25 -6.078125 -4.046875 -6.078125 C -5.703125 -6.078125 -6.796875 -5.8125 -7.578125 -5.25 C -8.171875 -4.8125 -8.515625 -4.109375 -8.515625 -3.296875 Z M -7.578125 -3.296875 C -7.578125 -4.4375 -6.421875 -5 -4.140625 -5 C -1.734375 -5 -0.59375 -4.453125 -0.59375 -3.28125 C -0.59375 -2.15625 -1.78125 -1.59375 -4.109375 -1.59375 C -6.4375 -1.59375 -7.578125 -2.15625 -7.578125 -3.296875 Z M -7.578125 -3.296875 \"/>\n",
       "</symbol>\n",
       "<symbol overflow=\"visible\" id=\"glyph1-8\">\n",
       "<path style=\"stroke:none;\" d=\"M -6.28125 -4.65625 L -1.390625 -2.921875 L -6.28125 -1.3125 L -6.28125 -0.234375 L 0.03125 -2.359375 L 1.015625 -1.984375 C 1.46875 -1.828125 1.625 -1.59375 1.625 -1.171875 C 1.625 -1.03125 1.609375 -0.859375 1.5625 -0.640625 L 2.453125 -0.640625 C 2.5625 -0.859375 2.609375 -1.0625 2.609375 -1.3125 C 2.609375 -1.640625 2.515625 -1.984375 2.3125 -2.25 C 2.09375 -2.5625 1.828125 -2.75 1.3125 -2.9375 L -6.28125 -5.734375 Z M -6.28125 -4.65625 \"/>\n",
       "</symbol>\n",
       "<symbol overflow=\"visible\" id=\"glyph2-0\">\n",
       "<path style=\"stroke:none;\" d=\"\"/>\n",
       "</symbol>\n",
       "<symbol overflow=\"visible\" id=\"glyph2-1\">\n",
       "<path style=\"stroke:none;\" d=\"M 5.671875 -7.78125 L 4.0625 -2.125 L 2.34375 -7.78125 L 0.125 -7.78125 L 3.03125 0.3125 L 3.03125 0.375 C 3.03125 1.109375 2.484375 1.671875 1.765625 1.671875 C 1.609375 1.671875 1.5 1.65625 1.234375 1.578125 L 1.234375 3.09375 C 1.546875 3.140625 1.71875 3.15625 1.953125 3.15625 C 2.46875 3.15625 3.0625 3.046875 3.421875 2.90625 C 3.96875 2.671875 4.21875 2.34375 4.546875 1.421875 L 7.75 -7.78125 Z M 5.671875 -7.78125 \"/>\n",
       "</symbol>\n",
       "<symbol overflow=\"visible\" id=\"glyph2-2\">\n",
       "<path style=\"stroke:none;\" d=\"\"/>\n",
       "</symbol>\n",
       "<symbol overflow=\"visible\" id=\"glyph2-3\">\n",
       "<path style=\"stroke:none;\" d=\"M 7.6875 -5.921875 L 0.71875 -5.921875 L 0.71875 -4.203125 L 7.6875 -4.203125 Z M 7.6875 -2.46875 L 0.71875 -2.46875 L 0.71875 -0.75 L 7.6875 -0.75 Z M 7.6875 -2.46875 \"/>\n",
       "</symbol>\n",
       "<symbol overflow=\"visible\" id=\"glyph2-4\">\n",
       "<path style=\"stroke:none;\" d=\"M 3.9375 -10.4375 C 2.84375 -10.4375 1.90625 -9.96875 1.28125 -9.125 C 0.6875 -8.328125 0.421875 -7.015625 0.421875 -5.046875 C 0.421875 -3.234375 0.65625 -1.953125 1.140625 -1.1875 C 1.75 -0.21875 2.734375 0.328125 3.9375 0.328125 C 5.046875 0.328125 5.953125 -0.109375 6.578125 -0.984375 C 7.15625 -1.75 7.453125 -3.078125 7.453125 -4.984375 C 7.453125 -6.859375 7.21875 -8.125 6.734375 -8.921875 C 6.125 -9.890625 5.125 -10.4375 3.9375 -10.4375 Z M 3.9375 -8.796875 C 4.453125 -8.796875 4.875 -8.515625 5.109375 -7.984375 C 5.3125 -7.546875 5.4375 -6.421875 5.4375 -5.03125 C 5.4375 -3.890625 5.3125 -2.734375 5.171875 -2.328125 C 4.9375 -1.734375 4.515625 -1.390625 3.9375 -1.390625 C 3.40625 -1.390625 3 -1.671875 2.75 -2.1875 C 2.546875 -2.625 2.4375 -3.703125 2.4375 -5.0625 C 2.4375 -6.25 2.546875 -7.421875 2.6875 -7.84375 C 2.921875 -8.453125 3.359375 -8.796875 3.9375 -8.796875 Z M 3.9375 -8.796875 \"/>\n",
       "</symbol>\n",
       "<symbol overflow=\"visible\" id=\"glyph2-5\">\n",
       "<path style=\"stroke:none;\" d=\"M 5.109375 -3.921875 L 7.65625 -7.78125 L 5.234375 -7.78125 L 3.96875 -5.4375 L 2.703125 -7.78125 L 0.28125 -7.78125 L 2.828125 -3.921875 L 0.234375 0 L 2.65625 0 L 3.96875 -2.421875 L 5.28125 0 L 7.703125 0 Z M 5.109375 -3.921875 \"/>\n",
       "</symbol>\n",
       "<symbol overflow=\"visible\" id=\"glyph2-6\">\n",
       "<path style=\"stroke:none;\" d=\"M 7.671875 -4.1875 L 5.0625 -4.1875 L 5.0625 -6.8125 L 3.34375 -6.8125 L 3.34375 -4.1875 L 0.71875 -4.1875 L 0.71875 -2.484375 L 3.34375 -2.484375 L 3.34375 0.140625 L 5.0625 0.140625 L 5.0625 -2.484375 L 7.671875 -2.484375 Z M 7.671875 -4.1875 \"/>\n",
       "</symbol>\n",
       "<symbol overflow=\"visible\" id=\"glyph2-7\">\n",
       "<path style=\"stroke:none;\" d=\"M 3.421875 -7.046875 L 3.421875 0 L 5.453125 0 L 5.453125 -10.21875 L 4.109375 -10.21875 C 3.78125 -9 2.734375 -8.390625 0.984375 -8.390625 L 0.984375 -7.046875 Z M 3.421875 -7.046875 \"/>\n",
       "</symbol>\n",
       "<symbol overflow=\"visible\" id=\"glyph2-8\">\n",
       "<path style=\"stroke:none;\" d=\"M 3.078125 -2.109375 L 0.921875 -2.109375 L 0.921875 0 L 3.078125 0 Z M 3.078125 -2.109375 \"/>\n",
       "</symbol>\n",
       "<symbol overflow=\"visible\" id=\"glyph2-9\">\n",
       "<path style=\"stroke:none;\" d=\"M 5.890625 -5.5625 C 6.234375 -5.75 6.390625 -5.84375 6.5625 -6 C 6.96875 -6.375 7.21875 -7 7.21875 -7.671875 C 7.21875 -9.265625 5.828125 -10.4375 3.953125 -10.4375 C 2.046875 -10.4375 0.65625 -9.265625 0.65625 -7.65625 C 0.65625 -6.671875 1.0625 -6.046875 1.984375 -5.5625 C 0.8125 -4.921875 0.3125 -4.15625 0.3125 -2.9375 C 0.3125 -1.015625 1.796875 0.328125 3.953125 0.328125 C 6.078125 0.328125 7.5625 -1.015625 7.5625 -2.9375 C 7.5625 -4.15625 7.078125 -4.921875 5.890625 -5.5625 Z M 3.96875 -8.796875 C 4.859375 -8.796875 5.46875 -8.25 5.46875 -7.46875 C 5.46875 -6.6875 4.84375 -6.125 3.96875 -6.125 C 3.0625 -6.125 2.4375 -6.6875 2.4375 -7.484375 C 2.4375 -8.25 3.046875 -8.796875 3.96875 -8.796875 Z M 3.9375 -4.75 C 4.921875 -4.75 5.546875 -4.09375 5.546875 -3.03125 C 5.546875 -2.046875 4.90625 -1.390625 3.9375 -1.390625 C 2.953125 -1.390625 2.328125 -2.046875 2.328125 -3.046875 C 2.328125 -4.09375 2.96875 -4.75 3.9375 -4.75 Z M 3.9375 -4.75 \"/>\n",
       "</symbol>\n",
       "</g>\n",
       "<clipPath id=\"clip1\">\n",
       "  <path d=\"M 59.039062 68 L 474.757812 68 L 474.757812 416 L 59.039062 416 Z M 59.039062 68 \"/>\n",
       "</clipPath>\n",
       "</defs>\n",
       "<g id=\"surface109\">\n",
       "<rect x=\"0\" y=\"0\" width=\"504\" height=\"504\" style=\"fill:rgb(100%,100%,100%);fill-opacity:1;stroke:none;\"/>\n",
       "<path style=\"fill:none;stroke-width:0.75;stroke-linecap:round;stroke-linejoin:round;stroke:rgb(0%,0%,0%);stroke-opacity:1;stroke-miterlimit:10;\" d=\"M 77.101562 405.371094 C 77.101562 408.96875 71.699219 408.96875 71.699219 405.371094 C 71.699219 401.769531 77.101562 401.769531 77.101562 405.371094 \"/>\n",
       "<path style=\"fill:none;stroke-width:0.75;stroke-linecap:round;stroke-linejoin:round;stroke:rgb(0%,0%,0%);stroke-opacity:1;stroke-miterlimit:10;\" d=\"M 77.101562 416.800781 C 77.101562 420.398438 71.699219 420.398438 71.699219 416.800781 C 71.699219 413.199219 77.101562 413.199219 77.101562 416.800781 \"/>\n",
       "<path style=\"fill:none;stroke-width:0.75;stroke-linecap:round;stroke-linejoin:round;stroke:rgb(0%,0%,0%);stroke-opacity:1;stroke-miterlimit:10;\" d=\"M 77.101562 405.371094 C 77.101562 408.96875 71.699219 408.96875 71.699219 405.371094 C 71.699219 401.769531 77.101562 401.769531 77.101562 405.371094 \"/>\n",
       "<path style=\"fill:none;stroke-width:0.75;stroke-linecap:round;stroke-linejoin:round;stroke:rgb(0%,0%,0%);stroke-opacity:1;stroke-miterlimit:10;\" d=\"M 77.101562 409.234375 C 77.101562 412.832031 71.699219 412.832031 71.699219 409.234375 C 71.699219 405.632812 77.101562 405.632812 77.101562 409.234375 \"/>\n",
       "<path style=\"fill:none;stroke-width:0.75;stroke-linecap:round;stroke-linejoin:round;stroke:rgb(0%,0%,0%);stroke-opacity:1;stroke-miterlimit:10;\" d=\"M 77.101562 413.042969 C 77.101562 416.644531 71.699219 416.644531 71.699219 413.042969 C 71.699219 409.441406 77.101562 409.441406 77.101562 413.042969 \"/>\n",
       "<path style=\"fill:none;stroke-width:0.75;stroke-linecap:round;stroke-linejoin:round;stroke:rgb(0%,0%,0%);stroke-opacity:1;stroke-miterlimit:10;\" d=\"M 112.007812 381 C 112.007812 384.597656 106.609375 384.597656 106.609375 381 C 106.609375 377.398438 112.007812 377.398438 112.007812 381 \"/>\n",
       "<path style=\"fill:none;stroke-width:0.75;stroke-linecap:round;stroke-linejoin:round;stroke:rgb(0%,0%,0%);stroke-opacity:1;stroke-miterlimit:10;\" d=\"M 112.007812 367.988281 C 112.007812 371.589844 106.609375 371.589844 106.609375 367.988281 C 106.609375 364.386719 112.007812 364.386719 112.007812 367.988281 \"/>\n",
       "<path style=\"fill:none;stroke-width:0.75;stroke-linecap:round;stroke-linejoin:round;stroke:rgb(0%,0%,0%);stroke-opacity:1;stroke-miterlimit:10;\" d=\"M 112.007812 381 C 112.007812 384.597656 106.609375 384.597656 106.609375 381 C 106.609375 377.398438 112.007812 377.398438 112.007812 381 \"/>\n",
       "<path style=\"fill:none;stroke-width:0.75;stroke-linecap:round;stroke-linejoin:round;stroke:rgb(0%,0%,0%);stroke-opacity:1;stroke-miterlimit:10;\" d=\"M 112.007812 372.390625 C 112.007812 375.988281 106.609375 375.988281 106.609375 372.390625 C 106.609375 368.789062 112.007812 368.789062 112.007812 372.390625 \"/>\n",
       "<path style=\"fill:none;stroke-width:0.75;stroke-linecap:round;stroke-linejoin:round;stroke:rgb(0%,0%,0%);stroke-opacity:1;stroke-miterlimit:10;\" d=\"M 112.007812 376.726562 C 112.007812 380.324219 106.609375 380.324219 106.609375 376.726562 C 106.609375 373.125 112.007812 373.125 112.007812 376.726562 \"/>\n",
       "<path style=\"fill:none;stroke-width:0.75;stroke-linecap:round;stroke-linejoin:round;stroke:rgb(0%,0%,0%);stroke-opacity:1;stroke-miterlimit:10;\" d=\"M 146.917969 335.121094 C 146.917969 338.722656 141.519531 338.722656 141.519531 335.121094 C 141.519531 331.523438 146.917969 331.523438 146.917969 335.121094 \"/>\n",
       "<path style=\"fill:none;stroke-width:0.75;stroke-linecap:round;stroke-linejoin:round;stroke:rgb(0%,0%,0%);stroke-opacity:1;stroke-miterlimit:10;\" d=\"M 146.917969 335.121094 C 146.917969 338.722656 141.519531 338.722656 141.519531 335.121094 C 141.519531 331.523438 146.917969 331.523438 146.917969 335.121094 \"/>\n",
       "<path style=\"fill:none;stroke-width:0.75;stroke-linecap:round;stroke-linejoin:round;stroke:rgb(0%,0%,0%);stroke-opacity:1;stroke-miterlimit:10;\" d=\"M 146.917969 351.617188 C 146.917969 355.21875 141.519531 355.21875 141.519531 351.617188 C 141.519531 348.019531 146.917969 348.019531 146.917969 351.617188 \"/>\n",
       "<path style=\"fill:none;stroke-width:0.75;stroke-linecap:round;stroke-linejoin:round;stroke:rgb(0%,0%,0%);stroke-opacity:1;stroke-miterlimit:10;\" d=\"M 146.917969 351.617188 C 146.917969 355.21875 141.519531 355.21875 141.519531 351.617188 C 141.519531 348.019531 146.917969 348.019531 146.917969 351.617188 \"/>\n",
       "<path style=\"fill:none;stroke-width:0.75;stroke-linecap:round;stroke-linejoin:round;stroke:rgb(0%,0%,0%);stroke-opacity:1;stroke-miterlimit:10;\" d=\"M 146.917969 347.578125 C 146.917969 351.175781 141.519531 351.175781 141.519531 347.578125 C 141.519531 343.976562 146.917969 343.976562 146.917969 347.578125 \"/>\n",
       "<path style=\"fill:none;stroke-width:0.75;stroke-linecap:round;stroke-linejoin:round;stroke:rgb(0%,0%,0%);stroke-opacity:1;stroke-miterlimit:10;\" d=\"M 181.828125 310.699219 C 181.828125 314.300781 176.425781 314.300781 176.425781 310.699219 C 176.425781 307.097656 181.828125 307.097656 181.828125 310.699219 \"/>\n",
       "<path style=\"fill:none;stroke-width:0.75;stroke-linecap:round;stroke-linejoin:round;stroke:rgb(0%,0%,0%);stroke-opacity:1;stroke-miterlimit:10;\" d=\"M 181.828125 318.449219 C 181.828125 322.046875 176.425781 322.046875 176.425781 318.449219 C 176.425781 314.847656 181.828125 314.847656 181.828125 318.449219 \"/>\n",
       "<path style=\"fill:none;stroke-width:0.75;stroke-linecap:round;stroke-linejoin:round;stroke:rgb(0%,0%,0%);stroke-opacity:1;stroke-miterlimit:10;\" d=\"M 181.828125 306.753906 C 181.828125 310.355469 176.425781 310.355469 176.425781 306.753906 C 176.425781 303.152344 181.828125 303.152344 181.828125 306.753906 \"/>\n",
       "<path style=\"fill:none;stroke-width:0.75;stroke-linecap:round;stroke-linejoin:round;stroke:rgb(0%,0%,0%);stroke-opacity:1;stroke-miterlimit:10;\" d=\"M 181.828125 310.699219 C 181.828125 314.300781 176.425781 314.300781 176.425781 310.699219 C 176.425781 307.097656 181.828125 307.097656 181.828125 310.699219 \"/>\n",
       "<path style=\"fill:none;stroke-width:0.75;stroke-linecap:round;stroke-linejoin:round;stroke:rgb(0%,0%,0%);stroke-opacity:1;stroke-miterlimit:10;\" d=\"M 181.828125 306.753906 C 181.828125 310.355469 176.425781 310.355469 176.425781 306.753906 C 176.425781 303.152344 181.828125 303.152344 181.828125 306.753906 \"/>\n",
       "<path style=\"fill:none;stroke-width:0.75;stroke-linecap:round;stroke-linejoin:round;stroke:rgb(0%,0%,0%);stroke-opacity:1;stroke-miterlimit:10;\" d=\"M 216.738281 286.636719 C 216.738281 290.234375 211.335938 290.234375 211.335938 286.636719 C 211.335938 283.035156 216.738281 283.035156 216.738281 286.636719 \"/>\n",
       "<path style=\"fill:none;stroke-width:0.75;stroke-linecap:round;stroke-linejoin:round;stroke:rgb(0%,0%,0%);stroke-opacity:1;stroke-miterlimit:10;\" d=\"M 216.738281 282.863281 C 216.738281 286.464844 211.335938 286.464844 211.335938 282.863281 C 211.335938 279.265625 216.738281 279.265625 216.738281 282.863281 \"/>\n",
       "<path style=\"fill:none;stroke-width:0.75;stroke-linecap:round;stroke-linejoin:round;stroke:rgb(0%,0%,0%);stroke-opacity:1;stroke-miterlimit:10;\" d=\"M 216.738281 279.050781 C 216.738281 282.652344 211.335938 282.652344 211.335938 279.050781 C 211.335938 275.449219 216.738281 275.449219 216.738281 279.050781 \"/>\n",
       "<path style=\"fill:none;stroke-width:0.75;stroke-linecap:round;stroke-linejoin:round;stroke:rgb(0%,0%,0%);stroke-opacity:1;stroke-miterlimit:10;\" d=\"M 216.738281 282.863281 C 216.738281 286.464844 211.335938 286.464844 211.335938 282.863281 C 211.335938 279.265625 216.738281 279.265625 216.738281 282.863281 \"/>\n",
       "<path style=\"fill:none;stroke-width:0.75;stroke-linecap:round;stroke-linejoin:round;stroke:rgb(0%,0%,0%);stroke-opacity:1;stroke-miterlimit:10;\" d=\"M 216.738281 282.980469 C 216.738281 286.582031 211.335938 286.582031 211.335938 282.980469 C 211.335938 279.382812 216.738281 279.382812 216.738281 282.980469 \"/>\n",
       "<path style=\"fill:none;stroke-width:0.75;stroke-linecap:round;stroke-linejoin:round;stroke:rgb(0%,0%,0%);stroke-opacity:1;stroke-miterlimit:10;\" d=\"M 251.644531 252.65625 C 251.644531 256.257812 246.246094 256.257812 246.246094 252.65625 C 246.246094 249.054688 251.644531 249.054688 251.644531 252.65625 \"/>\n",
       "<path style=\"fill:none;stroke-width:0.75;stroke-linecap:round;stroke-linejoin:round;stroke:rgb(0%,0%,0%);stroke-opacity:1;stroke-miterlimit:10;\" d=\"M 251.644531 263.730469 C 251.644531 267.332031 246.246094 267.332031 246.246094 263.730469 C 246.246094 260.132812 251.644531 260.132812 251.644531 263.730469 \"/>\n",
       "<path style=\"fill:none;stroke-width:0.75;stroke-linecap:round;stroke-linejoin:round;stroke:rgb(0%,0%,0%);stroke-opacity:1;stroke-miterlimit:10;\" d=\"M 251.644531 256.386719 C 251.644531 259.988281 246.246094 259.988281 246.246094 256.386719 C 246.246094 252.785156 251.644531 252.785156 251.644531 256.386719 \"/>\n",
       "<path style=\"fill:none;stroke-width:0.75;stroke-linecap:round;stroke-linejoin:round;stroke:rgb(0%,0%,0%);stroke-opacity:1;stroke-miterlimit:10;\" d=\"M 251.644531 245.074219 C 251.644531 248.671875 246.246094 248.671875 246.246094 245.074219 C 246.246094 241.472656 251.644531 241.472656 251.644531 245.074219 \"/>\n",
       "<path style=\"fill:none;stroke-width:0.75;stroke-linecap:round;stroke-linejoin:round;stroke:rgb(0%,0%,0%);stroke-opacity:1;stroke-miterlimit:10;\" d=\"M 251.644531 245.074219 C 251.644531 248.671875 246.246094 248.671875 246.246094 245.074219 C 246.246094 241.472656 251.644531 241.472656 251.644531 245.074219 \"/>\n",
       "<path style=\"fill:none;stroke-width:0.75;stroke-linecap:round;stroke-linejoin:round;stroke:rgb(0%,0%,0%);stroke-opacity:1;stroke-miterlimit:10;\" d=\"M 286.554688 221.316406 C 286.554688 224.914062 281.15625 224.914062 281.15625 221.316406 C 281.15625 217.714844 286.554688 217.714844 286.554688 221.316406 \"/>\n",
       "<path style=\"fill:none;stroke-width:0.75;stroke-linecap:round;stroke-linejoin:round;stroke:rgb(0%,0%,0%);stroke-opacity:1;stroke-miterlimit:10;\" d=\"M 286.554688 221.316406 C 286.554688 224.914062 281.15625 224.914062 281.15625 221.316406 C 281.15625 217.714844 286.554688 217.714844 286.554688 221.316406 \"/>\n",
       "<path style=\"fill:none;stroke-width:0.75;stroke-linecap:round;stroke-linejoin:round;stroke:rgb(0%,0%,0%);stroke-opacity:1;stroke-miterlimit:10;\" d=\"M 286.554688 221.316406 C 286.554688 224.914062 281.15625 224.914062 281.15625 221.316406 C 281.15625 217.714844 286.554688 217.714844 286.554688 221.316406 \"/>\n",
       "<path style=\"fill:none;stroke-width:0.75;stroke-linecap:round;stroke-linejoin:round;stroke:rgb(0%,0%,0%);stroke-opacity:1;stroke-miterlimit:10;\" d=\"M 286.554688 225.382812 C 286.554688 228.984375 281.15625 228.984375 281.15625 225.382812 C 281.15625 221.785156 286.554688 221.785156 286.554688 225.382812 \"/>\n",
       "<path style=\"fill:none;stroke-width:0.75;stroke-linecap:round;stroke-linejoin:round;stroke:rgb(0%,0%,0%);stroke-opacity:1;stroke-miterlimit:10;\" d=\"M 286.554688 221.316406 C 286.554688 224.914062 281.15625 224.914062 281.15625 221.316406 C 281.15625 217.714844 286.554688 217.714844 286.554688 221.316406 \"/>\n",
       "<path style=\"fill:none;stroke-width:0.75;stroke-linecap:round;stroke-linejoin:round;stroke:rgb(0%,0%,0%);stroke-opacity:1;stroke-miterlimit:10;\" d=\"M 321.464844 191.667969 C 321.464844 195.265625 316.0625 195.265625 316.0625 191.667969 C 316.0625 188.066406 321.464844 188.066406 321.464844 191.667969 \"/>\n",
       "<path style=\"fill:none;stroke-width:0.75;stroke-linecap:round;stroke-linejoin:round;stroke:rgb(0%,0%,0%);stroke-opacity:1;stroke-miterlimit:10;\" d=\"M 321.464844 195.617188 C 321.464844 199.214844 316.0625 199.214844 316.0625 195.617188 C 316.0625 192.015625 321.464844 192.015625 321.464844 195.617188 \"/>\n",
       "<path style=\"fill:none;stroke-width:0.75;stroke-linecap:round;stroke-linejoin:round;stroke:rgb(0%,0%,0%);stroke-opacity:1;stroke-miterlimit:10;\" d=\"M 321.464844 191.667969 C 321.464844 195.265625 316.0625 195.265625 316.0625 191.667969 C 316.0625 188.066406 321.464844 188.066406 321.464844 191.667969 \"/>\n",
       "<path style=\"fill:none;stroke-width:0.75;stroke-linecap:round;stroke-linejoin:round;stroke:rgb(0%,0%,0%);stroke-opacity:1;stroke-miterlimit:10;\" d=\"M 321.464844 203.691406 C 321.464844 207.289062 316.0625 207.289062 316.0625 203.691406 C 316.0625 200.089844 321.464844 200.089844 321.464844 203.691406 \"/>\n",
       "<path style=\"fill:none;stroke-width:0.75;stroke-linecap:round;stroke-linejoin:round;stroke:rgb(0%,0%,0%);stroke-opacity:1;stroke-miterlimit:10;\" d=\"M 321.464844 199.523438 C 321.464844 203.125 316.0625 203.125 316.0625 199.523438 C 316.0625 195.925781 321.464844 195.925781 321.464844 199.523438 \"/>\n",
       "<path style=\"fill:none;stroke-width:0.75;stroke-linecap:round;stroke-linejoin:round;stroke:rgb(0%,0%,0%);stroke-opacity:1;stroke-miterlimit:10;\" d=\"M 356.371094 160.855469 C 356.371094 164.457031 350.972656 164.457031 350.972656 160.855469 C 350.972656 157.257812 356.371094 157.257812 356.371094 160.855469 \"/>\n",
       "<path style=\"fill:none;stroke-width:0.75;stroke-linecap:round;stroke-linejoin:round;stroke:rgb(0%,0%,0%);stroke-opacity:1;stroke-miterlimit:10;\" d=\"M 356.371094 168.707031 C 356.371094 172.308594 350.972656 172.308594 350.972656 168.707031 C 350.972656 165.109375 356.371094 165.109375 356.371094 168.707031 \"/>\n",
       "<path style=\"fill:none;stroke-width:0.75;stroke-linecap:round;stroke-linejoin:round;stroke:rgb(0%,0%,0%);stroke-opacity:1;stroke-miterlimit:10;\" d=\"M 356.371094 164.800781 C 356.371094 168.402344 350.972656 168.402344 350.972656 164.800781 C 350.972656 161.203125 356.371094 161.203125 356.371094 164.800781 \"/>\n",
       "<path style=\"fill:none;stroke-width:0.75;stroke-linecap:round;stroke-linejoin:round;stroke:rgb(0%,0%,0%);stroke-opacity:1;stroke-miterlimit:10;\" d=\"M 356.371094 164.800781 C 356.371094 168.402344 350.972656 168.402344 350.972656 164.800781 C 350.972656 161.203125 356.371094 161.203125 356.371094 164.800781 \"/>\n",
       "<path style=\"fill:none;stroke-width:0.75;stroke-linecap:round;stroke-linejoin:round;stroke:rgb(0%,0%,0%);stroke-opacity:1;stroke-miterlimit:10;\" d=\"M 356.371094 157.039062 C 356.371094 160.640625 350.972656 160.640625 350.972656 157.039062 C 350.972656 153.4375 356.371094 153.4375 356.371094 157.039062 \"/>\n",
       "<path style=\"fill:none;stroke-width:0.75;stroke-linecap:round;stroke-linejoin:round;stroke:rgb(0%,0%,0%);stroke-opacity:1;stroke-miterlimit:10;\" d=\"M 391.28125 129.613281 C 391.28125 133.210938 385.882812 133.210938 385.882812 129.613281 C 385.882812 126.011719 391.28125 126.011719 391.28125 129.613281 \"/>\n",
       "<path style=\"fill:none;stroke-width:0.75;stroke-linecap:round;stroke-linejoin:round;stroke:rgb(0%,0%,0%);stroke-opacity:1;stroke-miterlimit:10;\" d=\"M 391.28125 133.519531 C 391.28125 137.117188 385.882812 137.117188 385.882812 133.519531 C 385.882812 129.917969 391.28125 129.917969 391.28125 133.519531 \"/>\n",
       "<path style=\"fill:none;stroke-width:0.75;stroke-linecap:round;stroke-linejoin:round;stroke:rgb(0%,0%,0%);stroke-opacity:1;stroke-miterlimit:10;\" d=\"M 391.28125 137.386719 C 391.28125 140.988281 385.882812 140.988281 385.882812 137.386719 C 385.882812 133.789062 391.28125 133.789062 391.28125 137.386719 \"/>\n",
       "<path style=\"fill:none;stroke-width:0.75;stroke-linecap:round;stroke-linejoin:round;stroke:rgb(0%,0%,0%);stroke-opacity:1;stroke-miterlimit:10;\" d=\"M 391.28125 145.019531 C 391.28125 148.621094 385.882812 148.621094 385.882812 145.019531 C 385.882812 141.417969 391.28125 141.417969 391.28125 145.019531 \"/>\n",
       "<path style=\"fill:none;stroke-width:0.75;stroke-linecap:round;stroke-linejoin:round;stroke:rgb(0%,0%,0%);stroke-opacity:1;stroke-miterlimit:10;\" d=\"M 391.28125 148.78125 C 391.28125 152.382812 385.882812 152.382812 385.882812 148.78125 C 385.882812 145.183594 391.28125 145.183594 391.28125 148.78125 \"/>\n",
       "<path style=\"fill:none;stroke-width:0.75;stroke-linecap:round;stroke-linejoin:round;stroke:rgb(0%,0%,0%);stroke-opacity:1;stroke-miterlimit:10;\" d=\"M 426.191406 118.585938 C 426.191406 122.183594 420.789062 122.183594 420.789062 118.585938 C 420.789062 114.984375 426.191406 114.984375 426.191406 118.585938 \"/>\n",
       "<path style=\"fill:none;stroke-width:0.75;stroke-linecap:round;stroke-linejoin:round;stroke:rgb(0%,0%,0%);stroke-opacity:1;stroke-miterlimit:10;\" d=\"M 426.191406 118.585938 C 426.191406 122.183594 420.789062 122.183594 420.789062 118.585938 C 420.789062 114.984375 426.191406 114.984375 426.191406 118.585938 \"/>\n",
       "<path style=\"fill:none;stroke-width:0.75;stroke-linecap:round;stroke-linejoin:round;stroke:rgb(0%,0%,0%);stroke-opacity:1;stroke-miterlimit:10;\" d=\"M 426.191406 118.585938 C 426.191406 122.183594 420.789062 122.183594 420.789062 118.585938 C 420.789062 114.984375 426.191406 114.984375 426.191406 118.585938 \"/>\n",
       "<path style=\"fill:none;stroke-width:0.75;stroke-linecap:round;stroke-linejoin:round;stroke:rgb(0%,0%,0%);stroke-opacity:1;stroke-miterlimit:10;\" d=\"M 426.191406 129.433594 C 426.191406 133.035156 420.789062 133.035156 420.789062 129.433594 C 420.789062 125.832031 426.191406 125.832031 426.191406 129.433594 \"/>\n",
       "<path style=\"fill:none;stroke-width:0.75;stroke-linecap:round;stroke-linejoin:round;stroke:rgb(0%,0%,0%);stroke-opacity:1;stroke-miterlimit:10;\" d=\"M 426.191406 118.585938 C 426.191406 122.183594 420.789062 122.183594 420.789062 118.585938 C 420.789062 114.984375 426.191406 114.984375 426.191406 118.585938 \"/>\n",
       "<path style=\"fill:none;stroke-width:0.75;stroke-linecap:round;stroke-linejoin:round;stroke:rgb(0%,0%,0%);stroke-opacity:1;stroke-miterlimit:10;\" d=\"M 461.101562 96.011719 C 461.101562 99.609375 455.699219 99.609375 455.699219 96.011719 C 455.699219 92.410156 461.101562 92.410156 461.101562 96.011719 \"/>\n",
       "<path style=\"fill:none;stroke-width:0.75;stroke-linecap:round;stroke-linejoin:round;stroke:rgb(0%,0%,0%);stroke-opacity:1;stroke-miterlimit:10;\" d=\"M 461.101562 88.214844 C 461.101562 91.8125 455.699219 91.8125 455.699219 88.214844 C 455.699219 84.613281 461.101562 84.613281 461.101562 88.214844 \"/>\n",
       "<path style=\"fill:none;stroke-width:0.75;stroke-linecap:round;stroke-linejoin:round;stroke:rgb(0%,0%,0%);stroke-opacity:1;stroke-miterlimit:10;\" d=\"M 461.101562 96.011719 C 461.101562 99.609375 455.699219 99.609375 455.699219 96.011719 C 455.699219 92.410156 461.101562 92.410156 461.101562 96.011719 \"/>\n",
       "<path style=\"fill:none;stroke-width:0.75;stroke-linecap:round;stroke-linejoin:round;stroke:rgb(0%,0%,0%);stroke-opacity:1;stroke-miterlimit:10;\" d=\"M 461.101562 72.800781 C 461.101562 76.398438 455.699219 76.398438 455.699219 72.800781 C 455.699219 69.199219 461.101562 69.199219 461.101562 72.800781 \"/>\n",
       "<path style=\"fill:none;stroke-width:0.75;stroke-linecap:round;stroke-linejoin:round;stroke:rgb(0%,0%,0%);stroke-opacity:1;stroke-miterlimit:10;\" d=\"M 461.101562 80.273438 C 461.101562 83.875 455.699219 83.875 455.699219 80.273438 C 455.699219 76.675781 461.101562 76.675781 461.101562 80.273438 \"/>\n",
       "<path style=\"fill:none;stroke-width:0.75;stroke-linecap:round;stroke-linejoin:round;stroke:rgb(0%,0%,0%);stroke-opacity:1;stroke-miterlimit:10;\" d=\"M 91.855469 430.558594 L 440.945312 430.558594 \"/>\n",
       "<path style=\"fill:none;stroke-width:0.75;stroke-linecap:round;stroke-linejoin:round;stroke:rgb(0%,0%,0%);stroke-opacity:1;stroke-miterlimit:10;\" d=\"M 91.855469 430.558594 L 91.855469 437.761719 \"/>\n",
       "<path style=\"fill:none;stroke-width:0.75;stroke-linecap:round;stroke-linejoin:round;stroke:rgb(0%,0%,0%);stroke-opacity:1;stroke-miterlimit:10;\" d=\"M 161.671875 430.558594 L 161.671875 437.761719 \"/>\n",
       "<path style=\"fill:none;stroke-width:0.75;stroke-linecap:round;stroke-linejoin:round;stroke:rgb(0%,0%,0%);stroke-opacity:1;stroke-miterlimit:10;\" d=\"M 231.492188 430.558594 L 231.492188 437.761719 \"/>\n",
       "<path style=\"fill:none;stroke-width:0.75;stroke-linecap:round;stroke-linejoin:round;stroke:rgb(0%,0%,0%);stroke-opacity:1;stroke-miterlimit:10;\" d=\"M 301.308594 430.558594 L 301.308594 437.761719 \"/>\n",
       "<path style=\"fill:none;stroke-width:0.75;stroke-linecap:round;stroke-linejoin:round;stroke:rgb(0%,0%,0%);stroke-opacity:1;stroke-miterlimit:10;\" d=\"M 371.128906 430.558594 L 371.128906 437.761719 \"/>\n",
       "<path style=\"fill:none;stroke-width:0.75;stroke-linecap:round;stroke-linejoin:round;stroke:rgb(0%,0%,0%);stroke-opacity:1;stroke-miterlimit:10;\" d=\"M 440.945312 430.558594 L 440.945312 437.761719 \"/>\n",
       "<g style=\"fill:rgb(0%,0%,0%);fill-opacity:1;\">\n",
       "  <use xlink:href=\"#glyph0-1\" x=\"81.355469\" y=\"455.916016\"/>\n",
       "  <use xlink:href=\"#glyph0-2\" x=\"88.027344\" y=\"455.916016\"/>\n",
       "  <use xlink:href=\"#glyph0-2\" x=\"94.699219\" y=\"455.916016\"/>\n",
       "</g>\n",
       "<g style=\"fill:rgb(0%,0%,0%);fill-opacity:1;\">\n",
       "  <use xlink:href=\"#glyph0-3\" x=\"151.171875\" y=\"455.916016\"/>\n",
       "  <use xlink:href=\"#glyph0-2\" x=\"157.84375\" y=\"455.916016\"/>\n",
       "  <use xlink:href=\"#glyph0-2\" x=\"164.515625\" y=\"455.916016\"/>\n",
       "</g>\n",
       "<g style=\"fill:rgb(0%,0%,0%);fill-opacity:1;\">\n",
       "  <use xlink:href=\"#glyph0-4\" x=\"220.992188\" y=\"455.916016\"/>\n",
       "  <use xlink:href=\"#glyph0-2\" x=\"227.664062\" y=\"455.916016\"/>\n",
       "  <use xlink:href=\"#glyph0-2\" x=\"234.335938\" y=\"455.916016\"/>\n",
       "</g>\n",
       "<g style=\"fill:rgb(0%,0%,0%);fill-opacity:1;\">\n",
       "  <use xlink:href=\"#glyph0-5\" x=\"287.808594\" y=\"455.916016\"/>\n",
       "  <use xlink:href=\"#glyph0-2\" x=\"294.480469\" y=\"455.916016\"/>\n",
       "  <use xlink:href=\"#glyph0-2\" x=\"301.152344\" y=\"455.916016\"/>\n",
       "  <use xlink:href=\"#glyph0-2\" x=\"307.824219\" y=\"455.916016\"/>\n",
       "</g>\n",
       "<g style=\"fill:rgb(0%,0%,0%);fill-opacity:1;\">\n",
       "  <use xlink:href=\"#glyph0-5\" x=\"357.628906\" y=\"455.916016\"/>\n",
       "  <use xlink:href=\"#glyph0-6\" x=\"364.300781\" y=\"455.916016\"/>\n",
       "  <use xlink:href=\"#glyph0-2\" x=\"370.972656\" y=\"455.916016\"/>\n",
       "  <use xlink:href=\"#glyph0-2\" x=\"377.644531\" y=\"455.916016\"/>\n",
       "</g>\n",
       "<g style=\"fill:rgb(0%,0%,0%);fill-opacity:1;\">\n",
       "  <use xlink:href=\"#glyph0-5\" x=\"427.445312\" y=\"455.916016\"/>\n",
       "  <use xlink:href=\"#glyph0-1\" x=\"434.117188\" y=\"455.916016\"/>\n",
       "  <use xlink:href=\"#glyph0-2\" x=\"440.789062\" y=\"455.916016\"/>\n",
       "  <use xlink:href=\"#glyph0-2\" x=\"447.460938\" y=\"455.916016\"/>\n",
       "</g>\n",
       "<path style=\"fill:none;stroke-width:0.75;stroke-linecap:round;stroke-linejoin:round;stroke:rgb(0%,0%,0%);stroke-opacity:1;stroke-miterlimit:10;\" d=\"M 59.039062 419.515625 L 59.039062 111.835938 \"/>\n",
       "<path style=\"fill:none;stroke-width:0.75;stroke-linecap:round;stroke-linejoin:round;stroke:rgb(0%,0%,0%);stroke-opacity:1;stroke-miterlimit:10;\" d=\"M 59.039062 419.515625 L 51.839844 419.515625 \"/>\n",
       "<path style=\"fill:none;stroke-width:0.75;stroke-linecap:round;stroke-linejoin:round;stroke:rgb(0%,0%,0%);stroke-opacity:1;stroke-miterlimit:10;\" d=\"M 59.039062 342.597656 L 51.839844 342.597656 \"/>\n",
       "<path style=\"fill:none;stroke-width:0.75;stroke-linecap:round;stroke-linejoin:round;stroke:rgb(0%,0%,0%);stroke-opacity:1;stroke-miterlimit:10;\" d=\"M 59.039062 265.675781 L 51.839844 265.675781 \"/>\n",
       "<path style=\"fill:none;stroke-width:0.75;stroke-linecap:round;stroke-linejoin:round;stroke:rgb(0%,0%,0%);stroke-opacity:1;stroke-miterlimit:10;\" d=\"M 59.039062 188.753906 L 51.839844 188.753906 \"/>\n",
       "<path style=\"fill:none;stroke-width:0.75;stroke-linecap:round;stroke-linejoin:round;stroke:rgb(0%,0%,0%);stroke-opacity:1;stroke-miterlimit:10;\" d=\"M 59.039062 111.835938 L 51.839844 111.835938 \"/>\n",
       "<g style=\"fill:rgb(0%,0%,0%);fill-opacity:1;\">\n",
       "  <use xlink:href=\"#glyph1-1\" x=\"41.197266\" y=\"428.015625\"/>\n",
       "  <use xlink:href=\"#glyph1-2\" x=\"41.197266\" y=\"421.34375\"/>\n",
       "  <use xlink:href=\"#glyph1-3\" x=\"41.197266\" y=\"418.007812\"/>\n",
       "</g>\n",
       "<g style=\"fill:rgb(0%,0%,0%);fill-opacity:1;\">\n",
       "  <use xlink:href=\"#glyph1-1\" x=\"41.197266\" y=\"351.097656\"/>\n",
       "  <use xlink:href=\"#glyph1-2\" x=\"41.197266\" y=\"344.425781\"/>\n",
       "  <use xlink:href=\"#glyph1-4\" x=\"41.197266\" y=\"341.089844\"/>\n",
       "</g>\n",
       "<g style=\"fill:rgb(0%,0%,0%);fill-opacity:1;\">\n",
       "  <use xlink:href=\"#glyph1-1\" x=\"41.197266\" y=\"274.175781\"/>\n",
       "  <use xlink:href=\"#glyph1-2\" x=\"41.197266\" y=\"267.503906\"/>\n",
       "  <use xlink:href=\"#glyph1-5\" x=\"41.197266\" y=\"264.167969\"/>\n",
       "</g>\n",
       "<g style=\"fill:rgb(0%,0%,0%);fill-opacity:1;\">\n",
       "  <use xlink:href=\"#glyph1-6\" x=\"41.197266\" y=\"197.253906\"/>\n",
       "  <use xlink:href=\"#glyph1-2\" x=\"41.197266\" y=\"190.582031\"/>\n",
       "  <use xlink:href=\"#glyph1-7\" x=\"41.197266\" y=\"187.246094\"/>\n",
       "</g>\n",
       "<g style=\"fill:rgb(0%,0%,0%);fill-opacity:1;\">\n",
       "  <use xlink:href=\"#glyph1-6\" x=\"41.197266\" y=\"120.335938\"/>\n",
       "  <use xlink:href=\"#glyph1-2\" x=\"41.197266\" y=\"113.664062\"/>\n",
       "  <use xlink:href=\"#glyph1-6\" x=\"41.197266\" y=\"110.328125\"/>\n",
       "</g>\n",
       "<path style=\"fill:none;stroke-width:0.75;stroke-linecap:round;stroke-linejoin:round;stroke:rgb(0%,0%,0%);stroke-opacity:1;stroke-miterlimit:10;\" d=\"M 59.039062 430.558594 L 473.761719 430.558594 L 473.761719 59.039062 L 59.039062 59.039062 L 59.039062 430.558594 \"/>\n",
       "<g style=\"fill:rgb(0%,0%,0%);fill-opacity:1;\">\n",
       "  <use xlink:href=\"#glyph0-7\" x=\"263.398438\" y=\"484.716797\"/>\n",
       "</g>\n",
       "<g style=\"fill:rgb(0%,0%,0%);fill-opacity:1;\">\n",
       "  <use xlink:href=\"#glyph1-8\" x=\"12.396484\" y=\"247.800781\"/>\n",
       "</g>\n",
       "<g clip-path=\"url(#clip1)\" clip-rule=\"nonzero\">\n",
       "<path style=\"fill:none;stroke-width:0.75;stroke-linecap:round;stroke-linejoin:round;stroke:rgb(0%,0%,0%);stroke-opacity:1;stroke-miterlimit:10;\" d=\"M 59.039062 414.742188 L 473.761719 69.296875 \"/>\n",
       "</g>\n",
       "<g style=\"fill:rgb(0%,0%,0%);fill-opacity:1;\">\n",
       "  <use xlink:href=\"#glyph2-1\" x=\"217.898438\" y=\"34.116211\"/>\n",
       "  <use xlink:href=\"#glyph2-2\" x=\"225.908203\" y=\"34.116211\"/>\n",
       "  <use xlink:href=\"#glyph2-3\" x=\"229.913086\" y=\"34.116211\"/>\n",
       "  <use xlink:href=\"#glyph2-2\" x=\"238.326172\" y=\"34.116211\"/>\n",
       "  <use xlink:href=\"#glyph2-2\" x=\"242.331055\" y=\"34.116211\"/>\n",
       "  <use xlink:href=\"#glyph2-4\" x=\"246.335938\" y=\"34.116211\"/>\n",
       "  <use xlink:href=\"#glyph2-2\" x=\"254.345703\" y=\"34.116211\"/>\n",
       "  <use xlink:href=\"#glyph2-5\" x=\"258.350586\" y=\"34.116211\"/>\n",
       "  <use xlink:href=\"#glyph2-2\" x=\"266.360352\" y=\"34.116211\"/>\n",
       "  <use xlink:href=\"#glyph2-2\" x=\"270.365234\" y=\"34.116211\"/>\n",
       "  <use xlink:href=\"#glyph2-6\" x=\"274.370117\" y=\"34.116211\"/>\n",
       "  <use xlink:href=\"#glyph2-2\" x=\"282.783203\" y=\"34.116211\"/>\n",
       "  <use xlink:href=\"#glyph2-7\" x=\"286.788086\" y=\"34.116211\"/>\n",
       "  <use xlink:href=\"#glyph2-8\" x=\"294.797852\" y=\"34.116211\"/>\n",
       "  <use xlink:href=\"#glyph2-7\" x=\"298.802734\" y=\"34.116211\"/>\n",
       "  <use xlink:href=\"#glyph2-9\" x=\"306.8125\" y=\"34.116211\"/>\n",
       "</g>\n",
       "</g>\n",
       "</svg>\n"
      ],
      "text/plain": [
       "Plot with title “y =  0 x  + 1.18”"
      ]
     },
     "metadata": {
      "image/svg+xml": {
       "isolated": true
      }
     },
     "output_type": "display_data"
    }
   ],
   "source": [
    "simple.lm(x1,y1)\n",
    "simple.lm(x11,y11)"
   ]
  },
  {
   "cell_type": "code",
   "execution_count": 125,
   "metadata": {
    "collapsed": false
   },
   "outputs": [
    {
     "data": {
      "text/html": [
       "<table>\n",
       "<thead><tr><th></th><th scope=col>2.5 %</th><th scope=col>97.5 %</th></tr></thead>\n",
       "<tbody>\n",
       "\t<tr><th scope=row>(Intercept)</th><td>1.437881</td><td>1.546349</td></tr>\n",
       "\t<tr><th scope=row>x1</th><td>0.007304786</td><td>0.007417312</td></tr>\n",
       "</tbody>\n",
       "</table>\n"
      ],
      "text/latex": [
       "\\begin{tabular}{r|ll}\n",
       "  & 2.5 % & 97.5 %\\\\\n",
       "\\hline\n",
       "\t(Intercept) & 1.437881 & 1.546349\\\\\n",
       "\tx1 & 0.007304786 & 0.007417312\\\\\n",
       "\\end{tabular}\n"
      ],
      "text/markdown": [
       "1. 1.43788086000813\n",
       "2. 0.00730478597465865\n",
       "3. 1.54634851854664\n",
       "4. 0.00741731212324345\n",
       "\n",
       "\n"
      ],
      "text/plain": [
       "                  2.5 %      97.5 %\n",
       "(Intercept) 1.437880860 1.546348519\n",
       "x1          0.007304786 0.007417312"
      ]
     },
     "execution_count": 125,
     "metadata": {},
     "output_type": "execute_result"
    },
    {
     "data": {
      "text/html": [
       "<table>\n",
       "<thead><tr><th></th><th scope=col>2.5 %</th><th scope=col>97.5 %</th></tr></thead>\n",
       "<tbody>\n",
       "\t<tr><th scope=row>(Intercept)</th><td>1.166855</td><td>1.195275</td></tr>\n",
       "\t<tr><th scope=row>x11</th><td>0.0007413121</td><td>0.0007707959</td></tr>\n",
       "</tbody>\n",
       "</table>\n"
      ],
      "text/latex": [
       "\\begin{tabular}{r|ll}\n",
       "  & 2.5 % & 97.5 %\\\\\n",
       "\\hline\n",
       "\t(Intercept) & 1.166855 & 1.195275\\\\\n",
       "\tx11 & 0.0007413121 & 0.0007707959\\\\\n",
       "\\end{tabular}\n"
      ],
      "text/markdown": [
       "1. 1.16685465250519\n",
       "2. 0.000741312149688241\n",
       "3. 1.19527498898665\n",
       "4. 0.000770795878283786\n",
       "\n",
       "\n"
      ],
      "text/plain": [
       "                   2.5 %       97.5 %\n",
       "(Intercept) 1.1668546525 1.1952749890\n",
       "x11         0.0007413121 0.0007707959"
      ]
     },
     "execution_count": 125,
     "metadata": {},
     "output_type": "execute_result"
    },
    {
     "data": {
      "text/html": [
       "9.73548472424283"
      ],
      "text/latex": [
       "9.73548472424283"
      ],
      "text/markdown": [
       "9.73548472424283"
      ],
      "text/plain": [
       "[1] 9.735485"
      ]
     },
     "execution_count": 125,
     "metadata": {},
     "output_type": "execute_result"
    },
    {
     "data": {
      "text/html": [
       "9.47693935580093"
      ],
      "text/latex": [
       "9.47693935580093"
      ],
      "text/markdown": [
       "9.47693935580093"
      ],
      "text/plain": [
       "[1] 9.476939"
      ]
     },
     "execution_count": 125,
     "metadata": {},
     "output_type": "execute_result"
    },
    {
     "data": {
      "text/html": [
       "10.0056534892659"
      ],
      "text/latex": [
       "10.0056534892659"
      ],
      "text/markdown": [
       "10.0056534892659"
      ],
      "text/plain": [
       "[1] 10.00565"
      ]
     },
     "execution_count": 125,
     "metadata": {},
     "output_type": "execute_result"
    }
   ],
   "source": [
    "#1MB (slope,int)\n",
    "#1.492115     0.007361  \n",
    "#11MB\n",
    "#1.1810648    0.0007561\n",
    "\n",
    "\n",
    "\n",
    "m1 = lm(y1~x1)\n",
    "confint(m1, ,.95)\n",
    "\n",
    "m11 = lm(y11~x11)\n",
    "confint(m11, ,.95)\n",
    "\n",
    "\n",
    "##BANDWIDTH\n",
    "#1av/11av\n",
    "(bw_m = (0.007361/0.0007561))\n",
    "\n",
    "#1_low/11_high\n",
    "(0.007304786/0.0007707959)\n",
    "#1_high/11_low\n",
    "(0.007417312/0.0007413121)\n",
    "\n",
    "#The overhead for the 11MB is about 0.3ms faster, and the bandwidth is about 10 times faster"
   ]
  },
  {
   "cell_type": "code",
   "execution_count": 127,
   "metadata": {
    "collapsed": false
   },
   "outputs": [
    {
     "data": {
      "text/html": [
       "1.73007244"
      ],
      "text/latex": [
       "1.73007244"
      ],
      "text/markdown": [
       "1.73007244"
      ],
      "text/plain": [
       "[1] 1.730072"
      ]
     },
     "execution_count": 127,
     "metadata": {},
     "output_type": "execute_result"
    },
    {
     "data": {
      "text/html": [
       "1.84304148"
      ],
      "text/latex": [
       "1.84304148"
      ],
      "text/markdown": [
       "1.84304148"
      ],
      "text/plain": [
       "[1] 1.843041"
      ]
     },
     "execution_count": 127,
     "metadata": {},
     "output_type": "execute_result"
    },
    {
     "data": {
      "text/html": [
       "1.196507484"
      ],
      "text/latex": [
       "1.196507484"
      ],
      "text/markdown": [
       "1.196507484"
      ],
      "text/plain": [
       "[1] 1.196507"
      ]
     },
     "execution_count": 127,
     "metadata": {},
     "output_type": "execute_result"
    },
    {
     "data": {
      "text/html": [
       "1.226106836"
      ],
      "text/latex": [
       "1.226106836"
      ],
      "text/markdown": [
       "1.226106836"
      ],
      "text/plain": [
       "[1] 1.226107"
      ]
     },
     "execution_count": 127,
     "metadata": {},
     "output_type": "execute_result"
    }
   ],
   "source": [
    "#Predict 40:\n",
    "#1MB 2.5%\n",
    "(0.007304786*40+1.437881)\n",
    "#1MB 97.5%\n",
    "(0.007417312*40+1.546349)\n",
    "\n",
    "#11MB 2.5%\n",
    "(1.166855+0.0007413121*40)\n",
    "#11MB 97.5%\n",
    "(1.195275+0.0007707959*40)"
   ]
  },
  {
   "cell_type": "code",
   "execution_count": 129,
   "metadata": {
    "collapsed": false
   },
   "outputs": [
    {
     "data": {
      "text/html": [
       "6.9164705"
      ],
      "text/latex": [
       "6.9164705"
      ],
      "text/markdown": [
       "6.9164705"
      ],
      "text/plain": [
       "[1] 6.91647"
      ]
     },
     "execution_count": 129,
     "metadata": {},
     "output_type": "execute_result"
    },
    {
     "data": {
      "text/html": [
       "7.109333"
      ],
      "text/latex": [
       "7.109333"
      ],
      "text/markdown": [
       "7.109333"
      ],
      "text/plain": [
       "[1] 7.109333"
      ]
     },
     "execution_count": 129,
     "metadata": {},
     "output_type": "execute_result"
    },
    {
     "data": {
      "text/html": [
       "1.722839075"
      ],
      "text/latex": [
       "1.722839075"
      ],
      "text/markdown": [
       "1.722839075"
      ],
      "text/plain": [
       "[1] 1.722839"
      ]
     },
     "execution_count": 129,
     "metadata": {},
     "output_type": "execute_result"
    },
    {
     "data": {
      "text/html": [
       "1.773371925"
      ],
      "text/latex": [
       "1.773371925"
      ],
      "text/markdown": [
       "1.773371925"
      ],
      "text/plain": [
       "[1] 1.773372"
      ]
     },
     "execution_count": 129,
     "metadata": {},
     "output_type": "execute_result"
    }
   ],
   "source": [
    "#Predict 750:\n",
    "#1MB 2.5%\n",
    "(0.007304786*750+1.437881)\n",
    "#1MB 97.5%\n",
    "(0.007417312*750+1.546349)\n",
    "\n",
    "#11MB 2.5%\n",
    "(1.166855+0.0007413121*750)\n",
    "#11MB 97.5%\n",
    "(1.195275+0.0007707959*750)"
   ]
  },
  {
   "cell_type": "code",
   "execution_count": 130,
   "metadata": {
    "collapsed": false
   },
   "outputs": [
    {
     "data": {
      "text/html": [
       "12.39506"
      ],
      "text/latex": [
       "12.39506"
      ],
      "text/markdown": [
       "12.39506"
      ],
      "text/plain": [
       "[1] 12.39506"
      ]
     },
     "execution_count": 130,
     "metadata": {},
     "output_type": "execute_result"
    },
    {
     "data": {
      "text/html": [
       "12.672317"
      ],
      "text/latex": [
       "12.672317"
      ],
      "text/markdown": [
       "12.672317"
      ],
      "text/plain": [
       "[1] 12.67232"
      ]
     },
     "execution_count": 130,
     "metadata": {},
     "output_type": "execute_result"
    },
    {
     "data": {
      "text/html": [
       "2.27882315"
      ],
      "text/latex": [
       "2.27882315"
      ],
      "text/markdown": [
       "2.27882315"
      ],
      "text/plain": [
       "[1] 2.278823"
      ]
     },
     "execution_count": 130,
     "metadata": {},
     "output_type": "execute_result"
    },
    {
     "data": {
      "text/html": [
       "2.35146885"
      ],
      "text/latex": [
       "2.35146885"
      ],
      "text/markdown": [
       "2.35146885"
      ],
      "text/plain": [
       "[1] 2.351469"
      ]
     },
     "execution_count": 130,
     "metadata": {},
     "output_type": "execute_result"
    }
   ],
   "source": [
    "#Predict 1500:\n",
    "#1MB 2.5%\n",
    "(0.007304786*1500+1.437881)\n",
    "#1MB 97.5%\n",
    "(0.007417312*1500+1.546349)\n",
    "\n",
    "#11MB 2.5%\n",
    "(1.166855+0.0007413121*1500)\n",
    "#11MB 97.5%\n",
    "(1.195275+0.0007707959*1500)"
   ]
  },
  {
   "cell_type": "code",
   "execution_count": 132,
   "metadata": {
    "collapsed": false
   },
   "outputs": [
    {
     "data": {
      "text/html": [
       "5.56090410087329"
      ],
      "text/latex": [
       "5.56090410087329"
      ],
      "text/markdown": [
       "5.56090410087329"
      ],
      "text/plain": [
       "[1] 5.560904"
      ]
     },
     "execution_count": 132,
     "metadata": {},
     "output_type": "execute_result"
    },
    {
     "data": {
      "text/html": [
       "1.54035098371353"
      ],
      "text/latex": [
       "1.54035098371353"
      ],
      "text/markdown": [
       "1.54035098371353"
      ],
      "text/plain": [
       "[1] 1.540351"
      ]
     },
     "execution_count": 132,
     "metadata": {},
     "output_type": "execute_result"
    }
   ],
   "source": [
    "#Slowest 1MB 1500/ Fastest 11MB 1500\n",
    "(12.672317/2.27882315)\n",
    "\n",
    "#Slowest 1MB 40/ Fastest 11MB 40\n",
    "(1.84304148/1.196507484)\n",
    "\n",
    "#Larry still has a case. Looking at strictly bandwidth the 11MB network is only ~10 times faster than the 1MB network.\n",
    "#This is even comparing the fastest 11MB results to the slowest 1MB results (from 95% conf interval)\n",
    "#Looking at transfer rates that include latency this gets worse. The 40B result show at most a 1.54x increase.\n",
    "#The 1500B transfer show at most a 5.56x increase. (At most being defined by the fastest result from the\n",
    "#95% conf interval for the 11MB network divided by the slowest results from the 95% conf interval for \n",
    "#the 1MB network). Using 95% confidence intervals, there is no way to slice the data to give an 11x increase."
   ]
  },
  {
   "cell_type": "code",
   "execution_count": 137,
   "metadata": {
    "collapsed": false
   },
   "outputs": [
    {
     "data": {
      "text/plain": [
       "\n",
       "Call:\n",
       "lm(formula = y ~ x)\n",
       "\n",
       "Coefficients:\n",
       "(Intercept)            x  \n",
       "  0.2263869    0.0001583  \n"
      ]
     },
     "execution_count": 137,
     "metadata": {},
     "output_type": "execute_result"
    },
    {
     "data": {
      "image/png": "[encoded data removed]",
      "image/svg+xml": [
       "<?xml version=\"1.0\" encoding=\"UTF-8\"?>\n",
       "<svg xmlns=\"http://www.w3.org/2000/svg\" xmlns:xlink=\"http://www.w3.org/1999/xlink\" width=\"504pt\" height=\"504pt\" viewBox=\"0 0 504 504\" version=\"1.1\">\n",
       "<defs>\n",
       "<g>\n",
       "<symbol overflow=\"visible\" id=\"glyph0-0\">\n",
       "<path style=\"stroke:none;\" d=\"\"/>\n",
       "</symbol>\n",
       "<symbol overflow=\"visible\" id=\"glyph0-1\">\n",
       "<path style=\"stroke:none;\" d=\"M 3.921875 -2.046875 L 3.921875 0 L 4.984375 0 L 4.984375 -2.046875 L 6.234375 -2.046875 L 6.234375 -2.984375 L 4.984375 -2.984375 L 4.984375 -8.515625 L 4.203125 -8.515625 L 0.34375 -3.15625 L 0.34375 -2.046875 Z M 3.921875 -2.984375 L 1.265625 -2.984375 L 3.921875 -6.703125 Z M 3.921875 -2.984375 \"/>\n",
       "</symbol>\n",
       "<symbol overflow=\"visible\" id=\"glyph0-2\">\n",
       "<path style=\"stroke:none;\" d=\"M 3.296875 -8.515625 C 2.515625 -8.515625 1.78125 -8.15625 1.34375 -7.578125 C 0.796875 -6.828125 0.515625 -5.6875 0.515625 -4.109375 C 0.515625 -1.25 1.46875 0.28125 3.296875 0.28125 C 5.09375 0.28125 6.078125 -1.25 6.078125 -4.046875 C 6.078125 -5.703125 5.8125 -6.796875 5.25 -7.578125 C 4.8125 -8.171875 4.109375 -8.515625 3.296875 -8.515625 Z M 3.296875 -7.578125 C 4.4375 -7.578125 5 -6.421875 5 -4.140625 C 5 -1.734375 4.453125 -0.59375 3.28125 -0.59375 C 2.15625 -0.59375 1.59375 -1.78125 1.59375 -4.109375 C 1.59375 -6.4375 2.15625 -7.578125 3.296875 -7.578125 Z M 3.296875 -7.578125 \"/>\n",
       "</symbol>\n",
       "<symbol overflow=\"visible\" id=\"glyph0-3\">\n",
       "<path style=\"stroke:none;\" d=\"M 5.96875 -6.28125 C 5.765625 -7.6875 4.859375 -8.515625 3.5625 -8.515625 C 2.625 -8.515625 1.78125 -8.046875 1.28125 -7.296875 C 0.75 -6.46875 0.515625 -5.421875 0.515625 -3.875 C 0.515625 -2.453125 0.734375 -1.53125 1.234375 -0.78125 C 1.6875 -0.09375 2.4375 0.28125 3.375 0.28125 C 4.984375 0.28125 6.15625 -0.921875 6.15625 -2.59375 C 6.15625 -4.171875 5.078125 -5.296875 3.546875 -5.296875 C 2.71875 -5.296875 2.046875 -4.96875 1.59375 -4.34375 C 1.609375 -6.421875 2.28125 -7.578125 3.484375 -7.578125 C 4.234375 -7.578125 4.75 -7.109375 4.921875 -6.28125 Z M 3.421875 -4.359375 C 4.4375 -4.359375 5.078125 -3.640625 5.078125 -2.515625 C 5.078125 -1.4375 4.359375 -0.65625 3.390625 -0.65625 C 2.40625 -0.65625 1.65625 -1.46875 1.65625 -2.5625 C 1.65625 -3.625 2.375 -4.359375 3.421875 -4.359375 Z M 3.421875 -4.359375 \"/>\n",
       "</symbol>\n",
       "<symbol overflow=\"visible\" id=\"glyph0-4\">\n",
       "<path style=\"stroke:none;\" d=\"M 4.6875 -4.46875 C 5.5625 -5 5.859375 -5.4375 5.859375 -6.234375 C 5.859375 -7.578125 4.8125 -8.515625 3.296875 -8.515625 C 1.796875 -8.515625 0.75 -7.578125 0.75 -6.234375 C 0.75 -5.453125 1.03125 -5.015625 1.890625 -4.46875 C 0.921875 -4.015625 0.4375 -3.296875 0.4375 -2.359375 C 0.4375 -0.796875 1.625 0.28125 3.296875 0.28125 C 4.984375 0.28125 6.15625 -0.796875 6.15625 -2.359375 C 6.15625 -3.296875 5.671875 -4.015625 4.6875 -4.46875 Z M 3.296875 -7.578125 C 4.203125 -7.578125 4.78125 -7.046875 4.78125 -6.21875 C 4.78125 -5.421875 4.1875 -4.890625 3.296875 -4.890625 C 2.40625 -4.890625 1.828125 -5.421875 1.828125 -6.234375 C 1.828125 -7.046875 2.40625 -7.578125 3.296875 -7.578125 Z M 3.296875 -4.015625 C 4.359375 -4.015625 5.078125 -3.34375 5.078125 -2.34375 C 5.078125 -1.328125 4.359375 -0.65625 3.28125 -0.65625 C 2.25 -0.65625 1.53125 -1.34375 1.53125 -2.34375 C 1.53125 -3.34375 2.25 -4.015625 3.296875 -4.015625 Z M 3.296875 -4.015625 \"/>\n",
       "</symbol>\n",
       "<symbol overflow=\"visible\" id=\"glyph0-5\">\n",
       "<path style=\"stroke:none;\" d=\"M 3.109375 -6.0625 L 3.109375 0 L 4.15625 0 L 4.15625 -8.515625 L 3.46875 -8.515625 C 3.09375 -7.203125 2.859375 -7.015625 1.21875 -6.8125 L 1.21875 -6.0625 Z M 3.109375 -6.0625 \"/>\n",
       "</symbol>\n",
       "<symbol overflow=\"visible\" id=\"glyph0-6\">\n",
       "<path style=\"stroke:none;\" d=\"M 6.078125 -1.046875 L 1.59375 -1.046875 C 1.703125 -1.734375 2.09375 -2.1875 3.125 -2.796875 L 4.328125 -3.4375 C 5.515625 -4.09375 6.125 -4.96875 6.125 -6.015625 C 6.125 -6.71875 5.84375 -7.375 5.34375 -7.84375 C 4.84375 -8.296875 4.21875 -8.515625 3.40625 -8.515625 C 2.328125 -8.515625 1.53125 -8.125 1.0625 -7.40625 C 0.75 -6.953125 0.625 -6.421875 0.59375 -5.5625 L 1.65625 -5.5625 C 1.6875 -6.125 1.765625 -6.484375 1.90625 -6.75 C 2.1875 -7.265625 2.734375 -7.578125 3.375 -7.578125 C 4.328125 -7.578125 5.046875 -6.90625 5.046875 -5.984375 C 5.046875 -5.3125 4.65625 -4.734375 3.90625 -4.3125 L 2.796875 -3.6875 C 1.015625 -2.671875 0.5 -1.875 0.40625 0 L 6.078125 0 Z M 6.078125 -1.046875 \"/>\n",
       "</symbol>\n",
       "<symbol overflow=\"visible\" id=\"glyph0-7\">\n",
       "<path style=\"stroke:none;\" d=\"M 3.5 -3.25 L 5.609375 -6.28125 L 4.484375 -6.28125 L 2.96875 -4.015625 L 1.46875 -6.28125 L 0.328125 -6.28125 L 2.421875 -3.203125 L 0.203125 0 L 1.34375 0 L 2.9375 -2.40625 L 4.515625 0 L 5.671875 0 Z M 3.5 -3.25 \"/>\n",
       "</symbol>\n",
       "<symbol overflow=\"visible\" id=\"glyph1-0\">\n",
       "<path style=\"stroke:none;\" d=\"\"/>\n",
       "</symbol>\n",
       "<symbol overflow=\"visible\" id=\"glyph1-1\">\n",
       "<path style=\"stroke:none;\" d=\"M -8.515625 -3.296875 C -8.515625 -2.515625 -8.15625 -1.78125 -7.578125 -1.34375 C -6.828125 -0.796875 -5.6875 -0.515625 -4.109375 -0.515625 C -1.25 -0.515625 0.28125 -1.46875 0.28125 -3.296875 C 0.28125 -5.09375 -1.25 -6.078125 -4.046875 -6.078125 C -5.703125 -6.078125 -6.796875 -5.8125 -7.578125 -5.25 C -8.171875 -4.8125 -8.515625 -4.109375 -8.515625 -3.296875 Z M -7.578125 -3.296875 C -7.578125 -4.4375 -6.421875 -5 -4.140625 -5 C -1.734375 -5 -0.59375 -4.453125 -0.59375 -3.28125 C -0.59375 -2.15625 -1.78125 -1.59375 -4.109375 -1.59375 C -6.4375 -1.59375 -7.578125 -2.15625 -7.578125 -3.296875 Z M -7.578125 -3.296875 \"/>\n",
       "</symbol>\n",
       "<symbol overflow=\"visible\" id=\"glyph1-2\">\n",
       "<path style=\"stroke:none;\" d=\"M -1.25 -2.296875 L -1.25 -1.046875 L 0 -1.046875 L 0 -2.296875 Z M -1.25 -2.296875 \"/>\n",
       "</symbol>\n",
       "<symbol overflow=\"visible\" id=\"glyph1-3\">\n",
       "<path style=\"stroke:none;\" d=\"M -3.90625 -2.65625 L -3.90625 -3.234375 C -3.90625 -4.390625 -3.390625 -4.984375 -2.359375 -4.984375 C -1.296875 -4.984375 -0.65625 -4.328125 -0.65625 -3.234375 C -0.65625 -2.078125 -1.234375 -1.515625 -2.46875 -1.4375 L -2.46875 -0.390625 C -1.78125 -0.4375 -1.34375 -0.546875 -0.953125 -0.75 C -0.140625 -1.1875 0.28125 -2.03125 0.28125 -3.1875 C 0.28125 -4.9375 -0.765625 -6.078125 -2.375 -6.078125 C -3.453125 -6.078125 -4.0625 -5.65625 -4.40625 -4.625 C -4.71875 -5.421875 -5.3125 -5.8125 -6.171875 -5.8125 C -7.625 -5.8125 -8.515625 -4.84375 -8.515625 -3.234375 C -8.515625 -1.515625 -7.578125 -0.59375 -5.765625 -0.5625 L -5.765625 -1.625 C -6.28125 -1.625 -6.5625 -1.6875 -6.828125 -1.8125 C -7.296875 -2.046875 -7.578125 -2.578125 -7.578125 -3.234375 C -7.578125 -4.171875 -7.03125 -4.734375 -6.125 -4.734375 C -5.53125 -4.734375 -5.171875 -4.53125 -4.984375 -4.0625 C -4.859375 -3.765625 -4.8125 -3.390625 -4.796875 -2.65625 Z M -3.90625 -2.65625 \"/>\n",
       "</symbol>\n",
       "<symbol overflow=\"visible\" id=\"glyph1-4\">\n",
       "<path style=\"stroke:none;\" d=\"M -8.515625 -5.71875 L -8.515625 -1.3125 L -3.875 -0.6875 L -3.875 -1.65625 C -4.46875 -2.140625 -4.671875 -2.5625 -4.671875 -3.21875 C -4.671875 -4.359375 -3.890625 -5.078125 -2.625 -5.078125 C -1.40625 -5.078125 -0.65625 -4.375 -0.65625 -3.21875 C -0.65625 -2.296875 -1.125 -1.734375 -2.09375 -1.46875 L -2.09375 -0.421875 C -1.390625 -0.5625 -1.0625 -0.6875 -0.75 -0.9375 C -0.09375 -1.421875 0.28125 -2.28125 0.28125 -3.234375 C 0.28125 -4.953125 -0.96875 -6.15625 -2.765625 -6.15625 C -4.453125 -6.15625 -5.609375 -5.046875 -5.609375 -3.40625 C -5.609375 -2.8125 -5.453125 -2.328125 -5.09375 -1.84375 L -7.46875 -2.171875 L -7.46875 -5.71875 Z M -8.515625 -5.71875 \"/>\n",
       "</symbol>\n",
       "<symbol overflow=\"visible\" id=\"glyph1-5\">\n",
       "<path style=\"stroke:none;\" d=\"M -2.046875 -3.921875 L 0 -3.921875 L 0 -4.984375 L -2.046875 -4.984375 L -2.046875 -6.234375 L -2.984375 -6.234375 L -2.984375 -4.984375 L -8.515625 -4.984375 L -8.515625 -4.203125 L -3.15625 -0.34375 L -2.046875 -0.34375 Z M -2.984375 -3.921875 L -2.984375 -1.265625 L -6.703125 -3.921875 Z M -2.984375 -3.921875 \"/>\n",
       "</symbol>\n",
       "<symbol overflow=\"visible\" id=\"glyph1-6\">\n",
       "<path style=\"stroke:none;\" d=\"M -6.28125 -4.65625 L -1.390625 -2.921875 L -6.28125 -1.3125 L -6.28125 -0.234375 L 0.03125 -2.359375 L 1.015625 -1.984375 C 1.46875 -1.828125 1.625 -1.59375 1.625 -1.171875 C 1.625 -1.03125 1.609375 -0.859375 1.5625 -0.640625 L 2.453125 -0.640625 C 2.5625 -0.859375 2.609375 -1.0625 2.609375 -1.3125 C 2.609375 -1.640625 2.515625 -1.984375 2.3125 -2.25 C 2.09375 -2.5625 1.828125 -2.75 1.3125 -2.9375 L -6.28125 -5.734375 Z M -6.28125 -4.65625 \"/>\n",
       "</symbol>\n",
       "<symbol overflow=\"visible\" id=\"glyph2-0\">\n",
       "<path style=\"stroke:none;\" d=\"\"/>\n",
       "</symbol>\n",
       "<symbol overflow=\"visible\" id=\"glyph2-1\">\n",
       "<path style=\"stroke:none;\" d=\"M 5.671875 -7.78125 L 4.0625 -2.125 L 2.34375 -7.78125 L 0.125 -7.78125 L 3.03125 0.3125 L 3.03125 0.375 C 3.03125 1.109375 2.484375 1.671875 1.765625 1.671875 C 1.609375 1.671875 1.5 1.65625 1.234375 1.578125 L 1.234375 3.09375 C 1.546875 3.140625 1.71875 3.15625 1.953125 3.15625 C 2.46875 3.15625 3.0625 3.046875 3.421875 2.90625 C 3.96875 2.671875 4.21875 2.34375 4.546875 1.421875 L 7.75 -7.78125 Z M 5.671875 -7.78125 \"/>\n",
       "</symbol>\n",
       "<symbol overflow=\"visible\" id=\"glyph2-2\">\n",
       "<path style=\"stroke:none;\" d=\"\"/>\n",
       "</symbol>\n",
       "<symbol overflow=\"visible\" id=\"glyph2-3\">\n",
       "<path style=\"stroke:none;\" d=\"M 7.6875 -5.921875 L 0.71875 -5.921875 L 0.71875 -4.203125 L 7.6875 -4.203125 Z M 7.6875 -2.46875 L 0.71875 -2.46875 L 0.71875 -0.75 L 7.6875 -0.75 Z M 7.6875 -2.46875 \"/>\n",
       "</symbol>\n",
       "<symbol overflow=\"visible\" id=\"glyph2-4\">\n",
       "<path style=\"stroke:none;\" d=\"M 3.9375 -10.4375 C 2.84375 -10.4375 1.90625 -9.96875 1.28125 -9.125 C 0.6875 -8.328125 0.421875 -7.015625 0.421875 -5.046875 C 0.421875 -3.234375 0.65625 -1.953125 1.140625 -1.1875 C 1.75 -0.21875 2.734375 0.328125 3.9375 0.328125 C 5.046875 0.328125 5.953125 -0.109375 6.578125 -0.984375 C 7.15625 -1.75 7.453125 -3.078125 7.453125 -4.984375 C 7.453125 -6.859375 7.21875 -8.125 6.734375 -8.921875 C 6.125 -9.890625 5.125 -10.4375 3.9375 -10.4375 Z M 3.9375 -8.796875 C 4.453125 -8.796875 4.875 -8.515625 5.109375 -7.984375 C 5.3125 -7.546875 5.4375 -6.421875 5.4375 -5.03125 C 5.4375 -3.890625 5.3125 -2.734375 5.171875 -2.328125 C 4.9375 -1.734375 4.515625 -1.390625 3.9375 -1.390625 C 3.40625 -1.390625 3 -1.671875 2.75 -2.1875 C 2.546875 -2.625 2.4375 -3.703125 2.4375 -5.0625 C 2.4375 -6.25 2.546875 -7.421875 2.6875 -7.84375 C 2.921875 -8.453125 3.359375 -8.796875 3.9375 -8.796875 Z M 3.9375 -8.796875 \"/>\n",
       "</symbol>\n",
       "<symbol overflow=\"visible\" id=\"glyph2-5\">\n",
       "<path style=\"stroke:none;\" d=\"M 5.109375 -3.921875 L 7.65625 -7.78125 L 5.234375 -7.78125 L 3.96875 -5.4375 L 2.703125 -7.78125 L 0.28125 -7.78125 L 2.828125 -3.921875 L 0.234375 0 L 2.65625 0 L 3.96875 -2.421875 L 5.28125 0 L 7.703125 0 Z M 5.109375 -3.921875 \"/>\n",
       "</symbol>\n",
       "<symbol overflow=\"visible\" id=\"glyph2-6\">\n",
       "<path style=\"stroke:none;\" d=\"M 7.671875 -4.1875 L 5.0625 -4.1875 L 5.0625 -6.8125 L 3.34375 -6.8125 L 3.34375 -4.1875 L 0.71875 -4.1875 L 0.71875 -2.484375 L 3.34375 -2.484375 L 3.34375 0.140625 L 5.0625 0.140625 L 5.0625 -2.484375 L 7.671875 -2.484375 Z M 7.671875 -4.1875 \"/>\n",
       "</symbol>\n",
       "<symbol overflow=\"visible\" id=\"glyph2-7\">\n",
       "<path style=\"stroke:none;\" d=\"M 3.078125 -2.109375 L 0.921875 -2.109375 L 0.921875 0 L 3.078125 0 Z M 3.078125 -2.109375 \"/>\n",
       "</symbol>\n",
       "<symbol overflow=\"visible\" id=\"glyph2-8\">\n",
       "<path style=\"stroke:none;\" d=\"M 7.375 -1.796875 L 3.046875 -1.796875 C 3.3125 -2.34375 3.625 -2.640625 5.125 -3.734375 C 6.90625 -5.03125 7.421875 -5.8125 7.421875 -7.1875 C 7.421875 -9.15625 6.0625 -10.4375 3.921875 -10.4375 C 1.796875 -10.4375 0.5625 -9.171875 0.5625 -7.015625 C 0.5625 -6.921875 0.5625 -6.8125 0.578125 -6.65625 L 2.5 -6.65625 L 2.5 -6.984375 C 2.5 -8.125 3.046875 -8.78125 3.96875 -8.78125 C 4.859375 -8.78125 5.40625 -8.171875 5.40625 -7.140625 C 5.40625 -6.015625 5.046875 -5.578125 2.796875 -3.96875 C 1.0625 -2.796875 0.53125 -1.890625 0.4375 0 L 7.375 0 Z M 7.375 -1.796875 \"/>\n",
       "</symbol>\n",
       "<symbol overflow=\"visible\" id=\"glyph2-9\">\n",
       "<path style=\"stroke:none;\" d=\"M 3.125 -4.5625 C 3.828125 -4.5625 3.96875 -4.546875 4.3125 -4.46875 C 4.984375 -4.28125 5.421875 -3.6875 5.421875 -2.9375 C 5.421875 -2.046875 4.78125 -1.390625 3.90625 -1.390625 C 2.953125 -1.390625 2.4375 -1.9375 2.375 -3 L 0.421875 -3 C 0.4375 -0.953125 1.765625 0.328125 3.859375 0.328125 C 6.03125 0.328125 7.4375 -0.953125 7.4375 -2.9375 C 7.4375 -4.140625 6.921875 -4.90625 5.765625 -5.46875 C 6.71875 -6.0625 7.109375 -6.71875 7.109375 -7.65625 C 7.109375 -9.34375 5.828125 -10.4375 3.859375 -10.4375 C 2.6875 -10.4375 1.71875 -10.03125 1.140625 -9.28125 C 0.734375 -8.765625 0.546875 -8.078125 0.546875 -7.171875 L 0.546875 -7 L 2.421875 -7 C 2.4375 -7.546875 2.484375 -7.828125 2.578125 -8.078125 C 2.765625 -8.53125 3.234375 -8.796875 3.8125 -8.796875 C 4.625 -8.796875 5.078125 -8.3125 5.078125 -7.46875 C 5.078125 -6.4375 4.5 -5.921875 3.296875 -5.921875 L 3.125 -5.921875 Z M 3.125 -4.5625 \"/>\n",
       "</symbol>\n",
       "</g>\n",
       "<clipPath id=\"clip1\">\n",
       "  <path d=\"M 59.039062 68 L 474.757812 68 L 474.757812 427 L 59.039062 427 Z M 59.039062 68 \"/>\n",
       "</clipPath>\n",
       "</defs>\n",
       "<g id=\"surface185\">\n",
       "<rect x=\"0\" y=\"0\" width=\"504\" height=\"504\" style=\"fill:rgb(100%,100%,100%);fill-opacity:1;stroke:none;\"/>\n",
       "<path style=\"fill:none;stroke-width:0.75;stroke-linecap:round;stroke-linejoin:round;stroke:rgb(0%,0%,0%);stroke-opacity:1;stroke-miterlimit:10;\" d=\"M 77.101562 414.210938 C 77.101562 417.808594 71.699219 417.808594 71.699219 414.210938 C 71.699219 410.609375 77.101562 410.609375 77.101562 414.210938 \"/>\n",
       "<path style=\"fill:none;stroke-width:0.75;stroke-linecap:round;stroke-linejoin:round;stroke:rgb(0%,0%,0%);stroke-opacity:1;stroke-miterlimit:10;\" d=\"M 77.101562 415.742188 C 77.101562 419.339844 71.699219 419.339844 71.699219 415.742188 C 71.699219 412.140625 77.101562 412.140625 77.101562 415.742188 \"/>\n",
       "<path style=\"fill:none;stroke-width:0.75;stroke-linecap:round;stroke-linejoin:round;stroke:rgb(0%,0%,0%);stroke-opacity:1;stroke-miterlimit:10;\" d=\"M 77.101562 416.800781 C 77.101562 420.398438 71.699219 420.398438 71.699219 416.800781 C 71.699219 413.199219 77.101562 413.199219 77.101562 416.800781 \"/>\n",
       "<path style=\"fill:none;stroke-width:0.75;stroke-linecap:round;stroke-linejoin:round;stroke:rgb(0%,0%,0%);stroke-opacity:1;stroke-miterlimit:10;\" d=\"M 77.101562 413.609375 C 77.101562 417.207031 71.699219 417.207031 71.699219 413.609375 C 71.699219 410.007812 77.101562 410.007812 77.101562 413.609375 \"/>\n",
       "<path style=\"fill:none;stroke-width:0.75;stroke-linecap:round;stroke-linejoin:round;stroke:rgb(0%,0%,0%);stroke-opacity:1;stroke-miterlimit:10;\" d=\"M 112.007812 379.464844 C 112.007812 383.066406 106.609375 383.066406 106.609375 379.464844 C 106.609375 375.867188 112.007812 375.867188 112.007812 379.464844 \"/>\n",
       "<path style=\"fill:none;stroke-width:0.75;stroke-linecap:round;stroke-linejoin:round;stroke:rgb(0%,0%,0%);stroke-opacity:1;stroke-miterlimit:10;\" d=\"M 112.007812 381.066406 C 112.007812 384.664062 106.609375 384.664062 106.609375 381.066406 C 106.609375 377.464844 112.007812 377.464844 112.007812 381.066406 \"/>\n",
       "<path style=\"fill:none;stroke-width:0.75;stroke-linecap:round;stroke-linejoin:round;stroke:rgb(0%,0%,0%);stroke-opacity:1;stroke-miterlimit:10;\" d=\"M 112.007812 377.257812 C 112.007812 380.855469 106.609375 380.855469 106.609375 377.257812 C 106.609375 373.65625 112.007812 373.65625 112.007812 377.257812 \"/>\n",
       "<path style=\"fill:none;stroke-width:0.75;stroke-linecap:round;stroke-linejoin:round;stroke:rgb(0%,0%,0%);stroke-opacity:1;stroke-miterlimit:10;\" d=\"M 112.007812 381.472656 C 112.007812 385.070312 106.609375 385.070312 106.609375 381.472656 C 106.609375 377.871094 112.007812 377.871094 112.007812 381.472656 \"/>\n",
       "<path style=\"fill:none;stroke-width:0.75;stroke-linecap:round;stroke-linejoin:round;stroke:rgb(0%,0%,0%);stroke-opacity:1;stroke-miterlimit:10;\" d=\"M 146.917969 355.925781 C 146.917969 359.527344 141.519531 359.527344 141.519531 355.925781 C 141.519531 352.328125 146.917969 352.328125 146.917969 355.925781 \"/>\n",
       "<path style=\"fill:none;stroke-width:0.75;stroke-linecap:round;stroke-linejoin:round;stroke:rgb(0%,0%,0%);stroke-opacity:1;stroke-miterlimit:10;\" d=\"M 146.917969 340.613281 C 146.917969 344.214844 141.519531 344.214844 141.519531 340.613281 C 141.519531 337.015625 146.917969 337.015625 146.917969 340.613281 \"/>\n",
       "<path style=\"fill:none;stroke-width:0.75;stroke-linecap:round;stroke-linejoin:round;stroke:rgb(0%,0%,0%);stroke-opacity:1;stroke-miterlimit:10;\" d=\"M 146.917969 347.429688 C 146.917969 351.027344 141.519531 351.027344 141.519531 347.429688 C 141.519531 343.828125 146.917969 343.828125 146.917969 347.429688 \"/>\n",
       "<path style=\"fill:none;stroke-width:0.75;stroke-linecap:round;stroke-linejoin:round;stroke:rgb(0%,0%,0%);stroke-opacity:1;stroke-miterlimit:10;\" d=\"M 146.917969 343.074219 C 146.917969 346.675781 141.519531 346.675781 141.519531 343.074219 C 141.519531 339.476562 146.917969 339.476562 146.917969 343.074219 \"/>\n",
       "<path style=\"fill:none;stroke-width:0.75;stroke-linecap:round;stroke-linejoin:round;stroke:rgb(0%,0%,0%);stroke-opacity:1;stroke-miterlimit:10;\" d=\"M 181.828125 315.140625 C 181.828125 318.742188 176.425781 318.742188 176.425781 315.140625 C 176.425781 311.539062 181.828125 311.539062 181.828125 315.140625 \"/>\n",
       "<path style=\"fill:none;stroke-width:0.75;stroke-linecap:round;stroke-linejoin:round;stroke:rgb(0%,0%,0%);stroke-opacity:1;stroke-miterlimit:10;\" d=\"M 181.828125 308.175781 C 181.828125 311.777344 176.425781 311.777344 176.425781 308.175781 C 176.425781 304.578125 181.828125 304.578125 181.828125 308.175781 \"/>\n",
       "<path style=\"fill:none;stroke-width:0.75;stroke-linecap:round;stroke-linejoin:round;stroke:rgb(0%,0%,0%);stroke-opacity:1;stroke-miterlimit:10;\" d=\"M 181.828125 313.828125 C 181.828125 317.429688 176.425781 317.429688 176.425781 313.828125 C 176.425781 310.226562 181.828125 310.226562 181.828125 313.828125 \"/>\n",
       "<path style=\"fill:none;stroke-width:0.75;stroke-linecap:round;stroke-linejoin:round;stroke:rgb(0%,0%,0%);stroke-opacity:1;stroke-miterlimit:10;\" d=\"M 181.828125 319.339844 C 181.828125 322.9375 176.425781 322.9375 176.425781 319.339844 C 176.425781 315.738281 181.828125 315.738281 181.828125 319.339844 \"/>\n",
       "<path style=\"fill:none;stroke-width:0.75;stroke-linecap:round;stroke-linejoin:round;stroke:rgb(0%,0%,0%);stroke-opacity:1;stroke-miterlimit:10;\" d=\"M 216.738281 299.996094 C 216.738281 303.597656 211.335938 303.597656 211.335938 299.996094 C 211.335938 296.394531 216.738281 296.394531 216.738281 299.996094 \"/>\n",
       "<path style=\"fill:none;stroke-width:0.75;stroke-linecap:round;stroke-linejoin:round;stroke:rgb(0%,0%,0%);stroke-opacity:1;stroke-miterlimit:10;\" d=\"M 216.738281 307.421875 C 216.738281 311.019531 211.335938 311.019531 211.335938 307.421875 C 211.335938 303.820312 216.738281 303.820312 216.738281 307.421875 \"/>\n",
       "<path style=\"fill:none;stroke-width:0.75;stroke-linecap:round;stroke-linejoin:round;stroke:rgb(0%,0%,0%);stroke-opacity:1;stroke-miterlimit:10;\" d=\"M 216.738281 300.550781 C 216.738281 304.148438 211.335938 304.148438 211.335938 300.550781 C 211.335938 296.949219 216.738281 296.949219 216.738281 300.550781 \"/>\n",
       "<path style=\"fill:none;stroke-width:0.75;stroke-linecap:round;stroke-linejoin:round;stroke:rgb(0%,0%,0%);stroke-opacity:1;stroke-miterlimit:10;\" d=\"M 216.738281 300.285156 C 216.738281 303.882812 211.335938 303.882812 211.335938 300.285156 C 211.335938 296.683594 216.738281 296.683594 216.738281 300.285156 \"/>\n",
       "<path style=\"fill:none;stroke-width:0.75;stroke-linecap:round;stroke-linejoin:round;stroke:rgb(0%,0%,0%);stroke-opacity:1;stroke-miterlimit:10;\" d=\"M 251.644531 277.511719 C 251.644531 281.113281 246.246094 281.113281 246.246094 277.511719 C 246.246094 273.914062 251.644531 273.914062 251.644531 277.511719 \"/>\n",
       "<path style=\"fill:none;stroke-width:0.75;stroke-linecap:round;stroke-linejoin:round;stroke:rgb(0%,0%,0%);stroke-opacity:1;stroke-miterlimit:10;\" d=\"M 251.644531 271.410156 C 251.644531 275.011719 246.246094 275.011719 246.246094 271.410156 C 246.246094 267.8125 251.644531 267.8125 251.644531 271.410156 \"/>\n",
       "<path style=\"fill:none;stroke-width:0.75;stroke-linecap:round;stroke-linejoin:round;stroke:rgb(0%,0%,0%);stroke-opacity:1;stroke-miterlimit:10;\" d=\"M 251.644531 268.476562 C 251.644531 272.078125 246.246094 272.078125 246.246094 268.476562 C 246.246094 264.875 251.644531 264.875 251.644531 268.476562 \"/>\n",
       "<path style=\"fill:none;stroke-width:0.75;stroke-linecap:round;stroke-linejoin:round;stroke:rgb(0%,0%,0%);stroke-opacity:1;stroke-miterlimit:10;\" d=\"M 251.644531 279.285156 C 251.644531 282.886719 246.246094 282.886719 246.246094 279.285156 C 246.246094 275.6875 251.644531 275.6875 251.644531 279.285156 \"/>\n",
       "<path style=\"fill:none;stroke-width:0.75;stroke-linecap:round;stroke-linejoin:round;stroke:rgb(0%,0%,0%);stroke-opacity:1;stroke-miterlimit:10;\" d=\"M 286.554688 239.105469 C 286.554688 242.707031 281.15625 242.707031 281.15625 239.105469 C 281.15625 235.507812 286.554688 235.507812 286.554688 239.105469 \"/>\n",
       "<path style=\"fill:none;stroke-width:0.75;stroke-linecap:round;stroke-linejoin:round;stroke:rgb(0%,0%,0%);stroke-opacity:1;stroke-miterlimit:10;\" d=\"M 286.554688 235.375 C 286.554688 238.976562 281.15625 238.976562 281.15625 235.375 C 281.15625 231.777344 286.554688 231.777344 286.554688 235.375 \"/>\n",
       "<path style=\"fill:none;stroke-width:0.75;stroke-linecap:round;stroke-linejoin:round;stroke:rgb(0%,0%,0%);stroke-opacity:1;stroke-miterlimit:10;\" d=\"M 286.554688 233.65625 C 286.554688 237.257812 281.15625 237.257812 281.15625 233.65625 C 281.15625 230.058594 286.554688 230.058594 286.554688 233.65625 \"/>\n",
       "<path style=\"fill:none;stroke-width:0.75;stroke-linecap:round;stroke-linejoin:round;stroke:rgb(0%,0%,0%);stroke-opacity:1;stroke-miterlimit:10;\" d=\"M 286.554688 230.113281 C 286.554688 233.714844 281.15625 233.714844 281.15625 230.113281 C 281.15625 226.515625 286.554688 226.515625 286.554688 230.113281 \"/>\n",
       "<path style=\"fill:none;stroke-width:0.75;stroke-linecap:round;stroke-linejoin:round;stroke:rgb(0%,0%,0%);stroke-opacity:1;stroke-miterlimit:10;\" d=\"M 321.464844 196.367188 C 321.464844 199.96875 316.0625 199.96875 316.0625 196.367188 C 316.0625 192.769531 321.464844 192.769531 321.464844 196.367188 \"/>\n",
       "<path style=\"fill:none;stroke-width:0.75;stroke-linecap:round;stroke-linejoin:round;stroke:rgb(0%,0%,0%);stroke-opacity:1;stroke-miterlimit:10;\" d=\"M 321.464844 204.589844 C 321.464844 208.1875 316.0625 208.1875 316.0625 204.589844 C 316.0625 200.988281 321.464844 200.988281 321.464844 204.589844 \"/>\n",
       "<path style=\"fill:none;stroke-width:0.75;stroke-linecap:round;stroke-linejoin:round;stroke:rgb(0%,0%,0%);stroke-opacity:1;stroke-miterlimit:10;\" d=\"M 321.464844 201.925781 C 321.464844 205.527344 316.0625 205.527344 316.0625 201.925781 C 316.0625 198.328125 321.464844 198.328125 321.464844 201.925781 \"/>\n",
       "<path style=\"fill:none;stroke-width:0.75;stroke-linecap:round;stroke-linejoin:round;stroke:rgb(0%,0%,0%);stroke-opacity:1;stroke-miterlimit:10;\" d=\"M 321.464844 195.652344 C 321.464844 199.253906 316.0625 199.253906 316.0625 195.652344 C 316.0625 192.050781 321.464844 192.050781 321.464844 195.652344 \"/>\n",
       "<path style=\"fill:none;stroke-width:0.75;stroke-linecap:round;stroke-linejoin:round;stroke:rgb(0%,0%,0%);stroke-opacity:1;stroke-miterlimit:10;\" d=\"M 356.371094 166.125 C 356.371094 169.722656 350.972656 169.722656 350.972656 166.125 C 350.972656 162.523438 356.371094 162.523438 356.371094 166.125 \"/>\n",
       "<path style=\"fill:none;stroke-width:0.75;stroke-linecap:round;stroke-linejoin:round;stroke:rgb(0%,0%,0%);stroke-opacity:1;stroke-miterlimit:10;\" d=\"M 356.371094 171.566406 C 356.371094 175.164062 350.972656 175.164062 350.972656 171.566406 C 350.972656 167.964844 356.371094 167.964844 356.371094 171.566406 \"/>\n",
       "<path style=\"fill:none;stroke-width:0.75;stroke-linecap:round;stroke-linejoin:round;stroke:rgb(0%,0%,0%);stroke-opacity:1;stroke-miterlimit:10;\" d=\"M 356.371094 172.390625 C 356.371094 175.992188 350.972656 175.992188 350.972656 172.390625 C 350.972656 168.792969 356.371094 168.792969 356.371094 172.390625 \"/>\n",
       "<path style=\"fill:none;stroke-width:0.75;stroke-linecap:round;stroke-linejoin:round;stroke:rgb(0%,0%,0%);stroke-opacity:1;stroke-miterlimit:10;\" d=\"M 356.371094 180.957031 C 356.371094 184.554688 350.972656 184.554688 350.972656 180.957031 C 350.972656 177.355469 356.371094 177.355469 356.371094 180.957031 \"/>\n",
       "<path style=\"fill:none;stroke-width:0.75;stroke-linecap:round;stroke-linejoin:round;stroke:rgb(0%,0%,0%);stroke-opacity:1;stroke-miterlimit:10;\" d=\"M 391.28125 148.289062 C 391.28125 151.890625 385.882812 151.890625 385.882812 148.289062 C 385.882812 144.691406 391.28125 144.691406 391.28125 148.289062 \"/>\n",
       "<path style=\"fill:none;stroke-width:0.75;stroke-linecap:round;stroke-linejoin:round;stroke:rgb(0%,0%,0%);stroke-opacity:1;stroke-miterlimit:10;\" d=\"M 391.28125 140.5625 C 391.28125 144.160156 385.882812 144.160156 385.882812 140.5625 C 385.882812 136.960938 391.28125 136.960938 391.28125 140.5625 \"/>\n",
       "<path style=\"fill:none;stroke-width:0.75;stroke-linecap:round;stroke-linejoin:round;stroke:rgb(0%,0%,0%);stroke-opacity:1;stroke-miterlimit:10;\" d=\"M 391.28125 139.011719 C 391.28125 142.613281 385.882812 142.613281 385.882812 139.011719 C 385.882812 135.414062 391.28125 135.414062 391.28125 139.011719 \"/>\n",
       "<path style=\"fill:none;stroke-width:0.75;stroke-linecap:round;stroke-linejoin:round;stroke:rgb(0%,0%,0%);stroke-opacity:1;stroke-miterlimit:10;\" d=\"M 391.28125 140.390625 C 391.28125 143.988281 385.882812 143.988281 385.882812 140.390625 C 385.882812 136.789062 391.28125 136.789062 391.28125 140.390625 \"/>\n",
       "<path style=\"fill:none;stroke-width:0.75;stroke-linecap:round;stroke-linejoin:round;stroke:rgb(0%,0%,0%);stroke-opacity:1;stroke-miterlimit:10;\" d=\"M 426.191406 106.832031 C 426.191406 110.433594 420.789062 110.433594 420.789062 106.832031 C 420.789062 103.234375 426.191406 103.234375 426.191406 106.832031 \"/>\n",
       "<path style=\"fill:none;stroke-width:0.75;stroke-linecap:round;stroke-linejoin:round;stroke:rgb(0%,0%,0%);stroke-opacity:1;stroke-miterlimit:10;\" d=\"M 426.191406 111.175781 C 426.191406 114.773438 420.789062 114.773438 420.789062 111.175781 C 420.789062 107.574219 426.191406 107.574219 426.191406 111.175781 \"/>\n",
       "<path style=\"fill:none;stroke-width:0.75;stroke-linecap:round;stroke-linejoin:round;stroke:rgb(0%,0%,0%);stroke-opacity:1;stroke-miterlimit:10;\" d=\"M 426.191406 114.921875 C 426.191406 118.523438 420.789062 118.523438 420.789062 114.921875 C 420.789062 111.324219 426.191406 111.324219 426.191406 114.921875 \"/>\n",
       "<path style=\"fill:none;stroke-width:0.75;stroke-linecap:round;stroke-linejoin:round;stroke:rgb(0%,0%,0%);stroke-opacity:1;stroke-miterlimit:10;\" d=\"M 426.191406 111.726562 C 426.191406 115.328125 420.789062 115.328125 420.789062 111.726562 C 420.789062 108.128906 426.191406 108.128906 426.191406 111.726562 \"/>\n",
       "<path style=\"fill:none;stroke-width:0.75;stroke-linecap:round;stroke-linejoin:round;stroke:rgb(0%,0%,0%);stroke-opacity:1;stroke-miterlimit:10;\" d=\"M 461.101562 78.574219 C 461.101562 82.175781 455.699219 82.175781 455.699219 78.574219 C 455.699219 74.976562 461.101562 74.976562 461.101562 78.574219 \"/>\n",
       "<path style=\"fill:none;stroke-width:0.75;stroke-linecap:round;stroke-linejoin:round;stroke:rgb(0%,0%,0%);stroke-opacity:1;stroke-miterlimit:10;\" d=\"M 461.101562 81.632812 C 461.101562 85.234375 455.699219 85.234375 455.699219 81.632812 C 455.699219 78.03125 461.101562 78.03125 461.101562 81.632812 \"/>\n",
       "<path style=\"fill:none;stroke-width:0.75;stroke-linecap:round;stroke-linejoin:round;stroke:rgb(0%,0%,0%);stroke-opacity:1;stroke-miterlimit:10;\" d=\"M 461.101562 79.210938 C 461.101562 82.8125 455.699219 82.8125 455.699219 79.210938 C 455.699219 75.613281 461.101562 75.613281 461.101562 79.210938 \"/>\n",
       "<path style=\"fill:none;stroke-width:0.75;stroke-linecap:round;stroke-linejoin:round;stroke:rgb(0%,0%,0%);stroke-opacity:1;stroke-miterlimit:10;\" d=\"M 461.101562 72.800781 C 461.101562 76.398438 455.699219 76.398438 455.699219 72.800781 C 455.699219 69.199219 461.101562 69.199219 461.101562 72.800781 \"/>\n",
       "<path style=\"fill:none;stroke-width:0.75;stroke-linecap:round;stroke-linejoin:round;stroke:rgb(0%,0%,0%);stroke-opacity:1;stroke-miterlimit:10;\" d=\"M 91.855469 430.558594 L 440.945312 430.558594 \"/>\n",
       "<path style=\"fill:none;stroke-width:0.75;stroke-linecap:round;stroke-linejoin:round;stroke:rgb(0%,0%,0%);stroke-opacity:1;stroke-miterlimit:10;\" d=\"M 91.855469 430.558594 L 91.855469 437.761719 \"/>\n",
       "<path style=\"fill:none;stroke-width:0.75;stroke-linecap:round;stroke-linejoin:round;stroke:rgb(0%,0%,0%);stroke-opacity:1;stroke-miterlimit:10;\" d=\"M 161.671875 430.558594 L 161.671875 437.761719 \"/>\n",
       "<path style=\"fill:none;stroke-width:0.75;stroke-linecap:round;stroke-linejoin:round;stroke:rgb(0%,0%,0%);stroke-opacity:1;stroke-miterlimit:10;\" d=\"M 231.492188 430.558594 L 231.492188 437.761719 \"/>\n",
       "<path style=\"fill:none;stroke-width:0.75;stroke-linecap:round;stroke-linejoin:round;stroke:rgb(0%,0%,0%);stroke-opacity:1;stroke-miterlimit:10;\" d=\"M 301.308594 430.558594 L 301.308594 437.761719 \"/>\n",
       "<path style=\"fill:none;stroke-width:0.75;stroke-linecap:round;stroke-linejoin:round;stroke:rgb(0%,0%,0%);stroke-opacity:1;stroke-miterlimit:10;\" d=\"M 371.128906 430.558594 L 371.128906 437.761719 \"/>\n",
       "<path style=\"fill:none;stroke-width:0.75;stroke-linecap:round;stroke-linejoin:round;stroke:rgb(0%,0%,0%);stroke-opacity:1;stroke-miterlimit:10;\" d=\"M 440.945312 430.558594 L 440.945312 437.761719 \"/>\n",
       "<g style=\"fill:rgb(0%,0%,0%);fill-opacity:1;\">\n",
       "  <use xlink:href=\"#glyph0-1\" x=\"81.355469\" y=\"455.916016\"/>\n",
       "  <use xlink:href=\"#glyph0-2\" x=\"88.027344\" y=\"455.916016\"/>\n",
       "  <use xlink:href=\"#glyph0-2\" x=\"94.699219\" y=\"455.916016\"/>\n",
       "</g>\n",
       "<g style=\"fill:rgb(0%,0%,0%);fill-opacity:1;\">\n",
       "  <use xlink:href=\"#glyph0-3\" x=\"151.171875\" y=\"455.916016\"/>\n",
       "  <use xlink:href=\"#glyph0-2\" x=\"157.84375\" y=\"455.916016\"/>\n",
       "  <use xlink:href=\"#glyph0-2\" x=\"164.515625\" y=\"455.916016\"/>\n",
       "</g>\n",
       "<g style=\"fill:rgb(0%,0%,0%);fill-opacity:1;\">\n",
       "  <use xlink:href=\"#glyph0-4\" x=\"220.992188\" y=\"455.916016\"/>\n",
       "  <use xlink:href=\"#glyph0-2\" x=\"227.664062\" y=\"455.916016\"/>\n",
       "  <use xlink:href=\"#glyph0-2\" x=\"234.335938\" y=\"455.916016\"/>\n",
       "</g>\n",
       "<g style=\"fill:rgb(0%,0%,0%);fill-opacity:1;\">\n",
       "  <use xlink:href=\"#glyph0-5\" x=\"287.808594\" y=\"455.916016\"/>\n",
       "  <use xlink:href=\"#glyph0-2\" x=\"294.480469\" y=\"455.916016\"/>\n",
       "  <use xlink:href=\"#glyph0-2\" x=\"301.152344\" y=\"455.916016\"/>\n",
       "  <use xlink:href=\"#glyph0-2\" x=\"307.824219\" y=\"455.916016\"/>\n",
       "</g>\n",
       "<g style=\"fill:rgb(0%,0%,0%);fill-opacity:1;\">\n",
       "  <use xlink:href=\"#glyph0-5\" x=\"357.628906\" y=\"455.916016\"/>\n",
       "  <use xlink:href=\"#glyph0-6\" x=\"364.300781\" y=\"455.916016\"/>\n",
       "  <use xlink:href=\"#glyph0-2\" x=\"370.972656\" y=\"455.916016\"/>\n",
       "  <use xlink:href=\"#glyph0-2\" x=\"377.644531\" y=\"455.916016\"/>\n",
       "</g>\n",
       "<g style=\"fill:rgb(0%,0%,0%);fill-opacity:1;\">\n",
       "  <use xlink:href=\"#glyph0-5\" x=\"427.445312\" y=\"455.916016\"/>\n",
       "  <use xlink:href=\"#glyph0-1\" x=\"434.117188\" y=\"455.916016\"/>\n",
       "  <use xlink:href=\"#glyph0-2\" x=\"440.789062\" y=\"455.916016\"/>\n",
       "  <use xlink:href=\"#glyph0-2\" x=\"447.460938\" y=\"455.916016\"/>\n",
       "</g>\n",
       "<path style=\"fill:none;stroke-width:0.75;stroke-linecap:round;stroke-linejoin:round;stroke:rgb(0%,0%,0%);stroke-opacity:1;stroke-miterlimit:10;\" d=\"M 59.039062 378.53125 L 59.039062 93.273438 \"/>\n",
       "<path style=\"fill:none;stroke-width:0.75;stroke-linecap:round;stroke-linejoin:round;stroke:rgb(0%,0%,0%);stroke-opacity:1;stroke-miterlimit:10;\" d=\"M 59.039062 378.53125 L 51.839844 378.53125 \"/>\n",
       "<path style=\"fill:none;stroke-width:0.75;stroke-linecap:round;stroke-linejoin:round;stroke:rgb(0%,0%,0%);stroke-opacity:1;stroke-miterlimit:10;\" d=\"M 59.039062 283.445312 L 51.839844 283.445312 \"/>\n",
       "<path style=\"fill:none;stroke-width:0.75;stroke-linecap:round;stroke-linejoin:round;stroke:rgb(0%,0%,0%);stroke-opacity:1;stroke-miterlimit:10;\" d=\"M 59.039062 188.359375 L 51.839844 188.359375 \"/>\n",
       "<path style=\"fill:none;stroke-width:0.75;stroke-linecap:round;stroke-linejoin:round;stroke:rgb(0%,0%,0%);stroke-opacity:1;stroke-miterlimit:10;\" d=\"M 59.039062 93.273438 L 51.839844 93.273438 \"/>\n",
       "<g style=\"fill:rgb(0%,0%,0%);fill-opacity:1;\">\n",
       "  <use xlink:href=\"#glyph1-1\" x=\"41.197266\" y=\"390.53125\"/>\n",
       "  <use xlink:href=\"#glyph1-2\" x=\"41.197266\" y=\"383.859375\"/>\n",
       "  <use xlink:href=\"#glyph1-3\" x=\"41.197266\" y=\"380.523438\"/>\n",
       "  <use xlink:href=\"#glyph1-1\" x=\"41.197266\" y=\"373.851562\"/>\n",
       "</g>\n",
       "<g style=\"fill:rgb(0%,0%,0%);fill-opacity:1;\">\n",
       "  <use xlink:href=\"#glyph1-1\" x=\"41.197266\" y=\"295.445312\"/>\n",
       "  <use xlink:href=\"#glyph1-2\" x=\"41.197266\" y=\"288.773438\"/>\n",
       "  <use xlink:href=\"#glyph1-3\" x=\"41.197266\" y=\"285.4375\"/>\n",
       "  <use xlink:href=\"#glyph1-4\" x=\"41.197266\" y=\"278.765625\"/>\n",
       "</g>\n",
       "<g style=\"fill:rgb(0%,0%,0%);fill-opacity:1;\">\n",
       "  <use xlink:href=\"#glyph1-1\" x=\"41.197266\" y=\"200.359375\"/>\n",
       "  <use xlink:href=\"#glyph1-2\" x=\"41.197266\" y=\"193.6875\"/>\n",
       "  <use xlink:href=\"#glyph1-5\" x=\"41.197266\" y=\"190.351562\"/>\n",
       "  <use xlink:href=\"#glyph1-1\" x=\"41.197266\" y=\"183.679688\"/>\n",
       "</g>\n",
       "<g style=\"fill:rgb(0%,0%,0%);fill-opacity:1;\">\n",
       "  <use xlink:href=\"#glyph1-1\" x=\"41.197266\" y=\"105.273438\"/>\n",
       "  <use xlink:href=\"#glyph1-2\" x=\"41.197266\" y=\"98.601562\"/>\n",
       "  <use xlink:href=\"#glyph1-5\" x=\"41.197266\" y=\"95.265625\"/>\n",
       "  <use xlink:href=\"#glyph1-4\" x=\"41.197266\" y=\"88.59375\"/>\n",
       "</g>\n",
       "<path style=\"fill:none;stroke-width:0.75;stroke-linecap:round;stroke-linejoin:round;stroke:rgb(0%,0%,0%);stroke-opacity:1;stroke-miterlimit:10;\" d=\"M 59.039062 430.558594 L 473.761719 430.558594 L 473.761719 59.039062 L 59.039062 59.039062 L 59.039062 430.558594 \"/>\n",
       "<g style=\"fill:rgb(0%,0%,0%);fill-opacity:1;\">\n",
       "  <use xlink:href=\"#glyph0-7\" x=\"263.398438\" y=\"484.716797\"/>\n",
       "</g>\n",
       "<g style=\"fill:rgb(0%,0%,0%);fill-opacity:1;\">\n",
       "  <use xlink:href=\"#glyph1-6\" x=\"12.396484\" y=\"247.800781\"/>\n",
       "</g>\n",
       "<g clip-path=\"url(#clip1)\" clip-rule=\"nonzero\">\n",
       "<path style=\"fill:none;stroke-width:0.75;stroke-linecap:round;stroke-linejoin:round;stroke:rgb(0%,0%,0%);stroke-opacity:1;stroke-miterlimit:10;\" d=\"M 59.039062 426.382812 L 473.761719 68.660156 \"/>\n",
       "</g>\n",
       "<path style=\"fill:none;stroke-width:0.75;stroke-linecap:round;stroke-linejoin:round;stroke:rgb(0%,0%,0%);stroke-opacity:1;stroke-miterlimit:10;\" d=\"M 74.398438 409.371094 L 78.238281 406.113281 L 82.078125 402.851562 L 85.921875 399.59375 L 89.761719 396.335938 L 93.601562 393.074219 L 97.441406 389.816406 L 120.480469 370.246094 L 124.320312 366.980469 L 128.160156 363.71875 L 147.359375 347.390625 L 166.558594 331.042969 L 178.078125 321.222656 L 181.921875 317.949219 L 193.441406 308.117188 L 204.960938 298.273438 L 212.640625 291.703125 L 224.160156 281.835938 L 235.679688 271.957031 L 239.519531 268.65625 L 243.359375 265.359375 L 247.199219 262.058594 L 254.878906 255.449219 L 262.558594 248.832031 L 274.078125 238.894531 L 277.921875 235.574219 L 281.761719 232.257812 L 285.601562 228.933594 L 289.441406 225.613281 L 293.28125 222.285156 L 297.121094 218.960938 L 300.960938 215.628906 L 304.800781 212.300781 L 308.640625 208.96875 L 320.160156 198.960938 L 327.839844 192.28125 L 343.199219 178.90625 L 350.878906 172.210938 L 358.558594 165.507812 L 362.398438 162.160156 L 366.238281 158.804688 L 370.078125 155.453125 L 373.921875 152.097656 L 385.441406 142.03125 L 389.28125 138.671875 L 393.121094 135.316406 L 404.640625 125.238281 L 408.480469 121.875 L 412.320312 118.515625 L 416.160156 115.152344 L 420 111.792969 L 435.359375 98.339844 L 439.199219 94.972656 L 446.878906 88.246094 L 454.558594 81.511719 L 458.398438 78.148438 \"/>\n",
       "<path style=\"fill:none;stroke-width:0.75;stroke-linecap:round;stroke-linejoin:round;stroke:rgb(0%,0%,0%);stroke-opacity:1;stroke-miterlimit:10;\" d=\"M 74.398438 416.898438 L 82.078125 410.164062 L 85.921875 406.800781 L 89.761719 403.433594 L 97.441406 396.707031 L 101.28125 393.339844 L 108.960938 386.613281 L 112.800781 383.253906 L 120.480469 376.527344 L 128.160156 369.808594 L 132 366.445312 L 135.839844 363.085938 L 139.679688 359.730469 L 147.359375 353.011719 L 162.71875 339.589844 L 178.078125 326.183594 L 181.921875 322.835938 L 185.761719 319.484375 L 189.601562 316.140625 L 193.441406 312.792969 L 204.960938 302.761719 L 212.640625 296.082031 L 220.320312 289.410156 L 224.160156 286.078125 L 228 282.742188 L 239.519531 272.757812 L 247.199219 266.109375 L 254.878906 259.46875 L 262.558594 252.835938 L 270.238281 246.210938 L 274.078125 242.902344 L 277.921875 239.59375 L 285.601562 232.984375 L 289.441406 229.683594 L 300.960938 219.792969 L 308.640625 213.207031 L 320.160156 203.339844 L 327.839844 196.769531 L 335.519531 190.207031 L 339.359375 186.929688 L 343.199219 183.648438 L 350.878906 177.09375 L 366.238281 164 L 370.078125 160.730469 L 373.921875 157.460938 L 381.601562 150.921875 L 385.441406 147.65625 L 389.28125 144.386719 L 404.640625 131.324219 L 408.480469 128.0625 L 412.320312 124.796875 L 435.359375 105.226562 L 439.199219 101.96875 L 443.039062 98.707031 L 450.71875 92.191406 L 454.558594 88.929688 L 458.398438 85.671875 \"/>\n",
       "<path style=\"fill:none;stroke-width:0.75;stroke-linecap:round;stroke-linejoin:round;stroke:rgb(0%,0%,0%);stroke-opacity:1;stroke-dasharray:0.75,2.25;stroke-miterlimit:10;\" d=\"M 74.398438 398.773438 L 78.238281 395.472656 L 82.078125 392.175781 L 85.921875 388.875 L 89.761719 385.578125 L 93.601562 382.277344 L 97.441406 378.980469 L 124.320312 355.875 L 128.160156 352.570312 L 135.839844 345.96875 L 139.679688 342.664062 L 143.519531 339.363281 L 151.199219 332.753906 L 155.039062 329.453125 L 178.078125 309.625 L 181.921875 306.316406 L 189.601562 299.707031 L 193.441406 296.398438 L 197.28125 293.09375 L 208.800781 283.167969 L 212.640625 279.863281 L 224.160156 269.9375 L 228 266.625 L 235.679688 260.007812 L 239.519531 256.695312 L 243.359375 253.386719 L 247.199219 250.074219 L 251.039062 246.765625 L 258.71875 240.140625 L 262.558594 236.832031 L 274.078125 226.894531 L 277.921875 223.582031 L 281.761719 220.265625 L 289.441406 213.640625 L 293.28125 210.324219 L 297.121094 207.011719 L 300.960938 203.695312 L 304.800781 200.382812 L 339.359375 170.535156 L 343.199219 167.214844 L 347.039062 163.898438 L 350.878906 160.578125 L 354.71875 157.261719 L 366.238281 147.300781 L 370.078125 143.984375 L 373.921875 140.664062 L 377.761719 137.34375 L 381.601562 134.019531 L 393.121094 124.058594 L 396.960938 120.734375 L 400.800781 117.414062 L 404.640625 114.089844 L 408.480469 110.769531 L 420 100.796875 L 423.839844 97.476562 L 435.359375 87.503906 L 439.199219 84.175781 L 446.878906 77.527344 L 450.71875 74.199219 L 454.558594 70.875 L 458.398438 67.546875 \"/>\n",
       "<path style=\"fill:none;stroke-width:0.75;stroke-linecap:round;stroke-linejoin:round;stroke:rgb(0%,0%,0%);stroke-opacity:1;stroke-dasharray:0.75,2.25;stroke-miterlimit:10;\" d=\"M 74.398438 427.496094 L 78.238281 424.167969 L 82.078125 420.84375 L 85.921875 417.515625 L 124.320312 384.273438 L 128.160156 380.953125 L 132 377.628906 L 135.839844 374.308594 L 139.679688 370.984375 L 178.078125 337.78125 L 181.921875 334.464844 L 185.761719 331.144531 L 193.441406 324.511719 L 197.28125 321.191406 L 228 294.660156 L 231.839844 291.347656 L 235.679688 288.03125 L 239.519531 284.71875 L 243.359375 281.402344 L 254.878906 271.464844 L 258.71875 268.148438 L 266.398438 261.523438 L 270.238281 258.214844 L 274.078125 254.902344 L 277.921875 251.589844 L 281.761719 248.277344 L 285.601562 244.96875 L 289.441406 241.65625 L 293.28125 238.347656 L 297.121094 235.035156 L 331.679688 205.257812 L 335.519531 201.953125 L 339.359375 198.644531 L 343.199219 195.339844 L 347.039062 192.03125 L 354.71875 185.421875 L 358.558594 182.113281 L 370.078125 172.199219 L 373.921875 168.894531 L 377.761719 165.589844 L 381.601562 162.289062 L 389.28125 155.679688 L 393.121094 152.378906 L 396.960938 149.074219 L 404.640625 142.472656 L 408.480469 139.167969 L 431.519531 119.363281 L 435.359375 116.066406 L 443.039062 109.464844 L 446.878906 106.167969 L 450.71875 102.867188 L 454.558594 99.570312 L 458.398438 96.269531 \"/>\n",
       "<g style=\"fill:rgb(0%,0%,0%);fill-opacity:1;\">\n",
       "  <use xlink:href=\"#glyph2-1\" x=\"217.898438\" y=\"34.116211\"/>\n",
       "  <use xlink:href=\"#glyph2-2\" x=\"225.908203\" y=\"34.116211\"/>\n",
       "  <use xlink:href=\"#glyph2-3\" x=\"229.913086\" y=\"34.116211\"/>\n",
       "  <use xlink:href=\"#glyph2-2\" x=\"238.326172\" y=\"34.116211\"/>\n",
       "  <use xlink:href=\"#glyph2-2\" x=\"242.331055\" y=\"34.116211\"/>\n",
       "  <use xlink:href=\"#glyph2-4\" x=\"246.335938\" y=\"34.116211\"/>\n",
       "  <use xlink:href=\"#glyph2-2\" x=\"254.345703\" y=\"34.116211\"/>\n",
       "  <use xlink:href=\"#glyph2-5\" x=\"258.350586\" y=\"34.116211\"/>\n",
       "  <use xlink:href=\"#glyph2-2\" x=\"266.360352\" y=\"34.116211\"/>\n",
       "  <use xlink:href=\"#glyph2-2\" x=\"270.365234\" y=\"34.116211\"/>\n",
       "  <use xlink:href=\"#glyph2-6\" x=\"274.370117\" y=\"34.116211\"/>\n",
       "  <use xlink:href=\"#glyph2-2\" x=\"282.783203\" y=\"34.116211\"/>\n",
       "  <use xlink:href=\"#glyph2-4\" x=\"286.788086\" y=\"34.116211\"/>\n",
       "  <use xlink:href=\"#glyph2-7\" x=\"294.797852\" y=\"34.116211\"/>\n",
       "  <use xlink:href=\"#glyph2-8\" x=\"298.802734\" y=\"34.116211\"/>\n",
       "  <use xlink:href=\"#glyph2-9\" x=\"306.8125\" y=\"34.116211\"/>\n",
       "</g>\n",
       "</g>\n",
       "</svg>\n"
      ],
      "text/plain": [
       "Plot with title “y =  0 x  + 0.23”"
      ]
     },
     "metadata": {
      "image/svg+xml": {
       "isolated": true
      }
     },
     "output_type": "display_data"
    }
   ],
   "source": [
    "simple.lm(x54,y54,show.ci=TRUE, conf.level=0.95)\n"
   ]
  },
  {
   "cell_type": "code",
   "execution_count": null,
   "metadata": {
    "collapsed": true
   },
   "outputs": [],
   "source": []
  }
 ],
 "metadata": {
  "kernelspec": {
   "display_name": "R",
   "language": "R",
   "name": "ir"
  },
  "language_info": {
   "codemirror_mode": "r",
   "file_extension": ".r",
   "mimetype": "text/x-r-source",
   "name": "R",
   "pygments_lexer": "r",
   "version": "3.2.4"
  }
 },
 "nbformat": 4,
 "nbformat_minor": 0
}
