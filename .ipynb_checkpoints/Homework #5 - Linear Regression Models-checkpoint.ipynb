{
 "cells": [
  {
   "cell_type": "markdown",
   "metadata": {},
   "source": [
    "# Hmwk #5 - Regression Analysis"
   ]
  },
  {
   "cell_type": "markdown",
   "metadata": {},
   "source": [
    "## Problem #1 - Trees"
   ]
  },
  {
   "cell_type": "markdown",
   "metadata": {},
   "source": [
    "Foresters want to measure the volume of a tree in order to estimate how much lumber they would get for that tree. Knowing the girth and height of the tree, one could apply a cylinder approximation, but the tree does not have a uniform girth along its entire length -- the tree gets much smaller at the top. The UsingR library has a data set \"trees\", that contains a set of measurements of the girth and height of a tree. Use the library to assess a linear model. For example, you might try:"
   ]
  },
  {
   "cell_type": "code",
   "execution_count": 2,
   "metadata": {
    "collapsed": false
   },
   "outputs": [
    {
     "name": "stderr",
     "output_type": "stream",
     "text": [
      "Loading required package: MASS\n",
      "Loading required package: HistData\n",
      "Loading required package: Hmisc\n",
      "Loading required package: lattice\n",
      "Loading required package: survival\n",
      "Loading required package: splines\n",
      "Loading required package: Formula\n",
      "Loading required package: ggplot2\n",
      "\n",
      "Attaching package: ‘Hmisc’\n",
      "\n",
      "The following objects are masked from ‘package:base’:\n",
      "\n",
      "    format.pval, round.POSIXt, trunc.POSIXt, units\n",
      "\n",
      "\n",
      "Attaching package: ‘UsingR’\n",
      "\n",
      "The following object is masked from ‘package:survival’:\n",
      "\n",
      "    cancer\n",
      "\n"
     ]
    },
    {
     "data": {
      "text/plain": [
       "     Girth           Height       Volume     \n",
       " Min.   : 8.30   Min.   :63   Min.   :10.20  \n",
       " 1st Qu.:11.05   1st Qu.:72   1st Qu.:19.40  \n",
       " Median :12.90   Median :76   Median :24.20  \n",
       " Mean   :13.25   Mean   :76   Mean   :30.17  \n",
       " 3rd Qu.:15.25   3rd Qu.:80   3rd Qu.:37.30  \n",
       " Max.   :20.60   Max.   :87   Max.   :77.00  "
      ]
     },
     "execution_count": 2,
     "metadata": {},
     "output_type": "execute_result"
    }
   ],
   "source": [
    "library(UsingR)\n",
    "summary(trees)"
   ]
  },
  {
   "cell_type": "markdown",
   "metadata": {},
   "source": [
    "** If we look at the regression model **"
   ]
  },
  {
   "cell_type": "code",
   "execution_count": 3,
   "metadata": {
    "collapsed": false
   },
   "outputs": [
    {
     "data": {
      "text/plain": [
       "\n",
       "Call:\n",
       "lm(formula = Volume ~ Height + Girth, data = trees)\n",
       "\n",
       "Residuals:\n",
       "    Min      1Q  Median      3Q     Max \n",
       "-6.4065 -2.6493 -0.2876  2.2003  8.4847 \n",
       "\n",
       "Coefficients:\n",
       "            Estimate Std. Error t value Pr(>|t|)    \n",
       "(Intercept) -57.9877     8.6382  -6.713 2.75e-07 ***\n",
       "Height        0.3393     0.1302   2.607   0.0145 *  \n",
       "Girth         4.7082     0.2643  17.816  < 2e-16 ***\n",
       "---\n",
       "Signif. codes:  0 ‘***’ 0.001 ‘**’ 0.01 ‘*’ 0.05 ‘.’ 0.1 ‘ ’ 1\n",
       "\n",
       "Residual standard error: 3.882 on 28 degrees of freedom\n",
       "Multiple R-squared:  0.948,\tAdjusted R-squared:  0.9442 \n",
       "F-statistic:   255 on 2 and 28 DF,  p-value: < 2.2e-16\n"
      ]
     },
     "execution_count": 3,
     "metadata": {},
     "output_type": "execute_result"
    }
   ],
   "source": [
    "m = lm(Volume ~ Height + Girth, data=trees)\n",
    "summary(m)"
   ]
  },
  {
   "cell_type": "markdown",
   "metadata": {},
   "source": [
    "This provides a model, but doesn't say if it's any good. Do the following using R -- i.e. use the output of the 'lm' linear model where possible. Show your work."
   ]
  },
  {
   "cell_type": "markdown",
   "metadata": {},
   "source": [
    "### What is the R^2 for this model"
   ]
  },
  {
   "cell_type": "code",
   "execution_count": 4,
   "metadata": {
    "collapsed": false
   },
   "outputs": [
    {
     "name": "stdout",
     "output_type": "stream",
     "text": [
      "[1] \"R2 value = \"\n"
     ]
    },
    {
     "data": {
      "text/html": [
       "0.947950037781675"
      ],
      "text/latex": [
       "0.947950037781675"
      ],
      "text/markdown": [
       "0.947950037781675"
      ],
      "text/plain": [
       "[1] 0.94795"
      ]
     },
     "execution_count": 4,
     "metadata": {},
     "output_type": "execute_result"
    }
   ],
   "source": [
    "print(\"R2 value = \")\n",
    "summary(m)$r.squared"
   ]
  },
  {
   "cell_type": "markdown",
   "metadata": {},
   "source": [
    "### Compute the 95% confidence interval for the Height parameter \n",
    "(**nb:** you're being asked to calculate the CI of the parameter from the multi-linear model, not the CI of the Height data itself). To do this, you would use the standard error (shown in the summary of the linear model -- e.g. 0.1302 for parameter Height) for each parameter -- this is the standard error for that parameter derived from the MSE as described in the slides concerning multi-linear regression. You would then conduct the T-distribution using that standard error with n-k-1 degrees of freedom. See the slides on linear regression."
   ]
  },
  {
   "cell_type": "code",
   "execution_count": 5,
   "metadata": {
    "collapsed": false
   },
   "outputs": [
    {
     "name": "stdout",
     "output_type": "stream",
     "text": [
      "[1] \"95 CI for height +- \"\n"
     ]
    },
    {
     "data": {
      "text/html": [
       "0.605203873810421"
      ],
      "text/latex": [
       "0.605203873810421"
      ],
      "text/markdown": [
       "0.605203873810421"
      ],
      "text/plain": [
       "[1] 0.6052039"
      ]
     },
     "execution_count": 5,
     "metadata": {},
     "output_type": "execute_result"
    },
    {
     "data": {
      "text/html": [
       "0.0733961261895788"
      ],
      "text/latex": [
       "0.0733961261895788"
      ],
      "text/markdown": [
       "0.0733961261895788"
      ],
      "text/plain": [
       "[1] 0.07339613"
      ]
     },
     "execution_count": 5,
     "metadata": {},
     "output_type": "execute_result"
    }
   ],
   "source": [
    "n <- length(trees$Height)\n",
    "t_val <- qt(.975, n-1)\n",
    "h_est <- 0.3393\n",
    "h_std <- 0.1302\n",
    "#estimate +- t*std\n",
    "print(\"95 CI for height +- \")\n",
    "(h_est + t_val*h_std)\n",
    "(h_est - t_val*h_std)"
   ]
  },
  {
   "cell_type": "markdown",
   "metadata": {},
   "source": [
    "### Compute the 95% confidence interval for the Girth parameter \n",
    "(**nb:** as above). Verify your value using the **confint** function in R."
   ]
  },
  {
   "cell_type": "code",
   "execution_count": 6,
   "metadata": {
    "collapsed": false
   },
   "outputs": [
    {
     "name": "stdout",
     "output_type": "stream",
     "text": [
      "[1] \"95 CI for girth +- \"\n"
     ]
    },
    {
     "data": {
      "text/html": [
       "5.24797261020042"
      ],
      "text/latex": [
       "5.24797261020042"
      ],
      "text/markdown": [
       "5.24797261020042"
      ],
      "text/plain": [
       "[1] 5.247973"
      ]
     },
     "execution_count": 6,
     "metadata": {},
     "output_type": "execute_result"
    },
    {
     "data": {
      "text/html": [
       "4.16842738979958"
      ],
      "text/latex": [
       "4.16842738979958"
      ],
      "text/markdown": [
       "4.16842738979958"
      ],
      "text/plain": [
       "[1] 4.168427"
      ]
     },
     "execution_count": 6,
     "metadata": {},
     "output_type": "execute_result"
    },
    {
     "data": {
      "text/html": [
       "<table>\n",
       "<thead><tr><th></th><th scope=col>2.5 %</th><th scope=col>97.5 %</th></tr></thead>\n",
       "<tbody>\n",
       "\t<tr><th scope=row>(Intercept)</th><td>-75.68226</td><td>-40.29306</td></tr>\n",
       "\t<tr><th scope=row>Height</th><td>0.07264863</td><td>0.60585384</td></tr>\n",
       "\t<tr><th scope=row>Girth</th><td>4.166839</td><td>5.249482</td></tr>\n",
       "</tbody>\n",
       "</table>\n"
      ],
      "text/latex": [
       "\\begin{tabular}{r|ll}\n",
       "  & 2.5 % & 97.5 %\\\\\n",
       "\\hline\n",
       "\t(Intercept) & -75.68226 & -40.29306\\\\\n",
       "\tHeight & 0.07264863 & 0.60585384\\\\\n",
       "\tGirth & 4.166839 & 5.249482\\\\\n",
       "\\end{tabular}\n"
      ],
      "text/markdown": [
       "1. -75.6822624733068\n",
       "2. 0.0726486261853793\n",
       "3. 4.16683898975583\n",
       "4. -40.293055363455\n",
       "5. 0.605853842304022\n",
       "6. 5.24948201627919\n",
       "\n",
       "\n"
      ],
      "text/plain": [
       "                   2.5 %      97.5 %\n",
       "(Intercept) -75.68226247 -40.2930554\n",
       "Height        0.07264863   0.6058538\n",
       "Girth         4.16683899   5.2494820"
      ]
     },
     "execution_count": 6,
     "metadata": {},
     "output_type": "execute_result"
    }
   ],
   "source": [
    "n <- length(trees$Height)\n",
    "t_val <- qt(.975, n-1)\n",
    "g_est <- 4.7082\n",
    "g_std <- 0.2643\n",
    "#estimate +- t*std\n",
    "print(\"95 CI for girth +- \")\n",
    "(g_est + t_val*g_std)\n",
    "(g_est - t_val*g_std)\n",
    "\n",
    "#Check work\n",
    "confint(m, ,.95)"
   ]
  },
  {
   "cell_type": "markdown",
   "metadata": {},
   "source": [
    "### Does the Height parameter statistically equal zero? Does the Girth?"
   ]
  },
  {
   "cell_type": "code",
   "execution_count": 7,
   "metadata": {
    "collapsed": false
   },
   "outputs": [
    {
     "name": "stdout",
     "output_type": "stream",
     "text": [
      "[1] \"The tvalues for height and girth are 2.6 and 17.8. t with 28dof is 2.05.\"\n",
      "[1] \"Thus neither are statistically equal to zero.\"\n"
     ]
    }
   ],
   "source": [
    "print(\"The tvalues for height and girth are 2.6 and 17.8. t with 28dof is 2.05.\")\n",
    "print(\"Thus neither are statistically equal to zero.\")"
   ]
  },
  {
   "cell_type": "markdown",
   "metadata": {},
   "source": [
    "### Complete this sentence:\n",
    "\"For every unit increase in Girth, the Volume increases by ______ and for every unit increase in Height, the Volume increases by ______\""
   ]
  },
  {
   "cell_type": "code",
   "execution_count": 8,
   "metadata": {
    "collapsed": false
   },
   "outputs": [
    {
     "data": {
      "text/plain": [
       "\n",
       "Call:\n",
       "lm(formula = Volume ~ Height + Girth, data = trees)\n",
       "\n",
       "Coefficients:\n",
       "(Intercept)       Height        Girth  \n",
       "   -57.9877       0.3393       4.7082  \n"
      ]
     },
     "execution_count": 8,
     "metadata": {},
     "output_type": "execute_result"
    },
    {
     "name": "stdout",
     "output_type": "stream",
     "text": [
      "[1] \"For every unit in Girth, Volume increases by :\"\n"
     ]
    },
    {
     "data": {
      "text/html": [
       "4.7082"
      ],
      "text/latex": [
       "4.7082"
      ],
      "text/markdown": [
       "4.7082"
      ],
      "text/plain": [
       "[1] 4.7082"
      ]
     },
     "execution_count": 8,
     "metadata": {},
     "output_type": "execute_result"
    },
    {
     "name": "stdout",
     "output_type": "stream",
     "text": [
      "[1] \"for every unit in Height, the Volume increases by :\"\n"
     ]
    },
    {
     "data": {
      "text/html": [
       "0.3393"
      ],
      "text/latex": [
       "0.3393"
      ],
      "text/markdown": [
       "0.3393"
      ],
      "text/plain": [
       "[1] 0.3393"
      ]
     },
     "execution_count": 8,
     "metadata": {},
     "output_type": "execute_result"
    }
   ],
   "source": [
    "(m)\n",
    "print(\"For every unit in Girth, Volume increases by :\")\n",
    "(4.7082)\n",
    "print(\"for every unit in Height, the Volume increases by :\")\n",
    "(0.3393)"
   ]
  },
  {
   "cell_type": "markdown",
   "metadata": {},
   "source": [
    "## Problem #2 - Body Fat"
   ]
  },
  {
   "cell_type": "code",
   "execution_count": 9,
   "metadata": {
    "collapsed": false
   },
   "outputs": [
    {
     "data": {
      "text/plain": [
       "      case           body.fat     body.fat.siri      density     \n",
       " Min.   :  1.00   Min.   : 0.00   Min.   : 0.00   Min.   :0.995  \n",
       " 1st Qu.: 63.75   1st Qu.:12.80   1st Qu.:12.47   1st Qu.:1.041  \n",
       " Median :126.50   Median :19.00   Median :19.20   Median :1.055  \n",
       " Mean   :126.50   Mean   :18.94   Mean   :19.15   Mean   :1.056  \n",
       " 3rd Qu.:189.25   3rd Qu.:24.60   3rd Qu.:25.30   3rd Qu.:1.070  \n",
       " Max.   :252.00   Max.   :45.10   Max.   :47.50   Max.   :1.109  \n",
       "      age            weight          height           BMI       \n",
       " Min.   :22.00   Min.   :118.5   Min.   :29.50   Min.   :18.10  \n",
       " 1st Qu.:35.75   1st Qu.:159.0   1st Qu.:68.25   1st Qu.:23.10  \n",
       " Median :43.00   Median :176.5   Median :70.00   Median :25.05  \n",
       " Mean   :44.88   Mean   :178.9   Mean   :70.15   Mean   :25.44  \n",
       " 3rd Qu.:54.00   3rd Qu.:197.0   3rd Qu.:72.25   3rd Qu.:27.32  \n",
       " Max.   :81.00   Max.   :363.1   Max.   :77.75   Max.   :48.90  \n",
       "    ffweight          neck           chest           abdomen      \n",
       " Min.   :105.9   Min.   :31.10   Min.   : 79.30   Min.   : 69.40  \n",
       " 1st Qu.:131.3   1st Qu.:36.40   1st Qu.: 94.35   1st Qu.: 84.58  \n",
       " Median :141.6   Median :38.00   Median : 99.65   Median : 90.95  \n",
       " Mean   :143.7   Mean   :37.99   Mean   :100.82   Mean   : 92.56  \n",
       " 3rd Qu.:153.9   3rd Qu.:39.42   3rd Qu.:105.38   3rd Qu.: 99.33  \n",
       " Max.   :240.5   Max.   :51.20   Max.   :136.20   Max.   :148.10  \n",
       "      hip            thigh            knee           ankle          bicep      \n",
       " Min.   : 85.0   Min.   :47.20   Min.   :33.00   Min.   :19.1   Min.   :24.80  \n",
       " 1st Qu.: 95.5   1st Qu.:56.00   1st Qu.:36.98   1st Qu.:22.0   1st Qu.:30.20  \n",
       " Median : 99.3   Median :59.00   Median :38.50   Median :22.8   Median :32.05  \n",
       " Mean   : 99.9   Mean   :59.41   Mean   :38.59   Mean   :23.1   Mean   :32.27  \n",
       " 3rd Qu.:103.5   3rd Qu.:62.35   3rd Qu.:39.92   3rd Qu.:24.0   3rd Qu.:34.33  \n",
       " Max.   :147.7   Max.   :87.30   Max.   :49.10   Max.   :33.9   Max.   :45.00  \n",
       "    forearm          wrist      \n",
       " Min.   :21.00   Min.   :15.80  \n",
       " 1st Qu.:27.30   1st Qu.:17.60  \n",
       " Median :28.70   Median :18.30  \n",
       " Mean   :28.66   Mean   :18.23  \n",
       " 3rd Qu.:30.00   3rd Qu.:18.80  \n",
       " Max.   :34.90   Max.   :21.40  "
      ]
     },
     "execution_count": 9,
     "metadata": {},
     "output_type": "execute_result"
    }
   ],
   "source": [
    "summary(fat)"
   ]
  },
  {
   "cell_type": "markdown",
   "metadata": {},
   "source": [
    "The Body Mass Index (BMI) is a model to predict the percentage of body fat based on your weight and height. The VMI is defined as the ratio of weight (in kilograms) to the square of height (in metres). A BMI of 18.5 to 25 is considered \"healthy\", a BMI of 25 to 30 is \"overweight\" and a BMI over 30 is \"obese\". The dataset 'fat' from UsingR contains 19 factors. The true body fat is body.fat and BMI field is the BMI.\n",
    "\n"
   ]
  },
  {
   "cell_type": "markdown",
   "metadata": {},
   "source": [
    "### Using the 'fat' data set, build a linear model\n",
    "of the body.fat predicted by BMI.\n",
    "Describe the linear model -- what are the intercept and slope.\n",
    "What is the $r^2$ of that model?\n"
   ]
  },
  {
   "cell_type": "code",
   "execution_count": 10,
   "metadata": {
    "collapsed": false
   },
   "outputs": [
    {
     "data": {
      "text/plain": [
       "\n",
       "Call:\n",
       "lm(formula = body.fat ~ BMI, data = fat)\n",
       "\n",
       "Coefficients:\n",
       "(Intercept)          BMI  \n",
       "    -20.405        1.547  \n"
      ]
     },
     "execution_count": 10,
     "metadata": {},
     "output_type": "execute_result"
    },
    {
     "data": {
      "text/html": [
       "0.529975533278187"
      ],
      "text/latex": [
       "0.529975533278187"
      ],
      "text/markdown": [
       "0.529975533278187"
      ],
      "text/plain": [
       "[1] 0.5299755"
      ]
     },
     "execution_count": 10,
     "metadata": {},
     "output_type": "execute_result"
    }
   ],
   "source": [
    "(fatty.lm=lm(body.fat~BMI,data=fat))\n",
    "summary(fatty.lm)$r.squared "
   ]
  },
  {
   "cell_type": "markdown",
   "metadata": {},
   "source": [
    "### Come up with a minimal model that predicts body.fat using the other factors with an R2 of at least 0.72\n",
    "We will use these different factors to come up with a minimal model that predicts body.fat using the other factors with an R2 of at least 0.72. Each factor in the final model should be significant at the 95% level -- this means that the confidence interval of the parameter at the 95% confidence level should not include zero. \n",
    "\n",
    "Include your description showing both your final result and the process by which you achieve that result. Your model shouldn't use the \"density\" or \"body.fat.siri\" factors, as those are the \"gold standard\" measurements used to calculate body fat (using a dunk tank). I'm not certain what \"ffweight\" is, but don't use that either.\n",
    "\n",
    "You may want to understand the \"p-value\" for problem - basically, the p-value is the probability of observing a value at least as large as the \"t-value\" (which is the estimate / std. error). Effectively, this is providing a way to determine if that value is statistically equal to zero.\n",
    "\n",
    "You should describe the process you use, not just the end result. You should also insure that the linear model is valid, meaning that the predictors are not correlated, etc. Wikipedia has a good article on such \"stepwise refinement\" mechanisms [ http://en.wikipedia.org/wiki/Stepwise_regression ]. See also the discussion on page 125 of the book by Faraway on Practical Regression Analysis using R (on the couse web page or http://cran.r-project.org/doc/contrib/Faraway-PRA.pdf). They describe a \"backward\" and \"forward\" mechanism where you either start with all terms & toss some away or start adding terms to a null model."
   ]
  },
  {
   "cell_type": "code",
   "execution_count": 11,
   "metadata": {
    "collapsed": false
   },
   "outputs": [
    {
     "data": {
      "text/plain": [
       "\n",
       "Call:\n",
       "lm(formula = body.fat ~ weight + abdomen + wrist, data = fat)\n",
       "\n",
       "Residuals:\n",
       "     Min       1Q   Median       3Q      Max \n",
       "-12.1509  -2.9833  -0.1719   2.9955   9.1195 \n",
       "\n",
       "Coefficients:\n",
       "             Estimate Std. Error t value Pr(>|t|)    \n",
       "(Intercept) -24.76129    6.31599  -3.920 0.000114 ***\n",
       "weight       -0.10558    0.02191  -4.820 2.51e-06 ***\n",
       "abdomen       0.90191    0.05202  17.338  < 2e-16 ***\n",
       "wrist        -1.14570    0.40412  -2.835 0.004959 ** \n",
       "---\n",
       "Signif. codes:  0 ‘***’ 0.001 ‘**’ 0.01 ‘*’ 0.05 ‘.’ 0.1 ‘ ’ 1\n",
       "\n",
       "Residual standard error: 4.07 on 248 degrees of freedom\n",
       "Multiple R-squared:  0.7276,\tAdjusted R-squared:  0.7243 \n",
       "F-statistic: 220.8 on 3 and 248 DF,  p-value: < 2.2e-16\n"
      ]
     },
     "execution_count": 11,
     "metadata": {},
     "output_type": "execute_result"
    },
    {
     "name": "stdout",
     "output_type": "stream",
     "text": [
      "\n",
      "Correlations between fat-weight, fat-abdoment, fat-wrist:\n"
     ]
    },
    {
     "data": {
      "text/html": [
       "0.613156110031314"
      ],
      "text/latex": [
       "0.613156110031314"
      ],
      "text/markdown": [
       "0.613156110031314"
      ],
      "text/plain": [
       "[1] 0.6131561"
      ]
     },
     "execution_count": 11,
     "metadata": {},
     "output_type": "execute_result"
    },
    {
     "data": {
      "text/html": [
       "0.813706221642791"
      ],
      "text/latex": [
       "0.813706221642791"
      ],
      "text/markdown": [
       "0.813706221642791"
      ],
      "text/plain": [
       "[1] 0.8137062"
      ]
     },
     "execution_count": 11,
     "metadata": {},
     "output_type": "execute_result"
    },
    {
     "data": {
      "text/html": [
       "0.347572756593503"
      ],
      "text/latex": [
       "0.347572756593503"
      ],
      "text/markdown": [
       "0.347572756593503"
      ],
      "text/plain": [
       "[1] 0.3475728"
      ]
     },
     "execution_count": 11,
     "metadata": {},
     "output_type": "execute_result"
    }
   ],
   "source": [
    "fatty.lm=lm(body.fat~.,data=fat)\n",
    "\n",
    "#My process is to remove the data sources with a high p value (approx >5%),\n",
    "#starting with the highest p-values first. I remove them 1 at a time to account for\n",
    "#dependencies between parameters.\n",
    "\n",
    "#Remove density, siri, and ffweight as per instructions\n",
    "#Remove case as the case number shouldn't be important with a valid study\n",
    "#summary(fatty.lm)$r.squared\n",
    "fatty.lm=update(fatty.lm, . ~ . - density)\n",
    "#summary(fatty.lm)$r.squared\n",
    "fatty.lm=update(fatty.lm, . ~ . - body.fat.siri)\n",
    "#summary(fatty.lm)$r.squared\n",
    "fatty.lm=update(fatty.lm, . ~ . - ffweight)\n",
    "#summary(fatty.lm)$r.squared\n",
    "fatty.lm=update(fatty.lm, . ~ . - case)\n",
    "#summary(fatty.lm)\n",
    "\n",
    "#Remove knee as it has highest P-value\n",
    "fatty.lm=update(fatty.lm, . ~ . - knee)\n",
    "#summary(fatty.lm)\n",
    "\n",
    "#Remove BMI as it has highest P-value\n",
    "fatty.lm=update(fatty.lm, . ~ . - BMI)\n",
    "#summary(fatty.lm)\n",
    "\n",
    "#Remove Chest as it has highest P-value\n",
    "fatty.lm=update(fatty.lm, . ~ . - chest)\n",
    "#summary(fatty.lm)\n",
    "\n",
    "#Remove height\n",
    "fatty.lm=update(fatty.lm, . ~ . - height)\n",
    "#summary(fatty.lm)\n",
    "\n",
    "#Remove ankle\n",
    "fatty.lm=update(fatty.lm, . ~ . - ankle)\n",
    "#summary(fatty.lm)\n",
    "\n",
    "#Remove bicep\n",
    "fatty.lm=update(fatty.lm, . ~ . - bicep)\n",
    "#summary(fatty.lm)\n",
    "\n",
    "#Remove hip\n",
    "fatty.lm=update(fatty.lm, . ~ . - hip)\n",
    "#summary(fatty.lm)\n",
    "\n",
    "#Remove neck\n",
    "fatty.lm=update(fatty.lm, . ~ . - neck)\n",
    "#summary(fatty.lm)\n",
    "\n",
    "#Remove thigh\n",
    "fatty.lm=update(fatty.lm, . ~ . - thigh)\n",
    "#summary(fatty.lm)\n",
    "\n",
    "#Remove age\n",
    "fatty.lm=update(fatty.lm, . ~ . - age)\n",
    "#summary(fatty.lm)\n",
    "\n",
    "#Remove forearm\n",
    "fatty.lm=update(fatty.lm, . ~ . - forearm)\n",
    "summary(fatty.lm)\n",
    "\n",
    "#find correlations between remaining factors and body fat\n",
    "writeLines(\"\\nCorrelations between fat-weight, fat-abdoment, fat-wrist:\")\n",
    "cor(fat$body.fat, fat$weight)\n",
    "cor(fat$body.fat, fat$abdomen)\n",
    "cor(fat$body.fat, fat$wrist)\n",
    "\n"
   ]
  },
  {
   "cell_type": "markdown",
   "metadata": {},
   "source": [
    "## Problem #3 - Wireless networks\n",
    "\n",
    "This data contains measurements from 3 wireless network devices. One is an 802.11 \"Wifi\" interface running at 1Mbs/s. The second is that same interface running at 11Mb/s. Lastly, the same interface running at 54Mb/s. The data is stored as R vectors named x1, y1, x11, y11 and x54, y54. The X value is the packet size for the time measurement recorded at the corresponding Y value. The units are milliseconds. For example, x11[1] is 350 bytes and y11[1] is 1.436782 millseconds. It took 1.436782 milliseconds to transmit a 350 byte packet."
   ]
  },
  {
   "cell_type": "code",
   "execution_count": 12,
   "metadata": {
    "collapsed": true
   },
   "outputs": [],
   "source": [
    "x11 = c(350, 350, 350, 350, 350, 450, 450, 450, 450, 450, 550, 550, 550,\n",
    "550, 550, 650, 650, 650, 650, 650, 750, 750, 750, 750, 750, 850, 850,\n",
    "850, 850, 850, 950, 950, 950, 950, 950, 1050, 1050, 1050, 1050, 1050,\n",
    "1150, 1150, 1150, 1150, 1150, 1250, 1250, 1250, 1250, 1250, 1350,\n",
    "1350, 1350, 1350, 1350, 1450, 1450, 1450, 1450, 1450 )\n",
    "\n",
    "y11 = c(\n",
    "1.436782, 1.407063, 1.436782, 1.426737, 1.416832, 1.50015, 1.533978,\n",
    "1.50015, 1.522533, 1.511259, 1.619433, 1.619433, 1.576541, 1.576541,\n",
    "1.587050, 1.682935, 1.662787, 1.693193, 1.682935, 1.693193, 1.745505,\n",
    "1.755310, 1.765225, 1.755310, 1.755002, 1.833853, 1.805054, 1.824152,\n",
    "1.853568, 1.853568, 1.915342, 1.915342, 1.915342, 1.904762, 1.915342,\n",
    "1.992429, 1.982161, 1.992429, 1.961169, 1.971998, 2.072539, 2.052124,\n",
    "2.062281, 2.062281, 2.082466, 2.15378, 2.143623, 2.133561, 2.113718,\n",
    "2.103934, 2.182453, 2.182453, 2.182453, 2.154244, 2.182453, 2.241147,\n",
    "2.26142, 2.241147, 2.301496, 2.282063)\n",
    "\n",
    "x1 = c( 350, 350, 350, 350, 350, 450, 450, 450, 450, 450, 550, 550,\n",
    "550, 550, 550, 650, 650, 650, 650, 650, 750, 750, 750, 750, 750, 850,\n",
    "850, 850, 850, 850, 950, 950, 950, 950, 950, 1050, 1050, 1050, 1050,\n",
    "1050, 1150, 1150, 1150, 1150, 1150, 1250, 1250, 1250, 1250, 1250,\n",
    "1350, 1350, 1350, 1350, 1350, 1450, 1450, 1450, 1450, 1450)\n",
    "\n",
    "y1 = c( 4.161465, 4.078303, 4.078303, 4.078303, 4.078303, 4.741584,\n",
    "4.741584, 4.741584, 4.741584, 4.741584, 5.534034, 5.534034, 5.534034,\n",
    "5.534034, 5.534034, 6.30517, 6.30517, 6.30517, 6.30517, 6.30517,\n",
    "7.097232, 7.097232, 7.097232, 6.939625, 7.097232, 7.830854, 7.830854,\n",
    "7.830854, 7.830854, 7.830854, 8.403361, 8.403361, 8.403361, 8.403361,\n",
    "8.403361, 9.14913, 9.14913, 9.14913, 9.14913, 9.14913, 9.910803,\n",
    "9.910803, 9.910803, 9.910803, 9.910803, 10.81081, 10.81081, 10.55966,\n",
    "10.81081, 10.81081, 11.60093, 11.60093, 11.33787, 11.33787, 11.33787,\n",
    "12.16545, 12.16545, 12.16545, 12.16545, 12.16545)\n",
    "\n",
    "x54 = c( 350, 350, 350, 350, 450, 450, 450, 450, 550, 550, 550, 550,\n",
    "650, 650, 650, 650, 750, 750, 750, 750, 850, 850, 850, 850, 950, 950,\n",
    "950, 950, 1050, 1050, 1050, 1050, 1150, 1150, 1150, 1150, 1250, 1250,\n",
    "1250, 1250, 1350, 1350, 1350, 1350, 1450, 1450, 1450, 1450)\n",
    "\n",
    "y54 = c( 0.2812386, 0.2804341, 0.2798769, 0.2815553, 0.2995088,\n",
    "0.2986679, 0.3006705, 0.298454, 0.311886, 0.3199386, 0.3163556,\n",
    "0.3186439, 0.3333333, 0.3369953, 0.3340236, 0.3311258, 0.3412969,\n",
    "0.3373933, 0.341006, 0.3411456, 0.3531198, 0.3563284, 0.3578714,\n",
    "0.3521871, 0.3733154, 0.3752768, 0.3761803, 0.3780432, 0.3957888,\n",
    "0.3914660, 0.3928656, 0.3961651, 0.4116921, 0.4088307, 0.4083966,\n",
    "0.4038935, 0.4210704, 0.4251339, 0.4259488, 0.4252243, 0.4428698,\n",
    "0.4405869, 0.4386157, 0.4402959, 0.4577287, 0.4561211, 0.4573938,\n",
    "0.4607658)"
   ]
  },
  {
   "cell_type": "markdown",
   "metadata": {},
   "source": [
    "### Answer the following questions:\n",
    "\n",
    "To answer these questions, you should use the lecture slides on linear regression and section 13 from the SimpleR.pdf book from the course website (page 77). You can also refer to the material by Boudec, but his write-up is, as per normal, complex.\n",
    "\n",
    "* Using R as a calculator, but not using the built-in regression functions, calculate using the equations in the Linear Regression slides:\n",
    "* The slope (b) and intercept (a) of the regression model for the 1Mb/s network (using x1, y1)\n",
    "* The coefficient of determination for the model for the 1Mb/s network (using x1,y1)\n",
    "* The standard deviation for slope & intercept and the 95% confidence interval for the 1Mb/s network (using x1,y1)\n",
    "* The predicted time, standard deviation and 95% confidence interval for the predicted time to transmit a 40 byte Wifi packet for the 1Mb/s network (using x1,y1)\n",
    "* The predicted time, standard deviation and 95% confidence interval to transmit a 750 byte packet for the 1Mb/s network (using x1,y1)"
   ]
  },
  {
   "cell_type": "code",
   "execution_count": 13,
   "metadata": {
    "collapsed": false
   },
   "outputs": [
    {
     "name": "stdout",
     "output_type": "stream",
     "text": [
      "[1] \"Slope (b):\"\n"
     ]
    },
    {
     "data": {
      "text/html": [
       "0.00736104904895105"
      ],
      "text/latex": [
       "0.00736104904895105"
      ],
      "text/markdown": [
       "0.00736104904895105"
      ],
      "text/plain": [
       "[1] 0.007361049"
      ]
     },
     "execution_count": 13,
     "metadata": {},
     "output_type": "execute_result"
    },
    {
     "name": "stdout",
     "output_type": "stream",
     "text": [
      "[1] \"Intercept (a):\"\n"
     ]
    },
    {
     "data": {
      "text/html": [
       "1.49211468927739"
      ],
      "text/latex": [
       "1.49211468927739"
      ],
      "text/markdown": [
       "1.49211468927739"
      ],
      "text/plain": [
       "[1] 1.492115"
      ]
     },
     "execution_count": 13,
     "metadata": {},
     "output_type": "execute_result"
    },
    {
     "name": "stdout",
     "output_type": "stream",
     "text": [
      "[1] \"Coefficient of Determination (R2) :\"\n"
     ]
    },
    {
     "data": {
      "text/html": [
       "0.999155065938872"
      ],
      "text/latex": [
       "0.999155065938872"
      ],
      "text/markdown": [
       "0.999155065938872"
      ],
      "text/plain": [
       "[1] 0.9991551"
      ]
     },
     "execution_count": 13,
     "metadata": {},
     "output_type": "execute_result"
    },
    {
     "name": "stdout",
     "output_type": "stream",
     "text": [
      "\n",
      "\n",
      "\n",
      "\n",
      "[1] \"Std(b), Std(a):\"\n"
     ]
    },
    {
     "data": {
      "text/html": [
       "2.81074001391503e-05"
      ],
      "text/latex": [
       "2.81074001391503e-05"
      ],
      "text/markdown": [
       "2.81074001391503e-05"
      ],
      "text/plain": [
       "[1] 2.81074e-05"
      ]
     },
     "execution_count": 13,
     "metadata": {},
     "output_type": "execute_result"
    },
    {
     "data": {
      "text/html": [
       "0.0270936481790362"
      ],
      "text/latex": [
       "0.0270936481790362"
      ],
      "text/markdown": [
       "0.0270936481790362"
      ],
      "text/plain": [
       "[1] 0.02709365"
      ]
     },
     "execution_count": 13,
     "metadata": {},
     "output_type": "execute_result"
    },
    {
     "name": "stdout",
     "output_type": "stream",
     "text": [
      "\n",
      "\n",
      "[1] \"95 Conf interval b +-\"\n"
     ]
    },
    {
     "data": {
      "text/html": [
       "0.00741729182671956"
      ],
      "text/latex": [
       "0.00741729182671956"
      ],
      "text/markdown": [
       "0.00741729182671956"
      ],
      "text/plain": [
       "[1] 0.007417292"
      ]
     },
     "execution_count": 13,
     "metadata": {},
     "output_type": "execute_result"
    },
    {
     "data": {
      "text/html": [
       "0.00730480627118253"
      ],
      "text/latex": [
       "0.00730480627118253"
      ],
      "text/markdown": [
       "0.00730480627118253"
      ],
      "text/plain": [
       "[1] 0.007304806"
      ]
     },
     "execution_count": 13,
     "metadata": {},
     "output_type": "execute_result"
    },
    {
     "name": "stdout",
     "output_type": "stream",
     "text": [
      "[1] \"95 Conf interval a +-\"\n"
     ]
    },
    {
     "data": {
      "text/html": [
       "1.54632895405919"
      ],
      "text/latex": [
       "1.54632895405919"
      ],
      "text/markdown": [
       "1.54632895405919"
      ],
      "text/plain": [
       "[1] 1.546329"
      ]
     },
     "execution_count": 13,
     "metadata": {},
     "output_type": "execute_result"
    },
    {
     "data": {
      "text/html": [
       "1.43790042449559"
      ],
      "text/latex": [
       "1.43790042449559"
      ],
      "text/markdown": [
       "1.43790042449559"
      ],
      "text/plain": [
       "[1] 1.4379"
      ]
     },
     "execution_count": 13,
     "metadata": {},
     "output_type": "execute_result"
    },
    {
     "name": "stdout",
     "output_type": "stream",
     "text": [
      "\n",
      "\n",
      "[1] \"Predicted value y_p 40\"\n"
     ]
    },
    {
     "data": {
      "text/html": [
       "1.78655665123543"
      ],
      "text/latex": [
       "1.78655665123543"
      ],
      "text/markdown": [
       "1.78655665123543"
      ],
      "text/plain": [
       "[1] 1.786557"
      ]
     },
     "execution_count": 13,
     "metadata": {},
     "output_type": "execute_result"
    },
    {
     "name": "stdout",
     "output_type": "stream",
     "text": [
      "[1] \"Confidence interval for y_p 40 +-\"\n"
     ]
    },
    {
     "data": {
      "text/html": [
       "1.94572238739662"
      ],
      "text/latex": [
       "1.94572238739662"
      ],
      "text/markdown": [
       "1.94572238739662"
      ],
      "text/plain": [
       "[1] 1.945722"
      ]
     },
     "execution_count": 13,
     "metadata": {},
     "output_type": "execute_result"
    },
    {
     "data": {
      "text/html": [
       "1.62739091507425"
      ],
      "text/latex": [
       "1.62739091507425"
      ],
      "text/markdown": [
       "1.62739091507425"
      ],
      "text/plain": [
       "[1] 1.627391"
      ]
     },
     "execution_count": 13,
     "metadata": {},
     "output_type": "execute_result"
    },
    {
     "name": "stdout",
     "output_type": "stream",
     "text": [
      "[1] \"Std for y_p 40\"\n"
     ]
    },
    {
     "data": {
      "text/html": [
       "0.0795432802614719"
      ],
      "text/latex": [
       "0.0795432802614719"
      ],
      "text/markdown": [
       "0.0795432802614719"
      ],
      "text/plain": [
       "[1] 0.07954328"
      ]
     },
     "execution_count": 13,
     "metadata": {},
     "output_type": "execute_result"
    },
    {
     "name": "stdout",
     "output_type": "stream",
     "text": [
      "\n",
      "\n",
      "[1] \"Predicted value y_p 750\"\n"
     ]
    },
    {
     "data": {
      "text/html": [
       "7.01290147599068"
      ],
      "text/latex": [
       "7.01290147599068"
      ],
      "text/markdown": [
       "7.01290147599068"
      ],
      "text/plain": [
       "[1] 7.012901"
      ]
     },
     "execution_count": 13,
     "metadata": {},
     "output_type": "execute_result"
    },
    {
     "name": "stdout",
     "output_type": "stream",
     "text": [
      "[1] \"Confidence interval for y_p 750 +-\"\n"
     ]
    },
    {
     "data": {
      "text/html": [
       "7.16477433385565"
      ],
      "text/latex": [
       "7.16477433385565"
      ],
      "text/markdown": [
       "7.16477433385565"
      ],
      "text/plain": [
       "[1] 7.164774"
      ]
     },
     "execution_count": 13,
     "metadata": {},
     "output_type": "execute_result"
    },
    {
     "data": {
      "text/html": [
       "6.8610286181257"
      ],
      "text/latex": [
       "6.8610286181257"
      ],
      "text/markdown": [
       "6.8610286181257"
      ],
      "text/plain": [
       "[1] 6.861029"
      ]
     },
     "execution_count": 13,
     "metadata": {},
     "output_type": "execute_result"
    },
    {
     "name": "stdout",
     "output_type": "stream",
     "text": [
      "[1] \"Std for y_p 750\"\n"
     ]
    },
    {
     "data": {
      "text/html": [
       "0.0758986550034274"
      ],
      "text/latex": [
       "0.0758986550034274"
      ],
      "text/markdown": [
       "0.0758986550034274"
      ],
      "text/plain": [
       "[1] 0.07589866"
      ]
     },
     "execution_count": 13,
     "metadata": {},
     "output_type": "execute_result"
    }
   ],
   "source": [
    "#Pre-Calculations\n",
    "x1_sum <- sum(x1)\n",
    "y1_sum <- sum(y1)\n",
    "x1y1_sum <- sum(x1*y1)\n",
    "x1_sq_sum <- sum(x1*x1)\n",
    "y1_sq_sum <- sum(y1*y1)\n",
    "N <- length(x1)\n",
    "\n",
    "#Slope\n",
    "print(\"Slope (b):\")\n",
    "(b <- ((N*x1y1_sum - x1_sum*y1_sum) / \n",
    "         (N*x1_sq_sum - x1_sum*x1_sum)) )\n",
    "\n",
    "#Intercept\n",
    "print(\"Intercept (a):\")\n",
    "(a <- ((x1_sq_sum*y1_sum - x1_sum*x1y1_sum) /\n",
    "         (N*x1_sq_sum - x1_sum*x1_sum)) )\n",
    "\n",
    "#Coefficient of Determiniation\n",
    "print(\"Coefficient of Determination (R2) :\")\n",
    "(R2 <- ((N*x1y1_sum-x1_sum*y1_sum)^2) / \n",
    "((N*x1_sq_sum-x1_sum*x1_sum)*(N*y1_sq_sum-y1_sum*y1_sum)) )\n",
    "writeLines(\"\\n\")\n",
    "\n",
    "#Check work\n",
    "#summary(lm(y1~x1))\n",
    "\n",
    "# MSE=SSE/dof,  dof=n-2\n",
    "# se=sqrt(MSE)\n",
    "Sxx = sum( (x1-mean(x1))^2 )\n",
    "Sxy = sum( (x1-mean(x1))*(y1-mean(y1)) )\n",
    "Syy = sum( (y1-mean(y1))^2 )\n",
    "b2 <- Sxy/Sxx\n",
    "SSE <- Syy - b2*Sxy\n",
    "\n",
    "MSE <- SSE/(length(x1)-2)\n",
    "se <- (MSE)^(0.5)\n",
    "\n",
    "writeLines(\"\\n\")\n",
    "print(\"Std(b), Std(a):\")\n",
    "(std_b <- se/sqrt(Sxx))\n",
    "(std_a <- se*sqrt(sum(x1^2))/(sqrt(N*Sxx)))\n",
    "\n",
    "writeLines(\"\\n\")\n",
    "print(\"95 Conf interval b +-\")\n",
    "(b+qt(.975, N-1)*std_b)\n",
    "(b-qt(.975, N-1)*std_b)\n",
    "\n",
    "\n",
    "print(\"95 Conf interval a +-\")\n",
    "(a+qt(.975, N-1)*std_a)\n",
    "(a-qt(.975, N-1)*std_a)\n",
    "\n",
    "\n",
    "writeLines(\"\\n\")\n",
    "print(\"Predicted value y_p 40\")\n",
    "(y_p = b*40+a)\n",
    "\n",
    "print(\"Confidence interval for y_p 40 +-\")\n",
    "(y_p + qt(.975, N-1)*se*sqrt(1+1/N+((40-mean(x1))^2)/Sxx))\n",
    "(y_p - qt(.975, N-1)*se*sqrt(1+1/N+((40-mean(x1))^2)/Sxx))\n",
    "\n",
    "print(\"Std for y_p 40\")\n",
    "se*sqrt(1+1/N+((40-mean(x1))^2)/Sxx)\n",
    "\n",
    "\n",
    "writeLines(\"\\n\")\n",
    "print(\"Predicted value y_p 750\")\n",
    "(y_p = b*750+a)\n",
    "\n",
    "print(\"Confidence interval for y_p 750 +-\")\n",
    "(y_p + qt(.975, N-1)*se*sqrt(1+1/N+((750-mean(x1))^2)/Sxx))\n",
    "(y_p - qt(.975, N-1)*se*sqrt(1+1/N+((750-mean(x1))^2)/Sxx))\n",
    "\n",
    "print(\"Std for y_p 750\")\n",
    "se*sqrt(1+1/N+((750-mean(x1))^2)/Sxx)"
   ]
  },
  {
   "cell_type": "markdown",
   "metadata": {},
   "source": [
    "### Settle a law suit\n",
    "\n",
    "Using the 'lm' functions in R or the simple.lm functions from the UsingR package (documented in the Simple R guide, section 13 page 77), answer the following questions\n",
    "* Prepare a plot of the data, the regression model and the 95% confidence interval for each of the data sets. Label the plot with the parameters of the regression model. If you plot all the data on a single plot, you can put the parameters in the legend rather than the title.\n",
    "* Larry the Lawyer wants to sue because the 11Mb/s network is not 11 times \"faster\" than the 1Mb/s network. Compare the slope (time per byte) and intercept (overhead per packet). Is the 11Mb/s network 11 times faster at a 95% confidence level? Is the overhead different?\n",
    "* Using your models, predict the time to transmit a 40 byte packet using each network (using a 95% confidence interval). What's Larry doing now (i.e. crying or filiing a suit?)\n",
    "* Repeat that for a 750 and 1500 byte packet. Does Larry still have a case? What if you compare the time to transmit a 40 byte packet to a 1500 byte packet, which is 37 times bigger?\n",
    "* For the 54Mb/s data, argue that the regression model is or is not appropriate for the data. Use the full range of techniques described in Jain and in class. Are there specific measurement samples which seem to be more problematic than others? Which ones?"
   ]
  },
  {
   "cell_type": "code",
   "execution_count": 14,
   "metadata": {
    "collapsed": false
   },
   "outputs": [
    {
     "data": {
      "text/plain": [
       "\n",
       "Call:\n",
       "lm(formula = y ~ x)\n",
       "\n",
       "Coefficients:\n",
       "(Intercept)            x  \n",
       "   1.492115     0.007361  \n"
      ]
     },
     "execution_count": 14,
     "metadata": {},
     "output_type": "execute_result"
    },
    {
     "data": {
      "image/png": "[encoded data removed]",
      "image/svg+xml": [
       "<?xml version=\"1.0\" encoding=\"UTF-8\"?>\n",
       "<svg xmlns=\"http://www.w3.org/2000/svg\" xmlns:xlink=\"http://www.w3.org/1999/xlink\" width=\"504pt\" height=\"504pt\" viewBox=\"0 0 504 504\" version=\"1.1\">\n",
       "<defs>\n",
       "<g>\n",
       "<symbol overflow=\"visible\" id=\"glyph0-0\">\n",
       "<path style=\"stroke:none;\" d=\"\"/>\n",
       "</symbol>\n",
       "<symbol overflow=\"visible\" id=\"glyph0-1\">\n",
       "<path style=\"stroke:none;\" d=\"M 3.921875 -2.046875 L 3.921875 0 L 4.984375 0 L 4.984375 -2.046875 L 6.234375 -2.046875 L 6.234375 -2.984375 L 4.984375 -2.984375 L 4.984375 -8.515625 L 4.203125 -8.515625 L 0.34375 -3.15625 L 0.34375 -2.046875 Z M 3.921875 -2.984375 L 1.265625 -2.984375 L 3.921875 -6.703125 Z M 3.921875 -2.984375 \"/>\n",
       "</symbol>\n",
       "<symbol overflow=\"visible\" id=\"glyph0-2\">\n",
       "<path style=\"stroke:none;\" d=\"M 3.296875 -8.515625 C 2.515625 -8.515625 1.78125 -8.15625 1.34375 -7.578125 C 0.796875 -6.828125 0.515625 -5.6875 0.515625 -4.109375 C 0.515625 -1.25 1.46875 0.28125 3.296875 0.28125 C 5.09375 0.28125 6.078125 -1.25 6.078125 -4.046875 C 6.078125 -5.703125 5.8125 -6.796875 5.25 -7.578125 C 4.8125 -8.171875 4.109375 -8.515625 3.296875 -8.515625 Z M 3.296875 -7.578125 C 4.4375 -7.578125 5 -6.421875 5 -4.140625 C 5 -1.734375 4.453125 -0.59375 3.28125 -0.59375 C 2.15625 -0.59375 1.59375 -1.78125 1.59375 -4.109375 C 1.59375 -6.4375 2.15625 -7.578125 3.296875 -7.578125 Z M 3.296875 -7.578125 \"/>\n",
       "</symbol>\n",
       "<symbol overflow=\"visible\" id=\"glyph0-3\">\n",
       "<path style=\"stroke:none;\" d=\"M 5.96875 -6.28125 C 5.765625 -7.6875 4.859375 -8.515625 3.5625 -8.515625 C 2.625 -8.515625 1.78125 -8.046875 1.28125 -7.296875 C 0.75 -6.46875 0.515625 -5.421875 0.515625 -3.875 C 0.515625 -2.453125 0.734375 -1.53125 1.234375 -0.78125 C 1.6875 -0.09375 2.4375 0.28125 3.375 0.28125 C 4.984375 0.28125 6.15625 -0.921875 6.15625 -2.59375 C 6.15625 -4.171875 5.078125 -5.296875 3.546875 -5.296875 C 2.71875 -5.296875 2.046875 -4.96875 1.59375 -4.34375 C 1.609375 -6.421875 2.28125 -7.578125 3.484375 -7.578125 C 4.234375 -7.578125 4.75 -7.109375 4.921875 -6.28125 Z M 3.421875 -4.359375 C 4.4375 -4.359375 5.078125 -3.640625 5.078125 -2.515625 C 5.078125 -1.4375 4.359375 -0.65625 3.390625 -0.65625 C 2.40625 -0.65625 1.65625 -1.46875 1.65625 -2.5625 C 1.65625 -3.625 2.375 -4.359375 3.421875 -4.359375 Z M 3.421875 -4.359375 \"/>\n",
       "</symbol>\n",
       "<symbol overflow=\"visible\" id=\"glyph0-4\">\n",
       "<path style=\"stroke:none;\" d=\"M 4.6875 -4.46875 C 5.5625 -5 5.859375 -5.4375 5.859375 -6.234375 C 5.859375 -7.578125 4.8125 -8.515625 3.296875 -8.515625 C 1.796875 -8.515625 0.75 -7.578125 0.75 -6.234375 C 0.75 -5.453125 1.03125 -5.015625 1.890625 -4.46875 C 0.921875 -4.015625 0.4375 -3.296875 0.4375 -2.359375 C 0.4375 -0.796875 1.625 0.28125 3.296875 0.28125 C 4.984375 0.28125 6.15625 -0.796875 6.15625 -2.359375 C 6.15625 -3.296875 5.671875 -4.015625 4.6875 -4.46875 Z M 3.296875 -7.578125 C 4.203125 -7.578125 4.78125 -7.046875 4.78125 -6.21875 C 4.78125 -5.421875 4.1875 -4.890625 3.296875 -4.890625 C 2.40625 -4.890625 1.828125 -5.421875 1.828125 -6.234375 C 1.828125 -7.046875 2.40625 -7.578125 3.296875 -7.578125 Z M 3.296875 -4.015625 C 4.359375 -4.015625 5.078125 -3.34375 5.078125 -2.34375 C 5.078125 -1.328125 4.359375 -0.65625 3.28125 -0.65625 C 2.25 -0.65625 1.53125 -1.34375 1.53125 -2.34375 C 1.53125 -3.34375 2.25 -4.015625 3.296875 -4.015625 Z M 3.296875 -4.015625 \"/>\n",
       "</symbol>\n",
       "<symbol overflow=\"visible\" id=\"glyph0-5\">\n",
       "<path style=\"stroke:none;\" d=\"M 3.109375 -6.0625 L 3.109375 0 L 4.15625 0 L 4.15625 -8.515625 L 3.46875 -8.515625 C 3.09375 -7.203125 2.859375 -7.015625 1.21875 -6.8125 L 1.21875 -6.0625 Z M 3.109375 -6.0625 \"/>\n",
       "</symbol>\n",
       "<symbol overflow=\"visible\" id=\"glyph0-6\">\n",
       "<path style=\"stroke:none;\" d=\"M 6.078125 -1.046875 L 1.59375 -1.046875 C 1.703125 -1.734375 2.09375 -2.1875 3.125 -2.796875 L 4.328125 -3.4375 C 5.515625 -4.09375 6.125 -4.96875 6.125 -6.015625 C 6.125 -6.71875 5.84375 -7.375 5.34375 -7.84375 C 4.84375 -8.296875 4.21875 -8.515625 3.40625 -8.515625 C 2.328125 -8.515625 1.53125 -8.125 1.0625 -7.40625 C 0.75 -6.953125 0.625 -6.421875 0.59375 -5.5625 L 1.65625 -5.5625 C 1.6875 -6.125 1.765625 -6.484375 1.90625 -6.75 C 2.1875 -7.265625 2.734375 -7.578125 3.375 -7.578125 C 4.328125 -7.578125 5.046875 -6.90625 5.046875 -5.984375 C 5.046875 -5.3125 4.65625 -4.734375 3.90625 -4.3125 L 2.796875 -3.6875 C 1.015625 -2.671875 0.5 -1.875 0.40625 0 L 6.078125 0 Z M 6.078125 -1.046875 \"/>\n",
       "</symbol>\n",
       "<symbol overflow=\"visible\" id=\"glyph0-7\">\n",
       "<path style=\"stroke:none;\" d=\"M 3.5 -3.25 L 5.609375 -6.28125 L 4.484375 -6.28125 L 2.96875 -4.015625 L 1.46875 -6.28125 L 0.328125 -6.28125 L 2.421875 -3.203125 L 0.203125 0 L 1.34375 0 L 2.9375 -2.40625 L 4.515625 0 L 5.671875 0 Z M 3.5 -3.25 \"/>\n",
       "</symbol>\n",
       "<symbol overflow=\"visible\" id=\"glyph0-8\">\n",
       "<path style=\"stroke:none;\" d=\"\"/>\n",
       "</symbol>\n",
       "<symbol overflow=\"visible\" id=\"glyph0-9\">\n",
       "<path style=\"stroke:none;\" d=\"M 3.40625 -3.75 L 0.546875 -3.75 L 0.546875 -2.875 L 3.40625 -2.875 Z M 3.40625 -3.75 \"/>\n",
       "</symbol>\n",
       "<symbol overflow=\"visible\" id=\"glyph0-10\">\n",
       "<path style=\"stroke:none;\" d=\"M 2.203125 -3.703125 L 4.953125 -3.703125 C 5.640625 -3.703125 6.1875 -3.90625 6.640625 -4.328125 C 7.171875 -4.8125 7.40625 -5.375 7.40625 -6.1875 C 7.40625 -7.828125 6.4375 -8.75 4.703125 -8.75 L 1.09375 -8.75 L 1.09375 0 L 2.203125 0 Z M 2.203125 -4.6875 L 2.203125 -7.765625 L 4.53125 -7.765625 C 5.609375 -7.765625 6.234375 -7.1875 6.234375 -6.234375 C 6.234375 -5.265625 5.609375 -4.6875 4.53125 -4.6875 Z M 2.203125 -4.6875 \"/>\n",
       "</symbol>\n",
       "<symbol overflow=\"visible\" id=\"glyph0-11\">\n",
       "<path style=\"stroke:none;\" d=\"M 6.421875 -0.59375 C 6.3125 -0.5625 6.265625 -0.5625 6.203125 -0.5625 C 5.859375 -0.5625 5.65625 -0.75 5.65625 -1.0625 L 5.65625 -4.75 C 5.65625 -5.875 4.84375 -6.46875 3.296875 -6.46875 C 2.390625 -6.46875 1.625 -6.203125 1.21875 -5.734375 C 0.921875 -5.40625 0.796875 -5.046875 0.78125 -4.421875 L 1.78125 -4.421875 C 1.875 -5.203125 2.328125 -5.546875 3.265625 -5.546875 C 4.15625 -5.546875 4.671875 -5.203125 4.671875 -4.609375 L 4.671875 -4.34375 C 4.671875 -3.921875 4.421875 -3.75 3.625 -3.640625 C 2.203125 -3.46875 1.984375 -3.421875 1.609375 -3.265625 C 0.875 -2.96875 0.5 -2.40625 0.5 -1.578125 C 0.5 -0.4375 1.296875 0.28125 2.5625 0.28125 C 3.359375 0.28125 4 0 4.703125 -0.640625 C 4.78125 -0.015625 5.09375 0.28125 5.734375 0.28125 C 5.9375 0.28125 6.09375 0.25 6.421875 0.171875 Z M 4.671875 -1.984375 C 4.671875 -1.640625 4.578125 -1.4375 4.265625 -1.15625 C 3.859375 -0.796875 3.375 -0.59375 2.78125 -0.59375 C 2 -0.59375 1.546875 -0.96875 1.546875 -1.609375 C 1.546875 -2.265625 1.984375 -2.609375 3.0625 -2.765625 C 4.109375 -2.90625 4.328125 -2.953125 4.671875 -3.109375 Z M 4.671875 -1.984375 \"/>\n",
       "</symbol>\n",
       "<symbol overflow=\"visible\" id=\"glyph0-12\">\n",
       "<path style=\"stroke:none;\" d=\"M 5.65625 -4.171875 C 5.609375 -4.78125 5.46875 -5.1875 5.234375 -5.53125 C 4.796875 -6.125 4.046875 -6.46875 3.171875 -6.46875 C 1.46875 -6.46875 0.375 -5.125 0.375 -3.03125 C 0.375 -1.015625 1.453125 0.28125 3.15625 0.28125 C 4.65625 0.28125 5.609375 -0.625 5.71875 -2.15625 L 4.71875 -2.15625 C 4.546875 -1.15625 4.03125 -0.640625 3.1875 -0.640625 C 2.078125 -0.640625 1.421875 -1.546875 1.421875 -3.03125 C 1.421875 -4.609375 2.0625 -5.546875 3.15625 -5.546875 C 4 -5.546875 4.53125 -5.046875 4.640625 -4.171875 Z M 5.65625 -4.171875 \"/>\n",
       "</symbol>\n",
       "<symbol overflow=\"visible\" id=\"glyph0-13\">\n",
       "<path style=\"stroke:none;\" d=\"M 1.6875 -8.75 L 0.703125 -8.75 L 0.703125 0 L 1.6875 0 L 1.6875 -2.453125 L 2.65625 -3.40625 L 4.78125 0 L 6.03125 0 L 3.453125 -4.109375 L 5.640625 -6.28125 L 4.359375 -6.28125 L 1.6875 -3.625 Z M 1.6875 -8.75 \"/>\n",
       "</symbol>\n",
       "<symbol overflow=\"visible\" id=\"glyph0-14\">\n",
       "<path style=\"stroke:none;\" d=\"M 6.15625 -2.8125 C 6.15625 -3.765625 6.078125 -4.34375 5.90625 -4.8125 C 5.5 -5.84375 4.53125 -6.46875 3.359375 -6.46875 C 1.609375 -6.46875 0.484375 -5.125 0.484375 -3.0625 C 0.484375 -1 1.578125 0.28125 3.34375 0.28125 C 4.78125 0.28125 5.765625 -0.546875 6.03125 -1.90625 L 5.015625 -1.90625 C 4.734375 -1.078125 4.171875 -0.640625 3.375 -0.640625 C 2.734375 -0.640625 2.203125 -0.9375 1.859375 -1.46875 C 1.625 -1.828125 1.53125 -2.1875 1.53125 -2.8125 Z M 1.546875 -3.625 C 1.625 -4.78125 2.34375 -5.546875 3.34375 -5.546875 C 4.328125 -5.546875 5.09375 -4.734375 5.09375 -3.703125 C 5.09375 -3.671875 5.09375 -3.640625 5.078125 -3.625 Z M 1.546875 -3.625 \"/>\n",
       "</symbol>\n",
       "<symbol overflow=\"visible\" id=\"glyph0-15\">\n",
       "<path style=\"stroke:none;\" d=\"M 3.046875 -6.28125 L 2.015625 -6.28125 L 2.015625 -8.015625 L 1.015625 -8.015625 L 1.015625 -6.28125 L 0.171875 -6.28125 L 0.171875 -5.46875 L 1.015625 -5.46875 L 1.015625 -0.71875 C 1.015625 -0.078125 1.453125 0.28125 2.234375 0.28125 C 2.46875 0.28125 2.71875 0.25 3.046875 0.1875 L 3.046875 -0.640625 C 2.921875 -0.609375 2.765625 -0.59375 2.5625 -0.59375 C 2.140625 -0.59375 2.015625 -0.71875 2.015625 -1.15625 L 2.015625 -5.46875 L 3.046875 -5.46875 Z M 3.046875 -6.28125 \"/>\n",
       "</symbol>\n",
       "<symbol overflow=\"visible\" id=\"glyph0-16\">\n",
       "<path style=\"stroke:none;\" d=\"M 7.15625 -6.1875 C 7.140625 -7.890625 5.96875 -8.890625 3.953125 -8.890625 C 2.03125 -8.890625 0.84375 -7.90625 0.84375 -6.328125 C 0.84375 -5.25 1.40625 -4.578125 2.5625 -4.28125 L 4.734375 -3.703125 C 5.828125 -3.421875 6.34375 -2.96875 6.34375 -2.296875 C 6.34375 -1.828125 6.078125 -1.34375 5.71875 -1.078125 C 5.359375 -0.84375 4.8125 -0.703125 4.109375 -0.703125 C 3.15625 -0.703125 2.515625 -0.9375 2.09375 -1.4375 C 1.765625 -1.828125 1.625 -2.25 1.625 -2.78125 L 0.578125 -2.78125 C 0.59375 -1.984375 0.75 -1.453125 1.09375 -0.96875 C 1.6875 -0.15625 2.703125 0.28125 4.03125 0.28125 C 5.078125 0.28125 5.921875 0.03125 6.484375 -0.390625 C 7.078125 -0.859375 7.453125 -1.640625 7.453125 -2.40625 C 7.453125 -3.484375 6.78125 -4.265625 5.59375 -4.59375 L 3.390625 -5.1875 C 2.34375 -5.46875 1.953125 -5.8125 1.953125 -6.484375 C 1.953125 -7.375 2.734375 -7.953125 3.90625 -7.953125 C 5.296875 -7.953125 6.078125 -7.3125 6.09375 -6.1875 Z M 7.15625 -6.1875 \"/>\n",
       "</symbol>\n",
       "<symbol overflow=\"visible\" id=\"glyph0-17\">\n",
       "<path style=\"stroke:none;\" d=\"M 1.796875 -6.28125 L 0.796875 -6.28125 L 0.796875 0 L 1.796875 0 Z M 1.796875 -8.75 L 0.796875 -8.75 L 0.796875 -7.484375 L 1.796875 -7.484375 Z M 1.796875 -8.75 \"/>\n",
       "</symbol>\n",
       "<symbol overflow=\"visible\" id=\"glyph0-18\">\n",
       "<path style=\"stroke:none;\" d=\"M 5.3125 -6.28125 L 0.625 -6.28125 L 0.625 -5.40625 L 4.125 -5.40625 L 0.375 -0.90625 L 0.375 0 L 5.484375 0 L 5.484375 -0.875 L 1.578125 -0.875 L 5.3125 -5.40625 Z M 5.3125 -6.28125 \"/>\n",
       "</symbol>\n",
       "<symbol overflow=\"visible\" id=\"glyph0-19\">\n",
       "<path style=\"stroke:none;\" d=\"M 2.828125 -8.75 C 1.625 -7.171875 0.875 -4.984375 0.875 -3.109375 C 0.875 -1.21875 1.625 0.96875 2.828125 2.546875 L 3.484375 2.546875 C 2.4375 0.828125 1.84375 -1.1875 1.84375 -3.109375 C 1.84375 -5.015625 2.4375 -7.046875 3.484375 -8.75 Z M 2.828125 -8.75 \"/>\n",
       "</symbol>\n",
       "<symbol overflow=\"visible\" id=\"glyph0-20\">\n",
       "<path style=\"stroke:none;\" d=\"M 0.953125 0 L 4.890625 0 C 5.71875 0 6.34375 -0.234375 6.796875 -0.734375 C 7.234375 -1.1875 7.46875 -1.8125 7.46875 -2.5 C 7.46875 -3.546875 7 -4.1875 5.875 -4.625 C 6.671875 -4.984375 7.09375 -5.640625 7.09375 -6.53125 C 7.09375 -7.15625 6.859375 -7.734375 6.390625 -8.140625 C 5.9375 -8.5625 5.34375 -8.75 4.5 -8.75 L 0.953125 -8.75 Z M 2.0625 -4.984375 L 2.0625 -7.765625 L 4.21875 -7.765625 C 4.84375 -7.765625 5.203125 -7.6875 5.5 -7.453125 C 5.8125 -7.21875 5.96875 -6.859375 5.96875 -6.375 C 5.96875 -5.90625 5.8125 -5.53125 5.5 -5.296875 C 5.203125 -5.0625 4.84375 -4.984375 4.21875 -4.984375 Z M 2.0625 -0.984375 L 2.0625 -4 L 4.78125 -4 C 5.328125 -4 5.6875 -3.859375 5.953125 -3.578125 C 6.21875 -3.296875 6.359375 -2.921875 6.359375 -2.484375 C 6.359375 -2.0625 6.21875 -1.6875 5.953125 -1.40625 C 5.6875 -1.109375 5.328125 -0.984375 4.78125 -0.984375 Z M 2.0625 -0.984375 \"/>\n",
       "</symbol>\n",
       "<symbol overflow=\"visible\" id=\"glyph0-21\">\n",
       "<path style=\"stroke:none;\" d=\"M 4.65625 -6.28125 L 2.921875 -1.390625 L 1.3125 -6.28125 L 0.234375 -6.28125 L 2.359375 0.03125 L 1.984375 1.015625 C 1.828125 1.46875 1.59375 1.625 1.171875 1.625 C 1.03125 1.625 0.859375 1.609375 0.640625 1.5625 L 0.640625 2.453125 C 0.859375 2.5625 1.0625 2.609375 1.3125 2.609375 C 1.640625 2.609375 1.984375 2.515625 2.25 2.3125 C 2.5625 2.09375 2.75 1.828125 2.9375 1.3125 L 5.734375 -6.28125 Z M 4.65625 -6.28125 \"/>\n",
       "</symbol>\n",
       "<symbol overflow=\"visible\" id=\"glyph0-22\">\n",
       "<path style=\"stroke:none;\" d=\"M 5.25 -4.53125 C 5.25 -5.765625 4.421875 -6.46875 2.96875 -6.46875 C 1.515625 -6.46875 0.5625 -5.71875 0.5625 -4.546875 C 0.5625 -3.5625 1.0625 -3.09375 2.5625 -2.734375 L 3.484375 -2.515625 C 4.1875 -2.34375 4.46875 -2.09375 4.46875 -1.625 C 4.46875 -1.046875 3.875 -0.640625 3 -0.640625 C 2.453125 -0.640625 2 -0.796875 1.75 -1.0625 C 1.59375 -1.25 1.53125 -1.421875 1.46875 -1.875 L 0.40625 -1.875 C 0.453125 -0.421875 1.265625 0.28125 2.921875 0.28125 C 4.5 0.28125 5.515625 -0.5 5.515625 -1.71875 C 5.515625 -2.65625 4.984375 -3.171875 3.734375 -3.46875 L 2.765625 -3.703125 C 1.953125 -3.890625 1.609375 -4.15625 1.609375 -4.59375 C 1.609375 -5.171875 2.125 -5.546875 2.9375 -5.546875 C 3.75 -5.546875 4.171875 -5.203125 4.203125 -4.53125 Z M 5.25 -4.53125 \"/>\n",
       "</symbol>\n",
       "<symbol overflow=\"visible\" id=\"glyph0-23\">\n",
       "<path style=\"stroke:none;\" d=\"M 1.109375 2.546875 C 2.3125 0.96875 3.078125 -1.21875 3.078125 -3.09375 C 3.078125 -4.984375 2.3125 -7.171875 1.109375 -8.75 L 0.453125 -8.75 C 1.515625 -7.03125 2.09375 -5.015625 2.09375 -3.09375 C 2.09375 -1.1875 1.515625 0.84375 0.453125 2.546875 Z M 1.109375 2.546875 \"/>\n",
       "</symbol>\n",
       "<symbol overflow=\"visible\" id=\"glyph1-0\">\n",
       "<path style=\"stroke:none;\" d=\"\"/>\n",
       "</symbol>\n",
       "<symbol overflow=\"visible\" id=\"glyph1-1\">\n",
       "<path style=\"stroke:none;\" d=\"M -2.046875 -3.921875 L 0 -3.921875 L 0 -4.984375 L -2.046875 -4.984375 L -2.046875 -6.234375 L -2.984375 -6.234375 L -2.984375 -4.984375 L -8.515625 -4.984375 L -8.515625 -4.203125 L -3.15625 -0.34375 L -2.046875 -0.34375 Z M -2.984375 -3.921875 L -2.984375 -1.265625 L -6.703125 -3.921875 Z M -2.984375 -3.921875 \"/>\n",
       "</symbol>\n",
       "<symbol overflow=\"visible\" id=\"glyph1-2\">\n",
       "<path style=\"stroke:none;\" d=\"M -6.28125 -5.96875 C -7.6875 -5.765625 -8.515625 -4.859375 -8.515625 -3.5625 C -8.515625 -2.625 -8.046875 -1.78125 -7.296875 -1.28125 C -6.46875 -0.75 -5.421875 -0.515625 -3.875 -0.515625 C -2.453125 -0.515625 -1.53125 -0.734375 -0.78125 -1.234375 C -0.09375 -1.6875 0.28125 -2.4375 0.28125 -3.375 C 0.28125 -4.984375 -0.921875 -6.15625 -2.59375 -6.15625 C -4.171875 -6.15625 -5.296875 -5.078125 -5.296875 -3.546875 C -5.296875 -2.71875 -4.96875 -2.046875 -4.34375 -1.59375 C -6.421875 -1.609375 -7.578125 -2.28125 -7.578125 -3.484375 C -7.578125 -4.234375 -7.109375 -4.75 -6.28125 -4.921875 Z M -4.359375 -3.421875 C -4.359375 -4.4375 -3.640625 -5.078125 -2.515625 -5.078125 C -1.4375 -5.078125 -0.65625 -4.359375 -0.65625 -3.390625 C -0.65625 -2.40625 -1.46875 -1.65625 -2.5625 -1.65625 C -3.625 -1.65625 -4.359375 -2.375 -4.359375 -3.421875 Z M -4.359375 -3.421875 \"/>\n",
       "</symbol>\n",
       "<symbol overflow=\"visible\" id=\"glyph1-3\">\n",
       "<path style=\"stroke:none;\" d=\"M -4.46875 -4.6875 C -5 -5.5625 -5.4375 -5.859375 -6.234375 -5.859375 C -7.578125 -5.859375 -8.515625 -4.8125 -8.515625 -3.296875 C -8.515625 -1.796875 -7.578125 -0.75 -6.234375 -0.75 C -5.453125 -0.75 -5.015625 -1.03125 -4.46875 -1.890625 C -4.015625 -0.921875 -3.296875 -0.4375 -2.359375 -0.4375 C -0.796875 -0.4375 0.28125 -1.625 0.28125 -3.296875 C 0.28125 -4.984375 -0.796875 -6.15625 -2.359375 -6.15625 C -3.296875 -6.15625 -4.015625 -5.671875 -4.46875 -4.6875 Z M -7.578125 -3.296875 C -7.578125 -4.203125 -7.046875 -4.78125 -6.21875 -4.78125 C -5.421875 -4.78125 -4.890625 -4.1875 -4.890625 -3.296875 C -4.890625 -2.40625 -5.421875 -1.828125 -6.234375 -1.828125 C -7.046875 -1.828125 -7.578125 -2.40625 -7.578125 -3.296875 Z M -4.015625 -3.296875 C -4.015625 -4.359375 -3.34375 -5.078125 -2.34375 -5.078125 C -1.328125 -5.078125 -0.65625 -4.359375 -0.65625 -3.28125 C -0.65625 -2.25 -1.34375 -1.53125 -2.34375 -1.53125 C -3.34375 -1.53125 -4.015625 -2.25 -4.015625 -3.296875 Z M -4.015625 -3.296875 \"/>\n",
       "</symbol>\n",
       "<symbol overflow=\"visible\" id=\"glyph1-4\">\n",
       "<path style=\"stroke:none;\" d=\"M -6.0625 -3.109375 L 0 -3.109375 L 0 -4.15625 L -8.515625 -4.15625 L -8.515625 -3.46875 C -7.203125 -3.09375 -7.015625 -2.859375 -6.8125 -1.21875 L -6.0625 -1.21875 Z M -6.0625 -3.109375 \"/>\n",
       "</symbol>\n",
       "<symbol overflow=\"visible\" id=\"glyph1-5\">\n",
       "<path style=\"stroke:none;\" d=\"M -8.515625 -3.296875 C -8.515625 -2.515625 -8.15625 -1.78125 -7.578125 -1.34375 C -6.828125 -0.796875 -5.6875 -0.515625 -4.109375 -0.515625 C -1.25 -0.515625 0.28125 -1.46875 0.28125 -3.296875 C 0.28125 -5.09375 -1.25 -6.078125 -4.046875 -6.078125 C -5.703125 -6.078125 -6.796875 -5.8125 -7.578125 -5.25 C -8.171875 -4.8125 -8.515625 -4.109375 -8.515625 -3.296875 Z M -7.578125 -3.296875 C -7.578125 -4.4375 -6.421875 -5 -4.140625 -5 C -1.734375 -5 -0.59375 -4.453125 -0.59375 -3.28125 C -0.59375 -2.15625 -1.78125 -1.59375 -4.109375 -1.59375 C -6.4375 -1.59375 -7.578125 -2.15625 -7.578125 -3.296875 Z M -7.578125 -3.296875 \"/>\n",
       "</symbol>\n",
       "<symbol overflow=\"visible\" id=\"glyph1-6\">\n",
       "<path style=\"stroke:none;\" d=\"M -1.046875 -6.078125 L -1.046875 -1.59375 C -1.734375 -1.703125 -2.1875 -2.09375 -2.796875 -3.125 L -3.4375 -4.328125 C -4.09375 -5.515625 -4.96875 -6.125 -6.015625 -6.125 C -6.71875 -6.125 -7.375 -5.84375 -7.84375 -5.34375 C -8.296875 -4.84375 -8.515625 -4.21875 -8.515625 -3.40625 C -8.515625 -2.328125 -8.125 -1.53125 -7.40625 -1.0625 C -6.953125 -0.75 -6.421875 -0.625 -5.5625 -0.59375 L -5.5625 -1.65625 C -6.125 -1.6875 -6.484375 -1.765625 -6.75 -1.90625 C -7.265625 -2.1875 -7.578125 -2.734375 -7.578125 -3.375 C -7.578125 -4.328125 -6.90625 -5.046875 -5.984375 -5.046875 C -5.3125 -5.046875 -4.734375 -4.65625 -4.3125 -3.90625 L -3.6875 -2.796875 C -2.671875 -1.015625 -1.875 -0.5 0 -0.40625 L 0 -6.078125 Z M -1.046875 -6.078125 \"/>\n",
       "</symbol>\n",
       "<symbol overflow=\"visible\" id=\"glyph1-7\">\n",
       "<path style=\"stroke:none;\" d=\"M -6.28125 -4.65625 L -1.390625 -2.921875 L -6.28125 -1.3125 L -6.28125 -0.234375 L 0.03125 -2.359375 L 1.015625 -1.984375 C 1.46875 -1.828125 1.625 -1.59375 1.625 -1.171875 C 1.625 -1.03125 1.609375 -0.859375 1.5625 -0.640625 L 2.453125 -0.640625 C 2.5625 -0.859375 2.609375 -1.0625 2.609375 -1.3125 C 2.609375 -1.640625 2.515625 -1.984375 2.3125 -2.25 C 2.09375 -2.5625 1.828125 -2.75 1.3125 -2.9375 L -6.28125 -5.734375 Z M -6.28125 -4.65625 \"/>\n",
       "</symbol>\n",
       "<symbol overflow=\"visible\" id=\"glyph1-8\">\n",
       "<path style=\"stroke:none;\" d=\"\"/>\n",
       "</symbol>\n",
       "<symbol overflow=\"visible\" id=\"glyph1-9\">\n",
       "<path style=\"stroke:none;\" d=\"M -3.75 -3.40625 L -3.75 -0.546875 L -2.875 -0.546875 L -2.875 -3.40625 Z M -3.75 -3.40625 \"/>\n",
       "</symbol>\n",
       "<symbol overflow=\"visible\" id=\"glyph1-10\">\n",
       "<path style=\"stroke:none;\" d=\"M -7.765625 -4.25 L -7.765625 -7.109375 L -8.75 -7.109375 L -8.75 -0.25 L -7.765625 -0.25 L -7.765625 -3.125 L 0 -3.125 L 0 -4.25 Z M -7.765625 -4.25 \"/>\n",
       "</symbol>\n",
       "<symbol overflow=\"visible\" id=\"glyph1-11\">\n",
       "<path style=\"stroke:none;\" d=\"M -6.28125 -1.796875 L -6.28125 -0.796875 L 0 -0.796875 L 0 -1.796875 Z M -8.75 -1.796875 L -8.75 -0.796875 L -7.484375 -0.796875 L -7.484375 -1.796875 Z M -8.75 -1.796875 \"/>\n",
       "</symbol>\n",
       "<symbol overflow=\"visible\" id=\"glyph1-12\">\n",
       "<path style=\"stroke:none;\" d=\"M -6.28125 -0.84375 L 0 -0.84375 L 0 -1.84375 L -3.953125 -1.84375 C -4.859375 -1.84375 -5.59375 -2.515625 -5.59375 -3.328125 C -5.59375 -4.0625 -5.140625 -4.484375 -4.328125 -4.484375 L 0 -4.484375 L 0 -5.5 L -3.953125 -5.5 C -4.859375 -5.5 -5.59375 -6.15625 -5.59375 -6.96875 C -5.59375 -7.703125 -5.125 -8.140625 -4.328125 -8.140625 L 0 -8.140625 L 0 -9.140625 L -4.71875 -9.140625 C -5.84375 -9.140625 -6.46875 -8.5 -6.46875 -7.3125 C -6.46875 -6.484375 -6.21875 -5.96875 -5.515625 -5.390625 C -6.1875 -5.015625 -6.46875 -4.515625 -6.46875 -3.703125 C -6.46875 -2.859375 -6.15625 -2.296875 -5.40625 -1.765625 L -6.28125 -1.765625 Z M -6.28125 -0.84375 \"/>\n",
       "</symbol>\n",
       "<symbol overflow=\"visible\" id=\"glyph1-13\">\n",
       "<path style=\"stroke:none;\" d=\"M -2.8125 -6.15625 C -3.765625 -6.15625 -4.34375 -6.078125 -4.8125 -5.90625 C -5.84375 -5.5 -6.46875 -4.53125 -6.46875 -3.359375 C -6.46875 -1.609375 -5.125 -0.484375 -3.0625 -0.484375 C -1 -0.484375 0.28125 -1.578125 0.28125 -3.34375 C 0.28125 -4.78125 -0.546875 -5.765625 -1.90625 -6.03125 L -1.90625 -5.015625 C -1.078125 -4.734375 -0.640625 -4.171875 -0.640625 -3.375 C -0.640625 -2.734375 -0.9375 -2.203125 -1.46875 -1.859375 C -1.828125 -1.625 -2.1875 -1.53125 -2.8125 -1.53125 Z M -3.625 -1.546875 C -4.78125 -1.625 -5.546875 -2.34375 -5.546875 -3.34375 C -5.546875 -4.328125 -4.734375 -5.09375 -3.703125 -5.09375 C -3.671875 -5.09375 -3.640625 -5.09375 -3.625 -5.078125 Z M -3.625 -1.546875 \"/>\n",
       "</symbol>\n",
       "<symbol overflow=\"visible\" id=\"glyph1-14\">\n",
       "<path style=\"stroke:none;\" d=\"M -8.75 -2.828125 C -7.171875 -1.625 -4.984375 -0.875 -3.109375 -0.875 C -1.21875 -0.875 0.96875 -1.625 2.546875 -2.828125 L 2.546875 -3.484375 C 0.828125 -2.4375 -1.1875 -1.84375 -3.109375 -1.84375 C -5.015625 -1.84375 -7.046875 -2.4375 -8.75 -3.484375 Z M -8.75 -2.828125 \"/>\n",
       "</symbol>\n",
       "<symbol overflow=\"visible\" id=\"glyph1-15\">\n",
       "<path style=\"stroke:none;\" d=\"M -4.53125 -5.25 C -5.765625 -5.25 -6.46875 -4.421875 -6.46875 -2.96875 C -6.46875 -1.515625 -5.71875 -0.5625 -4.546875 -0.5625 C -3.5625 -0.5625 -3.09375 -1.0625 -2.734375 -2.5625 L -2.515625 -3.484375 C -2.34375 -4.1875 -2.09375 -4.46875 -1.625 -4.46875 C -1.046875 -4.46875 -0.640625 -3.875 -0.640625 -3 C -0.640625 -2.453125 -0.796875 -2 -1.0625 -1.75 C -1.25 -1.59375 -1.421875 -1.53125 -1.875 -1.46875 L -1.875 -0.40625 C -0.421875 -0.453125 0.28125 -1.265625 0.28125 -2.921875 C 0.28125 -4.5 -0.5 -5.515625 -1.71875 -5.515625 C -2.65625 -5.515625 -3.171875 -4.984375 -3.46875 -3.734375 L -3.703125 -2.765625 C -3.890625 -1.953125 -4.15625 -1.609375 -4.59375 -1.609375 C -5.171875 -1.609375 -5.546875 -2.125 -5.546875 -2.9375 C -5.546875 -3.75 -5.203125 -4.171875 -4.53125 -4.203125 Z M -4.53125 -5.25 \"/>\n",
       "</symbol>\n",
       "<symbol overflow=\"visible\" id=\"glyph1-16\">\n",
       "<path style=\"stroke:none;\" d=\"M 2.546875 -1.109375 C 0.96875 -2.3125 -1.21875 -3.078125 -3.09375 -3.078125 C -4.984375 -3.078125 -7.171875 -2.3125 -8.75 -1.109375 L -8.75 -0.453125 C -7.03125 -1.515625 -5.015625 -2.09375 -3.09375 -2.09375 C -1.1875 -2.09375 0.84375 -1.515625 2.546875 -0.453125 Z M 2.546875 -1.109375 \"/>\n",
       "</symbol>\n",
       "<symbol overflow=\"visible\" id=\"glyph2-0\">\n",
       "<path style=\"stroke:none;\" d=\"\"/>\n",
       "</symbol>\n",
       "<symbol overflow=\"visible\" id=\"glyph2-1\">\n",
       "<path style=\"stroke:none;\" d=\"M 5.671875 -7.78125 L 4.0625 -2.125 L 2.34375 -7.78125 L 0.125 -7.78125 L 3.03125 0.3125 L 3.03125 0.375 C 3.03125 1.109375 2.484375 1.671875 1.765625 1.671875 C 1.609375 1.671875 1.5 1.65625 1.234375 1.578125 L 1.234375 3.09375 C 1.546875 3.140625 1.71875 3.15625 1.953125 3.15625 C 2.46875 3.15625 3.0625 3.046875 3.421875 2.90625 C 3.96875 2.671875 4.21875 2.34375 4.546875 1.421875 L 7.75 -7.78125 Z M 5.671875 -7.78125 \"/>\n",
       "</symbol>\n",
       "<symbol overflow=\"visible\" id=\"glyph2-2\">\n",
       "<path style=\"stroke:none;\" d=\"\"/>\n",
       "</symbol>\n",
       "<symbol overflow=\"visible\" id=\"glyph2-3\">\n",
       "<path style=\"stroke:none;\" d=\"M 7.6875 -5.921875 L 0.71875 -5.921875 L 0.71875 -4.203125 L 7.6875 -4.203125 Z M 7.6875 -2.46875 L 0.71875 -2.46875 L 0.71875 -0.75 L 7.6875 -0.75 Z M 7.6875 -2.46875 \"/>\n",
       "</symbol>\n",
       "<symbol overflow=\"visible\" id=\"glyph2-4\">\n",
       "<path style=\"stroke:none;\" d=\"M 3.9375 -10.4375 C 2.84375 -10.4375 1.90625 -9.96875 1.28125 -9.125 C 0.6875 -8.328125 0.421875 -7.015625 0.421875 -5.046875 C 0.421875 -3.234375 0.65625 -1.953125 1.140625 -1.1875 C 1.75 -0.21875 2.734375 0.328125 3.9375 0.328125 C 5.046875 0.328125 5.953125 -0.109375 6.578125 -0.984375 C 7.15625 -1.75 7.453125 -3.078125 7.453125 -4.984375 C 7.453125 -6.859375 7.21875 -8.125 6.734375 -8.921875 C 6.125 -9.890625 5.125 -10.4375 3.9375 -10.4375 Z M 3.9375 -8.796875 C 4.453125 -8.796875 4.875 -8.515625 5.109375 -7.984375 C 5.3125 -7.546875 5.4375 -6.421875 5.4375 -5.03125 C 5.4375 -3.890625 5.3125 -2.734375 5.171875 -2.328125 C 4.9375 -1.734375 4.515625 -1.390625 3.9375 -1.390625 C 3.40625 -1.390625 3 -1.671875 2.75 -2.1875 C 2.546875 -2.625 2.4375 -3.703125 2.4375 -5.0625 C 2.4375 -6.25 2.546875 -7.421875 2.6875 -7.84375 C 2.921875 -8.453125 3.359375 -8.796875 3.9375 -8.796875 Z M 3.9375 -8.796875 \"/>\n",
       "</symbol>\n",
       "<symbol overflow=\"visible\" id=\"glyph2-5\">\n",
       "<path style=\"stroke:none;\" d=\"M 3.078125 -2.109375 L 0.921875 -2.109375 L 0.921875 0 L 3.078125 0 Z M 3.078125 -2.109375 \"/>\n",
       "</symbol>\n",
       "<symbol overflow=\"visible\" id=\"glyph2-6\">\n",
       "<path style=\"stroke:none;\" d=\"M 3.421875 -7.046875 L 3.421875 0 L 5.453125 0 L 5.453125 -10.21875 L 4.109375 -10.21875 C 3.78125 -9 2.734375 -8.390625 0.984375 -8.390625 L 0.984375 -7.046875 Z M 3.421875 -7.046875 \"/>\n",
       "</symbol>\n",
       "<symbol overflow=\"visible\" id=\"glyph2-7\">\n",
       "<path style=\"stroke:none;\" d=\"M 5.109375 -3.921875 L 7.65625 -7.78125 L 5.234375 -7.78125 L 3.96875 -5.4375 L 2.703125 -7.78125 L 0.28125 -7.78125 L 2.828125 -3.921875 L 0.234375 0 L 2.65625 0 L 3.96875 -2.421875 L 5.28125 0 L 7.703125 0 Z M 5.109375 -3.921875 \"/>\n",
       "</symbol>\n",
       "<symbol overflow=\"visible\" id=\"glyph2-8\">\n",
       "<path style=\"stroke:none;\" d=\"M 7.671875 -4.1875 L 5.0625 -4.1875 L 5.0625 -6.8125 L 3.34375 -6.8125 L 3.34375 -4.1875 L 0.71875 -4.1875 L 0.71875 -2.484375 L 3.34375 -2.484375 L 3.34375 0.140625 L 5.0625 0.140625 L 5.0625 -2.484375 L 7.671875 -2.484375 Z M 7.671875 -4.1875 \"/>\n",
       "</symbol>\n",
       "<symbol overflow=\"visible\" id=\"glyph2-9\">\n",
       "<path style=\"stroke:none;\" d=\"M 7.515625 -3.9375 L 6.453125 -3.9375 L 6.453125 -10.21875 L 4.078125 -10.21875 L 0.34375 -3.96875 L 0.34375 -2.265625 L 4.4375 -2.265625 L 4.4375 0 L 6.453125 0 L 6.453125 -2.265625 L 7.515625 -2.265625 Z M 4.4375 -3.9375 L 1.765625 -3.9375 L 4.4375 -8.296875 Z M 4.4375 -3.9375 \"/>\n",
       "</symbol>\n",
       "<symbol overflow=\"visible\" id=\"glyph2-10\">\n",
       "<path style=\"stroke:none;\" d=\"M 0.546875 -2.375 C 0.59375 -0.8125 1.921875 0.34375 3.671875 0.34375 C 4.984375 0.34375 5.984375 -0.203125 6.578125 -1.234375 C 7.109375 -2.140625 7.4375 -3.6875 7.4375 -5.328125 C 7.4375 -6.8125 7.1875 -8 6.734375 -8.765625 C 6.078125 -9.859375 5.078125 -10.4375 3.84375 -10.4375 C 1.796875 -10.4375 0.40625 -8.953125 0.40625 -6.828125 C 0.40625 -4.71875 1.640625 -3.28125 3.453125 -3.28125 C 3.96875 -3.28125 4.46875 -3.421875 4.78125 -3.65625 C 4.96875 -3.78125 5.078125 -3.921875 5.421875 -4.296875 C 5.421875 -2.34375 4.875 -1.390625 3.734375 -1.390625 C 3.03125 -1.390625 2.53125 -1.765625 2.5 -2.375 Z M 3.78125 -8.78125 C 4.765625 -8.78125 5.375 -8.03125 5.375 -6.828125 C 5.375 -5.703125 4.734375 -4.953125 3.8125 -4.953125 C 2.890625 -4.953125 2.3125 -5.6875 2.3125 -6.859375 C 2.3125 -8.03125 2.890625 -8.78125 3.78125 -8.78125 Z M 3.78125 -8.78125 \"/>\n",
       "</symbol>\n",
       "<symbol overflow=\"visible\" id=\"glyph2-11\">\n",
       "<path style=\"stroke:none;\" d=\"M 3.25 -3.75 L 5.953125 -3.75 C 7.875 -3.75 9.125 -5.109375 9.125 -7.25 C 9.125 -9.34375 7.921875 -10.5 5.734375 -10.5 L 1.09375 -10.5 L 1.09375 0 L 3.25 0 Z M 3.25 -5.546875 L 3.25 -8.703125 L 5.265625 -8.703125 C 6.421875 -8.703125 6.953125 -8.203125 6.953125 -7.109375 C 6.953125 -6.046875 6.421875 -5.546875 5.265625 -5.546875 Z M 3.25 -5.546875 \"/>\n",
       "</symbol>\n",
       "<symbol overflow=\"visible\" id=\"glyph2-12\">\n",
       "<path style=\"stroke:none;\" d=\"M 7.546875 -0.25 C 7.1875 -0.578125 7.09375 -0.796875 7.09375 -1.203125 L 7.09375 -5.515625 C 7.09375 -7.109375 6 -7.90625 3.90625 -7.90625 C 1.796875 -7.90625 0.703125 -7.015625 0.578125 -5.21875 L 2.515625 -5.21875 C 2.625 -6.015625 2.953125 -6.28125 3.953125 -6.28125 C 4.71875 -6.28125 5.109375 -6.015625 5.109375 -5.5 C 5.109375 -5.25 4.984375 -5.015625 4.765625 -4.890625 C 4.5 -4.75 4.5 -4.75 3.5 -4.59375 L 2.6875 -4.453125 C 1.15625 -4.1875 0.40625 -3.40625 0.40625 -2 C 0.40625 -1.34375 0.59375 -0.796875 0.953125 -0.40625 C 1.390625 0.0625 2.078125 0.328125 2.765625 0.328125 C 3.625 0.328125 4.421875 -0.046875 5.125 -0.78125 C 5.125 -0.375 5.171875 -0.234375 5.359375 0 L 7.546875 0 Z M 5.109375 -3.125 C 5.109375 -1.953125 4.53125 -1.296875 3.515625 -1.296875 C 2.84375 -1.296875 2.421875 -1.65625 2.421875 -2.234375 C 2.421875 -2.84375 2.734375 -3.125 3.578125 -3.296875 L 4.265625 -3.421875 C 4.796875 -3.53125 4.890625 -3.5625 5.109375 -3.671875 Z M 5.109375 -3.125 \"/>\n",
       "</symbol>\n",
       "<symbol overflow=\"visible\" id=\"glyph2-13\">\n",
       "<path style=\"stroke:none;\" d=\"M 7.515625 -4.875 C 7.375 -6.765625 6.109375 -7.90625 4.15625 -7.90625 C 1.84375 -7.90625 0.484375 -6.375 0.484375 -3.734375 C 0.484375 -1.171875 1.828125 0.328125 4.140625 0.328125 C 6.015625 0.328125 7.328125 -0.828125 7.515625 -2.6875 L 5.59375 -2.6875 C 5.328125 -1.6875 4.921875 -1.296875 4.15625 -1.296875 C 3.125 -1.296875 2.5 -2.21875 2.5 -3.734375 C 2.5 -4.46875 2.65625 -5.15625 2.890625 -5.625 C 3.125 -6.046875 3.578125 -6.28125 4.15625 -6.28125 C 4.96875 -6.28125 5.359375 -5.890625 5.59375 -4.875 Z M 7.515625 -4.875 \"/>\n",
       "</symbol>\n",
       "<symbol overflow=\"visible\" id=\"glyph2-14\">\n",
       "<path style=\"stroke:none;\" d=\"M 2.859375 -4.75 L 2.859375 -10.5 L 0.84375 -10.5 L 0.84375 0 L 2.859375 0 L 2.859375 -2.546875 L 3.671875 -3.421875 L 5.53125 0 L 7.890625 0 L 5.0625 -4.84375 L 7.703125 -7.78125 L 5.421875 -7.78125 Z M 2.859375 -4.75 \"/>\n",
       "</symbol>\n",
       "<symbol overflow=\"visible\" id=\"glyph2-15\">\n",
       "<path style=\"stroke:none;\" d=\"M 7.546875 -3.25 C 7.5625 -3.421875 7.5625 -3.5 7.5625 -3.59375 C 7.5625 -4.375 7.453125 -5.09375 7.265625 -5.640625 C 6.734375 -7.0625 5.484375 -7.90625 3.921875 -7.90625 C 1.6875 -7.90625 0.3125 -6.296875 0.3125 -3.6875 C 0.3125 -1.203125 1.671875 0.328125 3.875 0.328125 C 5.625 0.328125 7.03125 -0.65625 7.484375 -2.1875 L 5.484375 -2.1875 C 5.25 -1.5625 4.6875 -1.203125 3.953125 -1.203125 C 3.375 -1.203125 2.90625 -1.453125 2.625 -1.890625 C 2.4375 -2.171875 2.359375 -2.515625 2.328125 -3.25 Z M 2.359375 -4.59375 C 2.5 -5.78125 3 -6.375 3.890625 -6.375 C 4.390625 -6.375 4.859375 -6.125 5.140625 -5.71875 C 5.328125 -5.4375 5.421875 -5.125 5.453125 -4.59375 Z M 2.359375 -4.59375 \"/>\n",
       "</symbol>\n",
       "<symbol overflow=\"visible\" id=\"glyph2-16\">\n",
       "<path style=\"stroke:none;\" d=\"M 4.34375 -7.625 L 3.21875 -7.625 L 3.21875 -9.703125 L 1.203125 -9.703125 L 1.203125 -7.625 L 0.203125 -7.625 L 0.203125 -6.28125 L 1.203125 -6.28125 L 1.203125 -1.5 C 1.203125 -0.28125 1.84375 0.328125 3.171875 0.328125 C 3.609375 0.328125 3.96875 0.28125 4.34375 0.171875 L 4.34375 -1.234375 C 4.140625 -1.203125 4.015625 -1.203125 3.875 -1.203125 C 3.34375 -1.203125 3.21875 -1.359375 3.21875 -2.046875 L 3.21875 -6.28125 L 4.34375 -6.28125 Z M 4.34375 -7.625 \"/>\n",
       "</symbol>\n",
       "<symbol overflow=\"visible\" id=\"glyph2-17\">\n",
       "<path style=\"stroke:none;\" d=\"M 8.75 -7.296875 C 8.75 -8.265625 8.53125 -8.90625 8.015625 -9.484375 C 7.296875 -10.25 6.140625 -10.671875 4.625 -10.671875 C 2.109375 -10.671875 0.640625 -9.5 0.640625 -7.453125 C 0.640625 -5.8125 1.46875 -5.03125 3.59375 -4.625 L 5.078125 -4.34375 C 6.515625 -4.0625 7.046875 -3.65625 7.046875 -2.8125 C 7.046875 -1.9375 6.234375 -1.390625 4.921875 -1.390625 C 3.453125 -1.390625 2.640625 -2.015625 2.5625 -3.140625 L 0.46875 -3.140625 C 0.59375 -0.890625 2.125 0.328125 4.8125 0.328125 C 7.515625 0.328125 9.125 -0.9375 9.125 -3.0625 C 9.125 -4.71875 8.28125 -5.59375 6.34375 -5.96875 L 4.703125 -6.28125 C 3.15625 -6.578125 2.703125 -6.890625 2.703125 -7.65625 C 2.703125 -8.4375 3.421875 -8.953125 4.53125 -8.953125 C 5.890625 -8.953125 6.65625 -8.375 6.734375 -7.296875 Z M 8.75 -7.296875 \"/>\n",
       "</symbol>\n",
       "<symbol overflow=\"visible\" id=\"glyph2-18\">\n",
       "<path style=\"stroke:none;\" d=\"M 2.984375 -7.78125 L 0.96875 -7.78125 L 0.96875 0 L 2.984375 0 Z M 2.984375 -10.5 L 0.96875 -10.5 L 0.96875 -8.703125 L 2.984375 -8.703125 Z M 2.984375 -10.5 \"/>\n",
       "</symbol>\n",
       "<symbol overflow=\"visible\" id=\"glyph2-19\">\n",
       "<path style=\"stroke:none;\" d=\"M 6.609375 -7.78125 L 0.5625 -7.78125 L 0.5625 -6.15625 L 4.15625 -6.15625 L 0.296875 -1.625 L 0.296875 0 L 6.734375 0 L 6.734375 -1.625 L 2.796875 -1.625 L 6.609375 -6.15625 Z M 6.609375 -7.78125 \"/>\n",
       "</symbol>\n",
       "<symbol overflow=\"visible\" id=\"glyph2-20\">\n",
       "<path style=\"stroke:none;\" d=\"M 5.046875 0 L 7.71875 -7.78125 L 5.59375 -7.78125 L 4.015625 -2.09375 L 2.328125 -7.78125 L 0.203125 -7.78125 L 2.921875 0 Z M 5.046875 0 \"/>\n",
       "</symbol>\n",
       "<symbol overflow=\"visible\" id=\"glyph2-21\">\n",
       "<path style=\"stroke:none;\" d=\"M 7.28125 -5.265625 C 7.25 -6.921875 5.984375 -7.90625 3.890625 -7.90625 C 1.921875 -7.90625 0.6875 -6.921875 0.6875 -5.3125 C 0.6875 -4.796875 0.84375 -4.34375 1.125 -4.046875 C 1.390625 -3.78125 1.640625 -3.640625 2.390625 -3.40625 L 4.796875 -2.65625 C 5.296875 -2.5 5.46875 -2.328125 5.46875 -2.015625 C 5.46875 -1.546875 4.90625 -1.25 3.96875 -1.25 C 3.453125 -1.25 3.046875 -1.359375 2.78125 -1.53125 C 2.5625 -1.6875 2.484375 -1.84375 2.390625 -2.265625 L 0.421875 -2.265625 C 0.46875 -0.5625 1.734375 0.328125 4.09375 0.328125 C 5.171875 0.328125 6 0.09375 6.5625 -0.359375 C 7.140625 -0.828125 7.484375 -1.546875 7.484375 -2.3125 C 7.484375 -3.3125 6.984375 -3.96875 5.96875 -4.265625 L 3.421875 -5 C 2.859375 -5.171875 2.703125 -5.28125 2.703125 -5.609375 C 2.703125 -6.03125 3.171875 -6.328125 3.875 -6.328125 C 4.84375 -6.328125 5.3125 -5.984375 5.328125 -5.265625 Z M 7.28125 -5.265625 \"/>\n",
       "</symbol>\n",
       "<symbol overflow=\"visible\" id=\"glyph2-22\">\n",
       "<path style=\"stroke:none;\" d=\"M 5.546875 -8.703125 L 8.609375 -8.703125 L 8.609375 -10.5 L 0.203125 -10.5 L 0.203125 -8.703125 L 3.390625 -8.703125 L 3.390625 0 L 5.546875 0 Z M 5.546875 -8.703125 \"/>\n",
       "</symbol>\n",
       "<symbol overflow=\"visible\" id=\"glyph2-23\">\n",
       "<path style=\"stroke:none;\" d=\"M 0.859375 -7.78125 L 0.859375 0 L 2.875 0 L 2.875 -4.671875 C 2.875 -5.625 3.40625 -6.1875 4.265625 -6.1875 C 4.9375 -6.1875 5.359375 -5.8125 5.359375 -5.1875 L 5.359375 0 L 7.375 0 L 7.375 -4.671875 C 7.375 -5.625 7.890625 -6.1875 8.765625 -6.1875 C 9.4375 -6.1875 9.859375 -5.8125 9.859375 -5.1875 L 9.859375 0 L 11.875 0 L 11.875 -5.5 C 11.875 -7.015625 10.953125 -7.90625 9.390625 -7.90625 C 8.40625 -7.90625 7.71875 -7.5625 7.109375 -6.75 C 6.734375 -7.484375 5.96875 -7.90625 5 -7.90625 C 4.109375 -7.90625 3.53125 -7.609375 2.859375 -6.8125 L 2.859375 -7.78125 Z M 0.859375 -7.78125 \"/>\n",
       "</symbol>\n",
       "<symbol overflow=\"visible\" id=\"glyph2-24\">\n",
       "<path style=\"stroke:none;\" d=\"M 4.515625 -7.625 L 3.3125 -7.625 L 3.3125 -8.390625 C 3.3125 -8.78125 3.484375 -8.984375 3.859375 -8.984375 C 4.03125 -8.984375 4.265625 -8.96875 4.4375 -8.953125 L 4.4375 -10.453125 C 4.0625 -10.484375 3.5625 -10.5 3.28125 -10.5 C 1.9375 -10.5 1.296875 -9.875 1.296875 -8.5625 L 1.296875 -7.625 L 0.203125 -7.625 L 0.203125 -6.28125 L 1.296875 -6.28125 L 1.296875 0 L 3.3125 0 L 3.3125 -6.28125 L 4.515625 -6.28125 Z M 4.515625 -7.625 \"/>\n",
       "</symbol>\n",
       "<symbol overflow=\"visible\" id=\"glyph2-25\">\n",
       "<path style=\"stroke:none;\" d=\"M 4.34375 -7.90625 C 1.953125 -7.90625 0.5 -6.34375 0.5 -3.78125 C 0.5 -1.21875 1.953125 0.328125 4.34375 0.328125 C 6.71875 0.328125 8.203125 -1.234375 8.203125 -3.734375 C 8.203125 -6.375 6.765625 -7.90625 4.34375 -7.90625 Z M 4.34375 -6.28125 C 5.453125 -6.28125 6.1875 -5.28125 6.1875 -3.765625 C 6.1875 -2.3125 5.4375 -1.296875 4.34375 -1.296875 C 3.25 -1.296875 2.515625 -2.3125 2.515625 -3.78125 C 2.515625 -5.265625 3.25 -6.28125 4.34375 -6.28125 Z M 4.34375 -6.28125 \"/>\n",
       "</symbol>\n",
       "<symbol overflow=\"visible\" id=\"glyph2-26\">\n",
       "<path style=\"stroke:none;\" d=\"M 0.90625 -7.78125 L 0.90625 0 L 2.921875 0 L 2.921875 -4.140625 C 2.921875 -5.3125 3.515625 -5.90625 4.703125 -5.90625 C 4.90625 -5.90625 5.0625 -5.890625 5.328125 -5.84375 L 5.328125 -7.890625 C 5.21875 -7.90625 5.140625 -7.90625 5.078125 -7.90625 C 4.15625 -7.90625 3.359375 -7.296875 2.921875 -6.25 L 2.921875 -7.78125 Z M 0.90625 -7.78125 \"/>\n",
       "</symbol>\n",
       "<symbol overflow=\"visible\" id=\"glyph2-27\">\n",
       "<path style=\"stroke:none;\" d=\"M 3.109375 -8.1875 L 5 0 L 7.15625 0 L 9.015625 -8.1875 L 9.015625 0 L 11.171875 0 L 11.171875 -10.5 L 7.921875 -10.5 L 6.078125 -2.140625 L 4.171875 -10.5 L 0.953125 -10.5 L 0.953125 0 L 3.109375 0 Z M 3.109375 -8.1875 \"/>\n",
       "</symbol>\n",
       "<symbol overflow=\"visible\" id=\"glyph2-28\">\n",
       "<path style=\"stroke:none;\" d=\"M 1.1875 0 L 5.90625 0 C 7.109375 0 7.921875 -0.234375 8.5625 -0.765625 C 9.1875 -1.296875 9.59375 -2.1875 9.59375 -3.03125 C 9.59375 -4.0625 9.03125 -4.890625 7.84375 -5.578125 C 8.890625 -6.234375 9.296875 -6.84375 9.296875 -7.734375 C 9.296875 -8.453125 8.9375 -9.21875 8.34375 -9.734375 C 7.71875 -10.265625 6.984375 -10.5 5.859375 -10.5 L 1.1875 -10.5 Z M 3.34375 -8.703125 L 5.6875 -8.703125 C 6.6875 -8.703125 7.21875 -8.28125 7.21875 -7.5 C 7.21875 -6.734375 6.6875 -6.328125 5.6875 -6.328125 L 3.34375 -6.328125 Z M 3.34375 -4.53125 L 5.921875 -4.53125 C 6.96875 -4.53125 7.515625 -4.046875 7.515625 -3.15625 C 7.515625 -2.28125 6.96875 -1.796875 5.921875 -1.796875 L 3.34375 -1.796875 Z M 3.34375 -4.53125 \"/>\n",
       "</symbol>\n",
       "<symbol overflow=\"visible\" id=\"glyph2-29\">\n",
       "<path style=\"stroke:none;\" d=\"M 7.359375 0 L 9.515625 0 L 9.515625 -10.5 L 7.359375 -10.5 L 7.359375 -3.359375 L 3.203125 -10.5 L 0.984375 -10.5 L 0.984375 0 L 3.140625 0 L 3.140625 -7.265625 Z M 7.359375 0 \"/>\n",
       "</symbol>\n",
       "<symbol overflow=\"visible\" id=\"glyph2-30\">\n",
       "<path style=\"stroke:none;\" d=\"M 8.828125 0 L 11.03125 -7.78125 L 8.953125 -7.78125 L 7.765625 -2.328125 L 6.59375 -7.78125 L 4.578125 -7.78125 L 3.40625 -2.328125 L 2.15625 -7.78125 L 0.078125 -7.78125 L 2.265625 0 L 4.34375 0 L 5.578125 -5.484375 L 6.734375 0 Z M 8.828125 0 \"/>\n",
       "</symbol>\n",
       "</g>\n",
       "<clipPath id=\"clip1\">\n",
       "  <path d=\"M 59.039062 59.039062 L 474.757812 59.039062 L 474.757812 431.558594 L 59.039062 431.558594 Z M 59.039062 59.039062 \"/>\n",
       "</clipPath>\n",
       "</defs>\n",
       "<g id=\"surface88\">\n",
       "<rect x=\"0\" y=\"0\" width=\"504\" height=\"504\" style=\"fill:rgb(100%,100%,100%);fill-opacity:1;stroke:none;\"/>\n",
       "<path style=\"fill:none;stroke-width:0.75;stroke-linecap:round;stroke-linejoin:round;stroke:rgb(0%,0%,0%);stroke-opacity:1;stroke-miterlimit:10;\" d=\"M 77.101562 413.261719 C 77.101562 416.863281 71.699219 416.863281 71.699219 413.261719 C 71.699219 409.664062 77.101562 409.664062 77.101562 413.261719 \"/>\n",
       "<path style=\"fill:none;stroke-width:0.75;stroke-linecap:round;stroke-linejoin:round;stroke:rgb(0%,0%,0%);stroke-opacity:1;stroke-miterlimit:10;\" d=\"M 77.101562 416.800781 C 77.101562 420.398438 71.699219 420.398438 71.699219 416.800781 C 71.699219 413.199219 77.101562 413.199219 77.101562 416.800781 \"/>\n",
       "<path style=\"fill:none;stroke-width:0.75;stroke-linecap:round;stroke-linejoin:round;stroke:rgb(0%,0%,0%);stroke-opacity:1;stroke-miterlimit:10;\" d=\"M 77.101562 416.800781 C 77.101562 420.398438 71.699219 420.398438 71.699219 416.800781 C 71.699219 413.199219 77.101562 413.199219 77.101562 416.800781 \"/>\n",
       "<path style=\"fill:none;stroke-width:0.75;stroke-linecap:round;stroke-linejoin:round;stroke:rgb(0%,0%,0%);stroke-opacity:1;stroke-miterlimit:10;\" d=\"M 77.101562 416.800781 C 77.101562 420.398438 71.699219 420.398438 71.699219 416.800781 C 71.699219 413.199219 77.101562 413.199219 77.101562 416.800781 \"/>\n",
       "<path style=\"fill:none;stroke-width:0.75;stroke-linecap:round;stroke-linejoin:round;stroke:rgb(0%,0%,0%);stroke-opacity:1;stroke-miterlimit:10;\" d=\"M 77.101562 416.800781 C 77.101562 420.398438 71.699219 420.398438 71.699219 416.800781 C 71.699219 413.199219 77.101562 413.199219 77.101562 416.800781 \"/>\n",
       "<path style=\"fill:none;stroke-width:0.75;stroke-linecap:round;stroke-linejoin:round;stroke:rgb(0%,0%,0%);stroke-opacity:1;stroke-miterlimit:10;\" d=\"M 112.007812 388.585938 C 112.007812 392.1875 106.609375 392.1875 106.609375 388.585938 C 106.609375 384.984375 112.007812 384.984375 112.007812 388.585938 \"/>\n",
       "<path style=\"fill:none;stroke-width:0.75;stroke-linecap:round;stroke-linejoin:round;stroke:rgb(0%,0%,0%);stroke-opacity:1;stroke-miterlimit:10;\" d=\"M 112.007812 388.585938 C 112.007812 392.1875 106.609375 392.1875 106.609375 388.585938 C 106.609375 384.984375 112.007812 384.984375 112.007812 388.585938 \"/>\n",
       "<path style=\"fill:none;stroke-width:0.75;stroke-linecap:round;stroke-linejoin:round;stroke:rgb(0%,0%,0%);stroke-opacity:1;stroke-miterlimit:10;\" d=\"M 112.007812 388.585938 C 112.007812 392.1875 106.609375 392.1875 106.609375 388.585938 C 106.609375 384.984375 112.007812 384.984375 112.007812 388.585938 \"/>\n",
       "<path style=\"fill:none;stroke-width:0.75;stroke-linecap:round;stroke-linejoin:round;stroke:rgb(0%,0%,0%);stroke-opacity:1;stroke-miterlimit:10;\" d=\"M 112.007812 388.585938 C 112.007812 392.1875 106.609375 392.1875 106.609375 388.585938 C 106.609375 384.984375 112.007812 384.984375 112.007812 388.585938 \"/>\n",
       "<path style=\"fill:none;stroke-width:0.75;stroke-linecap:round;stroke-linejoin:round;stroke:rgb(0%,0%,0%);stroke-opacity:1;stroke-miterlimit:10;\" d=\"M 112.007812 388.585938 C 112.007812 392.1875 106.609375 392.1875 106.609375 388.585938 C 106.609375 384.984375 112.007812 384.984375 112.007812 388.585938 \"/>\n",
       "<path style=\"fill:none;stroke-width:0.75;stroke-linecap:round;stroke-linejoin:round;stroke:rgb(0%,0%,0%);stroke-opacity:1;stroke-miterlimit:10;\" d=\"M 146.917969 354.878906 C 146.917969 358.476562 141.519531 358.476562 141.519531 354.878906 C 141.519531 351.277344 146.917969 351.277344 146.917969 354.878906 \"/>\n",
       "<path style=\"fill:none;stroke-width:0.75;stroke-linecap:round;stroke-linejoin:round;stroke:rgb(0%,0%,0%);stroke-opacity:1;stroke-miterlimit:10;\" d=\"M 146.917969 354.878906 C 146.917969 358.476562 141.519531 358.476562 141.519531 354.878906 C 141.519531 351.277344 146.917969 351.277344 146.917969 354.878906 \"/>\n",
       "<path style=\"fill:none;stroke-width:0.75;stroke-linecap:round;stroke-linejoin:round;stroke:rgb(0%,0%,0%);stroke-opacity:1;stroke-miterlimit:10;\" d=\"M 146.917969 354.878906 C 146.917969 358.476562 141.519531 358.476562 141.519531 354.878906 C 141.519531 351.277344 146.917969 351.277344 146.917969 354.878906 \"/>\n",
       "<path style=\"fill:none;stroke-width:0.75;stroke-linecap:round;stroke-linejoin:round;stroke:rgb(0%,0%,0%);stroke-opacity:1;stroke-miterlimit:10;\" d=\"M 146.917969 354.878906 C 146.917969 358.476562 141.519531 358.476562 141.519531 354.878906 C 141.519531 351.277344 146.917969 351.277344 146.917969 354.878906 \"/>\n",
       "<path style=\"fill:none;stroke-width:0.75;stroke-linecap:round;stroke-linejoin:round;stroke:rgb(0%,0%,0%);stroke-opacity:1;stroke-miterlimit:10;\" d=\"M 146.917969 354.878906 C 146.917969 358.476562 141.519531 358.476562 141.519531 354.878906 C 141.519531 351.277344 146.917969 351.277344 146.917969 354.878906 \"/>\n",
       "<path style=\"fill:none;stroke-width:0.75;stroke-linecap:round;stroke-linejoin:round;stroke:rgb(0%,0%,0%);stroke-opacity:1;stroke-miterlimit:10;\" d=\"M 181.828125 322.078125 C 181.828125 325.675781 176.425781 325.675781 176.425781 322.078125 C 176.425781 318.476562 181.828125 318.476562 181.828125 322.078125 \"/>\n",
       "<path style=\"fill:none;stroke-width:0.75;stroke-linecap:round;stroke-linejoin:round;stroke:rgb(0%,0%,0%);stroke-opacity:1;stroke-miterlimit:10;\" d=\"M 181.828125 322.078125 C 181.828125 325.675781 176.425781 325.675781 176.425781 322.078125 C 176.425781 318.476562 181.828125 318.476562 181.828125 322.078125 \"/>\n",
       "<path style=\"fill:none;stroke-width:0.75;stroke-linecap:round;stroke-linejoin:round;stroke:rgb(0%,0%,0%);stroke-opacity:1;stroke-miterlimit:10;\" d=\"M 181.828125 322.078125 C 181.828125 325.675781 176.425781 325.675781 176.425781 322.078125 C 176.425781 318.476562 181.828125 318.476562 181.828125 322.078125 \"/>\n",
       "<path style=\"fill:none;stroke-width:0.75;stroke-linecap:round;stroke-linejoin:round;stroke:rgb(0%,0%,0%);stroke-opacity:1;stroke-miterlimit:10;\" d=\"M 181.828125 322.078125 C 181.828125 325.675781 176.425781 325.675781 176.425781 322.078125 C 176.425781 318.476562 181.828125 318.476562 181.828125 322.078125 \"/>\n",
       "<path style=\"fill:none;stroke-width:0.75;stroke-linecap:round;stroke-linejoin:round;stroke:rgb(0%,0%,0%);stroke-opacity:1;stroke-miterlimit:10;\" d=\"M 181.828125 322.078125 C 181.828125 325.675781 176.425781 325.675781 176.425781 322.078125 C 176.425781 318.476562 181.828125 318.476562 181.828125 322.078125 \"/>\n",
       "<path style=\"fill:none;stroke-width:0.75;stroke-linecap:round;stroke-linejoin:round;stroke:rgb(0%,0%,0%);stroke-opacity:1;stroke-miterlimit:10;\" d=\"M 216.738281 288.386719 C 216.738281 291.984375 211.335938 291.984375 211.335938 288.386719 C 211.335938 284.785156 216.738281 284.785156 216.738281 288.386719 \"/>\n",
       "<path style=\"fill:none;stroke-width:0.75;stroke-linecap:round;stroke-linejoin:round;stroke:rgb(0%,0%,0%);stroke-opacity:1;stroke-miterlimit:10;\" d=\"M 216.738281 288.386719 C 216.738281 291.984375 211.335938 291.984375 211.335938 288.386719 C 211.335938 284.785156 216.738281 284.785156 216.738281 288.386719 \"/>\n",
       "<path style=\"fill:none;stroke-width:0.75;stroke-linecap:round;stroke-linejoin:round;stroke:rgb(0%,0%,0%);stroke-opacity:1;stroke-miterlimit:10;\" d=\"M 216.738281 288.386719 C 216.738281 291.984375 211.335938 291.984375 211.335938 288.386719 C 211.335938 284.785156 216.738281 284.785156 216.738281 288.386719 \"/>\n",
       "<path style=\"fill:none;stroke-width:0.75;stroke-linecap:round;stroke-linejoin:round;stroke:rgb(0%,0%,0%);stroke-opacity:1;stroke-miterlimit:10;\" d=\"M 216.738281 295.089844 C 216.738281 298.6875 211.335938 298.6875 211.335938 295.089844 C 211.335938 291.488281 216.738281 291.488281 216.738281 295.089844 \"/>\n",
       "<path style=\"fill:none;stroke-width:0.75;stroke-linecap:round;stroke-linejoin:round;stroke:rgb(0%,0%,0%);stroke-opacity:1;stroke-miterlimit:10;\" d=\"M 216.738281 288.386719 C 216.738281 291.984375 211.335938 291.984375 211.335938 288.386719 C 211.335938 284.785156 216.738281 284.785156 216.738281 288.386719 \"/>\n",
       "<path style=\"fill:none;stroke-width:0.75;stroke-linecap:round;stroke-linejoin:round;stroke:rgb(0%,0%,0%);stroke-opacity:1;stroke-miterlimit:10;\" d=\"M 251.644531 257.179688 C 251.644531 260.777344 246.246094 260.777344 246.246094 257.179688 C 246.246094 253.578125 251.644531 253.578125 251.644531 257.179688 \"/>\n",
       "<path style=\"fill:none;stroke-width:0.75;stroke-linecap:round;stroke-linejoin:round;stroke:rgb(0%,0%,0%);stroke-opacity:1;stroke-miterlimit:10;\" d=\"M 251.644531 257.179688 C 251.644531 260.777344 246.246094 260.777344 246.246094 257.179688 C 246.246094 253.578125 251.644531 253.578125 251.644531 257.179688 \"/>\n",
       "<path style=\"fill:none;stroke-width:0.75;stroke-linecap:round;stroke-linejoin:round;stroke:rgb(0%,0%,0%);stroke-opacity:1;stroke-miterlimit:10;\" d=\"M 251.644531 257.179688 C 251.644531 260.777344 246.246094 260.777344 246.246094 257.179688 C 246.246094 253.578125 251.644531 253.578125 251.644531 257.179688 \"/>\n",
       "<path style=\"fill:none;stroke-width:0.75;stroke-linecap:round;stroke-linejoin:round;stroke:rgb(0%,0%,0%);stroke-opacity:1;stroke-miterlimit:10;\" d=\"M 251.644531 257.179688 C 251.644531 260.777344 246.246094 260.777344 246.246094 257.179688 C 246.246094 253.578125 251.644531 253.578125 251.644531 257.179688 \"/>\n",
       "<path style=\"fill:none;stroke-width:0.75;stroke-linecap:round;stroke-linejoin:round;stroke:rgb(0%,0%,0%);stroke-opacity:1;stroke-miterlimit:10;\" d=\"M 251.644531 257.179688 C 251.644531 260.777344 246.246094 260.777344 246.246094 257.179688 C 246.246094 253.578125 251.644531 253.578125 251.644531 257.179688 \"/>\n",
       "<path style=\"fill:none;stroke-width:0.75;stroke-linecap:round;stroke-linejoin:round;stroke:rgb(0%,0%,0%);stroke-opacity:1;stroke-miterlimit:10;\" d=\"M 286.554688 232.828125 C 286.554688 236.425781 281.15625 236.425781 281.15625 232.828125 C 281.15625 229.226562 286.554688 229.226562 286.554688 232.828125 \"/>\n",
       "<path style=\"fill:none;stroke-width:0.75;stroke-linecap:round;stroke-linejoin:round;stroke:rgb(0%,0%,0%);stroke-opacity:1;stroke-miterlimit:10;\" d=\"M 286.554688 232.828125 C 286.554688 236.425781 281.15625 236.425781 281.15625 232.828125 C 281.15625 229.226562 286.554688 229.226562 286.554688 232.828125 \"/>\n",
       "<path style=\"fill:none;stroke-width:0.75;stroke-linecap:round;stroke-linejoin:round;stroke:rgb(0%,0%,0%);stroke-opacity:1;stroke-miterlimit:10;\" d=\"M 286.554688 232.828125 C 286.554688 236.425781 281.15625 236.425781 281.15625 232.828125 C 281.15625 229.226562 286.554688 229.226562 286.554688 232.828125 \"/>\n",
       "<path style=\"fill:none;stroke-width:0.75;stroke-linecap:round;stroke-linejoin:round;stroke:rgb(0%,0%,0%);stroke-opacity:1;stroke-miterlimit:10;\" d=\"M 286.554688 232.828125 C 286.554688 236.425781 281.15625 236.425781 281.15625 232.828125 C 281.15625 229.226562 286.554688 229.226562 286.554688 232.828125 \"/>\n",
       "<path style=\"fill:none;stroke-width:0.75;stroke-linecap:round;stroke-linejoin:round;stroke:rgb(0%,0%,0%);stroke-opacity:1;stroke-miterlimit:10;\" d=\"M 286.554688 232.828125 C 286.554688 236.425781 281.15625 236.425781 281.15625 232.828125 C 281.15625 229.226562 286.554688 229.226562 286.554688 232.828125 \"/>\n",
       "<path style=\"fill:none;stroke-width:0.75;stroke-linecap:round;stroke-linejoin:round;stroke:rgb(0%,0%,0%);stroke-opacity:1;stroke-miterlimit:10;\" d=\"M 321.464844 201.105469 C 321.464844 204.703125 316.0625 204.703125 316.0625 201.105469 C 316.0625 197.503906 321.464844 197.503906 321.464844 201.105469 \"/>\n",
       "<path style=\"fill:none;stroke-width:0.75;stroke-linecap:round;stroke-linejoin:round;stroke:rgb(0%,0%,0%);stroke-opacity:1;stroke-miterlimit:10;\" d=\"M 321.464844 201.105469 C 321.464844 204.703125 316.0625 204.703125 316.0625 201.105469 C 316.0625 197.503906 321.464844 197.503906 321.464844 201.105469 \"/>\n",
       "<path style=\"fill:none;stroke-width:0.75;stroke-linecap:round;stroke-linejoin:round;stroke:rgb(0%,0%,0%);stroke-opacity:1;stroke-miterlimit:10;\" d=\"M 321.464844 201.105469 C 321.464844 204.703125 316.0625 204.703125 316.0625 201.105469 C 316.0625 197.503906 321.464844 197.503906 321.464844 201.105469 \"/>\n",
       "<path style=\"fill:none;stroke-width:0.75;stroke-linecap:round;stroke-linejoin:round;stroke:rgb(0%,0%,0%);stroke-opacity:1;stroke-miterlimit:10;\" d=\"M 321.464844 201.105469 C 321.464844 204.703125 316.0625 204.703125 316.0625 201.105469 C 316.0625 197.503906 321.464844 197.503906 321.464844 201.105469 \"/>\n",
       "<path style=\"fill:none;stroke-width:0.75;stroke-linecap:round;stroke-linejoin:round;stroke:rgb(0%,0%,0%);stroke-opacity:1;stroke-miterlimit:10;\" d=\"M 321.464844 201.105469 C 321.464844 204.703125 316.0625 204.703125 316.0625 201.105469 C 316.0625 197.503906 321.464844 197.503906 321.464844 201.105469 \"/>\n",
       "<path style=\"fill:none;stroke-width:0.75;stroke-linecap:round;stroke-linejoin:round;stroke:rgb(0%,0%,0%);stroke-opacity:1;stroke-miterlimit:10;\" d=\"M 356.371094 168.707031 C 356.371094 172.304688 350.972656 172.304688 350.972656 168.707031 C 350.972656 165.105469 356.371094 165.105469 356.371094 168.707031 \"/>\n",
       "<path style=\"fill:none;stroke-width:0.75;stroke-linecap:round;stroke-linejoin:round;stroke:rgb(0%,0%,0%);stroke-opacity:1;stroke-miterlimit:10;\" d=\"M 356.371094 168.707031 C 356.371094 172.304688 350.972656 172.304688 350.972656 168.707031 C 350.972656 165.105469 356.371094 165.105469 356.371094 168.707031 \"/>\n",
       "<path style=\"fill:none;stroke-width:0.75;stroke-linecap:round;stroke-linejoin:round;stroke:rgb(0%,0%,0%);stroke-opacity:1;stroke-miterlimit:10;\" d=\"M 356.371094 168.707031 C 356.371094 172.304688 350.972656 172.304688 350.972656 168.707031 C 350.972656 165.105469 356.371094 165.105469 356.371094 168.707031 \"/>\n",
       "<path style=\"fill:none;stroke-width:0.75;stroke-linecap:round;stroke-linejoin:round;stroke:rgb(0%,0%,0%);stroke-opacity:1;stroke-miterlimit:10;\" d=\"M 356.371094 168.707031 C 356.371094 172.304688 350.972656 172.304688 350.972656 168.707031 C 350.972656 165.105469 356.371094 165.105469 356.371094 168.707031 \"/>\n",
       "<path style=\"fill:none;stroke-width:0.75;stroke-linecap:round;stroke-linejoin:round;stroke:rgb(0%,0%,0%);stroke-opacity:1;stroke-miterlimit:10;\" d=\"M 356.371094 168.707031 C 356.371094 172.304688 350.972656 172.304688 350.972656 168.707031 C 350.972656 165.105469 356.371094 165.105469 356.371094 168.707031 \"/>\n",
       "<path style=\"fill:none;stroke-width:0.75;stroke-linecap:round;stroke-linejoin:round;stroke:rgb(0%,0%,0%);stroke-opacity:1;stroke-miterlimit:10;\" d=\"M 391.28125 130.421875 C 391.28125 134.023438 385.882812 134.023438 385.882812 130.421875 C 385.882812 126.820312 391.28125 126.820312 391.28125 130.421875 \"/>\n",
       "<path style=\"fill:none;stroke-width:0.75;stroke-linecap:round;stroke-linejoin:round;stroke:rgb(0%,0%,0%);stroke-opacity:1;stroke-miterlimit:10;\" d=\"M 391.28125 130.421875 C 391.28125 134.023438 385.882812 134.023438 385.882812 130.421875 C 385.882812 126.820312 391.28125 126.820312 391.28125 130.421875 \"/>\n",
       "<path style=\"fill:none;stroke-width:0.75;stroke-linecap:round;stroke-linejoin:round;stroke:rgb(0%,0%,0%);stroke-opacity:1;stroke-miterlimit:10;\" d=\"M 391.28125 141.105469 C 391.28125 144.703125 385.882812 144.703125 385.882812 141.105469 C 385.882812 137.503906 391.28125 137.503906 391.28125 141.105469 \"/>\n",
       "<path style=\"fill:none;stroke-width:0.75;stroke-linecap:round;stroke-linejoin:round;stroke:rgb(0%,0%,0%);stroke-opacity:1;stroke-miterlimit:10;\" d=\"M 391.28125 130.421875 C 391.28125 134.023438 385.882812 134.023438 385.882812 130.421875 C 385.882812 126.820312 391.28125 126.820312 391.28125 130.421875 \"/>\n",
       "<path style=\"fill:none;stroke-width:0.75;stroke-linecap:round;stroke-linejoin:round;stroke:rgb(0%,0%,0%);stroke-opacity:1;stroke-miterlimit:10;\" d=\"M 391.28125 130.421875 C 391.28125 134.023438 385.882812 134.023438 385.882812 130.421875 C 385.882812 126.820312 391.28125 126.820312 391.28125 130.421875 \"/>\n",
       "<path style=\"fill:none;stroke-width:0.75;stroke-linecap:round;stroke-linejoin:round;stroke:rgb(0%,0%,0%);stroke-opacity:1;stroke-miterlimit:10;\" d=\"M 426.191406 96.8125 C 426.191406 100.414062 420.789062 100.414062 420.789062 96.8125 C 420.789062 93.210938 426.191406 93.210938 426.191406 96.8125 \"/>\n",
       "<path style=\"fill:none;stroke-width:0.75;stroke-linecap:round;stroke-linejoin:round;stroke:rgb(0%,0%,0%);stroke-opacity:1;stroke-miterlimit:10;\" d=\"M 426.191406 96.8125 C 426.191406 100.414062 420.789062 100.414062 420.789062 96.8125 C 420.789062 93.210938 426.191406 93.210938 426.191406 96.8125 \"/>\n",
       "<path style=\"fill:none;stroke-width:0.75;stroke-linecap:round;stroke-linejoin:round;stroke:rgb(0%,0%,0%);stroke-opacity:1;stroke-miterlimit:10;\" d=\"M 426.191406 108.003906 C 426.191406 111.601562 420.789062 111.601562 420.789062 108.003906 C 420.789062 104.402344 426.191406 104.402344 426.191406 108.003906 \"/>\n",
       "<path style=\"fill:none;stroke-width:0.75;stroke-linecap:round;stroke-linejoin:round;stroke:rgb(0%,0%,0%);stroke-opacity:1;stroke-miterlimit:10;\" d=\"M 426.191406 108.003906 C 426.191406 111.601562 420.789062 111.601562 420.789062 108.003906 C 420.789062 104.402344 426.191406 104.402344 426.191406 108.003906 \"/>\n",
       "<path style=\"fill:none;stroke-width:0.75;stroke-linecap:round;stroke-linejoin:round;stroke:rgb(0%,0%,0%);stroke-opacity:1;stroke-miterlimit:10;\" d=\"M 426.191406 108.003906 C 426.191406 111.601562 420.789062 111.601562 420.789062 108.003906 C 420.789062 104.402344 426.191406 104.402344 426.191406 108.003906 \"/>\n",
       "<path style=\"fill:none;stroke-width:0.75;stroke-linecap:round;stroke-linejoin:round;stroke:rgb(0%,0%,0%);stroke-opacity:1;stroke-miterlimit:10;\" d=\"M 461.101562 72.800781 C 461.101562 76.398438 455.699219 76.398438 455.699219 72.800781 C 455.699219 69.199219 461.101562 69.199219 461.101562 72.800781 \"/>\n",
       "<path style=\"fill:none;stroke-width:0.75;stroke-linecap:round;stroke-linejoin:round;stroke:rgb(0%,0%,0%);stroke-opacity:1;stroke-miterlimit:10;\" d=\"M 461.101562 72.800781 C 461.101562 76.398438 455.699219 76.398438 455.699219 72.800781 C 455.699219 69.199219 461.101562 69.199219 461.101562 72.800781 \"/>\n",
       "<path style=\"fill:none;stroke-width:0.75;stroke-linecap:round;stroke-linejoin:round;stroke:rgb(0%,0%,0%);stroke-opacity:1;stroke-miterlimit:10;\" d=\"M 461.101562 72.800781 C 461.101562 76.398438 455.699219 76.398438 455.699219 72.800781 C 455.699219 69.199219 461.101562 69.199219 461.101562 72.800781 \"/>\n",
       "<path style=\"fill:none;stroke-width:0.75;stroke-linecap:round;stroke-linejoin:round;stroke:rgb(0%,0%,0%);stroke-opacity:1;stroke-miterlimit:10;\" d=\"M 461.101562 72.800781 C 461.101562 76.398438 455.699219 76.398438 455.699219 72.800781 C 455.699219 69.199219 461.101562 69.199219 461.101562 72.800781 \"/>\n",
       "<path style=\"fill:none;stroke-width:0.75;stroke-linecap:round;stroke-linejoin:round;stroke:rgb(0%,0%,0%);stroke-opacity:1;stroke-miterlimit:10;\" d=\"M 461.101562 72.800781 C 461.101562 76.398438 455.699219 76.398438 455.699219 72.800781 C 455.699219 69.199219 461.101562 69.199219 461.101562 72.800781 \"/>\n",
       "<path style=\"fill:none;stroke-width:0.75;stroke-linecap:round;stroke-linejoin:round;stroke:rgb(0%,0%,0%);stroke-opacity:1;stroke-miterlimit:10;\" d=\"M 91.855469 430.558594 L 440.945312 430.558594 \"/>\n",
       "<path style=\"fill:none;stroke-width:0.75;stroke-linecap:round;stroke-linejoin:round;stroke:rgb(0%,0%,0%);stroke-opacity:1;stroke-miterlimit:10;\" d=\"M 91.855469 430.558594 L 91.855469 437.761719 \"/>\n",
       "<path style=\"fill:none;stroke-width:0.75;stroke-linecap:round;stroke-linejoin:round;stroke:rgb(0%,0%,0%);stroke-opacity:1;stroke-miterlimit:10;\" d=\"M 161.671875 430.558594 L 161.671875 437.761719 \"/>\n",
       "<path style=\"fill:none;stroke-width:0.75;stroke-linecap:round;stroke-linejoin:round;stroke:rgb(0%,0%,0%);stroke-opacity:1;stroke-miterlimit:10;\" d=\"M 231.492188 430.558594 L 231.492188 437.761719 \"/>\n",
       "<path style=\"fill:none;stroke-width:0.75;stroke-linecap:round;stroke-linejoin:round;stroke:rgb(0%,0%,0%);stroke-opacity:1;stroke-miterlimit:10;\" d=\"M 301.308594 430.558594 L 301.308594 437.761719 \"/>\n",
       "<path style=\"fill:none;stroke-width:0.75;stroke-linecap:round;stroke-linejoin:round;stroke:rgb(0%,0%,0%);stroke-opacity:1;stroke-miterlimit:10;\" d=\"M 371.128906 430.558594 L 371.128906 437.761719 \"/>\n",
       "<path style=\"fill:none;stroke-width:0.75;stroke-linecap:round;stroke-linejoin:round;stroke:rgb(0%,0%,0%);stroke-opacity:1;stroke-miterlimit:10;\" d=\"M 440.945312 430.558594 L 440.945312 437.761719 \"/>\n",
       "<g style=\"fill:rgb(0%,0%,0%);fill-opacity:1;\">\n",
       "  <use xlink:href=\"#glyph0-1\" x=\"81.355469\" y=\"455.916016\"/>\n",
       "  <use xlink:href=\"#glyph0-2\" x=\"88.027344\" y=\"455.916016\"/>\n",
       "  <use xlink:href=\"#glyph0-2\" x=\"94.699219\" y=\"455.916016\"/>\n",
       "</g>\n",
       "<g style=\"fill:rgb(0%,0%,0%);fill-opacity:1;\">\n",
       "  <use xlink:href=\"#glyph0-3\" x=\"151.171875\" y=\"455.916016\"/>\n",
       "  <use xlink:href=\"#glyph0-2\" x=\"157.84375\" y=\"455.916016\"/>\n",
       "  <use xlink:href=\"#glyph0-2\" x=\"164.515625\" y=\"455.916016\"/>\n",
       "</g>\n",
       "<g style=\"fill:rgb(0%,0%,0%);fill-opacity:1;\">\n",
       "  <use xlink:href=\"#glyph0-4\" x=\"220.992188\" y=\"455.916016\"/>\n",
       "  <use xlink:href=\"#glyph0-2\" x=\"227.664062\" y=\"455.916016\"/>\n",
       "  <use xlink:href=\"#glyph0-2\" x=\"234.335938\" y=\"455.916016\"/>\n",
       "</g>\n",
       "<g style=\"fill:rgb(0%,0%,0%);fill-opacity:1;\">\n",
       "  <use xlink:href=\"#glyph0-5\" x=\"287.808594\" y=\"455.916016\"/>\n",
       "  <use xlink:href=\"#glyph0-2\" x=\"294.480469\" y=\"455.916016\"/>\n",
       "  <use xlink:href=\"#glyph0-2\" x=\"301.152344\" y=\"455.916016\"/>\n",
       "  <use xlink:href=\"#glyph0-2\" x=\"307.824219\" y=\"455.916016\"/>\n",
       "</g>\n",
       "<g style=\"fill:rgb(0%,0%,0%);fill-opacity:1;\">\n",
       "  <use xlink:href=\"#glyph0-5\" x=\"357.628906\" y=\"455.916016\"/>\n",
       "  <use xlink:href=\"#glyph0-6\" x=\"364.300781\" y=\"455.916016\"/>\n",
       "  <use xlink:href=\"#glyph0-2\" x=\"370.972656\" y=\"455.916016\"/>\n",
       "  <use xlink:href=\"#glyph0-2\" x=\"377.644531\" y=\"455.916016\"/>\n",
       "</g>\n",
       "<g style=\"fill:rgb(0%,0%,0%);fill-opacity:1;\">\n",
       "  <use xlink:href=\"#glyph0-5\" x=\"427.445312\" y=\"455.916016\"/>\n",
       "  <use xlink:href=\"#glyph0-1\" x=\"434.117188\" y=\"455.916016\"/>\n",
       "  <use xlink:href=\"#glyph0-2\" x=\"440.789062\" y=\"455.916016\"/>\n",
       "  <use xlink:href=\"#glyph0-2\" x=\"447.460938\" y=\"455.916016\"/>\n",
       "</g>\n",
       "<path style=\"fill:none;stroke-width:0.75;stroke-linecap:round;stroke-linejoin:round;stroke:rgb(0%,0%,0%);stroke-opacity:1;stroke-miterlimit:10;\" d=\"M 59.039062 420.128906 L 59.039062 79.835938 \"/>\n",
       "<path style=\"fill:none;stroke-width:0.75;stroke-linecap:round;stroke-linejoin:round;stroke:rgb(0%,0%,0%);stroke-opacity:1;stroke-miterlimit:10;\" d=\"M 59.039062 420.128906 L 51.839844 420.128906 \"/>\n",
       "<path style=\"fill:none;stroke-width:0.75;stroke-linecap:round;stroke-linejoin:round;stroke:rgb(0%,0%,0%);stroke-opacity:1;stroke-miterlimit:10;\" d=\"M 59.039062 335.058594 L 51.839844 335.058594 \"/>\n",
       "<path style=\"fill:none;stroke-width:0.75;stroke-linecap:round;stroke-linejoin:round;stroke:rgb(0%,0%,0%);stroke-opacity:1;stroke-miterlimit:10;\" d=\"M 59.039062 249.984375 L 51.839844 249.984375 \"/>\n",
       "<path style=\"fill:none;stroke-width:0.75;stroke-linecap:round;stroke-linejoin:round;stroke:rgb(0%,0%,0%);stroke-opacity:1;stroke-miterlimit:10;\" d=\"M 59.039062 164.910156 L 51.839844 164.910156 \"/>\n",
       "<path style=\"fill:none;stroke-width:0.75;stroke-linecap:round;stroke-linejoin:round;stroke:rgb(0%,0%,0%);stroke-opacity:1;stroke-miterlimit:10;\" d=\"M 59.039062 79.835938 L 51.839844 79.835938 \"/>\n",
       "<g style=\"fill:rgb(0%,0%,0%);fill-opacity:1;\">\n",
       "  <use xlink:href=\"#glyph1-1\" x=\"41.197266\" y=\"423.628906\"/>\n",
       "</g>\n",
       "<g style=\"fill:rgb(0%,0%,0%);fill-opacity:1;\">\n",
       "  <use xlink:href=\"#glyph1-2\" x=\"41.197266\" y=\"338.558594\"/>\n",
       "</g>\n",
       "<g style=\"fill:rgb(0%,0%,0%);fill-opacity:1;\">\n",
       "  <use xlink:href=\"#glyph1-3\" x=\"41.197266\" y=\"253.484375\"/>\n",
       "</g>\n",
       "<g style=\"fill:rgb(0%,0%,0%);fill-opacity:1;\">\n",
       "  <use xlink:href=\"#glyph1-4\" x=\"41.197266\" y=\"171.910156\"/>\n",
       "  <use xlink:href=\"#glyph1-5\" x=\"41.197266\" y=\"165.238281\"/>\n",
       "</g>\n",
       "<g style=\"fill:rgb(0%,0%,0%);fill-opacity:1;\">\n",
       "  <use xlink:href=\"#glyph1-4\" x=\"41.197266\" y=\"86.835938\"/>\n",
       "  <use xlink:href=\"#glyph1-6\" x=\"41.197266\" y=\"80.164062\"/>\n",
       "</g>\n",
       "<path style=\"fill:none;stroke-width:0.75;stroke-linecap:round;stroke-linejoin:round;stroke:rgb(0%,0%,0%);stroke-opacity:1;stroke-miterlimit:10;\" d=\"M 59.039062 430.558594 L 473.761719 430.558594 L 473.761719 59.039062 L 59.039062 59.039062 L 59.039062 430.558594 \"/>\n",
       "<g style=\"fill:rgb(0%,0%,0%);fill-opacity:1;\">\n",
       "  <use xlink:href=\"#glyph0-7\" x=\"263.398438\" y=\"484.716797\"/>\n",
       "</g>\n",
       "<g style=\"fill:rgb(0%,0%,0%);fill-opacity:1;\">\n",
       "  <use xlink:href=\"#glyph1-7\" x=\"12.396484\" y=\"247.800781\"/>\n",
       "</g>\n",
       "<g clip-path=\"url(#clip1)\" clip-rule=\"nonzero\">\n",
       "<path style=\"fill:none;stroke-width:0.75;stroke-linecap:round;stroke-linejoin:round;stroke:rgb(0%,0%,0%);stroke-opacity:1;stroke-miterlimit:10;\" d=\"M 59.039062 430.996094 L 473.761719 59.015625 \"/>\n",
       "</g>\n",
       "<path style=\"fill:none;stroke-width:0.75;stroke-linecap:round;stroke-linejoin:round;stroke:rgb(0%,0%,0%);stroke-opacity:1;stroke-miterlimit:10;\" d=\"M 74.398438 415.664062 L 82.078125 408.820312 L 85.921875 405.398438 L 89.761719 401.976562 L 93.601562 398.550781 L 105.121094 388.285156 L 108.960938 384.859375 L 112.800781 381.4375 L 116.640625 378.011719 L 120.480469 374.589844 L 124.320312 371.164062 L 128.160156 367.742188 L 139.679688 357.464844 L 143.519531 354.042969 L 151.199219 347.191406 L 155.039062 343.761719 L 166.558594 333.484375 L 170.398438 330.054688 L 174.238281 326.628906 L 178.078125 323.199219 L 181.921875 319.769531 L 197.28125 306.050781 L 201.121094 302.617188 L 204.960938 299.1875 L 220.320312 285.453125 L 224.160156 282.015625 L 228 278.582031 L 239.519531 268.269531 L 243.359375 264.828125 L 247.199219 261.390625 L 258.71875 251.066406 L 262.558594 247.621094 L 266.398438 244.179688 L 274.078125 237.289062 L 277.921875 233.84375 L 285.601562 226.945312 L 289.441406 223.5 L 293.28125 220.046875 L 300.960938 213.148438 L 316.320312 199.335938 L 320.160156 195.878906 L 324 192.425781 L 343.199219 175.140625 L 347.039062 171.679688 L 350.878906 168.222656 L 358.558594 161.300781 L 362.398438 157.84375 L 370.078125 150.921875 L 373.921875 147.457031 L 381.601562 140.535156 L 385.441406 137.070312 L 389.28125 133.609375 L 393.121094 130.144531 L 396.960938 126.683594 L 439.199219 88.570312 L 443.039062 85.101562 L 450.71875 78.171875 L 454.558594 74.703125 L 458.398438 71.238281 \"/>\n",
       "<path style=\"fill:none;stroke-width:0.75;stroke-linecap:round;stroke-linejoin:round;stroke:rgb(0%,0%,0%);stroke-opacity:1;stroke-miterlimit:10;\" d=\"M 74.398438 418.773438 L 78.238281 415.304688 L 82.078125 411.839844 L 85.921875 408.371094 L 97.441406 397.976562 L 101.28125 394.507812 L 128.160156 370.253906 L 132 366.792969 L 139.679688 359.863281 L 143.519531 356.402344 L 147.359375 352.9375 L 151.199219 349.476562 L 155.039062 346.011719 L 178.078125 325.246094 L 181.921875 321.789062 L 185.761719 318.328125 L 189.601562 314.871094 L 193.441406 311.410156 L 204.960938 301.039062 L 208.800781 297.585938 L 212.640625 294.128906 L 216.480469 290.675781 L 220.320312 287.21875 L 224.160156 283.765625 L 228 280.316406 L 235.679688 273.410156 L 251.039062 259.613281 L 270.238281 242.386719 L 274.078125 238.945312 L 277.921875 235.503906 L 289.441406 225.179688 L 308.640625 207.992188 L 331.679688 187.390625 L 339.359375 180.53125 L 343.199219 177.097656 L 350.878906 170.238281 L 354.71875 166.8125 L 362.398438 159.953125 L 370.078125 153.101562 L 373.921875 149.671875 L 396.960938 129.117188 L 400.800781 125.695312 L 408.480469 118.84375 L 412.320312 115.421875 L 416.160156 111.996094 L 420 108.574219 L 423.839844 105.148438 L 431.519531 98.304688 L 435.359375 94.878906 L 458.398438 74.347656 \"/>\n",
       "<path style=\"fill:none;stroke-width:0.75;stroke-linecap:round;stroke-linejoin:round;stroke:rgb(0%,0%,0%);stroke-opacity:1;stroke-dasharray:0.75,2.25;stroke-miterlimit:10;\" d=\"M 74.398438 410.632812 L 78.238281 407.191406 L 82.078125 403.753906 L 85.921875 400.316406 L 89.761719 396.875 L 93.601562 393.4375 L 97.441406 389.996094 L 101.28125 386.558594 L 108.960938 379.675781 L 112.800781 376.238281 L 120.480469 369.355469 L 124.320312 365.917969 L 135.839844 355.59375 L 139.679688 352.15625 L 178.078125 317.742188 L 181.921875 314.300781 L 189.601562 307.417969 L 193.441406 303.972656 L 204.960938 293.648438 L 208.800781 290.203125 L 216.480469 283.320312 L 220.320312 279.875 L 224.160156 276.433594 L 228 272.988281 L 231.839844 269.546875 L 235.679688 266.101562 L 239.519531 262.660156 L 243.359375 259.214844 L 247.199219 255.773438 L 254.878906 248.882812 L 258.71875 245.441406 L 266.398438 238.550781 L 270.238281 235.109375 L 274.078125 231.664062 L 277.921875 228.21875 L 285.601562 221.328125 L 289.441406 217.886719 L 320.160156 190.324219 L 324 186.875 L 339.359375 173.09375 L 343.199219 169.644531 L 350.878906 162.753906 L 354.71875 159.304688 L 362.398438 152.414062 L 366.238281 148.964844 L 370.078125 145.519531 L 373.921875 142.070312 L 377.761719 138.625 L 381.601562 135.175781 L 385.441406 131.730469 L 393.121094 124.832031 L 396.960938 121.386719 L 404.640625 114.488281 L 408.480469 111.042969 L 420 100.695312 L 423.839844 97.25 L 458.398438 66.207031 \"/>\n",
       "<path style=\"fill:none;stroke-width:0.75;stroke-linecap:round;stroke-linejoin:round;stroke:rgb(0%,0%,0%);stroke-opacity:1;stroke-dasharray:0.75,2.25;stroke-miterlimit:10;\" d=\"M 74.398438 423.804688 L 82.078125 416.90625 L 85.921875 413.453125 L 89.761719 410.007812 L 116.640625 385.863281 L 120.480469 382.417969 L 132 372.070312 L 135.839844 368.625 L 143.519531 361.726562 L 147.359375 358.28125 L 151.199219 354.832031 L 155.039062 351.386719 L 158.878906 347.9375 L 162.71875 344.492188 L 166.558594 341.042969 L 174.238281 334.152344 L 178.078125 330.703125 L 181.921875 327.257812 L 185.761719 323.808594 L 197.28125 313.472656 L 201.121094 310.023438 L 254.878906 261.789062 L 258.71875 258.347656 L 270.238281 248.011719 L 274.078125 244.570312 L 277.921875 241.125 L 281.761719 237.679688 L 285.601562 234.238281 L 289.441406 230.792969 L 293.28125 227.351562 L 297.121094 223.90625 L 300.960938 220.464844 L 304.800781 217.019531 L 308.640625 213.578125 L 312.480469 210.132812 L 320.160156 203.25 L 324 199.804688 L 331.679688 192.921875 L 335.519531 189.476562 L 354.71875 172.269531 L 358.558594 168.824219 L 370.078125 158.5 L 373.921875 155.058594 L 377.761719 151.617188 L 381.601562 148.179688 L 400.800781 130.972656 L 404.640625 127.535156 L 416.160156 117.210938 L 420 113.773438 L 423.839844 110.332031 L 427.679688 106.894531 L 435.359375 100.011719 L 439.199219 96.574219 L 443.039062 93.132812 L 446.878906 89.695312 L 450.71875 86.253906 L 458.398438 79.378906 \"/>\n",
       "<g style=\"fill:rgb(0%,0%,0%);fill-opacity:1;\">\n",
       "  <use xlink:href=\"#glyph2-1\" x=\"207.898438\" y=\"34.116211\"/>\n",
       "  <use xlink:href=\"#glyph2-2\" x=\"215.908203\" y=\"34.116211\"/>\n",
       "  <use xlink:href=\"#glyph2-3\" x=\"219.913086\" y=\"34.116211\"/>\n",
       "  <use xlink:href=\"#glyph2-2\" x=\"228.326172\" y=\"34.116211\"/>\n",
       "  <use xlink:href=\"#glyph2-2\" x=\"232.331055\" y=\"34.116211\"/>\n",
       "  <use xlink:href=\"#glyph2-4\" x=\"236.335938\" y=\"34.116211\"/>\n",
       "  <use xlink:href=\"#glyph2-5\" x=\"244.345703\" y=\"34.116211\"/>\n",
       "  <use xlink:href=\"#glyph2-4\" x=\"248.350586\" y=\"34.116211\"/>\n",
       "  <use xlink:href=\"#glyph2-6\" x=\"256.360352\" y=\"34.116211\"/>\n",
       "  <use xlink:href=\"#glyph2-2\" x=\"264.370117\" y=\"34.116211\"/>\n",
       "  <use xlink:href=\"#glyph2-7\" x=\"268.375\" y=\"34.116211\"/>\n",
       "  <use xlink:href=\"#glyph2-2\" x=\"276.384766\" y=\"34.116211\"/>\n",
       "  <use xlink:href=\"#glyph2-2\" x=\"280.389648\" y=\"34.116211\"/>\n",
       "  <use xlink:href=\"#glyph2-8\" x=\"284.394531\" y=\"34.116211\"/>\n",
       "  <use xlink:href=\"#glyph2-2\" x=\"292.807617\" y=\"34.116211\"/>\n",
       "  <use xlink:href=\"#glyph2-6\" x=\"296.8125\" y=\"34.116211\"/>\n",
       "  <use xlink:href=\"#glyph2-5\" x=\"304.822266\" y=\"34.116211\"/>\n",
       "  <use xlink:href=\"#glyph2-9\" x=\"308.827148\" y=\"34.116211\"/>\n",
       "  <use xlink:href=\"#glyph2-10\" x=\"316.836914\" y=\"34.116211\"/>\n",
       "</g>\n",
       "<g style=\"fill:rgb(0%,0%,0%);fill-opacity:1;\">\n",
       "  <use xlink:href=\"#glyph0-8\" x=\"148.398438\" y=\"484.716797\"/>\n",
       "  <use xlink:href=\"#glyph0-8\" x=\"151.734375\" y=\"484.716797\"/>\n",
       "  <use xlink:href=\"#glyph0-8\" x=\"155.070312\" y=\"484.716797\"/>\n",
       "  <use xlink:href=\"#glyph0-8\" x=\"158.40625\" y=\"484.716797\"/>\n",
       "  <use xlink:href=\"#glyph0-8\" x=\"161.742188\" y=\"484.716797\"/>\n",
       "  <use xlink:href=\"#glyph0-8\" x=\"165.078125\" y=\"484.716797\"/>\n",
       "  <use xlink:href=\"#glyph0-8\" x=\"168.414062\" y=\"484.716797\"/>\n",
       "  <use xlink:href=\"#glyph0-8\" x=\"171.75\" y=\"484.716797\"/>\n",
       "  <use xlink:href=\"#glyph0-8\" x=\"175.085938\" y=\"484.716797\"/>\n",
       "  <use xlink:href=\"#glyph0-8\" x=\"178.421875\" y=\"484.716797\"/>\n",
       "  <use xlink:href=\"#glyph0-8\" x=\"181.757812\" y=\"484.716797\"/>\n",
       "  <use xlink:href=\"#glyph0-8\" x=\"185.09375\" y=\"484.716797\"/>\n",
       "  <use xlink:href=\"#glyph0-8\" x=\"188.429688\" y=\"484.716797\"/>\n",
       "  <use xlink:href=\"#glyph0-8\" x=\"191.765625\" y=\"484.716797\"/>\n",
       "  <use xlink:href=\"#glyph0-8\" x=\"195.101562\" y=\"484.716797\"/>\n",
       "  <use xlink:href=\"#glyph0-8\" x=\"198.4375\" y=\"484.716797\"/>\n",
       "  <use xlink:href=\"#glyph0-8\" x=\"201.773438\" y=\"484.716797\"/>\n",
       "  <use xlink:href=\"#glyph0-8\" x=\"205.109375\" y=\"484.716797\"/>\n",
       "  <use xlink:href=\"#glyph0-8\" x=\"208.445312\" y=\"484.716797\"/>\n",
       "  <use xlink:href=\"#glyph0-8\" x=\"211.78125\" y=\"484.716797\"/>\n",
       "  <use xlink:href=\"#glyph0-8\" x=\"215.117188\" y=\"484.716797\"/>\n",
       "  <use xlink:href=\"#glyph0-8\" x=\"218.453125\" y=\"484.716797\"/>\n",
       "  <use xlink:href=\"#glyph0-8\" x=\"221.789062\" y=\"484.716797\"/>\n",
       "  <use xlink:href=\"#glyph0-8\" x=\"225.125\" y=\"484.716797\"/>\n",
       "  <use xlink:href=\"#glyph0-8\" x=\"228.460938\" y=\"484.716797\"/>\n",
       "  <use xlink:href=\"#glyph0-8\" x=\"231.796875\" y=\"484.716797\"/>\n",
       "  <use xlink:href=\"#glyph0-8\" x=\"235.132812\" y=\"484.716797\"/>\n",
       "  <use xlink:href=\"#glyph0-8\" x=\"238.46875\" y=\"484.716797\"/>\n",
       "  <use xlink:href=\"#glyph0-8\" x=\"241.804688\" y=\"484.716797\"/>\n",
       "  <use xlink:href=\"#glyph0-8\" x=\"245.140625\" y=\"484.716797\"/>\n",
       "  <use xlink:href=\"#glyph0-8\" x=\"248.476562\" y=\"484.716797\"/>\n",
       "  <use xlink:href=\"#glyph0-8\" x=\"251.8125\" y=\"484.716797\"/>\n",
       "  <use xlink:href=\"#glyph0-8\" x=\"255.148438\" y=\"484.716797\"/>\n",
       "  <use xlink:href=\"#glyph0-8\" x=\"258.484375\" y=\"484.716797\"/>\n",
       "  <use xlink:href=\"#glyph0-8\" x=\"261.820312\" y=\"484.716797\"/>\n",
       "  <use xlink:href=\"#glyph0-8\" x=\"265.15625\" y=\"484.716797\"/>\n",
       "  <use xlink:href=\"#glyph0-8\" x=\"268.492188\" y=\"484.716797\"/>\n",
       "  <use xlink:href=\"#glyph0-9\" x=\"271.828125\" y=\"484.716797\"/>\n",
       "  <use xlink:href=\"#glyph0-8\" x=\"275.824219\" y=\"484.716797\"/>\n",
       "  <use xlink:href=\"#glyph0-10\" x=\"279.160156\" y=\"484.716797\"/>\n",
       "  <use xlink:href=\"#glyph0-11\" x=\"287.164062\" y=\"484.716797\"/>\n",
       "  <use xlink:href=\"#glyph0-12\" x=\"293.835938\" y=\"484.716797\"/>\n",
       "  <use xlink:href=\"#glyph0-13\" x=\"299.835938\" y=\"484.716797\"/>\n",
       "  <use xlink:href=\"#glyph0-14\" x=\"305.835938\" y=\"484.716797\"/>\n",
       "  <use xlink:href=\"#glyph0-15\" x=\"312.507812\" y=\"484.716797\"/>\n",
       "  <use xlink:href=\"#glyph0-8\" x=\"315.84375\" y=\"484.716797\"/>\n",
       "  <use xlink:href=\"#glyph0-16\" x=\"319.179688\" y=\"484.716797\"/>\n",
       "  <use xlink:href=\"#glyph0-17\" x=\"327.183594\" y=\"484.716797\"/>\n",
       "  <use xlink:href=\"#glyph0-18\" x=\"329.847656\" y=\"484.716797\"/>\n",
       "  <use xlink:href=\"#glyph0-14\" x=\"335.847656\" y=\"484.716797\"/>\n",
       "  <use xlink:href=\"#glyph0-8\" x=\"342.519531\" y=\"484.716797\"/>\n",
       "  <use xlink:href=\"#glyph0-19\" x=\"345.855469\" y=\"484.716797\"/>\n",
       "  <use xlink:href=\"#glyph0-20\" x=\"349.851562\" y=\"484.716797\"/>\n",
       "  <use xlink:href=\"#glyph0-21\" x=\"357.855469\" y=\"484.716797\"/>\n",
       "  <use xlink:href=\"#glyph0-15\" x=\"363.855469\" y=\"484.716797\"/>\n",
       "  <use xlink:href=\"#glyph0-14\" x=\"367.191406\" y=\"484.716797\"/>\n",
       "  <use xlink:href=\"#glyph0-22\" x=\"373.863281\" y=\"484.716797\"/>\n",
       "  <use xlink:href=\"#glyph0-23\" x=\"379.863281\" y=\"484.716797\"/>\n",
       "</g>\n",
       "<g style=\"fill:rgb(0%,0%,0%);fill-opacity:1;\">\n",
       "  <use xlink:href=\"#glyph1-8\" x=\"12.396484\" y=\"312.300781\"/>\n",
       "  <use xlink:href=\"#glyph1-8\" x=\"12.396484\" y=\"308.964844\"/>\n",
       "  <use xlink:href=\"#glyph1-8\" x=\"12.396484\" y=\"305.628906\"/>\n",
       "  <use xlink:href=\"#glyph1-8\" x=\"12.396484\" y=\"302.292969\"/>\n",
       "  <use xlink:href=\"#glyph1-8\" x=\"12.396484\" y=\"298.957031\"/>\n",
       "  <use xlink:href=\"#glyph1-8\" x=\"12.396484\" y=\"295.621094\"/>\n",
       "  <use xlink:href=\"#glyph1-8\" x=\"12.396484\" y=\"292.285156\"/>\n",
       "  <use xlink:href=\"#glyph1-8\" x=\"12.396484\" y=\"288.949219\"/>\n",
       "  <use xlink:href=\"#glyph1-8\" x=\"12.396484\" y=\"285.613281\"/>\n",
       "  <use xlink:href=\"#glyph1-8\" x=\"12.396484\" y=\"282.277344\"/>\n",
       "  <use xlink:href=\"#glyph1-8\" x=\"12.396484\" y=\"278.941406\"/>\n",
       "  <use xlink:href=\"#glyph1-8\" x=\"12.396484\" y=\"275.605469\"/>\n",
       "  <use xlink:href=\"#glyph1-8\" x=\"12.396484\" y=\"272.269531\"/>\n",
       "  <use xlink:href=\"#glyph1-8\" x=\"12.396484\" y=\"268.933594\"/>\n",
       "  <use xlink:href=\"#glyph1-8\" x=\"12.396484\" y=\"265.597656\"/>\n",
       "  <use xlink:href=\"#glyph1-8\" x=\"12.396484\" y=\"262.261719\"/>\n",
       "  <use xlink:href=\"#glyph1-8\" x=\"12.396484\" y=\"258.925781\"/>\n",
       "  <use xlink:href=\"#glyph1-8\" x=\"12.396484\" y=\"255.589844\"/>\n",
       "  <use xlink:href=\"#glyph1-8\" x=\"12.396484\" y=\"252.253906\"/>\n",
       "  <use xlink:href=\"#glyph1-8\" x=\"12.396484\" y=\"248.917969\"/>\n",
       "  <use xlink:href=\"#glyph1-8\" x=\"12.396484\" y=\"245.582031\"/>\n",
       "  <use xlink:href=\"#glyph1-8\" x=\"12.396484\" y=\"242.246094\"/>\n",
       "  <use xlink:href=\"#glyph1-9\" x=\"12.396484\" y=\"238.910156\"/>\n",
       "  <use xlink:href=\"#glyph1-8\" x=\"12.396484\" y=\"234.914062\"/>\n",
       "  <use xlink:href=\"#glyph1-10\" x=\"12.396484\" y=\"231.578125\"/>\n",
       "  <use xlink:href=\"#glyph1-11\" x=\"12.396484\" y=\"224.246094\"/>\n",
       "  <use xlink:href=\"#glyph1-12\" x=\"12.396484\" y=\"221.582031\"/>\n",
       "  <use xlink:href=\"#glyph1-13\" x=\"12.396484\" y=\"211.585938\"/>\n",
       "  <use xlink:href=\"#glyph1-8\" x=\"12.396484\" y=\"204.914062\"/>\n",
       "  <use xlink:href=\"#glyph1-14\" x=\"12.396484\" y=\"201.578125\"/>\n",
       "  <use xlink:href=\"#glyph1-12\" x=\"12.396484\" y=\"197.582031\"/>\n",
       "  <use xlink:href=\"#glyph1-15\" x=\"12.396484\" y=\"187.585938\"/>\n",
       "  <use xlink:href=\"#glyph1-16\" x=\"12.396484\" y=\"181.585938\"/>\n",
       "</g>\n",
       "<g style=\"fill:rgb(0%,0%,0%);fill-opacity:1;\">\n",
       "  <use xlink:href=\"#glyph2-11\" x=\"138.398438\" y=\"16.834961\"/>\n",
       "  <use xlink:href=\"#glyph2-12\" x=\"148.007812\" y=\"16.834961\"/>\n",
       "  <use xlink:href=\"#glyph2-13\" x=\"156.017578\" y=\"16.834961\"/>\n",
       "  <use xlink:href=\"#glyph2-14\" x=\"164.027344\" y=\"16.834961\"/>\n",
       "  <use xlink:href=\"#glyph2-15\" x=\"172.037109\" y=\"16.834961\"/>\n",
       "  <use xlink:href=\"#glyph2-16\" x=\"180.046875\" y=\"16.834961\"/>\n",
       "  <use xlink:href=\"#glyph2-2\" x=\"184.84375\" y=\"16.834961\"/>\n",
       "  <use xlink:href=\"#glyph2-17\" x=\"188.848633\" y=\"16.834961\"/>\n",
       "  <use xlink:href=\"#glyph2-18\" x=\"198.458008\" y=\"16.834961\"/>\n",
       "  <use xlink:href=\"#glyph2-19\" x=\"202.462891\" y=\"16.834961\"/>\n",
       "  <use xlink:href=\"#glyph2-15\" x=\"209.666016\" y=\"16.834961\"/>\n",
       "  <use xlink:href=\"#glyph2-2\" x=\"217.675781\" y=\"16.834961\"/>\n",
       "  <use xlink:href=\"#glyph2-20\" x=\"221.680664\" y=\"16.834961\"/>\n",
       "  <use xlink:href=\"#glyph2-21\" x=\"229.69043\" y=\"16.834961\"/>\n",
       "  <use xlink:href=\"#glyph2-2\" x=\"237.700195\" y=\"16.834961\"/>\n",
       "  <use xlink:href=\"#glyph2-22\" x=\"241.705078\" y=\"16.834961\"/>\n",
       "  <use xlink:href=\"#glyph2-18\" x=\"250.506836\" y=\"16.834961\"/>\n",
       "  <use xlink:href=\"#glyph2-23\" x=\"254.511719\" y=\"16.834961\"/>\n",
       "  <use xlink:href=\"#glyph2-15\" x=\"267.318359\" y=\"16.834961\"/>\n",
       "  <use xlink:href=\"#glyph2-2\" x=\"275.328125\" y=\"16.834961\"/>\n",
       "  <use xlink:href=\"#glyph2-24\" x=\"279.333008\" y=\"16.834961\"/>\n",
       "  <use xlink:href=\"#glyph2-25\" x=\"284.129883\" y=\"16.834961\"/>\n",
       "  <use xlink:href=\"#glyph2-26\" x=\"292.931641\" y=\"16.834961\"/>\n",
       "  <use xlink:href=\"#glyph2-2\" x=\"298.536133\" y=\"16.834961\"/>\n",
       "  <use xlink:href=\"#glyph2-6\" x=\"302.541016\" y=\"16.834961\"/>\n",
       "  <use xlink:href=\"#glyph2-27\" x=\"310.550781\" y=\"16.834961\"/>\n",
       "  <use xlink:href=\"#glyph2-28\" x=\"322.550781\" y=\"16.834961\"/>\n",
       "  <use xlink:href=\"#glyph2-2\" x=\"332.952148\" y=\"16.834961\"/>\n",
       "  <use xlink:href=\"#glyph2-29\" x=\"336.957031\" y=\"16.834961\"/>\n",
       "  <use xlink:href=\"#glyph2-15\" x=\"347.358398\" y=\"16.834961\"/>\n",
       "  <use xlink:href=\"#glyph2-16\" x=\"355.368164\" y=\"16.834961\"/>\n",
       "  <use xlink:href=\"#glyph2-30\" x=\"360.165039\" y=\"16.834961\"/>\n",
       "  <use xlink:href=\"#glyph2-25\" x=\"371.373047\" y=\"16.834961\"/>\n",
       "  <use xlink:href=\"#glyph2-26\" x=\"380.174805\" y=\"16.834961\"/>\n",
       "  <use xlink:href=\"#glyph2-14\" x=\"385.779297\" y=\"16.834961\"/>\n",
       "</g>\n",
       "</g>\n",
       "</svg>\n"
      ],
      "text/plain": [
       "Plot with title “Packet Size vs Time for 1MB Network\n",
       "\n",
       "”"
      ]
     },
     "metadata": {
      "image/svg+xml": {
       "isolated": true
      }
     },
     "output_type": "display_data"
    },
    {
     "data": {
      "text/plain": [
       "\n",
       "Call:\n",
       "lm(formula = y ~ x)\n",
       "\n",
       "Coefficients:\n",
       "(Intercept)            x  \n",
       "  1.1810648    0.0007561  \n"
      ]
     },
     "execution_count": 14,
     "metadata": {},
     "output_type": "execute_result"
    },
    {
     "data": {
      "image/png": "[encoded data removed]",
      "image/svg+xml": [
       "<?xml version=\"1.0\" encoding=\"UTF-8\"?>\n",
       "<svg xmlns=\"http://www.w3.org/2000/svg\" xmlns:xlink=\"http://www.w3.org/1999/xlink\" width=\"504pt\" height=\"504pt\" viewBox=\"0 0 504 504\" version=\"1.1\">\n",
       "<defs>\n",
       "<g>\n",
       "<symbol overflow=\"visible\" id=\"glyph0-0\">\n",
       "<path style=\"stroke:none;\" d=\"\"/>\n",
       "</symbol>\n",
       "<symbol overflow=\"visible\" id=\"glyph0-1\">\n",
       "<path style=\"stroke:none;\" d=\"M 3.921875 -2.046875 L 3.921875 0 L 4.984375 0 L 4.984375 -2.046875 L 6.234375 -2.046875 L 6.234375 -2.984375 L 4.984375 -2.984375 L 4.984375 -8.515625 L 4.203125 -8.515625 L 0.34375 -3.15625 L 0.34375 -2.046875 Z M 3.921875 -2.984375 L 1.265625 -2.984375 L 3.921875 -6.703125 Z M 3.921875 -2.984375 \"/>\n",
       "</symbol>\n",
       "<symbol overflow=\"visible\" id=\"glyph0-2\">\n",
       "<path style=\"stroke:none;\" d=\"M 3.296875 -8.515625 C 2.515625 -8.515625 1.78125 -8.15625 1.34375 -7.578125 C 0.796875 -6.828125 0.515625 -5.6875 0.515625 -4.109375 C 0.515625 -1.25 1.46875 0.28125 3.296875 0.28125 C 5.09375 0.28125 6.078125 -1.25 6.078125 -4.046875 C 6.078125 -5.703125 5.8125 -6.796875 5.25 -7.578125 C 4.8125 -8.171875 4.109375 -8.515625 3.296875 -8.515625 Z M 3.296875 -7.578125 C 4.4375 -7.578125 5 -6.421875 5 -4.140625 C 5 -1.734375 4.453125 -0.59375 3.28125 -0.59375 C 2.15625 -0.59375 1.59375 -1.78125 1.59375 -4.109375 C 1.59375 -6.4375 2.15625 -7.578125 3.296875 -7.578125 Z M 3.296875 -7.578125 \"/>\n",
       "</symbol>\n",
       "<symbol overflow=\"visible\" id=\"glyph0-3\">\n",
       "<path style=\"stroke:none;\" d=\"M 5.96875 -6.28125 C 5.765625 -7.6875 4.859375 -8.515625 3.5625 -8.515625 C 2.625 -8.515625 1.78125 -8.046875 1.28125 -7.296875 C 0.75 -6.46875 0.515625 -5.421875 0.515625 -3.875 C 0.515625 -2.453125 0.734375 -1.53125 1.234375 -0.78125 C 1.6875 -0.09375 2.4375 0.28125 3.375 0.28125 C 4.984375 0.28125 6.15625 -0.921875 6.15625 -2.59375 C 6.15625 -4.171875 5.078125 -5.296875 3.546875 -5.296875 C 2.71875 -5.296875 2.046875 -4.96875 1.59375 -4.34375 C 1.609375 -6.421875 2.28125 -7.578125 3.484375 -7.578125 C 4.234375 -7.578125 4.75 -7.109375 4.921875 -6.28125 Z M 3.421875 -4.359375 C 4.4375 -4.359375 5.078125 -3.640625 5.078125 -2.515625 C 5.078125 -1.4375 4.359375 -0.65625 3.390625 -0.65625 C 2.40625 -0.65625 1.65625 -1.46875 1.65625 -2.5625 C 1.65625 -3.625 2.375 -4.359375 3.421875 -4.359375 Z M 3.421875 -4.359375 \"/>\n",
       "</symbol>\n",
       "<symbol overflow=\"visible\" id=\"glyph0-4\">\n",
       "<path style=\"stroke:none;\" d=\"M 4.6875 -4.46875 C 5.5625 -5 5.859375 -5.4375 5.859375 -6.234375 C 5.859375 -7.578125 4.8125 -8.515625 3.296875 -8.515625 C 1.796875 -8.515625 0.75 -7.578125 0.75 -6.234375 C 0.75 -5.453125 1.03125 -5.015625 1.890625 -4.46875 C 0.921875 -4.015625 0.4375 -3.296875 0.4375 -2.359375 C 0.4375 -0.796875 1.625 0.28125 3.296875 0.28125 C 4.984375 0.28125 6.15625 -0.796875 6.15625 -2.359375 C 6.15625 -3.296875 5.671875 -4.015625 4.6875 -4.46875 Z M 3.296875 -7.578125 C 4.203125 -7.578125 4.78125 -7.046875 4.78125 -6.21875 C 4.78125 -5.421875 4.1875 -4.890625 3.296875 -4.890625 C 2.40625 -4.890625 1.828125 -5.421875 1.828125 -6.234375 C 1.828125 -7.046875 2.40625 -7.578125 3.296875 -7.578125 Z M 3.296875 -4.015625 C 4.359375 -4.015625 5.078125 -3.34375 5.078125 -2.34375 C 5.078125 -1.328125 4.359375 -0.65625 3.28125 -0.65625 C 2.25 -0.65625 1.53125 -1.34375 1.53125 -2.34375 C 1.53125 -3.34375 2.25 -4.015625 3.296875 -4.015625 Z M 3.296875 -4.015625 \"/>\n",
       "</symbol>\n",
       "<symbol overflow=\"visible\" id=\"glyph0-5\">\n",
       "<path style=\"stroke:none;\" d=\"M 3.109375 -6.0625 L 3.109375 0 L 4.15625 0 L 4.15625 -8.515625 L 3.46875 -8.515625 C 3.09375 -7.203125 2.859375 -7.015625 1.21875 -6.8125 L 1.21875 -6.0625 Z M 3.109375 -6.0625 \"/>\n",
       "</symbol>\n",
       "<symbol overflow=\"visible\" id=\"glyph0-6\">\n",
       "<path style=\"stroke:none;\" d=\"M 6.078125 -1.046875 L 1.59375 -1.046875 C 1.703125 -1.734375 2.09375 -2.1875 3.125 -2.796875 L 4.328125 -3.4375 C 5.515625 -4.09375 6.125 -4.96875 6.125 -6.015625 C 6.125 -6.71875 5.84375 -7.375 5.34375 -7.84375 C 4.84375 -8.296875 4.21875 -8.515625 3.40625 -8.515625 C 2.328125 -8.515625 1.53125 -8.125 1.0625 -7.40625 C 0.75 -6.953125 0.625 -6.421875 0.59375 -5.5625 L 1.65625 -5.5625 C 1.6875 -6.125 1.765625 -6.484375 1.90625 -6.75 C 2.1875 -7.265625 2.734375 -7.578125 3.375 -7.578125 C 4.328125 -7.578125 5.046875 -6.90625 5.046875 -5.984375 C 5.046875 -5.3125 4.65625 -4.734375 3.90625 -4.3125 L 2.796875 -3.6875 C 1.015625 -2.671875 0.5 -1.875 0.40625 0 L 6.078125 0 Z M 6.078125 -1.046875 \"/>\n",
       "</symbol>\n",
       "<symbol overflow=\"visible\" id=\"glyph0-7\">\n",
       "<path style=\"stroke:none;\" d=\"M 3.5 -3.25 L 5.609375 -6.28125 L 4.484375 -6.28125 L 2.96875 -4.015625 L 1.46875 -6.28125 L 0.328125 -6.28125 L 2.421875 -3.203125 L 0.203125 0 L 1.34375 0 L 2.9375 -2.40625 L 4.515625 0 L 5.671875 0 Z M 3.5 -3.25 \"/>\n",
       "</symbol>\n",
       "<symbol overflow=\"visible\" id=\"glyph0-8\">\n",
       "<path style=\"stroke:none;\" d=\"\"/>\n",
       "</symbol>\n",
       "<symbol overflow=\"visible\" id=\"glyph0-9\">\n",
       "<path style=\"stroke:none;\" d=\"M 3.40625 -3.75 L 0.546875 -3.75 L 0.546875 -2.875 L 3.40625 -2.875 Z M 3.40625 -3.75 \"/>\n",
       "</symbol>\n",
       "<symbol overflow=\"visible\" id=\"glyph0-10\">\n",
       "<path style=\"stroke:none;\" d=\"M 2.203125 -3.703125 L 4.953125 -3.703125 C 5.640625 -3.703125 6.1875 -3.90625 6.640625 -4.328125 C 7.171875 -4.8125 7.40625 -5.375 7.40625 -6.1875 C 7.40625 -7.828125 6.4375 -8.75 4.703125 -8.75 L 1.09375 -8.75 L 1.09375 0 L 2.203125 0 Z M 2.203125 -4.6875 L 2.203125 -7.765625 L 4.53125 -7.765625 C 5.609375 -7.765625 6.234375 -7.1875 6.234375 -6.234375 C 6.234375 -5.265625 5.609375 -4.6875 4.53125 -4.6875 Z M 2.203125 -4.6875 \"/>\n",
       "</symbol>\n",
       "<symbol overflow=\"visible\" id=\"glyph0-11\">\n",
       "<path style=\"stroke:none;\" d=\"M 6.421875 -0.59375 C 6.3125 -0.5625 6.265625 -0.5625 6.203125 -0.5625 C 5.859375 -0.5625 5.65625 -0.75 5.65625 -1.0625 L 5.65625 -4.75 C 5.65625 -5.875 4.84375 -6.46875 3.296875 -6.46875 C 2.390625 -6.46875 1.625 -6.203125 1.21875 -5.734375 C 0.921875 -5.40625 0.796875 -5.046875 0.78125 -4.421875 L 1.78125 -4.421875 C 1.875 -5.203125 2.328125 -5.546875 3.265625 -5.546875 C 4.15625 -5.546875 4.671875 -5.203125 4.671875 -4.609375 L 4.671875 -4.34375 C 4.671875 -3.921875 4.421875 -3.75 3.625 -3.640625 C 2.203125 -3.46875 1.984375 -3.421875 1.609375 -3.265625 C 0.875 -2.96875 0.5 -2.40625 0.5 -1.578125 C 0.5 -0.4375 1.296875 0.28125 2.5625 0.28125 C 3.359375 0.28125 4 0 4.703125 -0.640625 C 4.78125 -0.015625 5.09375 0.28125 5.734375 0.28125 C 5.9375 0.28125 6.09375 0.25 6.421875 0.171875 Z M 4.671875 -1.984375 C 4.671875 -1.640625 4.578125 -1.4375 4.265625 -1.15625 C 3.859375 -0.796875 3.375 -0.59375 2.78125 -0.59375 C 2 -0.59375 1.546875 -0.96875 1.546875 -1.609375 C 1.546875 -2.265625 1.984375 -2.609375 3.0625 -2.765625 C 4.109375 -2.90625 4.328125 -2.953125 4.671875 -3.109375 Z M 4.671875 -1.984375 \"/>\n",
       "</symbol>\n",
       "<symbol overflow=\"visible\" id=\"glyph0-12\">\n",
       "<path style=\"stroke:none;\" d=\"M 5.65625 -4.171875 C 5.609375 -4.78125 5.46875 -5.1875 5.234375 -5.53125 C 4.796875 -6.125 4.046875 -6.46875 3.171875 -6.46875 C 1.46875 -6.46875 0.375 -5.125 0.375 -3.03125 C 0.375 -1.015625 1.453125 0.28125 3.15625 0.28125 C 4.65625 0.28125 5.609375 -0.625 5.71875 -2.15625 L 4.71875 -2.15625 C 4.546875 -1.15625 4.03125 -0.640625 3.1875 -0.640625 C 2.078125 -0.640625 1.421875 -1.546875 1.421875 -3.03125 C 1.421875 -4.609375 2.0625 -5.546875 3.15625 -5.546875 C 4 -5.546875 4.53125 -5.046875 4.640625 -4.171875 Z M 5.65625 -4.171875 \"/>\n",
       "</symbol>\n",
       "<symbol overflow=\"visible\" id=\"glyph0-13\">\n",
       "<path style=\"stroke:none;\" d=\"M 1.6875 -8.75 L 0.703125 -8.75 L 0.703125 0 L 1.6875 0 L 1.6875 -2.453125 L 2.65625 -3.40625 L 4.78125 0 L 6.03125 0 L 3.453125 -4.109375 L 5.640625 -6.28125 L 4.359375 -6.28125 L 1.6875 -3.625 Z M 1.6875 -8.75 \"/>\n",
       "</symbol>\n",
       "<symbol overflow=\"visible\" id=\"glyph0-14\">\n",
       "<path style=\"stroke:none;\" d=\"M 6.15625 -2.8125 C 6.15625 -3.765625 6.078125 -4.34375 5.90625 -4.8125 C 5.5 -5.84375 4.53125 -6.46875 3.359375 -6.46875 C 1.609375 -6.46875 0.484375 -5.125 0.484375 -3.0625 C 0.484375 -1 1.578125 0.28125 3.34375 0.28125 C 4.78125 0.28125 5.765625 -0.546875 6.03125 -1.90625 L 5.015625 -1.90625 C 4.734375 -1.078125 4.171875 -0.640625 3.375 -0.640625 C 2.734375 -0.640625 2.203125 -0.9375 1.859375 -1.46875 C 1.625 -1.828125 1.53125 -2.1875 1.53125 -2.8125 Z M 1.546875 -3.625 C 1.625 -4.78125 2.34375 -5.546875 3.34375 -5.546875 C 4.328125 -5.546875 5.09375 -4.734375 5.09375 -3.703125 C 5.09375 -3.671875 5.09375 -3.640625 5.078125 -3.625 Z M 1.546875 -3.625 \"/>\n",
       "</symbol>\n",
       "<symbol overflow=\"visible\" id=\"glyph0-15\">\n",
       "<path style=\"stroke:none;\" d=\"M 3.046875 -6.28125 L 2.015625 -6.28125 L 2.015625 -8.015625 L 1.015625 -8.015625 L 1.015625 -6.28125 L 0.171875 -6.28125 L 0.171875 -5.46875 L 1.015625 -5.46875 L 1.015625 -0.71875 C 1.015625 -0.078125 1.453125 0.28125 2.234375 0.28125 C 2.46875 0.28125 2.71875 0.25 3.046875 0.1875 L 3.046875 -0.640625 C 2.921875 -0.609375 2.765625 -0.59375 2.5625 -0.59375 C 2.140625 -0.59375 2.015625 -0.71875 2.015625 -1.15625 L 2.015625 -5.46875 L 3.046875 -5.46875 Z M 3.046875 -6.28125 \"/>\n",
       "</symbol>\n",
       "<symbol overflow=\"visible\" id=\"glyph0-16\">\n",
       "<path style=\"stroke:none;\" d=\"M 7.15625 -6.1875 C 7.140625 -7.890625 5.96875 -8.890625 3.953125 -8.890625 C 2.03125 -8.890625 0.84375 -7.90625 0.84375 -6.328125 C 0.84375 -5.25 1.40625 -4.578125 2.5625 -4.28125 L 4.734375 -3.703125 C 5.828125 -3.421875 6.34375 -2.96875 6.34375 -2.296875 C 6.34375 -1.828125 6.078125 -1.34375 5.71875 -1.078125 C 5.359375 -0.84375 4.8125 -0.703125 4.109375 -0.703125 C 3.15625 -0.703125 2.515625 -0.9375 2.09375 -1.4375 C 1.765625 -1.828125 1.625 -2.25 1.625 -2.78125 L 0.578125 -2.78125 C 0.59375 -1.984375 0.75 -1.453125 1.09375 -0.96875 C 1.6875 -0.15625 2.703125 0.28125 4.03125 0.28125 C 5.078125 0.28125 5.921875 0.03125 6.484375 -0.390625 C 7.078125 -0.859375 7.453125 -1.640625 7.453125 -2.40625 C 7.453125 -3.484375 6.78125 -4.265625 5.59375 -4.59375 L 3.390625 -5.1875 C 2.34375 -5.46875 1.953125 -5.8125 1.953125 -6.484375 C 1.953125 -7.375 2.734375 -7.953125 3.90625 -7.953125 C 5.296875 -7.953125 6.078125 -7.3125 6.09375 -6.1875 Z M 7.15625 -6.1875 \"/>\n",
       "</symbol>\n",
       "<symbol overflow=\"visible\" id=\"glyph0-17\">\n",
       "<path style=\"stroke:none;\" d=\"M 1.796875 -6.28125 L 0.796875 -6.28125 L 0.796875 0 L 1.796875 0 Z M 1.796875 -8.75 L 0.796875 -8.75 L 0.796875 -7.484375 L 1.796875 -7.484375 Z M 1.796875 -8.75 \"/>\n",
       "</symbol>\n",
       "<symbol overflow=\"visible\" id=\"glyph0-18\">\n",
       "<path style=\"stroke:none;\" d=\"M 5.3125 -6.28125 L 0.625 -6.28125 L 0.625 -5.40625 L 4.125 -5.40625 L 0.375 -0.90625 L 0.375 0 L 5.484375 0 L 5.484375 -0.875 L 1.578125 -0.875 L 5.3125 -5.40625 Z M 5.3125 -6.28125 \"/>\n",
       "</symbol>\n",
       "<symbol overflow=\"visible\" id=\"glyph0-19\">\n",
       "<path style=\"stroke:none;\" d=\"M 2.828125 -8.75 C 1.625 -7.171875 0.875 -4.984375 0.875 -3.109375 C 0.875 -1.21875 1.625 0.96875 2.828125 2.546875 L 3.484375 2.546875 C 2.4375 0.828125 1.84375 -1.1875 1.84375 -3.109375 C 1.84375 -5.015625 2.4375 -7.046875 3.484375 -8.75 Z M 2.828125 -8.75 \"/>\n",
       "</symbol>\n",
       "<symbol overflow=\"visible\" id=\"glyph0-20\">\n",
       "<path style=\"stroke:none;\" d=\"M 0.953125 0 L 4.890625 0 C 5.71875 0 6.34375 -0.234375 6.796875 -0.734375 C 7.234375 -1.1875 7.46875 -1.8125 7.46875 -2.5 C 7.46875 -3.546875 7 -4.1875 5.875 -4.625 C 6.671875 -4.984375 7.09375 -5.640625 7.09375 -6.53125 C 7.09375 -7.15625 6.859375 -7.734375 6.390625 -8.140625 C 5.9375 -8.5625 5.34375 -8.75 4.5 -8.75 L 0.953125 -8.75 Z M 2.0625 -4.984375 L 2.0625 -7.765625 L 4.21875 -7.765625 C 4.84375 -7.765625 5.203125 -7.6875 5.5 -7.453125 C 5.8125 -7.21875 5.96875 -6.859375 5.96875 -6.375 C 5.96875 -5.90625 5.8125 -5.53125 5.5 -5.296875 C 5.203125 -5.0625 4.84375 -4.984375 4.21875 -4.984375 Z M 2.0625 -0.984375 L 2.0625 -4 L 4.78125 -4 C 5.328125 -4 5.6875 -3.859375 5.953125 -3.578125 C 6.21875 -3.296875 6.359375 -2.921875 6.359375 -2.484375 C 6.359375 -2.0625 6.21875 -1.6875 5.953125 -1.40625 C 5.6875 -1.109375 5.328125 -0.984375 4.78125 -0.984375 Z M 2.0625 -0.984375 \"/>\n",
       "</symbol>\n",
       "<symbol overflow=\"visible\" id=\"glyph0-21\">\n",
       "<path style=\"stroke:none;\" d=\"M 4.65625 -6.28125 L 2.921875 -1.390625 L 1.3125 -6.28125 L 0.234375 -6.28125 L 2.359375 0.03125 L 1.984375 1.015625 C 1.828125 1.46875 1.59375 1.625 1.171875 1.625 C 1.03125 1.625 0.859375 1.609375 0.640625 1.5625 L 0.640625 2.453125 C 0.859375 2.5625 1.0625 2.609375 1.3125 2.609375 C 1.640625 2.609375 1.984375 2.515625 2.25 2.3125 C 2.5625 2.09375 2.75 1.828125 2.9375 1.3125 L 5.734375 -6.28125 Z M 4.65625 -6.28125 \"/>\n",
       "</symbol>\n",
       "<symbol overflow=\"visible\" id=\"glyph0-22\">\n",
       "<path style=\"stroke:none;\" d=\"M 5.25 -4.53125 C 5.25 -5.765625 4.421875 -6.46875 2.96875 -6.46875 C 1.515625 -6.46875 0.5625 -5.71875 0.5625 -4.546875 C 0.5625 -3.5625 1.0625 -3.09375 2.5625 -2.734375 L 3.484375 -2.515625 C 4.1875 -2.34375 4.46875 -2.09375 4.46875 -1.625 C 4.46875 -1.046875 3.875 -0.640625 3 -0.640625 C 2.453125 -0.640625 2 -0.796875 1.75 -1.0625 C 1.59375 -1.25 1.53125 -1.421875 1.46875 -1.875 L 0.40625 -1.875 C 0.453125 -0.421875 1.265625 0.28125 2.921875 0.28125 C 4.5 0.28125 5.515625 -0.5 5.515625 -1.71875 C 5.515625 -2.65625 4.984375 -3.171875 3.734375 -3.46875 L 2.765625 -3.703125 C 1.953125 -3.890625 1.609375 -4.15625 1.609375 -4.59375 C 1.609375 -5.171875 2.125 -5.546875 2.9375 -5.546875 C 3.75 -5.546875 4.171875 -5.203125 4.203125 -4.53125 Z M 5.25 -4.53125 \"/>\n",
       "</symbol>\n",
       "<symbol overflow=\"visible\" id=\"glyph0-23\">\n",
       "<path style=\"stroke:none;\" d=\"M 1.109375 2.546875 C 2.3125 0.96875 3.078125 -1.21875 3.078125 -3.09375 C 3.078125 -4.984375 2.3125 -7.171875 1.109375 -8.75 L 0.453125 -8.75 C 1.515625 -7.03125 2.09375 -5.015625 2.09375 -3.09375 C 2.09375 -1.1875 1.515625 0.84375 0.453125 2.546875 Z M 1.109375 2.546875 \"/>\n",
       "</symbol>\n",
       "<symbol overflow=\"visible\" id=\"glyph1-0\">\n",
       "<path style=\"stroke:none;\" d=\"\"/>\n",
       "</symbol>\n",
       "<symbol overflow=\"visible\" id=\"glyph1-1\">\n",
       "<path style=\"stroke:none;\" d=\"M -6.0625 -3.109375 L 0 -3.109375 L 0 -4.15625 L -8.515625 -4.15625 L -8.515625 -3.46875 C -7.203125 -3.09375 -7.015625 -2.859375 -6.8125 -1.21875 L -6.0625 -1.21875 Z M -6.0625 -3.109375 \"/>\n",
       "</symbol>\n",
       "<symbol overflow=\"visible\" id=\"glyph1-2\">\n",
       "<path style=\"stroke:none;\" d=\"M -1.25 -2.296875 L -1.25 -1.046875 L 0 -1.046875 L 0 -2.296875 Z M -1.25 -2.296875 \"/>\n",
       "</symbol>\n",
       "<symbol overflow=\"visible\" id=\"glyph1-3\">\n",
       "<path style=\"stroke:none;\" d=\"M -2.046875 -3.921875 L 0 -3.921875 L 0 -4.984375 L -2.046875 -4.984375 L -2.046875 -6.234375 L -2.984375 -6.234375 L -2.984375 -4.984375 L -8.515625 -4.984375 L -8.515625 -4.203125 L -3.15625 -0.34375 L -2.046875 -0.34375 Z M -2.984375 -3.921875 L -2.984375 -1.265625 L -6.703125 -3.921875 Z M -2.984375 -3.921875 \"/>\n",
       "</symbol>\n",
       "<symbol overflow=\"visible\" id=\"glyph1-4\">\n",
       "<path style=\"stroke:none;\" d=\"M -6.28125 -5.96875 C -7.6875 -5.765625 -8.515625 -4.859375 -8.515625 -3.5625 C -8.515625 -2.625 -8.046875 -1.78125 -7.296875 -1.28125 C -6.46875 -0.75 -5.421875 -0.515625 -3.875 -0.515625 C -2.453125 -0.515625 -1.53125 -0.734375 -0.78125 -1.234375 C -0.09375 -1.6875 0.28125 -2.4375 0.28125 -3.375 C 0.28125 -4.984375 -0.921875 -6.15625 -2.59375 -6.15625 C -4.171875 -6.15625 -5.296875 -5.078125 -5.296875 -3.546875 C -5.296875 -2.71875 -4.96875 -2.046875 -4.34375 -1.59375 C -6.421875 -1.609375 -7.578125 -2.28125 -7.578125 -3.484375 C -7.578125 -4.234375 -7.109375 -4.75 -6.28125 -4.921875 Z M -4.359375 -3.421875 C -4.359375 -4.4375 -3.640625 -5.078125 -2.515625 -5.078125 C -1.4375 -5.078125 -0.65625 -4.359375 -0.65625 -3.390625 C -0.65625 -2.40625 -1.46875 -1.65625 -2.5625 -1.65625 C -3.625 -1.65625 -4.359375 -2.375 -4.359375 -3.421875 Z M -4.359375 -3.421875 \"/>\n",
       "</symbol>\n",
       "<symbol overflow=\"visible\" id=\"glyph1-5\">\n",
       "<path style=\"stroke:none;\" d=\"M -4.46875 -4.6875 C -5 -5.5625 -5.4375 -5.859375 -6.234375 -5.859375 C -7.578125 -5.859375 -8.515625 -4.8125 -8.515625 -3.296875 C -8.515625 -1.796875 -7.578125 -0.75 -6.234375 -0.75 C -5.453125 -0.75 -5.015625 -1.03125 -4.46875 -1.890625 C -4.015625 -0.921875 -3.296875 -0.4375 -2.359375 -0.4375 C -0.796875 -0.4375 0.28125 -1.625 0.28125 -3.296875 C 0.28125 -4.984375 -0.796875 -6.15625 -2.359375 -6.15625 C -3.296875 -6.15625 -4.015625 -5.671875 -4.46875 -4.6875 Z M -7.578125 -3.296875 C -7.578125 -4.203125 -7.046875 -4.78125 -6.21875 -4.78125 C -5.421875 -4.78125 -4.890625 -4.1875 -4.890625 -3.296875 C -4.890625 -2.40625 -5.421875 -1.828125 -6.234375 -1.828125 C -7.046875 -1.828125 -7.578125 -2.40625 -7.578125 -3.296875 Z M -4.015625 -3.296875 C -4.015625 -4.359375 -3.34375 -5.078125 -2.34375 -5.078125 C -1.328125 -5.078125 -0.65625 -4.359375 -0.65625 -3.28125 C -0.65625 -2.25 -1.34375 -1.53125 -2.34375 -1.53125 C -3.34375 -1.53125 -4.015625 -2.25 -4.015625 -3.296875 Z M -4.015625 -3.296875 \"/>\n",
       "</symbol>\n",
       "<symbol overflow=\"visible\" id=\"glyph1-6\">\n",
       "<path style=\"stroke:none;\" d=\"M -1.046875 -6.078125 L -1.046875 -1.59375 C -1.734375 -1.703125 -2.1875 -2.09375 -2.796875 -3.125 L -3.4375 -4.328125 C -4.09375 -5.515625 -4.96875 -6.125 -6.015625 -6.125 C -6.71875 -6.125 -7.375 -5.84375 -7.84375 -5.34375 C -8.296875 -4.84375 -8.515625 -4.21875 -8.515625 -3.40625 C -8.515625 -2.328125 -8.125 -1.53125 -7.40625 -1.0625 C -6.953125 -0.75 -6.421875 -0.625 -5.5625 -0.59375 L -5.5625 -1.65625 C -6.125 -1.6875 -6.484375 -1.765625 -6.75 -1.90625 C -7.265625 -2.1875 -7.578125 -2.734375 -7.578125 -3.375 C -7.578125 -4.328125 -6.90625 -5.046875 -5.984375 -5.046875 C -5.3125 -5.046875 -4.734375 -4.65625 -4.3125 -3.90625 L -3.6875 -2.796875 C -2.671875 -1.015625 -1.875 -0.5 0 -0.40625 L 0 -6.078125 Z M -1.046875 -6.078125 \"/>\n",
       "</symbol>\n",
       "<symbol overflow=\"visible\" id=\"glyph1-7\">\n",
       "<path style=\"stroke:none;\" d=\"M -8.515625 -3.296875 C -8.515625 -2.515625 -8.15625 -1.78125 -7.578125 -1.34375 C -6.828125 -0.796875 -5.6875 -0.515625 -4.109375 -0.515625 C -1.25 -0.515625 0.28125 -1.46875 0.28125 -3.296875 C 0.28125 -5.09375 -1.25 -6.078125 -4.046875 -6.078125 C -5.703125 -6.078125 -6.796875 -5.8125 -7.578125 -5.25 C -8.171875 -4.8125 -8.515625 -4.109375 -8.515625 -3.296875 Z M -7.578125 -3.296875 C -7.578125 -4.4375 -6.421875 -5 -4.140625 -5 C -1.734375 -5 -0.59375 -4.453125 -0.59375 -3.28125 C -0.59375 -2.15625 -1.78125 -1.59375 -4.109375 -1.59375 C -6.4375 -1.59375 -7.578125 -2.15625 -7.578125 -3.296875 Z M -7.578125 -3.296875 \"/>\n",
       "</symbol>\n",
       "<symbol overflow=\"visible\" id=\"glyph1-8\">\n",
       "<path style=\"stroke:none;\" d=\"M -6.28125 -4.65625 L -1.390625 -2.921875 L -6.28125 -1.3125 L -6.28125 -0.234375 L 0.03125 -2.359375 L 1.015625 -1.984375 C 1.46875 -1.828125 1.625 -1.59375 1.625 -1.171875 C 1.625 -1.03125 1.609375 -0.859375 1.5625 -0.640625 L 2.453125 -0.640625 C 2.5625 -0.859375 2.609375 -1.0625 2.609375 -1.3125 C 2.609375 -1.640625 2.515625 -1.984375 2.3125 -2.25 C 2.09375 -2.5625 1.828125 -2.75 1.3125 -2.9375 L -6.28125 -5.734375 Z M -6.28125 -4.65625 \"/>\n",
       "</symbol>\n",
       "<symbol overflow=\"visible\" id=\"glyph1-9\">\n",
       "<path style=\"stroke:none;\" d=\"\"/>\n",
       "</symbol>\n",
       "<symbol overflow=\"visible\" id=\"glyph1-10\">\n",
       "<path style=\"stroke:none;\" d=\"M -3.75 -3.40625 L -3.75 -0.546875 L -2.875 -0.546875 L -2.875 -3.40625 Z M -3.75 -3.40625 \"/>\n",
       "</symbol>\n",
       "<symbol overflow=\"visible\" id=\"glyph1-11\">\n",
       "<path style=\"stroke:none;\" d=\"M -7.765625 -4.25 L -7.765625 -7.109375 L -8.75 -7.109375 L -8.75 -0.25 L -7.765625 -0.25 L -7.765625 -3.125 L 0 -3.125 L 0 -4.25 Z M -7.765625 -4.25 \"/>\n",
       "</symbol>\n",
       "<symbol overflow=\"visible\" id=\"glyph1-12\">\n",
       "<path style=\"stroke:none;\" d=\"M -6.28125 -1.796875 L -6.28125 -0.796875 L 0 -0.796875 L 0 -1.796875 Z M -8.75 -1.796875 L -8.75 -0.796875 L -7.484375 -0.796875 L -7.484375 -1.796875 Z M -8.75 -1.796875 \"/>\n",
       "</symbol>\n",
       "<symbol overflow=\"visible\" id=\"glyph1-13\">\n",
       "<path style=\"stroke:none;\" d=\"M -6.28125 -0.84375 L 0 -0.84375 L 0 -1.84375 L -3.953125 -1.84375 C -4.859375 -1.84375 -5.59375 -2.515625 -5.59375 -3.328125 C -5.59375 -4.0625 -5.140625 -4.484375 -4.328125 -4.484375 L 0 -4.484375 L 0 -5.5 L -3.953125 -5.5 C -4.859375 -5.5 -5.59375 -6.15625 -5.59375 -6.96875 C -5.59375 -7.703125 -5.125 -8.140625 -4.328125 -8.140625 L 0 -8.140625 L 0 -9.140625 L -4.71875 -9.140625 C -5.84375 -9.140625 -6.46875 -8.5 -6.46875 -7.3125 C -6.46875 -6.484375 -6.21875 -5.96875 -5.515625 -5.390625 C -6.1875 -5.015625 -6.46875 -4.515625 -6.46875 -3.703125 C -6.46875 -2.859375 -6.15625 -2.296875 -5.40625 -1.765625 L -6.28125 -1.765625 Z M -6.28125 -0.84375 \"/>\n",
       "</symbol>\n",
       "<symbol overflow=\"visible\" id=\"glyph1-14\">\n",
       "<path style=\"stroke:none;\" d=\"M -2.8125 -6.15625 C -3.765625 -6.15625 -4.34375 -6.078125 -4.8125 -5.90625 C -5.84375 -5.5 -6.46875 -4.53125 -6.46875 -3.359375 C -6.46875 -1.609375 -5.125 -0.484375 -3.0625 -0.484375 C -1 -0.484375 0.28125 -1.578125 0.28125 -3.34375 C 0.28125 -4.78125 -0.546875 -5.765625 -1.90625 -6.03125 L -1.90625 -5.015625 C -1.078125 -4.734375 -0.640625 -4.171875 -0.640625 -3.375 C -0.640625 -2.734375 -0.9375 -2.203125 -1.46875 -1.859375 C -1.828125 -1.625 -2.1875 -1.53125 -2.8125 -1.53125 Z M -3.625 -1.546875 C -4.78125 -1.625 -5.546875 -2.34375 -5.546875 -3.34375 C -5.546875 -4.328125 -4.734375 -5.09375 -3.703125 -5.09375 C -3.671875 -5.09375 -3.640625 -5.09375 -3.625 -5.078125 Z M -3.625 -1.546875 \"/>\n",
       "</symbol>\n",
       "<symbol overflow=\"visible\" id=\"glyph1-15\">\n",
       "<path style=\"stroke:none;\" d=\"M -8.75 -2.828125 C -7.171875 -1.625 -4.984375 -0.875 -3.109375 -0.875 C -1.21875 -0.875 0.96875 -1.625 2.546875 -2.828125 L 2.546875 -3.484375 C 0.828125 -2.4375 -1.1875 -1.84375 -3.109375 -1.84375 C -5.015625 -1.84375 -7.046875 -2.4375 -8.75 -3.484375 Z M -8.75 -2.828125 \"/>\n",
       "</symbol>\n",
       "<symbol overflow=\"visible\" id=\"glyph1-16\">\n",
       "<path style=\"stroke:none;\" d=\"M -4.53125 -5.25 C -5.765625 -5.25 -6.46875 -4.421875 -6.46875 -2.96875 C -6.46875 -1.515625 -5.71875 -0.5625 -4.546875 -0.5625 C -3.5625 -0.5625 -3.09375 -1.0625 -2.734375 -2.5625 L -2.515625 -3.484375 C -2.34375 -4.1875 -2.09375 -4.46875 -1.625 -4.46875 C -1.046875 -4.46875 -0.640625 -3.875 -0.640625 -3 C -0.640625 -2.453125 -0.796875 -2 -1.0625 -1.75 C -1.25 -1.59375 -1.421875 -1.53125 -1.875 -1.46875 L -1.875 -0.40625 C -0.421875 -0.453125 0.28125 -1.265625 0.28125 -2.921875 C 0.28125 -4.5 -0.5 -5.515625 -1.71875 -5.515625 C -2.65625 -5.515625 -3.171875 -4.984375 -3.46875 -3.734375 L -3.703125 -2.765625 C -3.890625 -1.953125 -4.15625 -1.609375 -4.59375 -1.609375 C -5.171875 -1.609375 -5.546875 -2.125 -5.546875 -2.9375 C -5.546875 -3.75 -5.203125 -4.171875 -4.53125 -4.203125 Z M -4.53125 -5.25 \"/>\n",
       "</symbol>\n",
       "<symbol overflow=\"visible\" id=\"glyph1-17\">\n",
       "<path style=\"stroke:none;\" d=\"M 2.546875 -1.109375 C 0.96875 -2.3125 -1.21875 -3.078125 -3.09375 -3.078125 C -4.984375 -3.078125 -7.171875 -2.3125 -8.75 -1.109375 L -8.75 -0.453125 C -7.03125 -1.515625 -5.015625 -2.09375 -3.09375 -2.09375 C -1.1875 -2.09375 0.84375 -1.515625 2.546875 -0.453125 Z M 2.546875 -1.109375 \"/>\n",
       "</symbol>\n",
       "<symbol overflow=\"visible\" id=\"glyph2-0\">\n",
       "<path style=\"stroke:none;\" d=\"\"/>\n",
       "</symbol>\n",
       "<symbol overflow=\"visible\" id=\"glyph2-1\">\n",
       "<path style=\"stroke:none;\" d=\"M 5.671875 -7.78125 L 4.0625 -2.125 L 2.34375 -7.78125 L 0.125 -7.78125 L 3.03125 0.3125 L 3.03125 0.375 C 3.03125 1.109375 2.484375 1.671875 1.765625 1.671875 C 1.609375 1.671875 1.5 1.65625 1.234375 1.578125 L 1.234375 3.09375 C 1.546875 3.140625 1.71875 3.15625 1.953125 3.15625 C 2.46875 3.15625 3.0625 3.046875 3.421875 2.90625 C 3.96875 2.671875 4.21875 2.34375 4.546875 1.421875 L 7.75 -7.78125 Z M 5.671875 -7.78125 \"/>\n",
       "</symbol>\n",
       "<symbol overflow=\"visible\" id=\"glyph2-2\">\n",
       "<path style=\"stroke:none;\" d=\"\"/>\n",
       "</symbol>\n",
       "<symbol overflow=\"visible\" id=\"glyph2-3\">\n",
       "<path style=\"stroke:none;\" d=\"M 7.6875 -5.921875 L 0.71875 -5.921875 L 0.71875 -4.203125 L 7.6875 -4.203125 Z M 7.6875 -2.46875 L 0.71875 -2.46875 L 0.71875 -0.75 L 7.6875 -0.75 Z M 7.6875 -2.46875 \"/>\n",
       "</symbol>\n",
       "<symbol overflow=\"visible\" id=\"glyph2-4\">\n",
       "<path style=\"stroke:none;\" d=\"M 3.9375 -10.4375 C 2.84375 -10.4375 1.90625 -9.96875 1.28125 -9.125 C 0.6875 -8.328125 0.421875 -7.015625 0.421875 -5.046875 C 0.421875 -3.234375 0.65625 -1.953125 1.140625 -1.1875 C 1.75 -0.21875 2.734375 0.328125 3.9375 0.328125 C 5.046875 0.328125 5.953125 -0.109375 6.578125 -0.984375 C 7.15625 -1.75 7.453125 -3.078125 7.453125 -4.984375 C 7.453125 -6.859375 7.21875 -8.125 6.734375 -8.921875 C 6.125 -9.890625 5.125 -10.4375 3.9375 -10.4375 Z M 3.9375 -8.796875 C 4.453125 -8.796875 4.875 -8.515625 5.109375 -7.984375 C 5.3125 -7.546875 5.4375 -6.421875 5.4375 -5.03125 C 5.4375 -3.890625 5.3125 -2.734375 5.171875 -2.328125 C 4.9375 -1.734375 4.515625 -1.390625 3.9375 -1.390625 C 3.40625 -1.390625 3 -1.671875 2.75 -2.1875 C 2.546875 -2.625 2.4375 -3.703125 2.4375 -5.0625 C 2.4375 -6.25 2.546875 -7.421875 2.6875 -7.84375 C 2.921875 -8.453125 3.359375 -8.796875 3.9375 -8.796875 Z M 3.9375 -8.796875 \"/>\n",
       "</symbol>\n",
       "<symbol overflow=\"visible\" id=\"glyph2-5\">\n",
       "<path style=\"stroke:none;\" d=\"M 5.109375 -3.921875 L 7.65625 -7.78125 L 5.234375 -7.78125 L 3.96875 -5.4375 L 2.703125 -7.78125 L 0.28125 -7.78125 L 2.828125 -3.921875 L 0.234375 0 L 2.65625 0 L 3.96875 -2.421875 L 5.28125 0 L 7.703125 0 Z M 5.109375 -3.921875 \"/>\n",
       "</symbol>\n",
       "<symbol overflow=\"visible\" id=\"glyph2-6\">\n",
       "<path style=\"stroke:none;\" d=\"M 7.671875 -4.1875 L 5.0625 -4.1875 L 5.0625 -6.8125 L 3.34375 -6.8125 L 3.34375 -4.1875 L 0.71875 -4.1875 L 0.71875 -2.484375 L 3.34375 -2.484375 L 3.34375 0.140625 L 5.0625 0.140625 L 5.0625 -2.484375 L 7.671875 -2.484375 Z M 7.671875 -4.1875 \"/>\n",
       "</symbol>\n",
       "<symbol overflow=\"visible\" id=\"glyph2-7\">\n",
       "<path style=\"stroke:none;\" d=\"M 3.421875 -7.046875 L 3.421875 0 L 5.453125 0 L 5.453125 -10.21875 L 4.109375 -10.21875 C 3.78125 -9 2.734375 -8.390625 0.984375 -8.390625 L 0.984375 -7.046875 Z M 3.421875 -7.046875 \"/>\n",
       "</symbol>\n",
       "<symbol overflow=\"visible\" id=\"glyph2-8\">\n",
       "<path style=\"stroke:none;\" d=\"M 3.078125 -2.109375 L 0.921875 -2.109375 L 0.921875 0 L 3.078125 0 Z M 3.078125 -2.109375 \"/>\n",
       "</symbol>\n",
       "<symbol overflow=\"visible\" id=\"glyph2-9\">\n",
       "<path style=\"stroke:none;\" d=\"M 5.890625 -5.5625 C 6.234375 -5.75 6.390625 -5.84375 6.5625 -6 C 6.96875 -6.375 7.21875 -7 7.21875 -7.671875 C 7.21875 -9.265625 5.828125 -10.4375 3.953125 -10.4375 C 2.046875 -10.4375 0.65625 -9.265625 0.65625 -7.65625 C 0.65625 -6.671875 1.0625 -6.046875 1.984375 -5.5625 C 0.8125 -4.921875 0.3125 -4.15625 0.3125 -2.9375 C 0.3125 -1.015625 1.796875 0.328125 3.953125 0.328125 C 6.078125 0.328125 7.5625 -1.015625 7.5625 -2.9375 C 7.5625 -4.15625 7.078125 -4.921875 5.890625 -5.5625 Z M 3.96875 -8.796875 C 4.859375 -8.796875 5.46875 -8.25 5.46875 -7.46875 C 5.46875 -6.6875 4.84375 -6.125 3.96875 -6.125 C 3.0625 -6.125 2.4375 -6.6875 2.4375 -7.484375 C 2.4375 -8.25 3.046875 -8.796875 3.96875 -8.796875 Z M 3.9375 -4.75 C 4.921875 -4.75 5.546875 -4.09375 5.546875 -3.03125 C 5.546875 -2.046875 4.90625 -1.390625 3.9375 -1.390625 C 2.953125 -1.390625 2.328125 -2.046875 2.328125 -3.046875 C 2.328125 -4.09375 2.96875 -4.75 3.9375 -4.75 Z M 3.9375 -4.75 \"/>\n",
       "</symbol>\n",
       "<symbol overflow=\"visible\" id=\"glyph2-10\">\n",
       "<path style=\"stroke:none;\" d=\"M 3.25 -3.75 L 5.953125 -3.75 C 7.875 -3.75 9.125 -5.109375 9.125 -7.25 C 9.125 -9.34375 7.921875 -10.5 5.734375 -10.5 L 1.09375 -10.5 L 1.09375 0 L 3.25 0 Z M 3.25 -5.546875 L 3.25 -8.703125 L 5.265625 -8.703125 C 6.421875 -8.703125 6.953125 -8.203125 6.953125 -7.109375 C 6.953125 -6.046875 6.421875 -5.546875 5.265625 -5.546875 Z M 3.25 -5.546875 \"/>\n",
       "</symbol>\n",
       "<symbol overflow=\"visible\" id=\"glyph2-11\">\n",
       "<path style=\"stroke:none;\" d=\"M 7.546875 -0.25 C 7.1875 -0.578125 7.09375 -0.796875 7.09375 -1.203125 L 7.09375 -5.515625 C 7.09375 -7.109375 6 -7.90625 3.90625 -7.90625 C 1.796875 -7.90625 0.703125 -7.015625 0.578125 -5.21875 L 2.515625 -5.21875 C 2.625 -6.015625 2.953125 -6.28125 3.953125 -6.28125 C 4.71875 -6.28125 5.109375 -6.015625 5.109375 -5.5 C 5.109375 -5.25 4.984375 -5.015625 4.765625 -4.890625 C 4.5 -4.75 4.5 -4.75 3.5 -4.59375 L 2.6875 -4.453125 C 1.15625 -4.1875 0.40625 -3.40625 0.40625 -2 C 0.40625 -1.34375 0.59375 -0.796875 0.953125 -0.40625 C 1.390625 0.0625 2.078125 0.328125 2.765625 0.328125 C 3.625 0.328125 4.421875 -0.046875 5.125 -0.78125 C 5.125 -0.375 5.171875 -0.234375 5.359375 0 L 7.546875 0 Z M 5.109375 -3.125 C 5.109375 -1.953125 4.53125 -1.296875 3.515625 -1.296875 C 2.84375 -1.296875 2.421875 -1.65625 2.421875 -2.234375 C 2.421875 -2.84375 2.734375 -3.125 3.578125 -3.296875 L 4.265625 -3.421875 C 4.796875 -3.53125 4.890625 -3.5625 5.109375 -3.671875 Z M 5.109375 -3.125 \"/>\n",
       "</symbol>\n",
       "<symbol overflow=\"visible\" id=\"glyph2-12\">\n",
       "<path style=\"stroke:none;\" d=\"M 7.515625 -4.875 C 7.375 -6.765625 6.109375 -7.90625 4.15625 -7.90625 C 1.84375 -7.90625 0.484375 -6.375 0.484375 -3.734375 C 0.484375 -1.171875 1.828125 0.328125 4.140625 0.328125 C 6.015625 0.328125 7.328125 -0.828125 7.515625 -2.6875 L 5.59375 -2.6875 C 5.328125 -1.6875 4.921875 -1.296875 4.15625 -1.296875 C 3.125 -1.296875 2.5 -2.21875 2.5 -3.734375 C 2.5 -4.46875 2.65625 -5.15625 2.890625 -5.625 C 3.125 -6.046875 3.578125 -6.28125 4.15625 -6.28125 C 4.96875 -6.28125 5.359375 -5.890625 5.59375 -4.875 Z M 7.515625 -4.875 \"/>\n",
       "</symbol>\n",
       "<symbol overflow=\"visible\" id=\"glyph2-13\">\n",
       "<path style=\"stroke:none;\" d=\"M 2.859375 -4.75 L 2.859375 -10.5 L 0.84375 -10.5 L 0.84375 0 L 2.859375 0 L 2.859375 -2.546875 L 3.671875 -3.421875 L 5.53125 0 L 7.890625 0 L 5.0625 -4.84375 L 7.703125 -7.78125 L 5.421875 -7.78125 Z M 2.859375 -4.75 \"/>\n",
       "</symbol>\n",
       "<symbol overflow=\"visible\" id=\"glyph2-14\">\n",
       "<path style=\"stroke:none;\" d=\"M 7.546875 -3.25 C 7.5625 -3.421875 7.5625 -3.5 7.5625 -3.59375 C 7.5625 -4.375 7.453125 -5.09375 7.265625 -5.640625 C 6.734375 -7.0625 5.484375 -7.90625 3.921875 -7.90625 C 1.6875 -7.90625 0.3125 -6.296875 0.3125 -3.6875 C 0.3125 -1.203125 1.671875 0.328125 3.875 0.328125 C 5.625 0.328125 7.03125 -0.65625 7.484375 -2.1875 L 5.484375 -2.1875 C 5.25 -1.5625 4.6875 -1.203125 3.953125 -1.203125 C 3.375 -1.203125 2.90625 -1.453125 2.625 -1.890625 C 2.4375 -2.171875 2.359375 -2.515625 2.328125 -3.25 Z M 2.359375 -4.59375 C 2.5 -5.78125 3 -6.375 3.890625 -6.375 C 4.390625 -6.375 4.859375 -6.125 5.140625 -5.71875 C 5.328125 -5.4375 5.421875 -5.125 5.453125 -4.59375 Z M 2.359375 -4.59375 \"/>\n",
       "</symbol>\n",
       "<symbol overflow=\"visible\" id=\"glyph2-15\">\n",
       "<path style=\"stroke:none;\" d=\"M 4.34375 -7.625 L 3.21875 -7.625 L 3.21875 -9.703125 L 1.203125 -9.703125 L 1.203125 -7.625 L 0.203125 -7.625 L 0.203125 -6.28125 L 1.203125 -6.28125 L 1.203125 -1.5 C 1.203125 -0.28125 1.84375 0.328125 3.171875 0.328125 C 3.609375 0.328125 3.96875 0.28125 4.34375 0.171875 L 4.34375 -1.234375 C 4.140625 -1.203125 4.015625 -1.203125 3.875 -1.203125 C 3.34375 -1.203125 3.21875 -1.359375 3.21875 -2.046875 L 3.21875 -6.28125 L 4.34375 -6.28125 Z M 4.34375 -7.625 \"/>\n",
       "</symbol>\n",
       "<symbol overflow=\"visible\" id=\"glyph2-16\">\n",
       "<path style=\"stroke:none;\" d=\"M 8.75 -7.296875 C 8.75 -8.265625 8.53125 -8.90625 8.015625 -9.484375 C 7.296875 -10.25 6.140625 -10.671875 4.625 -10.671875 C 2.109375 -10.671875 0.640625 -9.5 0.640625 -7.453125 C 0.640625 -5.8125 1.46875 -5.03125 3.59375 -4.625 L 5.078125 -4.34375 C 6.515625 -4.0625 7.046875 -3.65625 7.046875 -2.8125 C 7.046875 -1.9375 6.234375 -1.390625 4.921875 -1.390625 C 3.453125 -1.390625 2.640625 -2.015625 2.5625 -3.140625 L 0.46875 -3.140625 C 0.59375 -0.890625 2.125 0.328125 4.8125 0.328125 C 7.515625 0.328125 9.125 -0.9375 9.125 -3.0625 C 9.125 -4.71875 8.28125 -5.59375 6.34375 -5.96875 L 4.703125 -6.28125 C 3.15625 -6.578125 2.703125 -6.890625 2.703125 -7.65625 C 2.703125 -8.4375 3.421875 -8.953125 4.53125 -8.953125 C 5.890625 -8.953125 6.65625 -8.375 6.734375 -7.296875 Z M 8.75 -7.296875 \"/>\n",
       "</symbol>\n",
       "<symbol overflow=\"visible\" id=\"glyph2-17\">\n",
       "<path style=\"stroke:none;\" d=\"M 2.984375 -7.78125 L 0.96875 -7.78125 L 0.96875 0 L 2.984375 0 Z M 2.984375 -10.5 L 0.96875 -10.5 L 0.96875 -8.703125 L 2.984375 -8.703125 Z M 2.984375 -10.5 \"/>\n",
       "</symbol>\n",
       "<symbol overflow=\"visible\" id=\"glyph2-18\">\n",
       "<path style=\"stroke:none;\" d=\"M 6.609375 -7.78125 L 0.5625 -7.78125 L 0.5625 -6.15625 L 4.15625 -6.15625 L 0.296875 -1.625 L 0.296875 0 L 6.734375 0 L 6.734375 -1.625 L 2.796875 -1.625 L 6.609375 -6.15625 Z M 6.609375 -7.78125 \"/>\n",
       "</symbol>\n",
       "<symbol overflow=\"visible\" id=\"glyph2-19\">\n",
       "<path style=\"stroke:none;\" d=\"M 5.046875 0 L 7.71875 -7.78125 L 5.59375 -7.78125 L 4.015625 -2.09375 L 2.328125 -7.78125 L 0.203125 -7.78125 L 2.921875 0 Z M 5.046875 0 \"/>\n",
       "</symbol>\n",
       "<symbol overflow=\"visible\" id=\"glyph2-20\">\n",
       "<path style=\"stroke:none;\" d=\"M 7.28125 -5.265625 C 7.25 -6.921875 5.984375 -7.90625 3.890625 -7.90625 C 1.921875 -7.90625 0.6875 -6.921875 0.6875 -5.3125 C 0.6875 -4.796875 0.84375 -4.34375 1.125 -4.046875 C 1.390625 -3.78125 1.640625 -3.640625 2.390625 -3.40625 L 4.796875 -2.65625 C 5.296875 -2.5 5.46875 -2.328125 5.46875 -2.015625 C 5.46875 -1.546875 4.90625 -1.25 3.96875 -1.25 C 3.453125 -1.25 3.046875 -1.359375 2.78125 -1.53125 C 2.5625 -1.6875 2.484375 -1.84375 2.390625 -2.265625 L 0.421875 -2.265625 C 0.46875 -0.5625 1.734375 0.328125 4.09375 0.328125 C 5.171875 0.328125 6 0.09375 6.5625 -0.359375 C 7.140625 -0.828125 7.484375 -1.546875 7.484375 -2.3125 C 7.484375 -3.3125 6.984375 -3.96875 5.96875 -4.265625 L 3.421875 -5 C 2.859375 -5.171875 2.703125 -5.28125 2.703125 -5.609375 C 2.703125 -6.03125 3.171875 -6.328125 3.875 -6.328125 C 4.84375 -6.328125 5.3125 -5.984375 5.328125 -5.265625 Z M 7.28125 -5.265625 \"/>\n",
       "</symbol>\n",
       "<symbol overflow=\"visible\" id=\"glyph2-21\">\n",
       "<path style=\"stroke:none;\" d=\"M 5.546875 -8.703125 L 8.609375 -8.703125 L 8.609375 -10.5 L 0.203125 -10.5 L 0.203125 -8.703125 L 3.390625 -8.703125 L 3.390625 0 L 5.546875 0 Z M 5.546875 -8.703125 \"/>\n",
       "</symbol>\n",
       "<symbol overflow=\"visible\" id=\"glyph2-22\">\n",
       "<path style=\"stroke:none;\" d=\"M 0.859375 -7.78125 L 0.859375 0 L 2.875 0 L 2.875 -4.671875 C 2.875 -5.625 3.40625 -6.1875 4.265625 -6.1875 C 4.9375 -6.1875 5.359375 -5.8125 5.359375 -5.1875 L 5.359375 0 L 7.375 0 L 7.375 -4.671875 C 7.375 -5.625 7.890625 -6.1875 8.765625 -6.1875 C 9.4375 -6.1875 9.859375 -5.8125 9.859375 -5.1875 L 9.859375 0 L 11.875 0 L 11.875 -5.5 C 11.875 -7.015625 10.953125 -7.90625 9.390625 -7.90625 C 8.40625 -7.90625 7.71875 -7.5625 7.109375 -6.75 C 6.734375 -7.484375 5.96875 -7.90625 5 -7.90625 C 4.109375 -7.90625 3.53125 -7.609375 2.859375 -6.8125 L 2.859375 -7.78125 Z M 0.859375 -7.78125 \"/>\n",
       "</symbol>\n",
       "<symbol overflow=\"visible\" id=\"glyph2-23\">\n",
       "<path style=\"stroke:none;\" d=\"M 4.515625 -7.625 L 3.3125 -7.625 L 3.3125 -8.390625 C 3.3125 -8.78125 3.484375 -8.984375 3.859375 -8.984375 C 4.03125 -8.984375 4.265625 -8.96875 4.4375 -8.953125 L 4.4375 -10.453125 C 4.0625 -10.484375 3.5625 -10.5 3.28125 -10.5 C 1.9375 -10.5 1.296875 -9.875 1.296875 -8.5625 L 1.296875 -7.625 L 0.203125 -7.625 L 0.203125 -6.28125 L 1.296875 -6.28125 L 1.296875 0 L 3.3125 0 L 3.3125 -6.28125 L 4.515625 -6.28125 Z M 4.515625 -7.625 \"/>\n",
       "</symbol>\n",
       "<symbol overflow=\"visible\" id=\"glyph2-24\">\n",
       "<path style=\"stroke:none;\" d=\"M 4.34375 -7.90625 C 1.953125 -7.90625 0.5 -6.34375 0.5 -3.78125 C 0.5 -1.21875 1.953125 0.328125 4.34375 0.328125 C 6.71875 0.328125 8.203125 -1.234375 8.203125 -3.734375 C 8.203125 -6.375 6.765625 -7.90625 4.34375 -7.90625 Z M 4.34375 -6.28125 C 5.453125 -6.28125 6.1875 -5.28125 6.1875 -3.765625 C 6.1875 -2.3125 5.4375 -1.296875 4.34375 -1.296875 C 3.25 -1.296875 2.515625 -2.3125 2.515625 -3.78125 C 2.515625 -5.265625 3.25 -6.28125 4.34375 -6.28125 Z M 4.34375 -6.28125 \"/>\n",
       "</symbol>\n",
       "<symbol overflow=\"visible\" id=\"glyph2-25\">\n",
       "<path style=\"stroke:none;\" d=\"M 0.90625 -7.78125 L 0.90625 0 L 2.921875 0 L 2.921875 -4.140625 C 2.921875 -5.3125 3.515625 -5.90625 4.703125 -5.90625 C 4.90625 -5.90625 5.0625 -5.890625 5.328125 -5.84375 L 5.328125 -7.890625 C 5.21875 -7.90625 5.140625 -7.90625 5.078125 -7.90625 C 4.15625 -7.90625 3.359375 -7.296875 2.921875 -6.25 L 2.921875 -7.78125 Z M 0.90625 -7.78125 \"/>\n",
       "</symbol>\n",
       "<symbol overflow=\"visible\" id=\"glyph2-26\">\n",
       "<path style=\"stroke:none;\" d=\"M 3.109375 -8.1875 L 5 0 L 7.15625 0 L 9.015625 -8.1875 L 9.015625 0 L 11.171875 0 L 11.171875 -10.5 L 7.921875 -10.5 L 6.078125 -2.140625 L 4.171875 -10.5 L 0.953125 -10.5 L 0.953125 0 L 3.109375 0 Z M 3.109375 -8.1875 \"/>\n",
       "</symbol>\n",
       "<symbol overflow=\"visible\" id=\"glyph2-27\">\n",
       "<path style=\"stroke:none;\" d=\"M 1.1875 0 L 5.90625 0 C 7.109375 0 7.921875 -0.234375 8.5625 -0.765625 C 9.1875 -1.296875 9.59375 -2.1875 9.59375 -3.03125 C 9.59375 -4.0625 9.03125 -4.890625 7.84375 -5.578125 C 8.890625 -6.234375 9.296875 -6.84375 9.296875 -7.734375 C 9.296875 -8.453125 8.9375 -9.21875 8.34375 -9.734375 C 7.71875 -10.265625 6.984375 -10.5 5.859375 -10.5 L 1.1875 -10.5 Z M 3.34375 -8.703125 L 5.6875 -8.703125 C 6.6875 -8.703125 7.21875 -8.28125 7.21875 -7.5 C 7.21875 -6.734375 6.6875 -6.328125 5.6875 -6.328125 L 3.34375 -6.328125 Z M 3.34375 -4.53125 L 5.921875 -4.53125 C 6.96875 -4.53125 7.515625 -4.046875 7.515625 -3.15625 C 7.515625 -2.28125 6.96875 -1.796875 5.921875 -1.796875 L 3.34375 -1.796875 Z M 3.34375 -4.53125 \"/>\n",
       "</symbol>\n",
       "<symbol overflow=\"visible\" id=\"glyph2-28\">\n",
       "<path style=\"stroke:none;\" d=\"M 7.359375 0 L 9.515625 0 L 9.515625 -10.5 L 7.359375 -10.5 L 7.359375 -3.359375 L 3.203125 -10.5 L 0.984375 -10.5 L 0.984375 0 L 3.140625 0 L 3.140625 -7.265625 Z M 7.359375 0 \"/>\n",
       "</symbol>\n",
       "<symbol overflow=\"visible\" id=\"glyph2-29\">\n",
       "<path style=\"stroke:none;\" d=\"M 8.828125 0 L 11.03125 -7.78125 L 8.953125 -7.78125 L 7.765625 -2.328125 L 6.59375 -7.78125 L 4.578125 -7.78125 L 3.40625 -2.328125 L 2.15625 -7.78125 L 0.078125 -7.78125 L 2.265625 0 L 4.34375 0 L 5.578125 -5.484375 L 6.734375 0 Z M 8.828125 0 \"/>\n",
       "</symbol>\n",
       "</g>\n",
       "<clipPath id=\"clip1\">\n",
       "  <path d=\"M 59.039062 68 L 474.757812 68 L 474.757812 416 L 59.039062 416 Z M 59.039062 68 \"/>\n",
       "</clipPath>\n",
       "</defs>\n",
       "<g id=\"surface113\">\n",
       "<rect x=\"0\" y=\"0\" width=\"504\" height=\"504\" style=\"fill:rgb(100%,100%,100%);fill-opacity:1;stroke:none;\"/>\n",
       "<path style=\"fill:none;stroke-width:0.75;stroke-linecap:round;stroke-linejoin:round;stroke:rgb(0%,0%,0%);stroke-opacity:1;stroke-miterlimit:10;\" d=\"M 77.101562 405.371094 C 77.101562 408.96875 71.699219 408.96875 71.699219 405.371094 C 71.699219 401.769531 77.101562 401.769531 77.101562 405.371094 \"/>\n",
       "<path style=\"fill:none;stroke-width:0.75;stroke-linecap:round;stroke-linejoin:round;stroke:rgb(0%,0%,0%);stroke-opacity:1;stroke-miterlimit:10;\" d=\"M 77.101562 416.800781 C 77.101562 420.398438 71.699219 420.398438 71.699219 416.800781 C 71.699219 413.199219 77.101562 413.199219 77.101562 416.800781 \"/>\n",
       "<path style=\"fill:none;stroke-width:0.75;stroke-linecap:round;stroke-linejoin:round;stroke:rgb(0%,0%,0%);stroke-opacity:1;stroke-miterlimit:10;\" d=\"M 77.101562 405.371094 C 77.101562 408.96875 71.699219 408.96875 71.699219 405.371094 C 71.699219 401.769531 77.101562 401.769531 77.101562 405.371094 \"/>\n",
       "<path style=\"fill:none;stroke-width:0.75;stroke-linecap:round;stroke-linejoin:round;stroke:rgb(0%,0%,0%);stroke-opacity:1;stroke-miterlimit:10;\" d=\"M 77.101562 409.234375 C 77.101562 412.832031 71.699219 412.832031 71.699219 409.234375 C 71.699219 405.632812 77.101562 405.632812 77.101562 409.234375 \"/>\n",
       "<path style=\"fill:none;stroke-width:0.75;stroke-linecap:round;stroke-linejoin:round;stroke:rgb(0%,0%,0%);stroke-opacity:1;stroke-miterlimit:10;\" d=\"M 77.101562 413.042969 C 77.101562 416.644531 71.699219 416.644531 71.699219 413.042969 C 71.699219 409.441406 77.101562 409.441406 77.101562 413.042969 \"/>\n",
       "<path style=\"fill:none;stroke-width:0.75;stroke-linecap:round;stroke-linejoin:round;stroke:rgb(0%,0%,0%);stroke-opacity:1;stroke-miterlimit:10;\" d=\"M 112.007812 381 C 112.007812 384.597656 106.609375 384.597656 106.609375 381 C 106.609375 377.398438 112.007812 377.398438 112.007812 381 \"/>\n",
       "<path style=\"fill:none;stroke-width:0.75;stroke-linecap:round;stroke-linejoin:round;stroke:rgb(0%,0%,0%);stroke-opacity:1;stroke-miterlimit:10;\" d=\"M 112.007812 367.988281 C 112.007812 371.589844 106.609375 371.589844 106.609375 367.988281 C 106.609375 364.386719 112.007812 364.386719 112.007812 367.988281 \"/>\n",
       "<path style=\"fill:none;stroke-width:0.75;stroke-linecap:round;stroke-linejoin:round;stroke:rgb(0%,0%,0%);stroke-opacity:1;stroke-miterlimit:10;\" d=\"M 112.007812 381 C 112.007812 384.597656 106.609375 384.597656 106.609375 381 C 106.609375 377.398438 112.007812 377.398438 112.007812 381 \"/>\n",
       "<path style=\"fill:none;stroke-width:0.75;stroke-linecap:round;stroke-linejoin:round;stroke:rgb(0%,0%,0%);stroke-opacity:1;stroke-miterlimit:10;\" d=\"M 112.007812 372.390625 C 112.007812 375.988281 106.609375 375.988281 106.609375 372.390625 C 106.609375 368.789062 112.007812 368.789062 112.007812 372.390625 \"/>\n",
       "<path style=\"fill:none;stroke-width:0.75;stroke-linecap:round;stroke-linejoin:round;stroke:rgb(0%,0%,0%);stroke-opacity:1;stroke-miterlimit:10;\" d=\"M 112.007812 376.726562 C 112.007812 380.324219 106.609375 380.324219 106.609375 376.726562 C 106.609375 373.125 112.007812 373.125 112.007812 376.726562 \"/>\n",
       "<path style=\"fill:none;stroke-width:0.75;stroke-linecap:round;stroke-linejoin:round;stroke:rgb(0%,0%,0%);stroke-opacity:1;stroke-miterlimit:10;\" d=\"M 146.917969 335.121094 C 146.917969 338.722656 141.519531 338.722656 141.519531 335.121094 C 141.519531 331.523438 146.917969 331.523438 146.917969 335.121094 \"/>\n",
       "<path style=\"fill:none;stroke-width:0.75;stroke-linecap:round;stroke-linejoin:round;stroke:rgb(0%,0%,0%);stroke-opacity:1;stroke-miterlimit:10;\" d=\"M 146.917969 335.121094 C 146.917969 338.722656 141.519531 338.722656 141.519531 335.121094 C 141.519531 331.523438 146.917969 331.523438 146.917969 335.121094 \"/>\n",
       "<path style=\"fill:none;stroke-width:0.75;stroke-linecap:round;stroke-linejoin:round;stroke:rgb(0%,0%,0%);stroke-opacity:1;stroke-miterlimit:10;\" d=\"M 146.917969 351.617188 C 146.917969 355.21875 141.519531 355.21875 141.519531 351.617188 C 141.519531 348.019531 146.917969 348.019531 146.917969 351.617188 \"/>\n",
       "<path style=\"fill:none;stroke-width:0.75;stroke-linecap:round;stroke-linejoin:round;stroke:rgb(0%,0%,0%);stroke-opacity:1;stroke-miterlimit:10;\" d=\"M 146.917969 351.617188 C 146.917969 355.21875 141.519531 355.21875 141.519531 351.617188 C 141.519531 348.019531 146.917969 348.019531 146.917969 351.617188 \"/>\n",
       "<path style=\"fill:none;stroke-width:0.75;stroke-linecap:round;stroke-linejoin:round;stroke:rgb(0%,0%,0%);stroke-opacity:1;stroke-miterlimit:10;\" d=\"M 146.917969 347.578125 C 146.917969 351.175781 141.519531 351.175781 141.519531 347.578125 C 141.519531 343.976562 146.917969 343.976562 146.917969 347.578125 \"/>\n",
       "<path style=\"fill:none;stroke-width:0.75;stroke-linecap:round;stroke-linejoin:round;stroke:rgb(0%,0%,0%);stroke-opacity:1;stroke-miterlimit:10;\" d=\"M 181.828125 310.699219 C 181.828125 314.300781 176.425781 314.300781 176.425781 310.699219 C 176.425781 307.097656 181.828125 307.097656 181.828125 310.699219 \"/>\n",
       "<path style=\"fill:none;stroke-width:0.75;stroke-linecap:round;stroke-linejoin:round;stroke:rgb(0%,0%,0%);stroke-opacity:1;stroke-miterlimit:10;\" d=\"M 181.828125 318.449219 C 181.828125 322.046875 176.425781 322.046875 176.425781 318.449219 C 176.425781 314.847656 181.828125 314.847656 181.828125 318.449219 \"/>\n",
       "<path style=\"fill:none;stroke-width:0.75;stroke-linecap:round;stroke-linejoin:round;stroke:rgb(0%,0%,0%);stroke-opacity:1;stroke-miterlimit:10;\" d=\"M 181.828125 306.753906 C 181.828125 310.355469 176.425781 310.355469 176.425781 306.753906 C 176.425781 303.152344 181.828125 303.152344 181.828125 306.753906 \"/>\n",
       "<path style=\"fill:none;stroke-width:0.75;stroke-linecap:round;stroke-linejoin:round;stroke:rgb(0%,0%,0%);stroke-opacity:1;stroke-miterlimit:10;\" d=\"M 181.828125 310.699219 C 181.828125 314.300781 176.425781 314.300781 176.425781 310.699219 C 176.425781 307.097656 181.828125 307.097656 181.828125 310.699219 \"/>\n",
       "<path style=\"fill:none;stroke-width:0.75;stroke-linecap:round;stroke-linejoin:round;stroke:rgb(0%,0%,0%);stroke-opacity:1;stroke-miterlimit:10;\" d=\"M 181.828125 306.753906 C 181.828125 310.355469 176.425781 310.355469 176.425781 306.753906 C 176.425781 303.152344 181.828125 303.152344 181.828125 306.753906 \"/>\n",
       "<path style=\"fill:none;stroke-width:0.75;stroke-linecap:round;stroke-linejoin:round;stroke:rgb(0%,0%,0%);stroke-opacity:1;stroke-miterlimit:10;\" d=\"M 216.738281 286.636719 C 216.738281 290.234375 211.335938 290.234375 211.335938 286.636719 C 211.335938 283.035156 216.738281 283.035156 216.738281 286.636719 \"/>\n",
       "<path style=\"fill:none;stroke-width:0.75;stroke-linecap:round;stroke-linejoin:round;stroke:rgb(0%,0%,0%);stroke-opacity:1;stroke-miterlimit:10;\" d=\"M 216.738281 282.863281 C 216.738281 286.464844 211.335938 286.464844 211.335938 282.863281 C 211.335938 279.265625 216.738281 279.265625 216.738281 282.863281 \"/>\n",
       "<path style=\"fill:none;stroke-width:0.75;stroke-linecap:round;stroke-linejoin:round;stroke:rgb(0%,0%,0%);stroke-opacity:1;stroke-miterlimit:10;\" d=\"M 216.738281 279.050781 C 216.738281 282.652344 211.335938 282.652344 211.335938 279.050781 C 211.335938 275.449219 216.738281 275.449219 216.738281 279.050781 \"/>\n",
       "<path style=\"fill:none;stroke-width:0.75;stroke-linecap:round;stroke-linejoin:round;stroke:rgb(0%,0%,0%);stroke-opacity:1;stroke-miterlimit:10;\" d=\"M 216.738281 282.863281 C 216.738281 286.464844 211.335938 286.464844 211.335938 282.863281 C 211.335938 279.265625 216.738281 279.265625 216.738281 282.863281 \"/>\n",
       "<path style=\"fill:none;stroke-width:0.75;stroke-linecap:round;stroke-linejoin:round;stroke:rgb(0%,0%,0%);stroke-opacity:1;stroke-miterlimit:10;\" d=\"M 216.738281 282.980469 C 216.738281 286.582031 211.335938 286.582031 211.335938 282.980469 C 211.335938 279.382812 216.738281 279.382812 216.738281 282.980469 \"/>\n",
       "<path style=\"fill:none;stroke-width:0.75;stroke-linecap:round;stroke-linejoin:round;stroke:rgb(0%,0%,0%);stroke-opacity:1;stroke-miterlimit:10;\" d=\"M 251.644531 252.65625 C 251.644531 256.257812 246.246094 256.257812 246.246094 252.65625 C 246.246094 249.054688 251.644531 249.054688 251.644531 252.65625 \"/>\n",
       "<path style=\"fill:none;stroke-width:0.75;stroke-linecap:round;stroke-linejoin:round;stroke:rgb(0%,0%,0%);stroke-opacity:1;stroke-miterlimit:10;\" d=\"M 251.644531 263.730469 C 251.644531 267.332031 246.246094 267.332031 246.246094 263.730469 C 246.246094 260.132812 251.644531 260.132812 251.644531 263.730469 \"/>\n",
       "<path style=\"fill:none;stroke-width:0.75;stroke-linecap:round;stroke-linejoin:round;stroke:rgb(0%,0%,0%);stroke-opacity:1;stroke-miterlimit:10;\" d=\"M 251.644531 256.386719 C 251.644531 259.988281 246.246094 259.988281 246.246094 256.386719 C 246.246094 252.785156 251.644531 252.785156 251.644531 256.386719 \"/>\n",
       "<path style=\"fill:none;stroke-width:0.75;stroke-linecap:round;stroke-linejoin:round;stroke:rgb(0%,0%,0%);stroke-opacity:1;stroke-miterlimit:10;\" d=\"M 251.644531 245.074219 C 251.644531 248.671875 246.246094 248.671875 246.246094 245.074219 C 246.246094 241.472656 251.644531 241.472656 251.644531 245.074219 \"/>\n",
       "<path style=\"fill:none;stroke-width:0.75;stroke-linecap:round;stroke-linejoin:round;stroke:rgb(0%,0%,0%);stroke-opacity:1;stroke-miterlimit:10;\" d=\"M 251.644531 245.074219 C 251.644531 248.671875 246.246094 248.671875 246.246094 245.074219 C 246.246094 241.472656 251.644531 241.472656 251.644531 245.074219 \"/>\n",
       "<path style=\"fill:none;stroke-width:0.75;stroke-linecap:round;stroke-linejoin:round;stroke:rgb(0%,0%,0%);stroke-opacity:1;stroke-miterlimit:10;\" d=\"M 286.554688 221.316406 C 286.554688 224.914062 281.15625 224.914062 281.15625 221.316406 C 281.15625 217.714844 286.554688 217.714844 286.554688 221.316406 \"/>\n",
       "<path style=\"fill:none;stroke-width:0.75;stroke-linecap:round;stroke-linejoin:round;stroke:rgb(0%,0%,0%);stroke-opacity:1;stroke-miterlimit:10;\" d=\"M 286.554688 221.316406 C 286.554688 224.914062 281.15625 224.914062 281.15625 221.316406 C 281.15625 217.714844 286.554688 217.714844 286.554688 221.316406 \"/>\n",
       "<path style=\"fill:none;stroke-width:0.75;stroke-linecap:round;stroke-linejoin:round;stroke:rgb(0%,0%,0%);stroke-opacity:1;stroke-miterlimit:10;\" d=\"M 286.554688 221.316406 C 286.554688 224.914062 281.15625 224.914062 281.15625 221.316406 C 281.15625 217.714844 286.554688 217.714844 286.554688 221.316406 \"/>\n",
       "<path style=\"fill:none;stroke-width:0.75;stroke-linecap:round;stroke-linejoin:round;stroke:rgb(0%,0%,0%);stroke-opacity:1;stroke-miterlimit:10;\" d=\"M 286.554688 225.382812 C 286.554688 228.984375 281.15625 228.984375 281.15625 225.382812 C 281.15625 221.785156 286.554688 221.785156 286.554688 225.382812 \"/>\n",
       "<path style=\"fill:none;stroke-width:0.75;stroke-linecap:round;stroke-linejoin:round;stroke:rgb(0%,0%,0%);stroke-opacity:1;stroke-miterlimit:10;\" d=\"M 286.554688 221.316406 C 286.554688 224.914062 281.15625 224.914062 281.15625 221.316406 C 281.15625 217.714844 286.554688 217.714844 286.554688 221.316406 \"/>\n",
       "<path style=\"fill:none;stroke-width:0.75;stroke-linecap:round;stroke-linejoin:round;stroke:rgb(0%,0%,0%);stroke-opacity:1;stroke-miterlimit:10;\" d=\"M 321.464844 191.667969 C 321.464844 195.265625 316.0625 195.265625 316.0625 191.667969 C 316.0625 188.066406 321.464844 188.066406 321.464844 191.667969 \"/>\n",
       "<path style=\"fill:none;stroke-width:0.75;stroke-linecap:round;stroke-linejoin:round;stroke:rgb(0%,0%,0%);stroke-opacity:1;stroke-miterlimit:10;\" d=\"M 321.464844 195.617188 C 321.464844 199.214844 316.0625 199.214844 316.0625 195.617188 C 316.0625 192.015625 321.464844 192.015625 321.464844 195.617188 \"/>\n",
       "<path style=\"fill:none;stroke-width:0.75;stroke-linecap:round;stroke-linejoin:round;stroke:rgb(0%,0%,0%);stroke-opacity:1;stroke-miterlimit:10;\" d=\"M 321.464844 191.667969 C 321.464844 195.265625 316.0625 195.265625 316.0625 191.667969 C 316.0625 188.066406 321.464844 188.066406 321.464844 191.667969 \"/>\n",
       "<path style=\"fill:none;stroke-width:0.75;stroke-linecap:round;stroke-linejoin:round;stroke:rgb(0%,0%,0%);stroke-opacity:1;stroke-miterlimit:10;\" d=\"M 321.464844 203.691406 C 321.464844 207.289062 316.0625 207.289062 316.0625 203.691406 C 316.0625 200.089844 321.464844 200.089844 321.464844 203.691406 \"/>\n",
       "<path style=\"fill:none;stroke-width:0.75;stroke-linecap:round;stroke-linejoin:round;stroke:rgb(0%,0%,0%);stroke-opacity:1;stroke-miterlimit:10;\" d=\"M 321.464844 199.523438 C 321.464844 203.125 316.0625 203.125 316.0625 199.523438 C 316.0625 195.925781 321.464844 195.925781 321.464844 199.523438 \"/>\n",
       "<path style=\"fill:none;stroke-width:0.75;stroke-linecap:round;stroke-linejoin:round;stroke:rgb(0%,0%,0%);stroke-opacity:1;stroke-miterlimit:10;\" d=\"M 356.371094 160.855469 C 356.371094 164.457031 350.972656 164.457031 350.972656 160.855469 C 350.972656 157.257812 356.371094 157.257812 356.371094 160.855469 \"/>\n",
       "<path style=\"fill:none;stroke-width:0.75;stroke-linecap:round;stroke-linejoin:round;stroke:rgb(0%,0%,0%);stroke-opacity:1;stroke-miterlimit:10;\" d=\"M 356.371094 168.707031 C 356.371094 172.308594 350.972656 172.308594 350.972656 168.707031 C 350.972656 165.109375 356.371094 165.109375 356.371094 168.707031 \"/>\n",
       "<path style=\"fill:none;stroke-width:0.75;stroke-linecap:round;stroke-linejoin:round;stroke:rgb(0%,0%,0%);stroke-opacity:1;stroke-miterlimit:10;\" d=\"M 356.371094 164.800781 C 356.371094 168.402344 350.972656 168.402344 350.972656 164.800781 C 350.972656 161.203125 356.371094 161.203125 356.371094 164.800781 \"/>\n",
       "<path style=\"fill:none;stroke-width:0.75;stroke-linecap:round;stroke-linejoin:round;stroke:rgb(0%,0%,0%);stroke-opacity:1;stroke-miterlimit:10;\" d=\"M 356.371094 164.800781 C 356.371094 168.402344 350.972656 168.402344 350.972656 164.800781 C 350.972656 161.203125 356.371094 161.203125 356.371094 164.800781 \"/>\n",
       "<path style=\"fill:none;stroke-width:0.75;stroke-linecap:round;stroke-linejoin:round;stroke:rgb(0%,0%,0%);stroke-opacity:1;stroke-miterlimit:10;\" d=\"M 356.371094 157.039062 C 356.371094 160.640625 350.972656 160.640625 350.972656 157.039062 C 350.972656 153.4375 356.371094 153.4375 356.371094 157.039062 \"/>\n",
       "<path style=\"fill:none;stroke-width:0.75;stroke-linecap:round;stroke-linejoin:round;stroke:rgb(0%,0%,0%);stroke-opacity:1;stroke-miterlimit:10;\" d=\"M 391.28125 129.613281 C 391.28125 133.210938 385.882812 133.210938 385.882812 129.613281 C 385.882812 126.011719 391.28125 126.011719 391.28125 129.613281 \"/>\n",
       "<path style=\"fill:none;stroke-width:0.75;stroke-linecap:round;stroke-linejoin:round;stroke:rgb(0%,0%,0%);stroke-opacity:1;stroke-miterlimit:10;\" d=\"M 391.28125 133.519531 C 391.28125 137.117188 385.882812 137.117188 385.882812 133.519531 C 385.882812 129.917969 391.28125 129.917969 391.28125 133.519531 \"/>\n",
       "<path style=\"fill:none;stroke-width:0.75;stroke-linecap:round;stroke-linejoin:round;stroke:rgb(0%,0%,0%);stroke-opacity:1;stroke-miterlimit:10;\" d=\"M 391.28125 137.386719 C 391.28125 140.988281 385.882812 140.988281 385.882812 137.386719 C 385.882812 133.789062 391.28125 133.789062 391.28125 137.386719 \"/>\n",
       "<path style=\"fill:none;stroke-width:0.75;stroke-linecap:round;stroke-linejoin:round;stroke:rgb(0%,0%,0%);stroke-opacity:1;stroke-miterlimit:10;\" d=\"M 391.28125 145.019531 C 391.28125 148.621094 385.882812 148.621094 385.882812 145.019531 C 385.882812 141.417969 391.28125 141.417969 391.28125 145.019531 \"/>\n",
       "<path style=\"fill:none;stroke-width:0.75;stroke-linecap:round;stroke-linejoin:round;stroke:rgb(0%,0%,0%);stroke-opacity:1;stroke-miterlimit:10;\" d=\"M 391.28125 148.78125 C 391.28125 152.382812 385.882812 152.382812 385.882812 148.78125 C 385.882812 145.183594 391.28125 145.183594 391.28125 148.78125 \"/>\n",
       "<path style=\"fill:none;stroke-width:0.75;stroke-linecap:round;stroke-linejoin:round;stroke:rgb(0%,0%,0%);stroke-opacity:1;stroke-miterlimit:10;\" d=\"M 426.191406 118.585938 C 426.191406 122.183594 420.789062 122.183594 420.789062 118.585938 C 420.789062 114.984375 426.191406 114.984375 426.191406 118.585938 \"/>\n",
       "<path style=\"fill:none;stroke-width:0.75;stroke-linecap:round;stroke-linejoin:round;stroke:rgb(0%,0%,0%);stroke-opacity:1;stroke-miterlimit:10;\" d=\"M 426.191406 118.585938 C 426.191406 122.183594 420.789062 122.183594 420.789062 118.585938 C 420.789062 114.984375 426.191406 114.984375 426.191406 118.585938 \"/>\n",
       "<path style=\"fill:none;stroke-width:0.75;stroke-linecap:round;stroke-linejoin:round;stroke:rgb(0%,0%,0%);stroke-opacity:1;stroke-miterlimit:10;\" d=\"M 426.191406 118.585938 C 426.191406 122.183594 420.789062 122.183594 420.789062 118.585938 C 420.789062 114.984375 426.191406 114.984375 426.191406 118.585938 \"/>\n",
       "<path style=\"fill:none;stroke-width:0.75;stroke-linecap:round;stroke-linejoin:round;stroke:rgb(0%,0%,0%);stroke-opacity:1;stroke-miterlimit:10;\" d=\"M 426.191406 129.433594 C 426.191406 133.035156 420.789062 133.035156 420.789062 129.433594 C 420.789062 125.832031 426.191406 125.832031 426.191406 129.433594 \"/>\n",
       "<path style=\"fill:none;stroke-width:0.75;stroke-linecap:round;stroke-linejoin:round;stroke:rgb(0%,0%,0%);stroke-opacity:1;stroke-miterlimit:10;\" d=\"M 426.191406 118.585938 C 426.191406 122.183594 420.789062 122.183594 420.789062 118.585938 C 420.789062 114.984375 426.191406 114.984375 426.191406 118.585938 \"/>\n",
       "<path style=\"fill:none;stroke-width:0.75;stroke-linecap:round;stroke-linejoin:round;stroke:rgb(0%,0%,0%);stroke-opacity:1;stroke-miterlimit:10;\" d=\"M 461.101562 96.011719 C 461.101562 99.609375 455.699219 99.609375 455.699219 96.011719 C 455.699219 92.410156 461.101562 92.410156 461.101562 96.011719 \"/>\n",
       "<path style=\"fill:none;stroke-width:0.75;stroke-linecap:round;stroke-linejoin:round;stroke:rgb(0%,0%,0%);stroke-opacity:1;stroke-miterlimit:10;\" d=\"M 461.101562 88.214844 C 461.101562 91.8125 455.699219 91.8125 455.699219 88.214844 C 455.699219 84.613281 461.101562 84.613281 461.101562 88.214844 \"/>\n",
       "<path style=\"fill:none;stroke-width:0.75;stroke-linecap:round;stroke-linejoin:round;stroke:rgb(0%,0%,0%);stroke-opacity:1;stroke-miterlimit:10;\" d=\"M 461.101562 96.011719 C 461.101562 99.609375 455.699219 99.609375 455.699219 96.011719 C 455.699219 92.410156 461.101562 92.410156 461.101562 96.011719 \"/>\n",
       "<path style=\"fill:none;stroke-width:0.75;stroke-linecap:round;stroke-linejoin:round;stroke:rgb(0%,0%,0%);stroke-opacity:1;stroke-miterlimit:10;\" d=\"M 461.101562 72.800781 C 461.101562 76.398438 455.699219 76.398438 455.699219 72.800781 C 455.699219 69.199219 461.101562 69.199219 461.101562 72.800781 \"/>\n",
       "<path style=\"fill:none;stroke-width:0.75;stroke-linecap:round;stroke-linejoin:round;stroke:rgb(0%,0%,0%);stroke-opacity:1;stroke-miterlimit:10;\" d=\"M 461.101562 80.273438 C 461.101562 83.875 455.699219 83.875 455.699219 80.273438 C 455.699219 76.675781 461.101562 76.675781 461.101562 80.273438 \"/>\n",
       "<path style=\"fill:none;stroke-width:0.75;stroke-linecap:round;stroke-linejoin:round;stroke:rgb(0%,0%,0%);stroke-opacity:1;stroke-miterlimit:10;\" d=\"M 91.855469 430.558594 L 440.945312 430.558594 \"/>\n",
       "<path style=\"fill:none;stroke-width:0.75;stroke-linecap:round;stroke-linejoin:round;stroke:rgb(0%,0%,0%);stroke-opacity:1;stroke-miterlimit:10;\" d=\"M 91.855469 430.558594 L 91.855469 437.761719 \"/>\n",
       "<path style=\"fill:none;stroke-width:0.75;stroke-linecap:round;stroke-linejoin:round;stroke:rgb(0%,0%,0%);stroke-opacity:1;stroke-miterlimit:10;\" d=\"M 161.671875 430.558594 L 161.671875 437.761719 \"/>\n",
       "<path style=\"fill:none;stroke-width:0.75;stroke-linecap:round;stroke-linejoin:round;stroke:rgb(0%,0%,0%);stroke-opacity:1;stroke-miterlimit:10;\" d=\"M 231.492188 430.558594 L 231.492188 437.761719 \"/>\n",
       "<path style=\"fill:none;stroke-width:0.75;stroke-linecap:round;stroke-linejoin:round;stroke:rgb(0%,0%,0%);stroke-opacity:1;stroke-miterlimit:10;\" d=\"M 301.308594 430.558594 L 301.308594 437.761719 \"/>\n",
       "<path style=\"fill:none;stroke-width:0.75;stroke-linecap:round;stroke-linejoin:round;stroke:rgb(0%,0%,0%);stroke-opacity:1;stroke-miterlimit:10;\" d=\"M 371.128906 430.558594 L 371.128906 437.761719 \"/>\n",
       "<path style=\"fill:none;stroke-width:0.75;stroke-linecap:round;stroke-linejoin:round;stroke:rgb(0%,0%,0%);stroke-opacity:1;stroke-miterlimit:10;\" d=\"M 440.945312 430.558594 L 440.945312 437.761719 \"/>\n",
       "<g style=\"fill:rgb(0%,0%,0%);fill-opacity:1;\">\n",
       "  <use xlink:href=\"#glyph0-1\" x=\"81.355469\" y=\"455.916016\"/>\n",
       "  <use xlink:href=\"#glyph0-2\" x=\"88.027344\" y=\"455.916016\"/>\n",
       "  <use xlink:href=\"#glyph0-2\" x=\"94.699219\" y=\"455.916016\"/>\n",
       "</g>\n",
       "<g style=\"fill:rgb(0%,0%,0%);fill-opacity:1;\">\n",
       "  <use xlink:href=\"#glyph0-3\" x=\"151.171875\" y=\"455.916016\"/>\n",
       "  <use xlink:href=\"#glyph0-2\" x=\"157.84375\" y=\"455.916016\"/>\n",
       "  <use xlink:href=\"#glyph0-2\" x=\"164.515625\" y=\"455.916016\"/>\n",
       "</g>\n",
       "<g style=\"fill:rgb(0%,0%,0%);fill-opacity:1;\">\n",
       "  <use xlink:href=\"#glyph0-4\" x=\"220.992188\" y=\"455.916016\"/>\n",
       "  <use xlink:href=\"#glyph0-2\" x=\"227.664062\" y=\"455.916016\"/>\n",
       "  <use xlink:href=\"#glyph0-2\" x=\"234.335938\" y=\"455.916016\"/>\n",
       "</g>\n",
       "<g style=\"fill:rgb(0%,0%,0%);fill-opacity:1;\">\n",
       "  <use xlink:href=\"#glyph0-5\" x=\"287.808594\" y=\"455.916016\"/>\n",
       "  <use xlink:href=\"#glyph0-2\" x=\"294.480469\" y=\"455.916016\"/>\n",
       "  <use xlink:href=\"#glyph0-2\" x=\"301.152344\" y=\"455.916016\"/>\n",
       "  <use xlink:href=\"#glyph0-2\" x=\"307.824219\" y=\"455.916016\"/>\n",
       "</g>\n",
       "<g style=\"fill:rgb(0%,0%,0%);fill-opacity:1;\">\n",
       "  <use xlink:href=\"#glyph0-5\" x=\"357.628906\" y=\"455.916016\"/>\n",
       "  <use xlink:href=\"#glyph0-6\" x=\"364.300781\" y=\"455.916016\"/>\n",
       "  <use xlink:href=\"#glyph0-2\" x=\"370.972656\" y=\"455.916016\"/>\n",
       "  <use xlink:href=\"#glyph0-2\" x=\"377.644531\" y=\"455.916016\"/>\n",
       "</g>\n",
       "<g style=\"fill:rgb(0%,0%,0%);fill-opacity:1;\">\n",
       "  <use xlink:href=\"#glyph0-5\" x=\"427.445312\" y=\"455.916016\"/>\n",
       "  <use xlink:href=\"#glyph0-1\" x=\"434.117188\" y=\"455.916016\"/>\n",
       "  <use xlink:href=\"#glyph0-2\" x=\"440.789062\" y=\"455.916016\"/>\n",
       "  <use xlink:href=\"#glyph0-2\" x=\"447.460938\" y=\"455.916016\"/>\n",
       "</g>\n",
       "<path style=\"fill:none;stroke-width:0.75;stroke-linecap:round;stroke-linejoin:round;stroke:rgb(0%,0%,0%);stroke-opacity:1;stroke-miterlimit:10;\" d=\"M 59.039062 419.515625 L 59.039062 111.835938 \"/>\n",
       "<path style=\"fill:none;stroke-width:0.75;stroke-linecap:round;stroke-linejoin:round;stroke:rgb(0%,0%,0%);stroke-opacity:1;stroke-miterlimit:10;\" d=\"M 59.039062 419.515625 L 51.839844 419.515625 \"/>\n",
       "<path style=\"fill:none;stroke-width:0.75;stroke-linecap:round;stroke-linejoin:round;stroke:rgb(0%,0%,0%);stroke-opacity:1;stroke-miterlimit:10;\" d=\"M 59.039062 342.597656 L 51.839844 342.597656 \"/>\n",
       "<path style=\"fill:none;stroke-width:0.75;stroke-linecap:round;stroke-linejoin:round;stroke:rgb(0%,0%,0%);stroke-opacity:1;stroke-miterlimit:10;\" d=\"M 59.039062 265.675781 L 51.839844 265.675781 \"/>\n",
       "<path style=\"fill:none;stroke-width:0.75;stroke-linecap:round;stroke-linejoin:round;stroke:rgb(0%,0%,0%);stroke-opacity:1;stroke-miterlimit:10;\" d=\"M 59.039062 188.753906 L 51.839844 188.753906 \"/>\n",
       "<path style=\"fill:none;stroke-width:0.75;stroke-linecap:round;stroke-linejoin:round;stroke:rgb(0%,0%,0%);stroke-opacity:1;stroke-miterlimit:10;\" d=\"M 59.039062 111.835938 L 51.839844 111.835938 \"/>\n",
       "<g style=\"fill:rgb(0%,0%,0%);fill-opacity:1;\">\n",
       "  <use xlink:href=\"#glyph1-1\" x=\"41.197266\" y=\"428.015625\"/>\n",
       "  <use xlink:href=\"#glyph1-2\" x=\"41.197266\" y=\"421.34375\"/>\n",
       "  <use xlink:href=\"#glyph1-3\" x=\"41.197266\" y=\"418.007812\"/>\n",
       "</g>\n",
       "<g style=\"fill:rgb(0%,0%,0%);fill-opacity:1;\">\n",
       "  <use xlink:href=\"#glyph1-1\" x=\"41.197266\" y=\"351.097656\"/>\n",
       "  <use xlink:href=\"#glyph1-2\" x=\"41.197266\" y=\"344.425781\"/>\n",
       "  <use xlink:href=\"#glyph1-4\" x=\"41.197266\" y=\"341.089844\"/>\n",
       "</g>\n",
       "<g style=\"fill:rgb(0%,0%,0%);fill-opacity:1;\">\n",
       "  <use xlink:href=\"#glyph1-1\" x=\"41.197266\" y=\"274.175781\"/>\n",
       "  <use xlink:href=\"#glyph1-2\" x=\"41.197266\" y=\"267.503906\"/>\n",
       "  <use xlink:href=\"#glyph1-5\" x=\"41.197266\" y=\"264.167969\"/>\n",
       "</g>\n",
       "<g style=\"fill:rgb(0%,0%,0%);fill-opacity:1;\">\n",
       "  <use xlink:href=\"#glyph1-6\" x=\"41.197266\" y=\"197.253906\"/>\n",
       "  <use xlink:href=\"#glyph1-2\" x=\"41.197266\" y=\"190.582031\"/>\n",
       "  <use xlink:href=\"#glyph1-7\" x=\"41.197266\" y=\"187.246094\"/>\n",
       "</g>\n",
       "<g style=\"fill:rgb(0%,0%,0%);fill-opacity:1;\">\n",
       "  <use xlink:href=\"#glyph1-6\" x=\"41.197266\" y=\"120.335938\"/>\n",
       "  <use xlink:href=\"#glyph1-2\" x=\"41.197266\" y=\"113.664062\"/>\n",
       "  <use xlink:href=\"#glyph1-6\" x=\"41.197266\" y=\"110.328125\"/>\n",
       "</g>\n",
       "<path style=\"fill:none;stroke-width:0.75;stroke-linecap:round;stroke-linejoin:round;stroke:rgb(0%,0%,0%);stroke-opacity:1;stroke-miterlimit:10;\" d=\"M 59.039062 430.558594 L 473.761719 430.558594 L 473.761719 59.039062 L 59.039062 59.039062 L 59.039062 430.558594 \"/>\n",
       "<g style=\"fill:rgb(0%,0%,0%);fill-opacity:1;\">\n",
       "  <use xlink:href=\"#glyph0-7\" x=\"263.398438\" y=\"484.716797\"/>\n",
       "</g>\n",
       "<g style=\"fill:rgb(0%,0%,0%);fill-opacity:1;\">\n",
       "  <use xlink:href=\"#glyph1-8\" x=\"12.396484\" y=\"247.800781\"/>\n",
       "</g>\n",
       "<g clip-path=\"url(#clip1)\" clip-rule=\"nonzero\">\n",
       "<path style=\"fill:none;stroke-width:0.75;stroke-linecap:round;stroke-linejoin:round;stroke:rgb(0%,0%,0%);stroke-opacity:1;stroke-miterlimit:10;\" d=\"M 59.039062 414.742188 L 473.761719 69.296875 \"/>\n",
       "</g>\n",
       "<path style=\"fill:none;stroke-width:0.75;stroke-linecap:round;stroke-linejoin:round;stroke:rgb(0%,0%,0%);stroke-opacity:1;stroke-miterlimit:10;\" d=\"M 74.398438 398.265625 L 78.238281 395.117188 L 82.078125 391.972656 L 85.921875 388.824219 L 89.761719 385.679688 L 97.441406 379.382812 L 101.28125 376.238281 L 105.121094 373.089844 L 108.960938 369.9375 L 116.640625 363.640625 L 120.480469 360.488281 L 124.320312 357.339844 L 143.519531 341.578125 L 151.199219 335.265625 L 155.039062 332.113281 L 158.878906 328.953125 L 166.558594 322.640625 L 178.078125 313.160156 L 181.921875 309.996094 L 193.441406 300.503906 L 204.960938 291 L 212.640625 284.65625 L 224.160156 275.128906 L 231.839844 268.769531 L 239.519531 262.402344 L 251.039062 252.839844 L 254.878906 249.648438 L 266.398438 240.0625 L 270.238281 236.859375 L 274.078125 233.660156 L 277.921875 230.457031 L 285.601562 224.042969 L 297.121094 214.410156 L 300.960938 211.195312 L 312.480469 201.539062 L 324 191.871094 L 331.679688 185.417969 L 343.199219 175.726562 L 358.558594 162.789062 L 370.078125 153.074219 L 373.921875 149.835938 L 393.121094 133.625 L 396.960938 130.378906 L 400.800781 127.136719 L 416.160156 114.152344 L 420 110.902344 L 423.839844 107.65625 L 427.679688 104.40625 L 431.519531 101.160156 L 454.558594 81.660156 L 458.398438 78.40625 \"/>\n",
       "<path style=\"fill:none;stroke-width:0.75;stroke-linecap:round;stroke-linejoin:round;stroke:rgb(0%,0%,0%);stroke-opacity:1;stroke-miterlimit:10;\" d=\"M 74.398438 405.628906 L 78.238281 402.375 L 82.078125 399.125 L 85.921875 395.875 L 101.28125 382.875 L 105.121094 379.628906 L 108.960938 376.378906 L 112.800781 373.132812 L 116.640625 369.882812 L 132 356.898438 L 135.839844 353.65625 L 139.679688 350.410156 L 158.878906 334.199219 L 174.238281 321.246094 L 178.078125 318.011719 L 181.921875 314.777344 L 189.601562 308.308594 L 197.28125 301.847656 L 201.121094 298.621094 L 204.960938 295.390625 L 208.800781 292.164062 L 220.320312 282.496094 L 231.839844 272.839844 L 235.679688 269.625 L 247.199219 259.992188 L 254.878906 253.578125 L 258.71875 250.375 L 270.238281 240.777344 L 274.078125 237.582031 L 277.921875 234.386719 L 281.761719 231.195312 L 293.28125 221.632812 L 300.960938 215.265625 L 308.640625 208.90625 L 316.320312 202.554688 L 320.160156 199.382812 L 324 196.207031 L 327.839844 193.039062 L 331.679688 189.867188 L 339.359375 183.53125 L 350.878906 174.039062 L 354.71875 170.878906 L 358.558594 167.714844 L 362.398438 164.554688 L 366.238281 161.398438 L 370.078125 158.238281 L 373.921875 155.082031 L 389.28125 142.457031 L 408.480469 126.695312 L 412.320312 123.546875 L 416.160156 120.394531 L 443.039062 98.355469 L 446.878906 95.210938 L 450.71875 92.0625 L 454.558594 88.917969 L 458.398438 85.769531 \"/>\n",
       "<path style=\"fill:none;stroke-width:0.75;stroke-linecap:round;stroke-linejoin:round;stroke:rgb(0%,0%,0%);stroke-opacity:1;stroke-dasharray:0.75,2.25;stroke-miterlimit:10;\" d=\"M 74.398438 386.34375 L 78.238281 383.160156 L 82.078125 379.972656 L 85.921875 376.785156 L 116.640625 351.285156 L 120.480469 348.09375 L 124.320312 344.90625 L 128.160156 341.714844 L 132 338.527344 L 139.679688 332.144531 L 143.519531 328.957031 L 174.238281 303.425781 L 178.078125 300.230469 L 181.921875 297.039062 L 185.761719 293.84375 L 189.601562 290.652344 L 193.441406 287.457031 L 197.28125 284.265625 L 208.800781 274.679688 L 212.640625 271.488281 L 220.320312 265.097656 L 224.160156 261.898438 L 235.679688 252.3125 L 239.519531 249.113281 L 247.199219 242.722656 L 254.878906 236.324219 L 258.71875 233.128906 L 274.078125 220.332031 L 277.921875 217.132812 L 293.28125 204.335938 L 297.121094 201.132812 L 304.800781 194.734375 L 308.640625 191.53125 L 312.480469 188.332031 L 324 178.722656 L 327.839844 175.523438 L 343.199219 162.710938 L 347.039062 159.503906 L 358.558594 149.894531 L 362.398438 146.6875 L 366.238281 143.484375 L 370.078125 140.277344 L 373.921875 137.070312 L 377.761719 133.867188 L 412.320312 105.003906 L 416.160156 101.792969 L 423.839844 95.378906 L 427.679688 92.167969 L 431.519531 88.960938 L 439.199219 82.539062 L 443.039062 79.332031 L 458.398438 66.488281 \"/>\n",
       "<path style=\"fill:none;stroke-width:0.75;stroke-linecap:round;stroke-linejoin:round;stroke:rgb(0%,0%,0%);stroke-opacity:1;stroke-dasharray:0.75,2.25;stroke-miterlimit:10;\" d=\"M 74.398438 417.546875 L 82.078125 411.125 L 85.921875 407.914062 L 89.761719 404.707031 L 97.441406 398.285156 L 101.28125 395.078125 L 108.960938 388.65625 L 116.640625 382.242188 L 120.480469 379.03125 L 155.039062 350.167969 L 158.878906 346.964844 L 162.71875 343.757812 L 166.558594 340.554688 L 170.398438 337.347656 L 174.238281 334.144531 L 178.078125 330.9375 L 181.921875 327.734375 L 189.601562 321.328125 L 193.441406 318.121094 L 201.121094 311.714844 L 204.960938 308.515625 L 216.480469 298.90625 L 220.320312 295.707031 L 228 289.300781 L 235.679688 282.902344 L 239.519531 279.699219 L 274.078125 250.90625 L 277.921875 247.710938 L 281.761719 244.511719 L 285.601562 241.316406 L 289.441406 238.117188 L 293.28125 234.921875 L 297.121094 231.722656 L 335.519531 199.769531 L 339.359375 196.578125 L 343.199219 193.382812 L 347.039062 190.191406 L 350.878906 186.996094 L 358.558594 180.613281 L 362.398438 177.417969 L 370.078125 171.035156 L 373.921875 167.84375 L 389.28125 155.078125 L 393.121094 151.890625 L 400.800781 145.507812 L 404.640625 142.320312 L 408.480469 139.128906 L 416.160156 132.753906 L 420 129.5625 L 454.558594 100.875 L 458.398438 97.691406 \"/>\n",
       "<g style=\"fill:rgb(0%,0%,0%);fill-opacity:1;\">\n",
       "  <use xlink:href=\"#glyph2-1\" x=\"217.898438\" y=\"34.116211\"/>\n",
       "  <use xlink:href=\"#glyph2-2\" x=\"225.908203\" y=\"34.116211\"/>\n",
       "  <use xlink:href=\"#glyph2-3\" x=\"229.913086\" y=\"34.116211\"/>\n",
       "  <use xlink:href=\"#glyph2-2\" x=\"238.326172\" y=\"34.116211\"/>\n",
       "  <use xlink:href=\"#glyph2-2\" x=\"242.331055\" y=\"34.116211\"/>\n",
       "  <use xlink:href=\"#glyph2-4\" x=\"246.335938\" y=\"34.116211\"/>\n",
       "  <use xlink:href=\"#glyph2-2\" x=\"254.345703\" y=\"34.116211\"/>\n",
       "  <use xlink:href=\"#glyph2-5\" x=\"258.350586\" y=\"34.116211\"/>\n",
       "  <use xlink:href=\"#glyph2-2\" x=\"266.360352\" y=\"34.116211\"/>\n",
       "  <use xlink:href=\"#glyph2-2\" x=\"270.365234\" y=\"34.116211\"/>\n",
       "  <use xlink:href=\"#glyph2-6\" x=\"274.370117\" y=\"34.116211\"/>\n",
       "  <use xlink:href=\"#glyph2-2\" x=\"282.783203\" y=\"34.116211\"/>\n",
       "  <use xlink:href=\"#glyph2-7\" x=\"286.788086\" y=\"34.116211\"/>\n",
       "  <use xlink:href=\"#glyph2-8\" x=\"294.797852\" y=\"34.116211\"/>\n",
       "  <use xlink:href=\"#glyph2-7\" x=\"298.802734\" y=\"34.116211\"/>\n",
       "  <use xlink:href=\"#glyph2-9\" x=\"306.8125\" y=\"34.116211\"/>\n",
       "</g>\n",
       "<g style=\"fill:rgb(0%,0%,0%);fill-opacity:1;\">\n",
       "  <use xlink:href=\"#glyph0-8\" x=\"148.398438\" y=\"484.716797\"/>\n",
       "  <use xlink:href=\"#glyph0-8\" x=\"151.734375\" y=\"484.716797\"/>\n",
       "  <use xlink:href=\"#glyph0-8\" x=\"155.070312\" y=\"484.716797\"/>\n",
       "  <use xlink:href=\"#glyph0-8\" x=\"158.40625\" y=\"484.716797\"/>\n",
       "  <use xlink:href=\"#glyph0-8\" x=\"161.742188\" y=\"484.716797\"/>\n",
       "  <use xlink:href=\"#glyph0-8\" x=\"165.078125\" y=\"484.716797\"/>\n",
       "  <use xlink:href=\"#glyph0-8\" x=\"168.414062\" y=\"484.716797\"/>\n",
       "  <use xlink:href=\"#glyph0-8\" x=\"171.75\" y=\"484.716797\"/>\n",
       "  <use xlink:href=\"#glyph0-8\" x=\"175.085938\" y=\"484.716797\"/>\n",
       "  <use xlink:href=\"#glyph0-8\" x=\"178.421875\" y=\"484.716797\"/>\n",
       "  <use xlink:href=\"#glyph0-8\" x=\"181.757812\" y=\"484.716797\"/>\n",
       "  <use xlink:href=\"#glyph0-8\" x=\"185.09375\" y=\"484.716797\"/>\n",
       "  <use xlink:href=\"#glyph0-8\" x=\"188.429688\" y=\"484.716797\"/>\n",
       "  <use xlink:href=\"#glyph0-8\" x=\"191.765625\" y=\"484.716797\"/>\n",
       "  <use xlink:href=\"#glyph0-8\" x=\"195.101562\" y=\"484.716797\"/>\n",
       "  <use xlink:href=\"#glyph0-8\" x=\"198.4375\" y=\"484.716797\"/>\n",
       "  <use xlink:href=\"#glyph0-8\" x=\"201.773438\" y=\"484.716797\"/>\n",
       "  <use xlink:href=\"#glyph0-8\" x=\"205.109375\" y=\"484.716797\"/>\n",
       "  <use xlink:href=\"#glyph0-8\" x=\"208.445312\" y=\"484.716797\"/>\n",
       "  <use xlink:href=\"#glyph0-8\" x=\"211.78125\" y=\"484.716797\"/>\n",
       "  <use xlink:href=\"#glyph0-8\" x=\"215.117188\" y=\"484.716797\"/>\n",
       "  <use xlink:href=\"#glyph0-8\" x=\"218.453125\" y=\"484.716797\"/>\n",
       "  <use xlink:href=\"#glyph0-8\" x=\"221.789062\" y=\"484.716797\"/>\n",
       "  <use xlink:href=\"#glyph0-8\" x=\"225.125\" y=\"484.716797\"/>\n",
       "  <use xlink:href=\"#glyph0-8\" x=\"228.460938\" y=\"484.716797\"/>\n",
       "  <use xlink:href=\"#glyph0-8\" x=\"231.796875\" y=\"484.716797\"/>\n",
       "  <use xlink:href=\"#glyph0-8\" x=\"235.132812\" y=\"484.716797\"/>\n",
       "  <use xlink:href=\"#glyph0-8\" x=\"238.46875\" y=\"484.716797\"/>\n",
       "  <use xlink:href=\"#glyph0-8\" x=\"241.804688\" y=\"484.716797\"/>\n",
       "  <use xlink:href=\"#glyph0-8\" x=\"245.140625\" y=\"484.716797\"/>\n",
       "  <use xlink:href=\"#glyph0-8\" x=\"248.476562\" y=\"484.716797\"/>\n",
       "  <use xlink:href=\"#glyph0-8\" x=\"251.8125\" y=\"484.716797\"/>\n",
       "  <use xlink:href=\"#glyph0-8\" x=\"255.148438\" y=\"484.716797\"/>\n",
       "  <use xlink:href=\"#glyph0-8\" x=\"258.484375\" y=\"484.716797\"/>\n",
       "  <use xlink:href=\"#glyph0-8\" x=\"261.820312\" y=\"484.716797\"/>\n",
       "  <use xlink:href=\"#glyph0-8\" x=\"265.15625\" y=\"484.716797\"/>\n",
       "  <use xlink:href=\"#glyph0-8\" x=\"268.492188\" y=\"484.716797\"/>\n",
       "  <use xlink:href=\"#glyph0-9\" x=\"271.828125\" y=\"484.716797\"/>\n",
       "  <use xlink:href=\"#glyph0-8\" x=\"275.824219\" y=\"484.716797\"/>\n",
       "  <use xlink:href=\"#glyph0-10\" x=\"279.160156\" y=\"484.716797\"/>\n",
       "  <use xlink:href=\"#glyph0-11\" x=\"287.164062\" y=\"484.716797\"/>\n",
       "  <use xlink:href=\"#glyph0-12\" x=\"293.835938\" y=\"484.716797\"/>\n",
       "  <use xlink:href=\"#glyph0-13\" x=\"299.835938\" y=\"484.716797\"/>\n",
       "  <use xlink:href=\"#glyph0-14\" x=\"305.835938\" y=\"484.716797\"/>\n",
       "  <use xlink:href=\"#glyph0-15\" x=\"312.507812\" y=\"484.716797\"/>\n",
       "  <use xlink:href=\"#glyph0-8\" x=\"315.84375\" y=\"484.716797\"/>\n",
       "  <use xlink:href=\"#glyph0-16\" x=\"319.179688\" y=\"484.716797\"/>\n",
       "  <use xlink:href=\"#glyph0-17\" x=\"327.183594\" y=\"484.716797\"/>\n",
       "  <use xlink:href=\"#glyph0-18\" x=\"329.847656\" y=\"484.716797\"/>\n",
       "  <use xlink:href=\"#glyph0-14\" x=\"335.847656\" y=\"484.716797\"/>\n",
       "  <use xlink:href=\"#glyph0-8\" x=\"342.519531\" y=\"484.716797\"/>\n",
       "  <use xlink:href=\"#glyph0-19\" x=\"345.855469\" y=\"484.716797\"/>\n",
       "  <use xlink:href=\"#glyph0-20\" x=\"349.851562\" y=\"484.716797\"/>\n",
       "  <use xlink:href=\"#glyph0-21\" x=\"357.855469\" y=\"484.716797\"/>\n",
       "  <use xlink:href=\"#glyph0-15\" x=\"363.855469\" y=\"484.716797\"/>\n",
       "  <use xlink:href=\"#glyph0-14\" x=\"367.191406\" y=\"484.716797\"/>\n",
       "  <use xlink:href=\"#glyph0-22\" x=\"373.863281\" y=\"484.716797\"/>\n",
       "  <use xlink:href=\"#glyph0-23\" x=\"379.863281\" y=\"484.716797\"/>\n",
       "</g>\n",
       "<g style=\"fill:rgb(0%,0%,0%);fill-opacity:1;\">\n",
       "  <use xlink:href=\"#glyph1-9\" x=\"12.396484\" y=\"312.300781\"/>\n",
       "  <use xlink:href=\"#glyph1-9\" x=\"12.396484\" y=\"308.964844\"/>\n",
       "  <use xlink:href=\"#glyph1-9\" x=\"12.396484\" y=\"305.628906\"/>\n",
       "  <use xlink:href=\"#glyph1-9\" x=\"12.396484\" y=\"302.292969\"/>\n",
       "  <use xlink:href=\"#glyph1-9\" x=\"12.396484\" y=\"298.957031\"/>\n",
       "  <use xlink:href=\"#glyph1-9\" x=\"12.396484\" y=\"295.621094\"/>\n",
       "  <use xlink:href=\"#glyph1-9\" x=\"12.396484\" y=\"292.285156\"/>\n",
       "  <use xlink:href=\"#glyph1-9\" x=\"12.396484\" y=\"288.949219\"/>\n",
       "  <use xlink:href=\"#glyph1-9\" x=\"12.396484\" y=\"285.613281\"/>\n",
       "  <use xlink:href=\"#glyph1-9\" x=\"12.396484\" y=\"282.277344\"/>\n",
       "  <use xlink:href=\"#glyph1-9\" x=\"12.396484\" y=\"278.941406\"/>\n",
       "  <use xlink:href=\"#glyph1-9\" x=\"12.396484\" y=\"275.605469\"/>\n",
       "  <use xlink:href=\"#glyph1-9\" x=\"12.396484\" y=\"272.269531\"/>\n",
       "  <use xlink:href=\"#glyph1-9\" x=\"12.396484\" y=\"268.933594\"/>\n",
       "  <use xlink:href=\"#glyph1-9\" x=\"12.396484\" y=\"265.597656\"/>\n",
       "  <use xlink:href=\"#glyph1-9\" x=\"12.396484\" y=\"262.261719\"/>\n",
       "  <use xlink:href=\"#glyph1-9\" x=\"12.396484\" y=\"258.925781\"/>\n",
       "  <use xlink:href=\"#glyph1-9\" x=\"12.396484\" y=\"255.589844\"/>\n",
       "  <use xlink:href=\"#glyph1-9\" x=\"12.396484\" y=\"252.253906\"/>\n",
       "  <use xlink:href=\"#glyph1-9\" x=\"12.396484\" y=\"248.917969\"/>\n",
       "  <use xlink:href=\"#glyph1-9\" x=\"12.396484\" y=\"245.582031\"/>\n",
       "  <use xlink:href=\"#glyph1-9\" x=\"12.396484\" y=\"242.246094\"/>\n",
       "  <use xlink:href=\"#glyph1-10\" x=\"12.396484\" y=\"238.910156\"/>\n",
       "  <use xlink:href=\"#glyph1-9\" x=\"12.396484\" y=\"234.914062\"/>\n",
       "  <use xlink:href=\"#glyph1-11\" x=\"12.396484\" y=\"231.578125\"/>\n",
       "  <use xlink:href=\"#glyph1-12\" x=\"12.396484\" y=\"224.246094\"/>\n",
       "  <use xlink:href=\"#glyph1-13\" x=\"12.396484\" y=\"221.582031\"/>\n",
       "  <use xlink:href=\"#glyph1-14\" x=\"12.396484\" y=\"211.585938\"/>\n",
       "  <use xlink:href=\"#glyph1-9\" x=\"12.396484\" y=\"204.914062\"/>\n",
       "  <use xlink:href=\"#glyph1-15\" x=\"12.396484\" y=\"201.578125\"/>\n",
       "  <use xlink:href=\"#glyph1-13\" x=\"12.396484\" y=\"197.582031\"/>\n",
       "  <use xlink:href=\"#glyph1-16\" x=\"12.396484\" y=\"187.585938\"/>\n",
       "  <use xlink:href=\"#glyph1-17\" x=\"12.396484\" y=\"181.585938\"/>\n",
       "</g>\n",
       "<g style=\"fill:rgb(0%,0%,0%);fill-opacity:1;\">\n",
       "  <use xlink:href=\"#glyph2-10\" x=\"134.398438\" y=\"16.834961\"/>\n",
       "  <use xlink:href=\"#glyph2-11\" x=\"144.007812\" y=\"16.834961\"/>\n",
       "  <use xlink:href=\"#glyph2-12\" x=\"152.017578\" y=\"16.834961\"/>\n",
       "  <use xlink:href=\"#glyph2-13\" x=\"160.027344\" y=\"16.834961\"/>\n",
       "  <use xlink:href=\"#glyph2-14\" x=\"168.037109\" y=\"16.834961\"/>\n",
       "  <use xlink:href=\"#glyph2-15\" x=\"176.046875\" y=\"16.834961\"/>\n",
       "  <use xlink:href=\"#glyph2-2\" x=\"180.84375\" y=\"16.834961\"/>\n",
       "  <use xlink:href=\"#glyph2-16\" x=\"184.848633\" y=\"16.834961\"/>\n",
       "  <use xlink:href=\"#glyph2-17\" x=\"194.458008\" y=\"16.834961\"/>\n",
       "  <use xlink:href=\"#glyph2-18\" x=\"198.462891\" y=\"16.834961\"/>\n",
       "  <use xlink:href=\"#glyph2-14\" x=\"205.666016\" y=\"16.834961\"/>\n",
       "  <use xlink:href=\"#glyph2-2\" x=\"213.675781\" y=\"16.834961\"/>\n",
       "  <use xlink:href=\"#glyph2-19\" x=\"217.680664\" y=\"16.834961\"/>\n",
       "  <use xlink:href=\"#glyph2-20\" x=\"225.69043\" y=\"16.834961\"/>\n",
       "  <use xlink:href=\"#glyph2-2\" x=\"233.700195\" y=\"16.834961\"/>\n",
       "  <use xlink:href=\"#glyph2-21\" x=\"237.705078\" y=\"16.834961\"/>\n",
       "  <use xlink:href=\"#glyph2-17\" x=\"246.506836\" y=\"16.834961\"/>\n",
       "  <use xlink:href=\"#glyph2-22\" x=\"250.511719\" y=\"16.834961\"/>\n",
       "  <use xlink:href=\"#glyph2-14\" x=\"263.318359\" y=\"16.834961\"/>\n",
       "  <use xlink:href=\"#glyph2-2\" x=\"271.328125\" y=\"16.834961\"/>\n",
       "  <use xlink:href=\"#glyph2-23\" x=\"275.333008\" y=\"16.834961\"/>\n",
       "  <use xlink:href=\"#glyph2-24\" x=\"280.129883\" y=\"16.834961\"/>\n",
       "  <use xlink:href=\"#glyph2-25\" x=\"288.931641\" y=\"16.834961\"/>\n",
       "  <use xlink:href=\"#glyph2-2\" x=\"294.536133\" y=\"16.834961\"/>\n",
       "  <use xlink:href=\"#glyph2-7\" x=\"298.541016\" y=\"16.834961\"/>\n",
       "  <use xlink:href=\"#glyph2-7\" x=\"306.550781\" y=\"16.834961\"/>\n",
       "  <use xlink:href=\"#glyph2-26\" x=\"314.560547\" y=\"16.834961\"/>\n",
       "  <use xlink:href=\"#glyph2-27\" x=\"326.560547\" y=\"16.834961\"/>\n",
       "  <use xlink:href=\"#glyph2-2\" x=\"336.961914\" y=\"16.834961\"/>\n",
       "  <use xlink:href=\"#glyph2-28\" x=\"340.966797\" y=\"16.834961\"/>\n",
       "  <use xlink:href=\"#glyph2-14\" x=\"351.368164\" y=\"16.834961\"/>\n",
       "  <use xlink:href=\"#glyph2-15\" x=\"359.37793\" y=\"16.834961\"/>\n",
       "  <use xlink:href=\"#glyph2-29\" x=\"364.174805\" y=\"16.834961\"/>\n",
       "  <use xlink:href=\"#glyph2-24\" x=\"375.382812\" y=\"16.834961\"/>\n",
       "  <use xlink:href=\"#glyph2-25\" x=\"384.18457\" y=\"16.834961\"/>\n",
       "  <use xlink:href=\"#glyph2-13\" x=\"389.789062\" y=\"16.834961\"/>\n",
       "</g>\n",
       "</g>\n",
       "</svg>\n"
      ],
      "text/plain": [
       "Plot with title “Packet Size vs Time for 11MB Network\n",
       "\n",
       "”"
      ]
     },
     "metadata": {
      "image/svg+xml": {
       "isolated": true
      }
     },
     "output_type": "display_data"
    }
   ],
   "source": [
    "simple.lm(x1,y1,show.ci=TRUE, conf.level=0.95)\n",
    "title(xlab=\"                                     - Packet Size (Bytes)\")\n",
    "title(ylab=\"                      - Time (ms)\")\n",
    "title(main=\"Packet Size vs Time for 1MB Network\\n\\n\")\n",
    "simple.lm(x11,y11,show.ci=TRUE, conf.level=0.95)\n",
    "title(xlab=\"                                     - Packet Size (Bytes)\")\n",
    "title(ylab=\"                      - Time (ms)\")\n",
    "title(main=\"Packet Size vs Time for 11MB Network\\n\\n\")\n"
   ]
  },
  {
   "cell_type": "code",
   "execution_count": 15,
   "metadata": {
    "collapsed": false
   },
   "outputs": [
    {
     "data": {
      "text/html": [
       "<table>\n",
       "<thead><tr><th></th><th scope=col>2.5 %</th><th scope=col>97.5 %</th></tr></thead>\n",
       "<tbody>\n",
       "\t<tr><th scope=row>(Intercept)</th><td>1.437881</td><td>1.546349</td></tr>\n",
       "\t<tr><th scope=row>x1</th><td>0.007304786</td><td>0.007417312</td></tr>\n",
       "</tbody>\n",
       "</table>\n"
      ],
      "text/latex": [
       "\\begin{tabular}{r|ll}\n",
       "  & 2.5 % & 97.5 %\\\\\n",
       "\\hline\n",
       "\t(Intercept) & 1.437881 & 1.546349\\\\\n",
       "\tx1 & 0.007304786 & 0.007417312\\\\\n",
       "\\end{tabular}\n"
      ],
      "text/markdown": [
       "1. 1.43788086000813\n",
       "2. 0.00730478597465865\n",
       "3. 1.54634851854664\n",
       "4. 0.00741731212324345\n",
       "\n",
       "\n"
      ],
      "text/plain": [
       "                  2.5 %      97.5 %\n",
       "(Intercept) 1.437880860 1.546348519\n",
       "x1          0.007304786 0.007417312"
      ]
     },
     "execution_count": 15,
     "metadata": {},
     "output_type": "execute_result"
    },
    {
     "data": {
      "text/html": [
       "<table>\n",
       "<thead><tr><th></th><th scope=col>2.5 %</th><th scope=col>97.5 %</th></tr></thead>\n",
       "<tbody>\n",
       "\t<tr><th scope=row>(Intercept)</th><td>1.166855</td><td>1.195275</td></tr>\n",
       "\t<tr><th scope=row>x11</th><td>0.0007413121</td><td>0.0007707959</td></tr>\n",
       "</tbody>\n",
       "</table>\n"
      ],
      "text/latex": [
       "\\begin{tabular}{r|ll}\n",
       "  & 2.5 % & 97.5 %\\\\\n",
       "\\hline\n",
       "\t(Intercept) & 1.166855 & 1.195275\\\\\n",
       "\tx11 & 0.0007413121 & 0.0007707959\\\\\n",
       "\\end{tabular}\n"
      ],
      "text/markdown": [
       "1. 1.16685465250519\n",
       "2. 0.000741312149688241\n",
       "3. 1.19527498898665\n",
       "4. 0.000770795878283786\n",
       "\n",
       "\n"
      ],
      "text/plain": [
       "                   2.5 %       97.5 %\n",
       "(Intercept) 1.1668546525 1.1952749890\n",
       "x11         0.0007413121 0.0007707959"
      ]
     },
     "execution_count": 15,
     "metadata": {},
     "output_type": "execute_result"
    },
    {
     "data": {
      "text/html": [
       "9.73548472424283"
      ],
      "text/latex": [
       "9.73548472424283"
      ],
      "text/markdown": [
       "9.73548472424283"
      ],
      "text/plain": [
       "[1] 9.735485"
      ]
     },
     "execution_count": 15,
     "metadata": {},
     "output_type": "execute_result"
    },
    {
     "data": {
      "text/html": [
       "9.47693935580093"
      ],
      "text/latex": [
       "9.47693935580093"
      ],
      "text/markdown": [
       "9.47693935580093"
      ],
      "text/plain": [
       "[1] 9.476939"
      ]
     },
     "execution_count": 15,
     "metadata": {},
     "output_type": "execute_result"
    },
    {
     "data": {
      "text/html": [
       "10.0056534892659"
      ],
      "text/latex": [
       "10.0056534892659"
      ],
      "text/markdown": [
       "10.0056534892659"
      ],
      "text/plain": [
       "[1] 10.00565"
      ]
     },
     "execution_count": 15,
     "metadata": {},
     "output_type": "execute_result"
    },
    {
     "name": "stdout",
     "output_type": "stream",
     "text": [
      "[1] \"The overhead for the 11MB is about 0.3ms faster, and the bandwidth is about 10 times faster\"\n"
     ]
    }
   ],
   "source": [
    "#1MB (slope,int)\n",
    "#1.492115     0.007361  \n",
    "#11MB\n",
    "#1.1810648    0.0007561\n",
    "\n",
    "# 1 Mb = 1048576 b\n",
    "\n",
    "\n",
    "\n",
    "m1 = lm(y1~x1)\n",
    "confint(m1, ,.95)\n",
    "\n",
    "m11 = lm(y11~x11)\n",
    "confint(m11, ,.95)\n",
    "\n",
    "\n",
    "##BANDWIDTH\n",
    "#1av/11av\n",
    "(bw_m = (0.007361/0.0007561))\n",
    "\n",
    "#1_low/11_high\n",
    "(0.007304786/0.0007707959)\n",
    "#1_high/11_low\n",
    "(0.007417312/0.0007413121)\n",
    "\n",
    "print(\"The overhead for the 11MB is about 0.3ms faster, and the bandwidth is about 10 times faster\")"
   ]
  },
  {
   "cell_type": "code",
   "execution_count": 16,
   "metadata": {
    "collapsed": false
   },
   "outputs": [
    {
     "name": "stdout",
     "output_type": "stream",
     "text": [
      "[1] \"1MB, 40B packet:\"\n"
     ]
    },
    {
     "data": {
      "text/html": [
       "1.73007244"
      ],
      "text/latex": [
       "1.73007244"
      ],
      "text/markdown": [
       "1.73007244"
      ],
      "text/plain": [
       "[1] 1.730072"
      ]
     },
     "execution_count": 16,
     "metadata": {},
     "output_type": "execute_result"
    },
    {
     "data": {
      "text/html": [
       "1.04443778794478"
      ],
      "text/latex": [
       "1.04443778794478"
      ],
      "text/markdown": [
       "1.04443778794478"
      ],
      "text/plain": [
       "[1] 1.044438"
      ]
     },
     "execution_count": 16,
     "metadata": {},
     "output_type": "execute_result"
    },
    {
     "data": {
      "text/html": [
       "1.84304148"
      ],
      "text/latex": [
       "1.84304148"
      ],
      "text/markdown": [
       "1.84304148"
      ],
      "text/plain": [
       "[1] 1.843041"
      ]
     },
     "execution_count": 16,
     "metadata": {},
     "output_type": "execute_result"
    },
    {
     "data": {
      "text/html": [
       "1.02859290956751"
      ],
      "text/latex": [
       "1.02859290956751"
      ],
      "text/markdown": [
       "1.02859290956751"
      ],
      "text/plain": [
       "[1] 1.028593"
      ]
     },
     "execution_count": 16,
     "metadata": {},
     "output_type": "execute_result"
    },
    {
     "name": "stdout",
     "output_type": "stream",
     "text": [
      "[1] \"11MB, 40B packet:\"\n"
     ]
    },
    {
     "data": {
      "text/html": [
       "1.196507484"
      ],
      "text/latex": [
       "1.196507484"
      ],
      "text/markdown": [
       "1.196507484"
      ],
      "text/plain": [
       "[1] 1.196507"
      ]
     },
     "execution_count": 16,
     "metadata": {},
     "output_type": "execute_result"
    },
    {
     "data": {
      "text/html": [
       "10.2917442346483"
      ],
      "text/latex": [
       "10.2917442346483"
      ],
      "text/markdown": [
       "10.2917442346483"
      ],
      "text/plain": [
       "[1] 10.29174"
      ]
     },
     "execution_count": 16,
     "metadata": {},
     "output_type": "execute_result"
    },
    {
     "data": {
      "text/html": [
       "1.226106836"
      ],
      "text/latex": [
       "1.226106836"
      ],
      "text/markdown": [
       "1.226106836"
      ],
      "text/plain": [
       "[1] 1.226107"
      ]
     },
     "execution_count": 16,
     "metadata": {},
     "output_type": "execute_result"
    },
    {
     "data": {
      "text/html": [
       "9.89807357725956"
      ],
      "text/latex": [
       "9.89807357725956"
      ],
      "text/markdown": [
       "9.89807357725956"
      ],
      "text/plain": [
       "[1] 9.898074"
      ]
     },
     "execution_count": 16,
     "metadata": {},
     "output_type": "execute_result"
    },
    {
     "name": "stdout",
     "output_type": "stream",
     "text": [
      "[1] \"1Mb bandwidth is 1.02Mb/s-1.04Mb/s>\"\n",
      "[1] \"11Mb bandwidth is 9.90Mb/s-10.29Mb/s\"\n",
      "[1] \"If larry doesn't believe latency is real, he is filing a suit.\"\n",
      "[1] \"If larry thinks 10Mb/s is not 11Mb/s he is filing a suit.\"\n"
     ]
    }
   ],
   "source": [
    "#Predict 40:\n",
    "print(\"1MB, 40B packet:\")\n",
    "#1MB 2.5%\n",
    "(0.007304786*40+1.437881)\n",
    "#bandwidth\n",
    "(((0.007304786/1000)^(-1))*8/1048576)\n",
    "#1MB 97.5%\n",
    "(0.007417312*40+1.546349)\n",
    "#bandwidth\n",
    "(((0.007417312/1000)^(-1))*8/1048576)\n",
    "\n",
    "print(\"11MB, 40B packet:\")\n",
    "#11MB 2.5%\n",
    "(1.166855+0.0007413121*40)\n",
    "#bandwidth\n",
    "(((0.0007413121/1000)^(-1))*8/1048576)\n",
    "#11MB 97.5%\n",
    "(1.195275+0.0007707959*40)\n",
    "#bandwidth\n",
    "(((0.0007707959/1000)^(-1))*8/1048576)\n",
    "\n",
    "\n",
    "\n",
    "#Time to rate:\n",
    "print(\"1Mb bandwidth is 1.02Mb/s-1.04Mb/s>\")\n",
    "print(\"11Mb bandwidth is 9.90Mb/s-10.29Mb/s\")\n",
    "print(\"If larry doesn't believe latency is real, he is filing a suit.\")\n",
    "print(\"If larry thinks 10Mb/s is not 11Mb/s he is filing a suit.\")"
   ]
  },
  {
   "cell_type": "code",
   "execution_count": 17,
   "metadata": {
    "collapsed": false
   },
   "outputs": [
    {
     "name": "stdout",
     "output_type": "stream",
     "text": [
      "[1] \"1MB, 750B packet:\"\n"
     ]
    },
    {
     "data": {
      "text/html": [
       "6.9164705"
      ],
      "text/latex": [
       "6.9164705"
      ],
      "text/markdown": [
       "6.9164705"
      ],
      "text/plain": [
       "[1] 6.91647"
      ]
     },
     "execution_count": 17,
     "metadata": {},
     "output_type": "execute_result"
    },
    {
     "data": {
      "text/html": [
       "7.109333"
      ],
      "text/latex": [
       "7.109333"
      ],
      "text/markdown": [
       "7.109333"
      ],
      "text/plain": [
       "[1] 7.109333"
      ]
     },
     "execution_count": 17,
     "metadata": {},
     "output_type": "execute_result"
    },
    {
     "name": "stdout",
     "output_type": "stream",
     "text": [
      "[1] \"11MB, 750B packet:\"\n"
     ]
    },
    {
     "data": {
      "text/html": [
       "1.722839075"
      ],
      "text/latex": [
       "1.722839075"
      ],
      "text/markdown": [
       "1.722839075"
      ],
      "text/plain": [
       "[1] 1.722839"
      ]
     },
     "execution_count": 17,
     "metadata": {},
     "output_type": "execute_result"
    },
    {
     "data": {
      "text/html": [
       "1.773371925"
      ],
      "text/latex": [
       "1.773371925"
      ],
      "text/markdown": [
       "1.773371925"
      ],
      "text/plain": [
       "[1] 1.773372"
      ]
     },
     "execution_count": 17,
     "metadata": {},
     "output_type": "execute_result"
    }
   ],
   "source": [
    "#Predict 750:\n",
    "print(\"1MB, 750B packet:\")\n",
    "#1MB 2.5%\n",
    "(0.007304786*750+1.437881)\n",
    "#1MB 97.5%\n",
    "(0.007417312*750+1.546349)\n",
    "\n",
    "print(\"11MB, 750B packet:\")\n",
    "#11MB 2.5%\n",
    "(1.166855+0.0007413121*750)\n",
    "#11MB 97.5%\n",
    "(1.195275+0.0007707959*750)"
   ]
  },
  {
   "cell_type": "code",
   "execution_count": 18,
   "metadata": {
    "collapsed": false
   },
   "outputs": [
    {
     "name": "stdout",
     "output_type": "stream",
     "text": [
      "[1] \"1MB, 1500B packet:\"\n"
     ]
    },
    {
     "data": {
      "text/html": [
       "12.39506"
      ],
      "text/latex": [
       "12.39506"
      ],
      "text/markdown": [
       "12.39506"
      ],
      "text/plain": [
       "[1] 12.39506"
      ]
     },
     "execution_count": 18,
     "metadata": {},
     "output_type": "execute_result"
    },
    {
     "data": {
      "text/html": [
       "12.672317"
      ],
      "text/latex": [
       "12.672317"
      ],
      "text/markdown": [
       "12.672317"
      ],
      "text/plain": [
       "[1] 12.67232"
      ]
     },
     "execution_count": 18,
     "metadata": {},
     "output_type": "execute_result"
    },
    {
     "name": "stdout",
     "output_type": "stream",
     "text": [
      "[1] \"11MB, 1500B packet:\"\n"
     ]
    },
    {
     "data": {
      "text/html": [
       "2.27882315"
      ],
      "text/latex": [
       "2.27882315"
      ],
      "text/markdown": [
       "2.27882315"
      ],
      "text/plain": [
       "[1] 2.278823"
      ]
     },
     "execution_count": 18,
     "metadata": {},
     "output_type": "execute_result"
    },
    {
     "data": {
      "text/html": [
       "2.35146885"
      ],
      "text/latex": [
       "2.35146885"
      ],
      "text/markdown": [
       "2.35146885"
      ],
      "text/plain": [
       "[1] 2.351469"
      ]
     },
     "execution_count": 18,
     "metadata": {},
     "output_type": "execute_result"
    }
   ],
   "source": [
    "#Predict 1500:\n",
    "print(\"1MB, 1500B packet:\")\n",
    "#1MB 2.5%\n",
    "(0.007304786*1500+1.437881)\n",
    "#1MB 97.5%\n",
    "(0.007417312*1500+1.546349)\n",
    "\n",
    "print(\"11MB, 1500B packet:\")\n",
    "#11MB 2.5%\n",
    "(1.166855+0.0007413121*1500)\n",
    "#11MB 97.5%\n",
    "(1.195275+0.0007707959*1500)"
   ]
  },
  {
   "cell_type": "code",
   "execution_count": 19,
   "metadata": {
    "collapsed": false
   },
   "outputs": [
    {
     "data": {
      "text/html": [
       "5.56090410087329"
      ],
      "text/latex": [
       "5.56090410087329"
      ],
      "text/markdown": [
       "5.56090410087329"
      ],
      "text/plain": [
       "[1] 5.560904"
      ]
     },
     "execution_count": 19,
     "metadata": {},
     "output_type": "execute_result"
    },
    {
     "data": {
      "text/html": [
       "1.54035098371353"
      ],
      "text/latex": [
       "1.54035098371353"
      ],
      "text/markdown": [
       "1.54035098371353"
      ],
      "text/plain": [
       "[1] 1.540351"
      ]
     },
     "execution_count": 19,
     "metadata": {},
     "output_type": "execute_result"
    },
    {
     "name": "stdout",
     "output_type": "stream",
     "text": [
      "[1] \"Larry is a lawyer and thus he can probably make this a case.\"\n",
      "[1] \"Looking at %faster is slightly misleading as the 1Mb network performs better than 1Mb,\"\n",
      "[1] \"and the 11Mb/s network slightly underperforms.\"\n",
      "[1] \"That being said bringing up that the 11Mb network only performs 5x better could be a nice point.\"\n",
      "[1] \"Looking at bandwidth, the 11Mb network slightly underperforms at around 10Mb/s\"\n",
      "[1] \"Unless the ISP said up to 11Mb/s, Larry should sue.\"\n"
     ]
    }
   ],
   "source": [
    "#Slowest 1MB 1500/ Fastest 11MB 1500\n",
    "(12.672317/2.27882315)\n",
    "\n",
    "#Slowest 1MB 40/ Fastest 11MB 40\n",
    "(1.84304148/1.196507484)\n",
    "\n",
    "print(\"Larry is a lawyer and thus he can probably make this a case.\")\n",
    "print(\"Looking at %faster is slightly misleading as the 1Mb network performs better than 1Mb,\")\n",
    "print(\"and the 11Mb/s network slightly underperforms.\")\n",
    "print(\"That being said bringing up that the 11Mb network only performs 5x better could be a nice point.\")\n",
    "print(\"Looking at bandwidth, the 11Mb network slightly underperforms at around 10Mb/s\")\n",
    "print(\"Unless the ISP said up to 11Mb/s, Larry should sue.\")"
   ]
  },
  {
   "cell_type": "code",
   "execution_count": 26,
   "metadata": {
    "collapsed": false
   },
   "outputs": [
    {
     "data": {
      "text/plain": [
       "\n",
       "Call:\n",
       "lm(formula = y ~ x)\n",
       "\n",
       "Coefficients:\n",
       "(Intercept)            x  \n",
       "  0.2263869    0.0001583  \n"
      ]
     },
     "execution_count": 26,
     "metadata": {},
     "output_type": "execute_result"
    },
    {
     "data": {
      "text/plain": [
       "\n",
       "Call:\n",
       "lm(formula = y54 ~ x54)\n",
       "\n",
       "Residuals:\n",
       "       Min         1Q     Median         3Q        Max \n",
       "-0.0087862 -0.0016716  0.0002906  0.0020847  0.0076894 \n",
       "\n",
       "Coefficients:\n",
       "             Estimate Std. Error t value Pr(>|t|)    \n",
       "(Intercept) 2.264e-01  1.459e-03   155.1   <2e-16 ***\n",
       "x54         1.583e-04  1.514e-06   104.6   <2e-16 ***\n",
       "---\n",
       "Signif. codes:  0 ‘***’ 0.001 ‘**’ 0.01 ‘*’ 0.05 ‘.’ 0.1 ‘ ’ 1\n",
       "\n",
       "Residual standard error: 0.003621 on 46 degrees of freedom\n",
       "Multiple R-squared:  0.9958,\tAdjusted R-squared:  0.9957 \n",
       "F-statistic: 1.094e+04 on 1 and 46 DF,  p-value: < 2.2e-16\n"
      ]
     },
     "execution_count": 26,
     "metadata": {},
     "output_type": "execute_result"
    },
    {
     "data": {
      "image/png": "[encoded data removed]",
      "image/svg+xml": [
       "<?xml version=\"1.0\" encoding=\"UTF-8\"?>\n",
       "<svg xmlns=\"http://www.w3.org/2000/svg\" xmlns:xlink=\"http://www.w3.org/1999/xlink\" width=\"504pt\" height=\"504pt\" viewBox=\"0 0 504 504\" version=\"1.1\">\n",
       "<defs>\n",
       "<g>\n",
       "<symbol overflow=\"visible\" id=\"glyph0-0\">\n",
       "<path style=\"stroke:none;\" d=\"\"/>\n",
       "</symbol>\n",
       "<symbol overflow=\"visible\" id=\"glyph0-1\">\n",
       "<path style=\"stroke:none;\" d=\"M 3.921875 -2.046875 L 3.921875 0 L 4.984375 0 L 4.984375 -2.046875 L 6.234375 -2.046875 L 6.234375 -2.984375 L 4.984375 -2.984375 L 4.984375 -8.515625 L 4.203125 -8.515625 L 0.34375 -3.15625 L 0.34375 -2.046875 Z M 3.921875 -2.984375 L 1.265625 -2.984375 L 3.921875 -6.703125 Z M 3.921875 -2.984375 \"/>\n",
       "</symbol>\n",
       "<symbol overflow=\"visible\" id=\"glyph0-2\">\n",
       "<path style=\"stroke:none;\" d=\"M 3.296875 -8.515625 C 2.515625 -8.515625 1.78125 -8.15625 1.34375 -7.578125 C 0.796875 -6.828125 0.515625 -5.6875 0.515625 -4.109375 C 0.515625 -1.25 1.46875 0.28125 3.296875 0.28125 C 5.09375 0.28125 6.078125 -1.25 6.078125 -4.046875 C 6.078125 -5.703125 5.8125 -6.796875 5.25 -7.578125 C 4.8125 -8.171875 4.109375 -8.515625 3.296875 -8.515625 Z M 3.296875 -7.578125 C 4.4375 -7.578125 5 -6.421875 5 -4.140625 C 5 -1.734375 4.453125 -0.59375 3.28125 -0.59375 C 2.15625 -0.59375 1.59375 -1.78125 1.59375 -4.109375 C 1.59375 -6.4375 2.15625 -7.578125 3.296875 -7.578125 Z M 3.296875 -7.578125 \"/>\n",
       "</symbol>\n",
       "<symbol overflow=\"visible\" id=\"glyph0-3\">\n",
       "<path style=\"stroke:none;\" d=\"M 5.96875 -6.28125 C 5.765625 -7.6875 4.859375 -8.515625 3.5625 -8.515625 C 2.625 -8.515625 1.78125 -8.046875 1.28125 -7.296875 C 0.75 -6.46875 0.515625 -5.421875 0.515625 -3.875 C 0.515625 -2.453125 0.734375 -1.53125 1.234375 -0.78125 C 1.6875 -0.09375 2.4375 0.28125 3.375 0.28125 C 4.984375 0.28125 6.15625 -0.921875 6.15625 -2.59375 C 6.15625 -4.171875 5.078125 -5.296875 3.546875 -5.296875 C 2.71875 -5.296875 2.046875 -4.96875 1.59375 -4.34375 C 1.609375 -6.421875 2.28125 -7.578125 3.484375 -7.578125 C 4.234375 -7.578125 4.75 -7.109375 4.921875 -6.28125 Z M 3.421875 -4.359375 C 4.4375 -4.359375 5.078125 -3.640625 5.078125 -2.515625 C 5.078125 -1.4375 4.359375 -0.65625 3.390625 -0.65625 C 2.40625 -0.65625 1.65625 -1.46875 1.65625 -2.5625 C 1.65625 -3.625 2.375 -4.359375 3.421875 -4.359375 Z M 3.421875 -4.359375 \"/>\n",
       "</symbol>\n",
       "<symbol overflow=\"visible\" id=\"glyph0-4\">\n",
       "<path style=\"stroke:none;\" d=\"M 4.6875 -4.46875 C 5.5625 -5 5.859375 -5.4375 5.859375 -6.234375 C 5.859375 -7.578125 4.8125 -8.515625 3.296875 -8.515625 C 1.796875 -8.515625 0.75 -7.578125 0.75 -6.234375 C 0.75 -5.453125 1.03125 -5.015625 1.890625 -4.46875 C 0.921875 -4.015625 0.4375 -3.296875 0.4375 -2.359375 C 0.4375 -0.796875 1.625 0.28125 3.296875 0.28125 C 4.984375 0.28125 6.15625 -0.796875 6.15625 -2.359375 C 6.15625 -3.296875 5.671875 -4.015625 4.6875 -4.46875 Z M 3.296875 -7.578125 C 4.203125 -7.578125 4.78125 -7.046875 4.78125 -6.21875 C 4.78125 -5.421875 4.1875 -4.890625 3.296875 -4.890625 C 2.40625 -4.890625 1.828125 -5.421875 1.828125 -6.234375 C 1.828125 -7.046875 2.40625 -7.578125 3.296875 -7.578125 Z M 3.296875 -4.015625 C 4.359375 -4.015625 5.078125 -3.34375 5.078125 -2.34375 C 5.078125 -1.328125 4.359375 -0.65625 3.28125 -0.65625 C 2.25 -0.65625 1.53125 -1.34375 1.53125 -2.34375 C 1.53125 -3.34375 2.25 -4.015625 3.296875 -4.015625 Z M 3.296875 -4.015625 \"/>\n",
       "</symbol>\n",
       "<symbol overflow=\"visible\" id=\"glyph0-5\">\n",
       "<path style=\"stroke:none;\" d=\"M 3.109375 -6.0625 L 3.109375 0 L 4.15625 0 L 4.15625 -8.515625 L 3.46875 -8.515625 C 3.09375 -7.203125 2.859375 -7.015625 1.21875 -6.8125 L 1.21875 -6.0625 Z M 3.109375 -6.0625 \"/>\n",
       "</symbol>\n",
       "<symbol overflow=\"visible\" id=\"glyph0-6\">\n",
       "<path style=\"stroke:none;\" d=\"M 6.078125 -1.046875 L 1.59375 -1.046875 C 1.703125 -1.734375 2.09375 -2.1875 3.125 -2.796875 L 4.328125 -3.4375 C 5.515625 -4.09375 6.125 -4.96875 6.125 -6.015625 C 6.125 -6.71875 5.84375 -7.375 5.34375 -7.84375 C 4.84375 -8.296875 4.21875 -8.515625 3.40625 -8.515625 C 2.328125 -8.515625 1.53125 -8.125 1.0625 -7.40625 C 0.75 -6.953125 0.625 -6.421875 0.59375 -5.5625 L 1.65625 -5.5625 C 1.6875 -6.125 1.765625 -6.484375 1.90625 -6.75 C 2.1875 -7.265625 2.734375 -7.578125 3.375 -7.578125 C 4.328125 -7.578125 5.046875 -6.90625 5.046875 -5.984375 C 5.046875 -5.3125 4.65625 -4.734375 3.90625 -4.3125 L 2.796875 -3.6875 C 1.015625 -2.671875 0.5 -1.875 0.40625 0 L 6.078125 0 Z M 6.078125 -1.046875 \"/>\n",
       "</symbol>\n",
       "<symbol overflow=\"visible\" id=\"glyph0-7\">\n",
       "<path style=\"stroke:none;\" d=\"M 3.5 -3.25 L 5.609375 -6.28125 L 4.484375 -6.28125 L 2.96875 -4.015625 L 1.46875 -6.28125 L 0.328125 -6.28125 L 2.421875 -3.203125 L 0.203125 0 L 1.34375 0 L 2.9375 -2.40625 L 4.515625 0 L 5.671875 0 Z M 3.5 -3.25 \"/>\n",
       "</symbol>\n",
       "<symbol overflow=\"visible\" id=\"glyph0-8\">\n",
       "<path style=\"stroke:none;\" d=\"\"/>\n",
       "</symbol>\n",
       "<symbol overflow=\"visible\" id=\"glyph0-9\">\n",
       "<path style=\"stroke:none;\" d=\"M 3.40625 -3.75 L 0.546875 -3.75 L 0.546875 -2.875 L 3.40625 -2.875 Z M 3.40625 -3.75 \"/>\n",
       "</symbol>\n",
       "<symbol overflow=\"visible\" id=\"glyph0-10\">\n",
       "<path style=\"stroke:none;\" d=\"M 2.203125 -3.703125 L 4.953125 -3.703125 C 5.640625 -3.703125 6.1875 -3.90625 6.640625 -4.328125 C 7.171875 -4.8125 7.40625 -5.375 7.40625 -6.1875 C 7.40625 -7.828125 6.4375 -8.75 4.703125 -8.75 L 1.09375 -8.75 L 1.09375 0 L 2.203125 0 Z M 2.203125 -4.6875 L 2.203125 -7.765625 L 4.53125 -7.765625 C 5.609375 -7.765625 6.234375 -7.1875 6.234375 -6.234375 C 6.234375 -5.265625 5.609375 -4.6875 4.53125 -4.6875 Z M 2.203125 -4.6875 \"/>\n",
       "</symbol>\n",
       "<symbol overflow=\"visible\" id=\"glyph0-11\">\n",
       "<path style=\"stroke:none;\" d=\"M 6.421875 -0.59375 C 6.3125 -0.5625 6.265625 -0.5625 6.203125 -0.5625 C 5.859375 -0.5625 5.65625 -0.75 5.65625 -1.0625 L 5.65625 -4.75 C 5.65625 -5.875 4.84375 -6.46875 3.296875 -6.46875 C 2.390625 -6.46875 1.625 -6.203125 1.21875 -5.734375 C 0.921875 -5.40625 0.796875 -5.046875 0.78125 -4.421875 L 1.78125 -4.421875 C 1.875 -5.203125 2.328125 -5.546875 3.265625 -5.546875 C 4.15625 -5.546875 4.671875 -5.203125 4.671875 -4.609375 L 4.671875 -4.34375 C 4.671875 -3.921875 4.421875 -3.75 3.625 -3.640625 C 2.203125 -3.46875 1.984375 -3.421875 1.609375 -3.265625 C 0.875 -2.96875 0.5 -2.40625 0.5 -1.578125 C 0.5 -0.4375 1.296875 0.28125 2.5625 0.28125 C 3.359375 0.28125 4 0 4.703125 -0.640625 C 4.78125 -0.015625 5.09375 0.28125 5.734375 0.28125 C 5.9375 0.28125 6.09375 0.25 6.421875 0.171875 Z M 4.671875 -1.984375 C 4.671875 -1.640625 4.578125 -1.4375 4.265625 -1.15625 C 3.859375 -0.796875 3.375 -0.59375 2.78125 -0.59375 C 2 -0.59375 1.546875 -0.96875 1.546875 -1.609375 C 1.546875 -2.265625 1.984375 -2.609375 3.0625 -2.765625 C 4.109375 -2.90625 4.328125 -2.953125 4.671875 -3.109375 Z M 4.671875 -1.984375 \"/>\n",
       "</symbol>\n",
       "<symbol overflow=\"visible\" id=\"glyph0-12\">\n",
       "<path style=\"stroke:none;\" d=\"M 5.65625 -4.171875 C 5.609375 -4.78125 5.46875 -5.1875 5.234375 -5.53125 C 4.796875 -6.125 4.046875 -6.46875 3.171875 -6.46875 C 1.46875 -6.46875 0.375 -5.125 0.375 -3.03125 C 0.375 -1.015625 1.453125 0.28125 3.15625 0.28125 C 4.65625 0.28125 5.609375 -0.625 5.71875 -2.15625 L 4.71875 -2.15625 C 4.546875 -1.15625 4.03125 -0.640625 3.1875 -0.640625 C 2.078125 -0.640625 1.421875 -1.546875 1.421875 -3.03125 C 1.421875 -4.609375 2.0625 -5.546875 3.15625 -5.546875 C 4 -5.546875 4.53125 -5.046875 4.640625 -4.171875 Z M 5.65625 -4.171875 \"/>\n",
       "</symbol>\n",
       "<symbol overflow=\"visible\" id=\"glyph0-13\">\n",
       "<path style=\"stroke:none;\" d=\"M 1.6875 -8.75 L 0.703125 -8.75 L 0.703125 0 L 1.6875 0 L 1.6875 -2.453125 L 2.65625 -3.40625 L 4.78125 0 L 6.03125 0 L 3.453125 -4.109375 L 5.640625 -6.28125 L 4.359375 -6.28125 L 1.6875 -3.625 Z M 1.6875 -8.75 \"/>\n",
       "</symbol>\n",
       "<symbol overflow=\"visible\" id=\"glyph0-14\">\n",
       "<path style=\"stroke:none;\" d=\"M 6.15625 -2.8125 C 6.15625 -3.765625 6.078125 -4.34375 5.90625 -4.8125 C 5.5 -5.84375 4.53125 -6.46875 3.359375 -6.46875 C 1.609375 -6.46875 0.484375 -5.125 0.484375 -3.0625 C 0.484375 -1 1.578125 0.28125 3.34375 0.28125 C 4.78125 0.28125 5.765625 -0.546875 6.03125 -1.90625 L 5.015625 -1.90625 C 4.734375 -1.078125 4.171875 -0.640625 3.375 -0.640625 C 2.734375 -0.640625 2.203125 -0.9375 1.859375 -1.46875 C 1.625 -1.828125 1.53125 -2.1875 1.53125 -2.8125 Z M 1.546875 -3.625 C 1.625 -4.78125 2.34375 -5.546875 3.34375 -5.546875 C 4.328125 -5.546875 5.09375 -4.734375 5.09375 -3.703125 C 5.09375 -3.671875 5.09375 -3.640625 5.078125 -3.625 Z M 1.546875 -3.625 \"/>\n",
       "</symbol>\n",
       "<symbol overflow=\"visible\" id=\"glyph0-15\">\n",
       "<path style=\"stroke:none;\" d=\"M 3.046875 -6.28125 L 2.015625 -6.28125 L 2.015625 -8.015625 L 1.015625 -8.015625 L 1.015625 -6.28125 L 0.171875 -6.28125 L 0.171875 -5.46875 L 1.015625 -5.46875 L 1.015625 -0.71875 C 1.015625 -0.078125 1.453125 0.28125 2.234375 0.28125 C 2.46875 0.28125 2.71875 0.25 3.046875 0.1875 L 3.046875 -0.640625 C 2.921875 -0.609375 2.765625 -0.59375 2.5625 -0.59375 C 2.140625 -0.59375 2.015625 -0.71875 2.015625 -1.15625 L 2.015625 -5.46875 L 3.046875 -5.46875 Z M 3.046875 -6.28125 \"/>\n",
       "</symbol>\n",
       "<symbol overflow=\"visible\" id=\"glyph0-16\">\n",
       "<path style=\"stroke:none;\" d=\"M 7.15625 -6.1875 C 7.140625 -7.890625 5.96875 -8.890625 3.953125 -8.890625 C 2.03125 -8.890625 0.84375 -7.90625 0.84375 -6.328125 C 0.84375 -5.25 1.40625 -4.578125 2.5625 -4.28125 L 4.734375 -3.703125 C 5.828125 -3.421875 6.34375 -2.96875 6.34375 -2.296875 C 6.34375 -1.828125 6.078125 -1.34375 5.71875 -1.078125 C 5.359375 -0.84375 4.8125 -0.703125 4.109375 -0.703125 C 3.15625 -0.703125 2.515625 -0.9375 2.09375 -1.4375 C 1.765625 -1.828125 1.625 -2.25 1.625 -2.78125 L 0.578125 -2.78125 C 0.59375 -1.984375 0.75 -1.453125 1.09375 -0.96875 C 1.6875 -0.15625 2.703125 0.28125 4.03125 0.28125 C 5.078125 0.28125 5.921875 0.03125 6.484375 -0.390625 C 7.078125 -0.859375 7.453125 -1.640625 7.453125 -2.40625 C 7.453125 -3.484375 6.78125 -4.265625 5.59375 -4.59375 L 3.390625 -5.1875 C 2.34375 -5.46875 1.953125 -5.8125 1.953125 -6.484375 C 1.953125 -7.375 2.734375 -7.953125 3.90625 -7.953125 C 5.296875 -7.953125 6.078125 -7.3125 6.09375 -6.1875 Z M 7.15625 -6.1875 \"/>\n",
       "</symbol>\n",
       "<symbol overflow=\"visible\" id=\"glyph0-17\">\n",
       "<path style=\"stroke:none;\" d=\"M 1.796875 -6.28125 L 0.796875 -6.28125 L 0.796875 0 L 1.796875 0 Z M 1.796875 -8.75 L 0.796875 -8.75 L 0.796875 -7.484375 L 1.796875 -7.484375 Z M 1.796875 -8.75 \"/>\n",
       "</symbol>\n",
       "<symbol overflow=\"visible\" id=\"glyph0-18\">\n",
       "<path style=\"stroke:none;\" d=\"M 5.3125 -6.28125 L 0.625 -6.28125 L 0.625 -5.40625 L 4.125 -5.40625 L 0.375 -0.90625 L 0.375 0 L 5.484375 0 L 5.484375 -0.875 L 1.578125 -0.875 L 5.3125 -5.40625 Z M 5.3125 -6.28125 \"/>\n",
       "</symbol>\n",
       "<symbol overflow=\"visible\" id=\"glyph0-19\">\n",
       "<path style=\"stroke:none;\" d=\"M 2.828125 -8.75 C 1.625 -7.171875 0.875 -4.984375 0.875 -3.109375 C 0.875 -1.21875 1.625 0.96875 2.828125 2.546875 L 3.484375 2.546875 C 2.4375 0.828125 1.84375 -1.1875 1.84375 -3.109375 C 1.84375 -5.015625 2.4375 -7.046875 3.484375 -8.75 Z M 2.828125 -8.75 \"/>\n",
       "</symbol>\n",
       "<symbol overflow=\"visible\" id=\"glyph0-20\">\n",
       "<path style=\"stroke:none;\" d=\"M 0.953125 0 L 4.890625 0 C 5.71875 0 6.34375 -0.234375 6.796875 -0.734375 C 7.234375 -1.1875 7.46875 -1.8125 7.46875 -2.5 C 7.46875 -3.546875 7 -4.1875 5.875 -4.625 C 6.671875 -4.984375 7.09375 -5.640625 7.09375 -6.53125 C 7.09375 -7.15625 6.859375 -7.734375 6.390625 -8.140625 C 5.9375 -8.5625 5.34375 -8.75 4.5 -8.75 L 0.953125 -8.75 Z M 2.0625 -4.984375 L 2.0625 -7.765625 L 4.21875 -7.765625 C 4.84375 -7.765625 5.203125 -7.6875 5.5 -7.453125 C 5.8125 -7.21875 5.96875 -6.859375 5.96875 -6.375 C 5.96875 -5.90625 5.8125 -5.53125 5.5 -5.296875 C 5.203125 -5.0625 4.84375 -4.984375 4.21875 -4.984375 Z M 2.0625 -0.984375 L 2.0625 -4 L 4.78125 -4 C 5.328125 -4 5.6875 -3.859375 5.953125 -3.578125 C 6.21875 -3.296875 6.359375 -2.921875 6.359375 -2.484375 C 6.359375 -2.0625 6.21875 -1.6875 5.953125 -1.40625 C 5.6875 -1.109375 5.328125 -0.984375 4.78125 -0.984375 Z M 2.0625 -0.984375 \"/>\n",
       "</symbol>\n",
       "<symbol overflow=\"visible\" id=\"glyph0-21\">\n",
       "<path style=\"stroke:none;\" d=\"M 4.65625 -6.28125 L 2.921875 -1.390625 L 1.3125 -6.28125 L 0.234375 -6.28125 L 2.359375 0.03125 L 1.984375 1.015625 C 1.828125 1.46875 1.59375 1.625 1.171875 1.625 C 1.03125 1.625 0.859375 1.609375 0.640625 1.5625 L 0.640625 2.453125 C 0.859375 2.5625 1.0625 2.609375 1.3125 2.609375 C 1.640625 2.609375 1.984375 2.515625 2.25 2.3125 C 2.5625 2.09375 2.75 1.828125 2.9375 1.3125 L 5.734375 -6.28125 Z M 4.65625 -6.28125 \"/>\n",
       "</symbol>\n",
       "<symbol overflow=\"visible\" id=\"glyph0-22\">\n",
       "<path style=\"stroke:none;\" d=\"M 5.25 -4.53125 C 5.25 -5.765625 4.421875 -6.46875 2.96875 -6.46875 C 1.515625 -6.46875 0.5625 -5.71875 0.5625 -4.546875 C 0.5625 -3.5625 1.0625 -3.09375 2.5625 -2.734375 L 3.484375 -2.515625 C 4.1875 -2.34375 4.46875 -2.09375 4.46875 -1.625 C 4.46875 -1.046875 3.875 -0.640625 3 -0.640625 C 2.453125 -0.640625 2 -0.796875 1.75 -1.0625 C 1.59375 -1.25 1.53125 -1.421875 1.46875 -1.875 L 0.40625 -1.875 C 0.453125 -0.421875 1.265625 0.28125 2.921875 0.28125 C 4.5 0.28125 5.515625 -0.5 5.515625 -1.71875 C 5.515625 -2.65625 4.984375 -3.171875 3.734375 -3.46875 L 2.765625 -3.703125 C 1.953125 -3.890625 1.609375 -4.15625 1.609375 -4.59375 C 1.609375 -5.171875 2.125 -5.546875 2.9375 -5.546875 C 3.75 -5.546875 4.171875 -5.203125 4.203125 -4.53125 Z M 5.25 -4.53125 \"/>\n",
       "</symbol>\n",
       "<symbol overflow=\"visible\" id=\"glyph0-23\">\n",
       "<path style=\"stroke:none;\" d=\"M 1.109375 2.546875 C 2.3125 0.96875 3.078125 -1.21875 3.078125 -3.09375 C 3.078125 -4.984375 2.3125 -7.171875 1.109375 -8.75 L 0.453125 -8.75 C 1.515625 -7.03125 2.09375 -5.015625 2.09375 -3.09375 C 2.09375 -1.1875 1.515625 0.84375 0.453125 2.546875 Z M 1.109375 2.546875 \"/>\n",
       "</symbol>\n",
       "<symbol overflow=\"visible\" id=\"glyph1-0\">\n",
       "<path style=\"stroke:none;\" d=\"\"/>\n",
       "</symbol>\n",
       "<symbol overflow=\"visible\" id=\"glyph1-1\">\n",
       "<path style=\"stroke:none;\" d=\"M -8.515625 -3.296875 C -8.515625 -2.515625 -8.15625 -1.78125 -7.578125 -1.34375 C -6.828125 -0.796875 -5.6875 -0.515625 -4.109375 -0.515625 C -1.25 -0.515625 0.28125 -1.46875 0.28125 -3.296875 C 0.28125 -5.09375 -1.25 -6.078125 -4.046875 -6.078125 C -5.703125 -6.078125 -6.796875 -5.8125 -7.578125 -5.25 C -8.171875 -4.8125 -8.515625 -4.109375 -8.515625 -3.296875 Z M -7.578125 -3.296875 C -7.578125 -4.4375 -6.421875 -5 -4.140625 -5 C -1.734375 -5 -0.59375 -4.453125 -0.59375 -3.28125 C -0.59375 -2.15625 -1.78125 -1.59375 -4.109375 -1.59375 C -6.4375 -1.59375 -7.578125 -2.15625 -7.578125 -3.296875 Z M -7.578125 -3.296875 \"/>\n",
       "</symbol>\n",
       "<symbol overflow=\"visible\" id=\"glyph1-2\">\n",
       "<path style=\"stroke:none;\" d=\"M -1.25 -2.296875 L -1.25 -1.046875 L 0 -1.046875 L 0 -2.296875 Z M -1.25 -2.296875 \"/>\n",
       "</symbol>\n",
       "<symbol overflow=\"visible\" id=\"glyph1-3\">\n",
       "<path style=\"stroke:none;\" d=\"M -3.90625 -2.65625 L -3.90625 -3.234375 C -3.90625 -4.390625 -3.390625 -4.984375 -2.359375 -4.984375 C -1.296875 -4.984375 -0.65625 -4.328125 -0.65625 -3.234375 C -0.65625 -2.078125 -1.234375 -1.515625 -2.46875 -1.4375 L -2.46875 -0.390625 C -1.78125 -0.4375 -1.34375 -0.546875 -0.953125 -0.75 C -0.140625 -1.1875 0.28125 -2.03125 0.28125 -3.1875 C 0.28125 -4.9375 -0.765625 -6.078125 -2.375 -6.078125 C -3.453125 -6.078125 -4.0625 -5.65625 -4.40625 -4.625 C -4.71875 -5.421875 -5.3125 -5.8125 -6.171875 -5.8125 C -7.625 -5.8125 -8.515625 -4.84375 -8.515625 -3.234375 C -8.515625 -1.515625 -7.578125 -0.59375 -5.765625 -0.5625 L -5.765625 -1.625 C -6.28125 -1.625 -6.5625 -1.6875 -6.828125 -1.8125 C -7.296875 -2.046875 -7.578125 -2.578125 -7.578125 -3.234375 C -7.578125 -4.171875 -7.03125 -4.734375 -6.125 -4.734375 C -5.53125 -4.734375 -5.171875 -4.53125 -4.984375 -4.0625 C -4.859375 -3.765625 -4.8125 -3.390625 -4.796875 -2.65625 Z M -3.90625 -2.65625 \"/>\n",
       "</symbol>\n",
       "<symbol overflow=\"visible\" id=\"glyph1-4\">\n",
       "<path style=\"stroke:none;\" d=\"M -8.515625 -5.71875 L -8.515625 -1.3125 L -3.875 -0.6875 L -3.875 -1.65625 C -4.46875 -2.140625 -4.671875 -2.5625 -4.671875 -3.21875 C -4.671875 -4.359375 -3.890625 -5.078125 -2.625 -5.078125 C -1.40625 -5.078125 -0.65625 -4.375 -0.65625 -3.21875 C -0.65625 -2.296875 -1.125 -1.734375 -2.09375 -1.46875 L -2.09375 -0.421875 C -1.390625 -0.5625 -1.0625 -0.6875 -0.75 -0.9375 C -0.09375 -1.421875 0.28125 -2.28125 0.28125 -3.234375 C 0.28125 -4.953125 -0.96875 -6.15625 -2.765625 -6.15625 C -4.453125 -6.15625 -5.609375 -5.046875 -5.609375 -3.40625 C -5.609375 -2.8125 -5.453125 -2.328125 -5.09375 -1.84375 L -7.46875 -2.171875 L -7.46875 -5.71875 Z M -8.515625 -5.71875 \"/>\n",
       "</symbol>\n",
       "<symbol overflow=\"visible\" id=\"glyph1-5\">\n",
       "<path style=\"stroke:none;\" d=\"M -2.046875 -3.921875 L 0 -3.921875 L 0 -4.984375 L -2.046875 -4.984375 L -2.046875 -6.234375 L -2.984375 -6.234375 L -2.984375 -4.984375 L -8.515625 -4.984375 L -8.515625 -4.203125 L -3.15625 -0.34375 L -2.046875 -0.34375 Z M -2.984375 -3.921875 L -2.984375 -1.265625 L -6.703125 -3.921875 Z M -2.984375 -3.921875 \"/>\n",
       "</symbol>\n",
       "<symbol overflow=\"visible\" id=\"glyph1-6\">\n",
       "<path style=\"stroke:none;\" d=\"M -6.28125 -4.65625 L -1.390625 -2.921875 L -6.28125 -1.3125 L -6.28125 -0.234375 L 0.03125 -2.359375 L 1.015625 -1.984375 C 1.46875 -1.828125 1.625 -1.59375 1.625 -1.171875 C 1.625 -1.03125 1.609375 -0.859375 1.5625 -0.640625 L 2.453125 -0.640625 C 2.5625 -0.859375 2.609375 -1.0625 2.609375 -1.3125 C 2.609375 -1.640625 2.515625 -1.984375 2.3125 -2.25 C 2.09375 -2.5625 1.828125 -2.75 1.3125 -2.9375 L -6.28125 -5.734375 Z M -6.28125 -4.65625 \"/>\n",
       "</symbol>\n",
       "<symbol overflow=\"visible\" id=\"glyph1-7\">\n",
       "<path style=\"stroke:none;\" d=\"\"/>\n",
       "</symbol>\n",
       "<symbol overflow=\"visible\" id=\"glyph1-8\">\n",
       "<path style=\"stroke:none;\" d=\"M -3.75 -3.40625 L -3.75 -0.546875 L -2.875 -0.546875 L -2.875 -3.40625 Z M -3.75 -3.40625 \"/>\n",
       "</symbol>\n",
       "<symbol overflow=\"visible\" id=\"glyph1-9\">\n",
       "<path style=\"stroke:none;\" d=\"M -7.765625 -4.25 L -7.765625 -7.109375 L -8.75 -7.109375 L -8.75 -0.25 L -7.765625 -0.25 L -7.765625 -3.125 L 0 -3.125 L 0 -4.25 Z M -7.765625 -4.25 \"/>\n",
       "</symbol>\n",
       "<symbol overflow=\"visible\" id=\"glyph1-10\">\n",
       "<path style=\"stroke:none;\" d=\"M -6.28125 -1.796875 L -6.28125 -0.796875 L 0 -0.796875 L 0 -1.796875 Z M -8.75 -1.796875 L -8.75 -0.796875 L -7.484375 -0.796875 L -7.484375 -1.796875 Z M -8.75 -1.796875 \"/>\n",
       "</symbol>\n",
       "<symbol overflow=\"visible\" id=\"glyph1-11\">\n",
       "<path style=\"stroke:none;\" d=\"M -6.28125 -0.84375 L 0 -0.84375 L 0 -1.84375 L -3.953125 -1.84375 C -4.859375 -1.84375 -5.59375 -2.515625 -5.59375 -3.328125 C -5.59375 -4.0625 -5.140625 -4.484375 -4.328125 -4.484375 L 0 -4.484375 L 0 -5.5 L -3.953125 -5.5 C -4.859375 -5.5 -5.59375 -6.15625 -5.59375 -6.96875 C -5.59375 -7.703125 -5.125 -8.140625 -4.328125 -8.140625 L 0 -8.140625 L 0 -9.140625 L -4.71875 -9.140625 C -5.84375 -9.140625 -6.46875 -8.5 -6.46875 -7.3125 C -6.46875 -6.484375 -6.21875 -5.96875 -5.515625 -5.390625 C -6.1875 -5.015625 -6.46875 -4.515625 -6.46875 -3.703125 C -6.46875 -2.859375 -6.15625 -2.296875 -5.40625 -1.765625 L -6.28125 -1.765625 Z M -6.28125 -0.84375 \"/>\n",
       "</symbol>\n",
       "<symbol overflow=\"visible\" id=\"glyph1-12\">\n",
       "<path style=\"stroke:none;\" d=\"M -2.8125 -6.15625 C -3.765625 -6.15625 -4.34375 -6.078125 -4.8125 -5.90625 C -5.84375 -5.5 -6.46875 -4.53125 -6.46875 -3.359375 C -6.46875 -1.609375 -5.125 -0.484375 -3.0625 -0.484375 C -1 -0.484375 0.28125 -1.578125 0.28125 -3.34375 C 0.28125 -4.78125 -0.546875 -5.765625 -1.90625 -6.03125 L -1.90625 -5.015625 C -1.078125 -4.734375 -0.640625 -4.171875 -0.640625 -3.375 C -0.640625 -2.734375 -0.9375 -2.203125 -1.46875 -1.859375 C -1.828125 -1.625 -2.1875 -1.53125 -2.8125 -1.53125 Z M -3.625 -1.546875 C -4.78125 -1.625 -5.546875 -2.34375 -5.546875 -3.34375 C -5.546875 -4.328125 -4.734375 -5.09375 -3.703125 -5.09375 C -3.671875 -5.09375 -3.640625 -5.09375 -3.625 -5.078125 Z M -3.625 -1.546875 \"/>\n",
       "</symbol>\n",
       "<symbol overflow=\"visible\" id=\"glyph1-13\">\n",
       "<path style=\"stroke:none;\" d=\"M -8.75 -2.828125 C -7.171875 -1.625 -4.984375 -0.875 -3.109375 -0.875 C -1.21875 -0.875 0.96875 -1.625 2.546875 -2.828125 L 2.546875 -3.484375 C 0.828125 -2.4375 -1.1875 -1.84375 -3.109375 -1.84375 C -5.015625 -1.84375 -7.046875 -2.4375 -8.75 -3.484375 Z M -8.75 -2.828125 \"/>\n",
       "</symbol>\n",
       "<symbol overflow=\"visible\" id=\"glyph1-14\">\n",
       "<path style=\"stroke:none;\" d=\"M -4.53125 -5.25 C -5.765625 -5.25 -6.46875 -4.421875 -6.46875 -2.96875 C -6.46875 -1.515625 -5.71875 -0.5625 -4.546875 -0.5625 C -3.5625 -0.5625 -3.09375 -1.0625 -2.734375 -2.5625 L -2.515625 -3.484375 C -2.34375 -4.1875 -2.09375 -4.46875 -1.625 -4.46875 C -1.046875 -4.46875 -0.640625 -3.875 -0.640625 -3 C -0.640625 -2.453125 -0.796875 -2 -1.0625 -1.75 C -1.25 -1.59375 -1.421875 -1.53125 -1.875 -1.46875 L -1.875 -0.40625 C -0.421875 -0.453125 0.28125 -1.265625 0.28125 -2.921875 C 0.28125 -4.5 -0.5 -5.515625 -1.71875 -5.515625 C -2.65625 -5.515625 -3.171875 -4.984375 -3.46875 -3.734375 L -3.703125 -2.765625 C -3.890625 -1.953125 -4.15625 -1.609375 -4.59375 -1.609375 C -5.171875 -1.609375 -5.546875 -2.125 -5.546875 -2.9375 C -5.546875 -3.75 -5.203125 -4.171875 -4.53125 -4.203125 Z M -4.53125 -5.25 \"/>\n",
       "</symbol>\n",
       "<symbol overflow=\"visible\" id=\"glyph1-15\">\n",
       "<path style=\"stroke:none;\" d=\"M 2.546875 -1.109375 C 0.96875 -2.3125 -1.21875 -3.078125 -3.09375 -3.078125 C -4.984375 -3.078125 -7.171875 -2.3125 -8.75 -1.109375 L -8.75 -0.453125 C -7.03125 -1.515625 -5.015625 -2.09375 -3.09375 -2.09375 C -1.1875 -2.09375 0.84375 -1.515625 2.546875 -0.453125 Z M 2.546875 -1.109375 \"/>\n",
       "</symbol>\n",
       "<symbol overflow=\"visible\" id=\"glyph2-0\">\n",
       "<path style=\"stroke:none;\" d=\"\"/>\n",
       "</symbol>\n",
       "<symbol overflow=\"visible\" id=\"glyph2-1\">\n",
       "<path style=\"stroke:none;\" d=\"M 5.671875 -7.78125 L 4.0625 -2.125 L 2.34375 -7.78125 L 0.125 -7.78125 L 3.03125 0.3125 L 3.03125 0.375 C 3.03125 1.109375 2.484375 1.671875 1.765625 1.671875 C 1.609375 1.671875 1.5 1.65625 1.234375 1.578125 L 1.234375 3.09375 C 1.546875 3.140625 1.71875 3.15625 1.953125 3.15625 C 2.46875 3.15625 3.0625 3.046875 3.421875 2.90625 C 3.96875 2.671875 4.21875 2.34375 4.546875 1.421875 L 7.75 -7.78125 Z M 5.671875 -7.78125 \"/>\n",
       "</symbol>\n",
       "<symbol overflow=\"visible\" id=\"glyph2-2\">\n",
       "<path style=\"stroke:none;\" d=\"\"/>\n",
       "</symbol>\n",
       "<symbol overflow=\"visible\" id=\"glyph2-3\">\n",
       "<path style=\"stroke:none;\" d=\"M 7.6875 -5.921875 L 0.71875 -5.921875 L 0.71875 -4.203125 L 7.6875 -4.203125 Z M 7.6875 -2.46875 L 0.71875 -2.46875 L 0.71875 -0.75 L 7.6875 -0.75 Z M 7.6875 -2.46875 \"/>\n",
       "</symbol>\n",
       "<symbol overflow=\"visible\" id=\"glyph2-4\">\n",
       "<path style=\"stroke:none;\" d=\"M 3.9375 -10.4375 C 2.84375 -10.4375 1.90625 -9.96875 1.28125 -9.125 C 0.6875 -8.328125 0.421875 -7.015625 0.421875 -5.046875 C 0.421875 -3.234375 0.65625 -1.953125 1.140625 -1.1875 C 1.75 -0.21875 2.734375 0.328125 3.9375 0.328125 C 5.046875 0.328125 5.953125 -0.109375 6.578125 -0.984375 C 7.15625 -1.75 7.453125 -3.078125 7.453125 -4.984375 C 7.453125 -6.859375 7.21875 -8.125 6.734375 -8.921875 C 6.125 -9.890625 5.125 -10.4375 3.9375 -10.4375 Z M 3.9375 -8.796875 C 4.453125 -8.796875 4.875 -8.515625 5.109375 -7.984375 C 5.3125 -7.546875 5.4375 -6.421875 5.4375 -5.03125 C 5.4375 -3.890625 5.3125 -2.734375 5.171875 -2.328125 C 4.9375 -1.734375 4.515625 -1.390625 3.9375 -1.390625 C 3.40625 -1.390625 3 -1.671875 2.75 -2.1875 C 2.546875 -2.625 2.4375 -3.703125 2.4375 -5.0625 C 2.4375 -6.25 2.546875 -7.421875 2.6875 -7.84375 C 2.921875 -8.453125 3.359375 -8.796875 3.9375 -8.796875 Z M 3.9375 -8.796875 \"/>\n",
       "</symbol>\n",
       "<symbol overflow=\"visible\" id=\"glyph2-5\">\n",
       "<path style=\"stroke:none;\" d=\"M 5.109375 -3.921875 L 7.65625 -7.78125 L 5.234375 -7.78125 L 3.96875 -5.4375 L 2.703125 -7.78125 L 0.28125 -7.78125 L 2.828125 -3.921875 L 0.234375 0 L 2.65625 0 L 3.96875 -2.421875 L 5.28125 0 L 7.703125 0 Z M 5.109375 -3.921875 \"/>\n",
       "</symbol>\n",
       "<symbol overflow=\"visible\" id=\"glyph2-6\">\n",
       "<path style=\"stroke:none;\" d=\"M 7.671875 -4.1875 L 5.0625 -4.1875 L 5.0625 -6.8125 L 3.34375 -6.8125 L 3.34375 -4.1875 L 0.71875 -4.1875 L 0.71875 -2.484375 L 3.34375 -2.484375 L 3.34375 0.140625 L 5.0625 0.140625 L 5.0625 -2.484375 L 7.671875 -2.484375 Z M 7.671875 -4.1875 \"/>\n",
       "</symbol>\n",
       "<symbol overflow=\"visible\" id=\"glyph2-7\">\n",
       "<path style=\"stroke:none;\" d=\"M 3.078125 -2.109375 L 0.921875 -2.109375 L 0.921875 0 L 3.078125 0 Z M 3.078125 -2.109375 \"/>\n",
       "</symbol>\n",
       "<symbol overflow=\"visible\" id=\"glyph2-8\">\n",
       "<path style=\"stroke:none;\" d=\"M 7.375 -1.796875 L 3.046875 -1.796875 C 3.3125 -2.34375 3.625 -2.640625 5.125 -3.734375 C 6.90625 -5.03125 7.421875 -5.8125 7.421875 -7.1875 C 7.421875 -9.15625 6.0625 -10.4375 3.921875 -10.4375 C 1.796875 -10.4375 0.5625 -9.171875 0.5625 -7.015625 C 0.5625 -6.921875 0.5625 -6.8125 0.578125 -6.65625 L 2.5 -6.65625 L 2.5 -6.984375 C 2.5 -8.125 3.046875 -8.78125 3.96875 -8.78125 C 4.859375 -8.78125 5.40625 -8.171875 5.40625 -7.140625 C 5.40625 -6.015625 5.046875 -5.578125 2.796875 -3.96875 C 1.0625 -2.796875 0.53125 -1.890625 0.4375 0 L 7.375 0 Z M 7.375 -1.796875 \"/>\n",
       "</symbol>\n",
       "<symbol overflow=\"visible\" id=\"glyph2-9\">\n",
       "<path style=\"stroke:none;\" d=\"M 3.125 -4.5625 C 3.828125 -4.5625 3.96875 -4.546875 4.3125 -4.46875 C 4.984375 -4.28125 5.421875 -3.6875 5.421875 -2.9375 C 5.421875 -2.046875 4.78125 -1.390625 3.90625 -1.390625 C 2.953125 -1.390625 2.4375 -1.9375 2.375 -3 L 0.421875 -3 C 0.4375 -0.953125 1.765625 0.328125 3.859375 0.328125 C 6.03125 0.328125 7.4375 -0.953125 7.4375 -2.9375 C 7.4375 -4.140625 6.921875 -4.90625 5.765625 -5.46875 C 6.71875 -6.0625 7.109375 -6.71875 7.109375 -7.65625 C 7.109375 -9.34375 5.828125 -10.4375 3.859375 -10.4375 C 2.6875 -10.4375 1.71875 -10.03125 1.140625 -9.28125 C 0.734375 -8.765625 0.546875 -8.078125 0.546875 -7.171875 L 0.546875 -7 L 2.421875 -7 C 2.4375 -7.546875 2.484375 -7.828125 2.578125 -8.078125 C 2.765625 -8.53125 3.234375 -8.796875 3.8125 -8.796875 C 4.625 -8.796875 5.078125 -8.3125 5.078125 -7.46875 C 5.078125 -6.4375 4.5 -5.921875 3.296875 -5.921875 L 3.125 -5.921875 Z M 3.125 -4.5625 \"/>\n",
       "</symbol>\n",
       "<symbol overflow=\"visible\" id=\"glyph2-10\">\n",
       "<path style=\"stroke:none;\" d=\"M 3.25 -3.75 L 5.953125 -3.75 C 7.875 -3.75 9.125 -5.109375 9.125 -7.25 C 9.125 -9.34375 7.921875 -10.5 5.734375 -10.5 L 1.09375 -10.5 L 1.09375 0 L 3.25 0 Z M 3.25 -5.546875 L 3.25 -8.703125 L 5.265625 -8.703125 C 6.421875 -8.703125 6.953125 -8.203125 6.953125 -7.109375 C 6.953125 -6.046875 6.421875 -5.546875 5.265625 -5.546875 Z M 3.25 -5.546875 \"/>\n",
       "</symbol>\n",
       "<symbol overflow=\"visible\" id=\"glyph2-11\">\n",
       "<path style=\"stroke:none;\" d=\"M 7.546875 -0.25 C 7.1875 -0.578125 7.09375 -0.796875 7.09375 -1.203125 L 7.09375 -5.515625 C 7.09375 -7.109375 6 -7.90625 3.90625 -7.90625 C 1.796875 -7.90625 0.703125 -7.015625 0.578125 -5.21875 L 2.515625 -5.21875 C 2.625 -6.015625 2.953125 -6.28125 3.953125 -6.28125 C 4.71875 -6.28125 5.109375 -6.015625 5.109375 -5.5 C 5.109375 -5.25 4.984375 -5.015625 4.765625 -4.890625 C 4.5 -4.75 4.5 -4.75 3.5 -4.59375 L 2.6875 -4.453125 C 1.15625 -4.1875 0.40625 -3.40625 0.40625 -2 C 0.40625 -1.34375 0.59375 -0.796875 0.953125 -0.40625 C 1.390625 0.0625 2.078125 0.328125 2.765625 0.328125 C 3.625 0.328125 4.421875 -0.046875 5.125 -0.78125 C 5.125 -0.375 5.171875 -0.234375 5.359375 0 L 7.546875 0 Z M 5.109375 -3.125 C 5.109375 -1.953125 4.53125 -1.296875 3.515625 -1.296875 C 2.84375 -1.296875 2.421875 -1.65625 2.421875 -2.234375 C 2.421875 -2.84375 2.734375 -3.125 3.578125 -3.296875 L 4.265625 -3.421875 C 4.796875 -3.53125 4.890625 -3.5625 5.109375 -3.671875 Z M 5.109375 -3.125 \"/>\n",
       "</symbol>\n",
       "<symbol overflow=\"visible\" id=\"glyph2-12\">\n",
       "<path style=\"stroke:none;\" d=\"M 7.515625 -4.875 C 7.375 -6.765625 6.109375 -7.90625 4.15625 -7.90625 C 1.84375 -7.90625 0.484375 -6.375 0.484375 -3.734375 C 0.484375 -1.171875 1.828125 0.328125 4.140625 0.328125 C 6.015625 0.328125 7.328125 -0.828125 7.515625 -2.6875 L 5.59375 -2.6875 C 5.328125 -1.6875 4.921875 -1.296875 4.15625 -1.296875 C 3.125 -1.296875 2.5 -2.21875 2.5 -3.734375 C 2.5 -4.46875 2.65625 -5.15625 2.890625 -5.625 C 3.125 -6.046875 3.578125 -6.28125 4.15625 -6.28125 C 4.96875 -6.28125 5.359375 -5.890625 5.59375 -4.875 Z M 7.515625 -4.875 \"/>\n",
       "</symbol>\n",
       "<symbol overflow=\"visible\" id=\"glyph2-13\">\n",
       "<path style=\"stroke:none;\" d=\"M 2.859375 -4.75 L 2.859375 -10.5 L 0.84375 -10.5 L 0.84375 0 L 2.859375 0 L 2.859375 -2.546875 L 3.671875 -3.421875 L 5.53125 0 L 7.890625 0 L 5.0625 -4.84375 L 7.703125 -7.78125 L 5.421875 -7.78125 Z M 2.859375 -4.75 \"/>\n",
       "</symbol>\n",
       "<symbol overflow=\"visible\" id=\"glyph2-14\">\n",
       "<path style=\"stroke:none;\" d=\"M 7.546875 -3.25 C 7.5625 -3.421875 7.5625 -3.5 7.5625 -3.59375 C 7.5625 -4.375 7.453125 -5.09375 7.265625 -5.640625 C 6.734375 -7.0625 5.484375 -7.90625 3.921875 -7.90625 C 1.6875 -7.90625 0.3125 -6.296875 0.3125 -3.6875 C 0.3125 -1.203125 1.671875 0.328125 3.875 0.328125 C 5.625 0.328125 7.03125 -0.65625 7.484375 -2.1875 L 5.484375 -2.1875 C 5.25 -1.5625 4.6875 -1.203125 3.953125 -1.203125 C 3.375 -1.203125 2.90625 -1.453125 2.625 -1.890625 C 2.4375 -2.171875 2.359375 -2.515625 2.328125 -3.25 Z M 2.359375 -4.59375 C 2.5 -5.78125 3 -6.375 3.890625 -6.375 C 4.390625 -6.375 4.859375 -6.125 5.140625 -5.71875 C 5.328125 -5.4375 5.421875 -5.125 5.453125 -4.59375 Z M 2.359375 -4.59375 \"/>\n",
       "</symbol>\n",
       "<symbol overflow=\"visible\" id=\"glyph2-15\">\n",
       "<path style=\"stroke:none;\" d=\"M 4.34375 -7.625 L 3.21875 -7.625 L 3.21875 -9.703125 L 1.203125 -9.703125 L 1.203125 -7.625 L 0.203125 -7.625 L 0.203125 -6.28125 L 1.203125 -6.28125 L 1.203125 -1.5 C 1.203125 -0.28125 1.84375 0.328125 3.171875 0.328125 C 3.609375 0.328125 3.96875 0.28125 4.34375 0.171875 L 4.34375 -1.234375 C 4.140625 -1.203125 4.015625 -1.203125 3.875 -1.203125 C 3.34375 -1.203125 3.21875 -1.359375 3.21875 -2.046875 L 3.21875 -6.28125 L 4.34375 -6.28125 Z M 4.34375 -7.625 \"/>\n",
       "</symbol>\n",
       "<symbol overflow=\"visible\" id=\"glyph2-16\">\n",
       "<path style=\"stroke:none;\" d=\"M 8.75 -7.296875 C 8.75 -8.265625 8.53125 -8.90625 8.015625 -9.484375 C 7.296875 -10.25 6.140625 -10.671875 4.625 -10.671875 C 2.109375 -10.671875 0.640625 -9.5 0.640625 -7.453125 C 0.640625 -5.8125 1.46875 -5.03125 3.59375 -4.625 L 5.078125 -4.34375 C 6.515625 -4.0625 7.046875 -3.65625 7.046875 -2.8125 C 7.046875 -1.9375 6.234375 -1.390625 4.921875 -1.390625 C 3.453125 -1.390625 2.640625 -2.015625 2.5625 -3.140625 L 0.46875 -3.140625 C 0.59375 -0.890625 2.125 0.328125 4.8125 0.328125 C 7.515625 0.328125 9.125 -0.9375 9.125 -3.0625 C 9.125 -4.71875 8.28125 -5.59375 6.34375 -5.96875 L 4.703125 -6.28125 C 3.15625 -6.578125 2.703125 -6.890625 2.703125 -7.65625 C 2.703125 -8.4375 3.421875 -8.953125 4.53125 -8.953125 C 5.890625 -8.953125 6.65625 -8.375 6.734375 -7.296875 Z M 8.75 -7.296875 \"/>\n",
       "</symbol>\n",
       "<symbol overflow=\"visible\" id=\"glyph2-17\">\n",
       "<path style=\"stroke:none;\" d=\"M 2.984375 -7.78125 L 0.96875 -7.78125 L 0.96875 0 L 2.984375 0 Z M 2.984375 -10.5 L 0.96875 -10.5 L 0.96875 -8.703125 L 2.984375 -8.703125 Z M 2.984375 -10.5 \"/>\n",
       "</symbol>\n",
       "<symbol overflow=\"visible\" id=\"glyph2-18\">\n",
       "<path style=\"stroke:none;\" d=\"M 6.609375 -7.78125 L 0.5625 -7.78125 L 0.5625 -6.15625 L 4.15625 -6.15625 L 0.296875 -1.625 L 0.296875 0 L 6.734375 0 L 6.734375 -1.625 L 2.796875 -1.625 L 6.609375 -6.15625 Z M 6.609375 -7.78125 \"/>\n",
       "</symbol>\n",
       "<symbol overflow=\"visible\" id=\"glyph2-19\">\n",
       "<path style=\"stroke:none;\" d=\"M 5.046875 0 L 7.71875 -7.78125 L 5.59375 -7.78125 L 4.015625 -2.09375 L 2.328125 -7.78125 L 0.203125 -7.78125 L 2.921875 0 Z M 5.046875 0 \"/>\n",
       "</symbol>\n",
       "<symbol overflow=\"visible\" id=\"glyph2-20\">\n",
       "<path style=\"stroke:none;\" d=\"M 7.28125 -5.265625 C 7.25 -6.921875 5.984375 -7.90625 3.890625 -7.90625 C 1.921875 -7.90625 0.6875 -6.921875 0.6875 -5.3125 C 0.6875 -4.796875 0.84375 -4.34375 1.125 -4.046875 C 1.390625 -3.78125 1.640625 -3.640625 2.390625 -3.40625 L 4.796875 -2.65625 C 5.296875 -2.5 5.46875 -2.328125 5.46875 -2.015625 C 5.46875 -1.546875 4.90625 -1.25 3.96875 -1.25 C 3.453125 -1.25 3.046875 -1.359375 2.78125 -1.53125 C 2.5625 -1.6875 2.484375 -1.84375 2.390625 -2.265625 L 0.421875 -2.265625 C 0.46875 -0.5625 1.734375 0.328125 4.09375 0.328125 C 5.171875 0.328125 6 0.09375 6.5625 -0.359375 C 7.140625 -0.828125 7.484375 -1.546875 7.484375 -2.3125 C 7.484375 -3.3125 6.984375 -3.96875 5.96875 -4.265625 L 3.421875 -5 C 2.859375 -5.171875 2.703125 -5.28125 2.703125 -5.609375 C 2.703125 -6.03125 3.171875 -6.328125 3.875 -6.328125 C 4.84375 -6.328125 5.3125 -5.984375 5.328125 -5.265625 Z M 7.28125 -5.265625 \"/>\n",
       "</symbol>\n",
       "<symbol overflow=\"visible\" id=\"glyph2-21\">\n",
       "<path style=\"stroke:none;\" d=\"M 5.546875 -8.703125 L 8.609375 -8.703125 L 8.609375 -10.5 L 0.203125 -10.5 L 0.203125 -8.703125 L 3.390625 -8.703125 L 3.390625 0 L 5.546875 0 Z M 5.546875 -8.703125 \"/>\n",
       "</symbol>\n",
       "<symbol overflow=\"visible\" id=\"glyph2-22\">\n",
       "<path style=\"stroke:none;\" d=\"M 0.859375 -7.78125 L 0.859375 0 L 2.875 0 L 2.875 -4.671875 C 2.875 -5.625 3.40625 -6.1875 4.265625 -6.1875 C 4.9375 -6.1875 5.359375 -5.8125 5.359375 -5.1875 L 5.359375 0 L 7.375 0 L 7.375 -4.671875 C 7.375 -5.625 7.890625 -6.1875 8.765625 -6.1875 C 9.4375 -6.1875 9.859375 -5.8125 9.859375 -5.1875 L 9.859375 0 L 11.875 0 L 11.875 -5.5 C 11.875 -7.015625 10.953125 -7.90625 9.390625 -7.90625 C 8.40625 -7.90625 7.71875 -7.5625 7.109375 -6.75 C 6.734375 -7.484375 5.96875 -7.90625 5 -7.90625 C 4.109375 -7.90625 3.53125 -7.609375 2.859375 -6.8125 L 2.859375 -7.78125 Z M 0.859375 -7.78125 \"/>\n",
       "</symbol>\n",
       "<symbol overflow=\"visible\" id=\"glyph2-23\">\n",
       "<path style=\"stroke:none;\" d=\"M 4.515625 -7.625 L 3.3125 -7.625 L 3.3125 -8.390625 C 3.3125 -8.78125 3.484375 -8.984375 3.859375 -8.984375 C 4.03125 -8.984375 4.265625 -8.96875 4.4375 -8.953125 L 4.4375 -10.453125 C 4.0625 -10.484375 3.5625 -10.5 3.28125 -10.5 C 1.9375 -10.5 1.296875 -9.875 1.296875 -8.5625 L 1.296875 -7.625 L 0.203125 -7.625 L 0.203125 -6.28125 L 1.296875 -6.28125 L 1.296875 0 L 3.3125 0 L 3.3125 -6.28125 L 4.515625 -6.28125 Z M 4.515625 -7.625 \"/>\n",
       "</symbol>\n",
       "<symbol overflow=\"visible\" id=\"glyph2-24\">\n",
       "<path style=\"stroke:none;\" d=\"M 4.34375 -7.90625 C 1.953125 -7.90625 0.5 -6.34375 0.5 -3.78125 C 0.5 -1.21875 1.953125 0.328125 4.34375 0.328125 C 6.71875 0.328125 8.203125 -1.234375 8.203125 -3.734375 C 8.203125 -6.375 6.765625 -7.90625 4.34375 -7.90625 Z M 4.34375 -6.28125 C 5.453125 -6.28125 6.1875 -5.28125 6.1875 -3.765625 C 6.1875 -2.3125 5.4375 -1.296875 4.34375 -1.296875 C 3.25 -1.296875 2.515625 -2.3125 2.515625 -3.78125 C 2.515625 -5.265625 3.25 -6.28125 4.34375 -6.28125 Z M 4.34375 -6.28125 \"/>\n",
       "</symbol>\n",
       "<symbol overflow=\"visible\" id=\"glyph2-25\">\n",
       "<path style=\"stroke:none;\" d=\"M 0.90625 -7.78125 L 0.90625 0 L 2.921875 0 L 2.921875 -4.140625 C 2.921875 -5.3125 3.515625 -5.90625 4.703125 -5.90625 C 4.90625 -5.90625 5.0625 -5.890625 5.328125 -5.84375 L 5.328125 -7.890625 C 5.21875 -7.90625 5.140625 -7.90625 5.078125 -7.90625 C 4.15625 -7.90625 3.359375 -7.296875 2.921875 -6.25 L 2.921875 -7.78125 Z M 0.90625 -7.78125 \"/>\n",
       "</symbol>\n",
       "<symbol overflow=\"visible\" id=\"glyph2-26\">\n",
       "<path style=\"stroke:none;\" d=\"M 7.046875 -10.21875 L 1.578125 -10.21875 L 0.671875 -4.53125 L 2.5 -4.53125 C 2.703125 -5.03125 3.171875 -5.296875 3.78125 -5.296875 C 4.8125 -5.296875 5.4375 -4.5625 5.4375 -3.328125 C 5.4375 -2.125 4.796875 -1.390625 3.78125 -1.390625 C 2.90625 -1.390625 2.421875 -1.84375 2.375 -2.671875 L 0.390625 -2.671875 C 0.421875 -0.875 1.765625 0.328125 3.765625 0.328125 C 5.953125 0.328125 7.453125 -1.171875 7.453125 -3.375 C 7.453125 -5.453125 6.15625 -6.90625 4.265625 -6.90625 C 3.59375 -6.90625 3.078125 -6.734375 2.5 -6.28125 L 2.828125 -8.40625 L 7.046875 -8.40625 Z M 7.046875 -10.21875 \"/>\n",
       "</symbol>\n",
       "<symbol overflow=\"visible\" id=\"glyph2-27\">\n",
       "<path style=\"stroke:none;\" d=\"M 7.515625 -3.9375 L 6.453125 -3.9375 L 6.453125 -10.21875 L 4.078125 -10.21875 L 0.34375 -3.96875 L 0.34375 -2.265625 L 4.4375 -2.265625 L 4.4375 0 L 6.453125 0 L 6.453125 -2.265625 L 7.515625 -2.265625 Z M 4.4375 -3.9375 L 1.765625 -3.9375 L 4.4375 -8.296875 Z M 4.4375 -3.9375 \"/>\n",
       "</symbol>\n",
       "<symbol overflow=\"visible\" id=\"glyph2-28\">\n",
       "<path style=\"stroke:none;\" d=\"M 3.109375 -8.1875 L 5 0 L 7.15625 0 L 9.015625 -8.1875 L 9.015625 0 L 11.171875 0 L 11.171875 -10.5 L 7.921875 -10.5 L 6.078125 -2.140625 L 4.171875 -10.5 L 0.953125 -10.5 L 0.953125 0 L 3.109375 0 Z M 3.109375 -8.1875 \"/>\n",
       "</symbol>\n",
       "<symbol overflow=\"visible\" id=\"glyph2-29\">\n",
       "<path style=\"stroke:none;\" d=\"M 1.1875 0 L 5.90625 0 C 7.109375 0 7.921875 -0.234375 8.5625 -0.765625 C 9.1875 -1.296875 9.59375 -2.1875 9.59375 -3.03125 C 9.59375 -4.0625 9.03125 -4.890625 7.84375 -5.578125 C 8.890625 -6.234375 9.296875 -6.84375 9.296875 -7.734375 C 9.296875 -8.453125 8.9375 -9.21875 8.34375 -9.734375 C 7.71875 -10.265625 6.984375 -10.5 5.859375 -10.5 L 1.1875 -10.5 Z M 3.34375 -8.703125 L 5.6875 -8.703125 C 6.6875 -8.703125 7.21875 -8.28125 7.21875 -7.5 C 7.21875 -6.734375 6.6875 -6.328125 5.6875 -6.328125 L 3.34375 -6.328125 Z M 3.34375 -4.53125 L 5.921875 -4.53125 C 6.96875 -4.53125 7.515625 -4.046875 7.515625 -3.15625 C 7.515625 -2.28125 6.96875 -1.796875 5.921875 -1.796875 L 3.34375 -1.796875 Z M 3.34375 -4.53125 \"/>\n",
       "</symbol>\n",
       "<symbol overflow=\"visible\" id=\"glyph2-30\">\n",
       "<path style=\"stroke:none;\" d=\"M 7.359375 0 L 9.515625 0 L 9.515625 -10.5 L 7.359375 -10.5 L 7.359375 -3.359375 L 3.203125 -10.5 L 0.984375 -10.5 L 0.984375 0 L 3.140625 0 L 3.140625 -7.265625 Z M 7.359375 0 \"/>\n",
       "</symbol>\n",
       "<symbol overflow=\"visible\" id=\"glyph2-31\">\n",
       "<path style=\"stroke:none;\" d=\"M 8.828125 0 L 11.03125 -7.78125 L 8.953125 -7.78125 L 7.765625 -2.328125 L 6.59375 -7.78125 L 4.578125 -7.78125 L 3.40625 -2.328125 L 2.15625 -7.78125 L 0.078125 -7.78125 L 2.265625 0 L 4.34375 0 L 5.578125 -5.484375 L 6.734375 0 Z M 8.828125 0 \"/>\n",
       "</symbol>\n",
       "</g>\n",
       "<clipPath id=\"clip1\">\n",
       "  <path d=\"M 59.039062 68 L 474.757812 68 L 474.757812 427 L 59.039062 427 Z M 59.039062 68 \"/>\n",
       "</clipPath>\n",
       "</defs>\n",
       "<g id=\"surface242\">\n",
       "<rect x=\"0\" y=\"0\" width=\"504\" height=\"504\" style=\"fill:rgb(100%,100%,100%);fill-opacity:1;stroke:none;\"/>\n",
       "<path style=\"fill:none;stroke-width:0.75;stroke-linecap:round;stroke-linejoin:round;stroke:rgb(0%,0%,0%);stroke-opacity:1;stroke-miterlimit:10;\" d=\"M 77.101562 414.210938 C 77.101562 417.808594 71.699219 417.808594 71.699219 414.210938 C 71.699219 410.609375 77.101562 410.609375 77.101562 414.210938 \"/>\n",
       "<path style=\"fill:none;stroke-width:0.75;stroke-linecap:round;stroke-linejoin:round;stroke:rgb(0%,0%,0%);stroke-opacity:1;stroke-miterlimit:10;\" d=\"M 77.101562 415.742188 C 77.101562 419.339844 71.699219 419.339844 71.699219 415.742188 C 71.699219 412.140625 77.101562 412.140625 77.101562 415.742188 \"/>\n",
       "<path style=\"fill:none;stroke-width:0.75;stroke-linecap:round;stroke-linejoin:round;stroke:rgb(0%,0%,0%);stroke-opacity:1;stroke-miterlimit:10;\" d=\"M 77.101562 416.800781 C 77.101562 420.398438 71.699219 420.398438 71.699219 416.800781 C 71.699219 413.199219 77.101562 413.199219 77.101562 416.800781 \"/>\n",
       "<path style=\"fill:none;stroke-width:0.75;stroke-linecap:round;stroke-linejoin:round;stroke:rgb(0%,0%,0%);stroke-opacity:1;stroke-miterlimit:10;\" d=\"M 77.101562 413.609375 C 77.101562 417.207031 71.699219 417.207031 71.699219 413.609375 C 71.699219 410.007812 77.101562 410.007812 77.101562 413.609375 \"/>\n",
       "<path style=\"fill:none;stroke-width:0.75;stroke-linecap:round;stroke-linejoin:round;stroke:rgb(0%,0%,0%);stroke-opacity:1;stroke-miterlimit:10;\" d=\"M 112.007812 379.464844 C 112.007812 383.066406 106.609375 383.066406 106.609375 379.464844 C 106.609375 375.867188 112.007812 375.867188 112.007812 379.464844 \"/>\n",
       "<path style=\"fill:none;stroke-width:0.75;stroke-linecap:round;stroke-linejoin:round;stroke:rgb(0%,0%,0%);stroke-opacity:1;stroke-miterlimit:10;\" d=\"M 112.007812 381.066406 C 112.007812 384.664062 106.609375 384.664062 106.609375 381.066406 C 106.609375 377.464844 112.007812 377.464844 112.007812 381.066406 \"/>\n",
       "<path style=\"fill:none;stroke-width:0.75;stroke-linecap:round;stroke-linejoin:round;stroke:rgb(0%,0%,0%);stroke-opacity:1;stroke-miterlimit:10;\" d=\"M 112.007812 377.257812 C 112.007812 380.855469 106.609375 380.855469 106.609375 377.257812 C 106.609375 373.65625 112.007812 373.65625 112.007812 377.257812 \"/>\n",
       "<path style=\"fill:none;stroke-width:0.75;stroke-linecap:round;stroke-linejoin:round;stroke:rgb(0%,0%,0%);stroke-opacity:1;stroke-miterlimit:10;\" d=\"M 112.007812 381.472656 C 112.007812 385.070312 106.609375 385.070312 106.609375 381.472656 C 106.609375 377.871094 112.007812 377.871094 112.007812 381.472656 \"/>\n",
       "<path style=\"fill:none;stroke-width:0.75;stroke-linecap:round;stroke-linejoin:round;stroke:rgb(0%,0%,0%);stroke-opacity:1;stroke-miterlimit:10;\" d=\"M 146.917969 355.925781 C 146.917969 359.527344 141.519531 359.527344 141.519531 355.925781 C 141.519531 352.328125 146.917969 352.328125 146.917969 355.925781 \"/>\n",
       "<path style=\"fill:none;stroke-width:0.75;stroke-linecap:round;stroke-linejoin:round;stroke:rgb(0%,0%,0%);stroke-opacity:1;stroke-miterlimit:10;\" d=\"M 146.917969 340.613281 C 146.917969 344.214844 141.519531 344.214844 141.519531 340.613281 C 141.519531 337.015625 146.917969 337.015625 146.917969 340.613281 \"/>\n",
       "<path style=\"fill:none;stroke-width:0.75;stroke-linecap:round;stroke-linejoin:round;stroke:rgb(0%,0%,0%);stroke-opacity:1;stroke-miterlimit:10;\" d=\"M 146.917969 347.429688 C 146.917969 351.027344 141.519531 351.027344 141.519531 347.429688 C 141.519531 343.828125 146.917969 343.828125 146.917969 347.429688 \"/>\n",
       "<path style=\"fill:none;stroke-width:0.75;stroke-linecap:round;stroke-linejoin:round;stroke:rgb(0%,0%,0%);stroke-opacity:1;stroke-miterlimit:10;\" d=\"M 146.917969 343.074219 C 146.917969 346.675781 141.519531 346.675781 141.519531 343.074219 C 141.519531 339.476562 146.917969 339.476562 146.917969 343.074219 \"/>\n",
       "<path style=\"fill:none;stroke-width:0.75;stroke-linecap:round;stroke-linejoin:round;stroke:rgb(0%,0%,0%);stroke-opacity:1;stroke-miterlimit:10;\" d=\"M 181.828125 315.140625 C 181.828125 318.742188 176.425781 318.742188 176.425781 315.140625 C 176.425781 311.539062 181.828125 311.539062 181.828125 315.140625 \"/>\n",
       "<path style=\"fill:none;stroke-width:0.75;stroke-linecap:round;stroke-linejoin:round;stroke:rgb(0%,0%,0%);stroke-opacity:1;stroke-miterlimit:10;\" d=\"M 181.828125 308.175781 C 181.828125 311.777344 176.425781 311.777344 176.425781 308.175781 C 176.425781 304.578125 181.828125 304.578125 181.828125 308.175781 \"/>\n",
       "<path style=\"fill:none;stroke-width:0.75;stroke-linecap:round;stroke-linejoin:round;stroke:rgb(0%,0%,0%);stroke-opacity:1;stroke-miterlimit:10;\" d=\"M 181.828125 313.828125 C 181.828125 317.429688 176.425781 317.429688 176.425781 313.828125 C 176.425781 310.226562 181.828125 310.226562 181.828125 313.828125 \"/>\n",
       "<path style=\"fill:none;stroke-width:0.75;stroke-linecap:round;stroke-linejoin:round;stroke:rgb(0%,0%,0%);stroke-opacity:1;stroke-miterlimit:10;\" d=\"M 181.828125 319.339844 C 181.828125 322.9375 176.425781 322.9375 176.425781 319.339844 C 176.425781 315.738281 181.828125 315.738281 181.828125 319.339844 \"/>\n",
       "<path style=\"fill:none;stroke-width:0.75;stroke-linecap:round;stroke-linejoin:round;stroke:rgb(0%,0%,0%);stroke-opacity:1;stroke-miterlimit:10;\" d=\"M 216.738281 299.996094 C 216.738281 303.597656 211.335938 303.597656 211.335938 299.996094 C 211.335938 296.394531 216.738281 296.394531 216.738281 299.996094 \"/>\n",
       "<path style=\"fill:none;stroke-width:0.75;stroke-linecap:round;stroke-linejoin:round;stroke:rgb(0%,0%,0%);stroke-opacity:1;stroke-miterlimit:10;\" d=\"M 216.738281 307.421875 C 216.738281 311.019531 211.335938 311.019531 211.335938 307.421875 C 211.335938 303.820312 216.738281 303.820312 216.738281 307.421875 \"/>\n",
       "<path style=\"fill:none;stroke-width:0.75;stroke-linecap:round;stroke-linejoin:round;stroke:rgb(0%,0%,0%);stroke-opacity:1;stroke-miterlimit:10;\" d=\"M 216.738281 300.550781 C 216.738281 304.148438 211.335938 304.148438 211.335938 300.550781 C 211.335938 296.949219 216.738281 296.949219 216.738281 300.550781 \"/>\n",
       "<path style=\"fill:none;stroke-width:0.75;stroke-linecap:round;stroke-linejoin:round;stroke:rgb(0%,0%,0%);stroke-opacity:1;stroke-miterlimit:10;\" d=\"M 216.738281 300.285156 C 216.738281 303.882812 211.335938 303.882812 211.335938 300.285156 C 211.335938 296.683594 216.738281 296.683594 216.738281 300.285156 \"/>\n",
       "<path style=\"fill:none;stroke-width:0.75;stroke-linecap:round;stroke-linejoin:round;stroke:rgb(0%,0%,0%);stroke-opacity:1;stroke-miterlimit:10;\" d=\"M 251.644531 277.511719 C 251.644531 281.113281 246.246094 281.113281 246.246094 277.511719 C 246.246094 273.914062 251.644531 273.914062 251.644531 277.511719 \"/>\n",
       "<path style=\"fill:none;stroke-width:0.75;stroke-linecap:round;stroke-linejoin:round;stroke:rgb(0%,0%,0%);stroke-opacity:1;stroke-miterlimit:10;\" d=\"M 251.644531 271.410156 C 251.644531 275.011719 246.246094 275.011719 246.246094 271.410156 C 246.246094 267.8125 251.644531 267.8125 251.644531 271.410156 \"/>\n",
       "<path style=\"fill:none;stroke-width:0.75;stroke-linecap:round;stroke-linejoin:round;stroke:rgb(0%,0%,0%);stroke-opacity:1;stroke-miterlimit:10;\" d=\"M 251.644531 268.476562 C 251.644531 272.078125 246.246094 272.078125 246.246094 268.476562 C 246.246094 264.875 251.644531 264.875 251.644531 268.476562 \"/>\n",
       "<path style=\"fill:none;stroke-width:0.75;stroke-linecap:round;stroke-linejoin:round;stroke:rgb(0%,0%,0%);stroke-opacity:1;stroke-miterlimit:10;\" d=\"M 251.644531 279.285156 C 251.644531 282.886719 246.246094 282.886719 246.246094 279.285156 C 246.246094 275.6875 251.644531 275.6875 251.644531 279.285156 \"/>\n",
       "<path style=\"fill:none;stroke-width:0.75;stroke-linecap:round;stroke-linejoin:round;stroke:rgb(0%,0%,0%);stroke-opacity:1;stroke-miterlimit:10;\" d=\"M 286.554688 239.105469 C 286.554688 242.707031 281.15625 242.707031 281.15625 239.105469 C 281.15625 235.507812 286.554688 235.507812 286.554688 239.105469 \"/>\n",
       "<path style=\"fill:none;stroke-width:0.75;stroke-linecap:round;stroke-linejoin:round;stroke:rgb(0%,0%,0%);stroke-opacity:1;stroke-miterlimit:10;\" d=\"M 286.554688 235.375 C 286.554688 238.976562 281.15625 238.976562 281.15625 235.375 C 281.15625 231.777344 286.554688 231.777344 286.554688 235.375 \"/>\n",
       "<path style=\"fill:none;stroke-width:0.75;stroke-linecap:round;stroke-linejoin:round;stroke:rgb(0%,0%,0%);stroke-opacity:1;stroke-miterlimit:10;\" d=\"M 286.554688 233.65625 C 286.554688 237.257812 281.15625 237.257812 281.15625 233.65625 C 281.15625 230.058594 286.554688 230.058594 286.554688 233.65625 \"/>\n",
       "<path style=\"fill:none;stroke-width:0.75;stroke-linecap:round;stroke-linejoin:round;stroke:rgb(0%,0%,0%);stroke-opacity:1;stroke-miterlimit:10;\" d=\"M 286.554688 230.113281 C 286.554688 233.714844 281.15625 233.714844 281.15625 230.113281 C 281.15625 226.515625 286.554688 226.515625 286.554688 230.113281 \"/>\n",
       "<path style=\"fill:none;stroke-width:0.75;stroke-linecap:round;stroke-linejoin:round;stroke:rgb(0%,0%,0%);stroke-opacity:1;stroke-miterlimit:10;\" d=\"M 321.464844 196.367188 C 321.464844 199.96875 316.0625 199.96875 316.0625 196.367188 C 316.0625 192.769531 321.464844 192.769531 321.464844 196.367188 \"/>\n",
       "<path style=\"fill:none;stroke-width:0.75;stroke-linecap:round;stroke-linejoin:round;stroke:rgb(0%,0%,0%);stroke-opacity:1;stroke-miterlimit:10;\" d=\"M 321.464844 204.589844 C 321.464844 208.1875 316.0625 208.1875 316.0625 204.589844 C 316.0625 200.988281 321.464844 200.988281 321.464844 204.589844 \"/>\n",
       "<path style=\"fill:none;stroke-width:0.75;stroke-linecap:round;stroke-linejoin:round;stroke:rgb(0%,0%,0%);stroke-opacity:1;stroke-miterlimit:10;\" d=\"M 321.464844 201.925781 C 321.464844 205.527344 316.0625 205.527344 316.0625 201.925781 C 316.0625 198.328125 321.464844 198.328125 321.464844 201.925781 \"/>\n",
       "<path style=\"fill:none;stroke-width:0.75;stroke-linecap:round;stroke-linejoin:round;stroke:rgb(0%,0%,0%);stroke-opacity:1;stroke-miterlimit:10;\" d=\"M 321.464844 195.652344 C 321.464844 199.253906 316.0625 199.253906 316.0625 195.652344 C 316.0625 192.050781 321.464844 192.050781 321.464844 195.652344 \"/>\n",
       "<path style=\"fill:none;stroke-width:0.75;stroke-linecap:round;stroke-linejoin:round;stroke:rgb(0%,0%,0%);stroke-opacity:1;stroke-miterlimit:10;\" d=\"M 356.371094 166.125 C 356.371094 169.722656 350.972656 169.722656 350.972656 166.125 C 350.972656 162.523438 356.371094 162.523438 356.371094 166.125 \"/>\n",
       "<path style=\"fill:none;stroke-width:0.75;stroke-linecap:round;stroke-linejoin:round;stroke:rgb(0%,0%,0%);stroke-opacity:1;stroke-miterlimit:10;\" d=\"M 356.371094 171.566406 C 356.371094 175.164062 350.972656 175.164062 350.972656 171.566406 C 350.972656 167.964844 356.371094 167.964844 356.371094 171.566406 \"/>\n",
       "<path style=\"fill:none;stroke-width:0.75;stroke-linecap:round;stroke-linejoin:round;stroke:rgb(0%,0%,0%);stroke-opacity:1;stroke-miterlimit:10;\" d=\"M 356.371094 172.390625 C 356.371094 175.992188 350.972656 175.992188 350.972656 172.390625 C 350.972656 168.792969 356.371094 168.792969 356.371094 172.390625 \"/>\n",
       "<path style=\"fill:none;stroke-width:0.75;stroke-linecap:round;stroke-linejoin:round;stroke:rgb(0%,0%,0%);stroke-opacity:1;stroke-miterlimit:10;\" d=\"M 356.371094 180.957031 C 356.371094 184.554688 350.972656 184.554688 350.972656 180.957031 C 350.972656 177.355469 356.371094 177.355469 356.371094 180.957031 \"/>\n",
       "<path style=\"fill:none;stroke-width:0.75;stroke-linecap:round;stroke-linejoin:round;stroke:rgb(0%,0%,0%);stroke-opacity:1;stroke-miterlimit:10;\" d=\"M 391.28125 148.289062 C 391.28125 151.890625 385.882812 151.890625 385.882812 148.289062 C 385.882812 144.691406 391.28125 144.691406 391.28125 148.289062 \"/>\n",
       "<path style=\"fill:none;stroke-width:0.75;stroke-linecap:round;stroke-linejoin:round;stroke:rgb(0%,0%,0%);stroke-opacity:1;stroke-miterlimit:10;\" d=\"M 391.28125 140.5625 C 391.28125 144.160156 385.882812 144.160156 385.882812 140.5625 C 385.882812 136.960938 391.28125 136.960938 391.28125 140.5625 \"/>\n",
       "<path style=\"fill:none;stroke-width:0.75;stroke-linecap:round;stroke-linejoin:round;stroke:rgb(0%,0%,0%);stroke-opacity:1;stroke-miterlimit:10;\" d=\"M 391.28125 139.011719 C 391.28125 142.613281 385.882812 142.613281 385.882812 139.011719 C 385.882812 135.414062 391.28125 135.414062 391.28125 139.011719 \"/>\n",
       "<path style=\"fill:none;stroke-width:0.75;stroke-linecap:round;stroke-linejoin:round;stroke:rgb(0%,0%,0%);stroke-opacity:1;stroke-miterlimit:10;\" d=\"M 391.28125 140.390625 C 391.28125 143.988281 385.882812 143.988281 385.882812 140.390625 C 385.882812 136.789062 391.28125 136.789062 391.28125 140.390625 \"/>\n",
       "<path style=\"fill:none;stroke-width:0.75;stroke-linecap:round;stroke-linejoin:round;stroke:rgb(0%,0%,0%);stroke-opacity:1;stroke-miterlimit:10;\" d=\"M 426.191406 106.832031 C 426.191406 110.433594 420.789062 110.433594 420.789062 106.832031 C 420.789062 103.234375 426.191406 103.234375 426.191406 106.832031 \"/>\n",
       "<path style=\"fill:none;stroke-width:0.75;stroke-linecap:round;stroke-linejoin:round;stroke:rgb(0%,0%,0%);stroke-opacity:1;stroke-miterlimit:10;\" d=\"M 426.191406 111.175781 C 426.191406 114.773438 420.789062 114.773438 420.789062 111.175781 C 420.789062 107.574219 426.191406 107.574219 426.191406 111.175781 \"/>\n",
       "<path style=\"fill:none;stroke-width:0.75;stroke-linecap:round;stroke-linejoin:round;stroke:rgb(0%,0%,0%);stroke-opacity:1;stroke-miterlimit:10;\" d=\"M 426.191406 114.921875 C 426.191406 118.523438 420.789062 118.523438 420.789062 114.921875 C 420.789062 111.324219 426.191406 111.324219 426.191406 114.921875 \"/>\n",
       "<path style=\"fill:none;stroke-width:0.75;stroke-linecap:round;stroke-linejoin:round;stroke:rgb(0%,0%,0%);stroke-opacity:1;stroke-miterlimit:10;\" d=\"M 426.191406 111.726562 C 426.191406 115.328125 420.789062 115.328125 420.789062 111.726562 C 420.789062 108.128906 426.191406 108.128906 426.191406 111.726562 \"/>\n",
       "<path style=\"fill:none;stroke-width:0.75;stroke-linecap:round;stroke-linejoin:round;stroke:rgb(0%,0%,0%);stroke-opacity:1;stroke-miterlimit:10;\" d=\"M 461.101562 78.574219 C 461.101562 82.175781 455.699219 82.175781 455.699219 78.574219 C 455.699219 74.976562 461.101562 74.976562 461.101562 78.574219 \"/>\n",
       "<path style=\"fill:none;stroke-width:0.75;stroke-linecap:round;stroke-linejoin:round;stroke:rgb(0%,0%,0%);stroke-opacity:1;stroke-miterlimit:10;\" d=\"M 461.101562 81.632812 C 461.101562 85.234375 455.699219 85.234375 455.699219 81.632812 C 455.699219 78.03125 461.101562 78.03125 461.101562 81.632812 \"/>\n",
       "<path style=\"fill:none;stroke-width:0.75;stroke-linecap:round;stroke-linejoin:round;stroke:rgb(0%,0%,0%);stroke-opacity:1;stroke-miterlimit:10;\" d=\"M 461.101562 79.210938 C 461.101562 82.8125 455.699219 82.8125 455.699219 79.210938 C 455.699219 75.613281 461.101562 75.613281 461.101562 79.210938 \"/>\n",
       "<path style=\"fill:none;stroke-width:0.75;stroke-linecap:round;stroke-linejoin:round;stroke:rgb(0%,0%,0%);stroke-opacity:1;stroke-miterlimit:10;\" d=\"M 461.101562 72.800781 C 461.101562 76.398438 455.699219 76.398438 455.699219 72.800781 C 455.699219 69.199219 461.101562 69.199219 461.101562 72.800781 \"/>\n",
       "<path style=\"fill:none;stroke-width:0.75;stroke-linecap:round;stroke-linejoin:round;stroke:rgb(0%,0%,0%);stroke-opacity:1;stroke-miterlimit:10;\" d=\"M 91.855469 430.558594 L 440.945312 430.558594 \"/>\n",
       "<path style=\"fill:none;stroke-width:0.75;stroke-linecap:round;stroke-linejoin:round;stroke:rgb(0%,0%,0%);stroke-opacity:1;stroke-miterlimit:10;\" d=\"M 91.855469 430.558594 L 91.855469 437.761719 \"/>\n",
       "<path style=\"fill:none;stroke-width:0.75;stroke-linecap:round;stroke-linejoin:round;stroke:rgb(0%,0%,0%);stroke-opacity:1;stroke-miterlimit:10;\" d=\"M 161.671875 430.558594 L 161.671875 437.761719 \"/>\n",
       "<path style=\"fill:none;stroke-width:0.75;stroke-linecap:round;stroke-linejoin:round;stroke:rgb(0%,0%,0%);stroke-opacity:1;stroke-miterlimit:10;\" d=\"M 231.492188 430.558594 L 231.492188 437.761719 \"/>\n",
       "<path style=\"fill:none;stroke-width:0.75;stroke-linecap:round;stroke-linejoin:round;stroke:rgb(0%,0%,0%);stroke-opacity:1;stroke-miterlimit:10;\" d=\"M 301.308594 430.558594 L 301.308594 437.761719 \"/>\n",
       "<path style=\"fill:none;stroke-width:0.75;stroke-linecap:round;stroke-linejoin:round;stroke:rgb(0%,0%,0%);stroke-opacity:1;stroke-miterlimit:10;\" d=\"M 371.128906 430.558594 L 371.128906 437.761719 \"/>\n",
       "<path style=\"fill:none;stroke-width:0.75;stroke-linecap:round;stroke-linejoin:round;stroke:rgb(0%,0%,0%);stroke-opacity:1;stroke-miterlimit:10;\" d=\"M 440.945312 430.558594 L 440.945312 437.761719 \"/>\n",
       "<g style=\"fill:rgb(0%,0%,0%);fill-opacity:1;\">\n",
       "  <use xlink:href=\"#glyph0-1\" x=\"81.355469\" y=\"455.916016\"/>\n",
       "  <use xlink:href=\"#glyph0-2\" x=\"88.027344\" y=\"455.916016\"/>\n",
       "  <use xlink:href=\"#glyph0-2\" x=\"94.699219\" y=\"455.916016\"/>\n",
       "</g>\n",
       "<g style=\"fill:rgb(0%,0%,0%);fill-opacity:1;\">\n",
       "  <use xlink:href=\"#glyph0-3\" x=\"151.171875\" y=\"455.916016\"/>\n",
       "  <use xlink:href=\"#glyph0-2\" x=\"157.84375\" y=\"455.916016\"/>\n",
       "  <use xlink:href=\"#glyph0-2\" x=\"164.515625\" y=\"455.916016\"/>\n",
       "</g>\n",
       "<g style=\"fill:rgb(0%,0%,0%);fill-opacity:1;\">\n",
       "  <use xlink:href=\"#glyph0-4\" x=\"220.992188\" y=\"455.916016\"/>\n",
       "  <use xlink:href=\"#glyph0-2\" x=\"227.664062\" y=\"455.916016\"/>\n",
       "  <use xlink:href=\"#glyph0-2\" x=\"234.335938\" y=\"455.916016\"/>\n",
       "</g>\n",
       "<g style=\"fill:rgb(0%,0%,0%);fill-opacity:1;\">\n",
       "  <use xlink:href=\"#glyph0-5\" x=\"287.808594\" y=\"455.916016\"/>\n",
       "  <use xlink:href=\"#glyph0-2\" x=\"294.480469\" y=\"455.916016\"/>\n",
       "  <use xlink:href=\"#glyph0-2\" x=\"301.152344\" y=\"455.916016\"/>\n",
       "  <use xlink:href=\"#glyph0-2\" x=\"307.824219\" y=\"455.916016\"/>\n",
       "</g>\n",
       "<g style=\"fill:rgb(0%,0%,0%);fill-opacity:1;\">\n",
       "  <use xlink:href=\"#glyph0-5\" x=\"357.628906\" y=\"455.916016\"/>\n",
       "  <use xlink:href=\"#glyph0-6\" x=\"364.300781\" y=\"455.916016\"/>\n",
       "  <use xlink:href=\"#glyph0-2\" x=\"370.972656\" y=\"455.916016\"/>\n",
       "  <use xlink:href=\"#glyph0-2\" x=\"377.644531\" y=\"455.916016\"/>\n",
       "</g>\n",
       "<g style=\"fill:rgb(0%,0%,0%);fill-opacity:1;\">\n",
       "  <use xlink:href=\"#glyph0-5\" x=\"427.445312\" y=\"455.916016\"/>\n",
       "  <use xlink:href=\"#glyph0-1\" x=\"434.117188\" y=\"455.916016\"/>\n",
       "  <use xlink:href=\"#glyph0-2\" x=\"440.789062\" y=\"455.916016\"/>\n",
       "  <use xlink:href=\"#glyph0-2\" x=\"447.460938\" y=\"455.916016\"/>\n",
       "</g>\n",
       "<path style=\"fill:none;stroke-width:0.75;stroke-linecap:round;stroke-linejoin:round;stroke:rgb(0%,0%,0%);stroke-opacity:1;stroke-miterlimit:10;\" d=\"M 59.039062 378.53125 L 59.039062 93.273438 \"/>\n",
       "<path style=\"fill:none;stroke-width:0.75;stroke-linecap:round;stroke-linejoin:round;stroke:rgb(0%,0%,0%);stroke-opacity:1;stroke-miterlimit:10;\" d=\"M 59.039062 378.53125 L 51.839844 378.53125 \"/>\n",
       "<path style=\"fill:none;stroke-width:0.75;stroke-linecap:round;stroke-linejoin:round;stroke:rgb(0%,0%,0%);stroke-opacity:1;stroke-miterlimit:10;\" d=\"M 59.039062 283.445312 L 51.839844 283.445312 \"/>\n",
       "<path style=\"fill:none;stroke-width:0.75;stroke-linecap:round;stroke-linejoin:round;stroke:rgb(0%,0%,0%);stroke-opacity:1;stroke-miterlimit:10;\" d=\"M 59.039062 188.359375 L 51.839844 188.359375 \"/>\n",
       "<path style=\"fill:none;stroke-width:0.75;stroke-linecap:round;stroke-linejoin:round;stroke:rgb(0%,0%,0%);stroke-opacity:1;stroke-miterlimit:10;\" d=\"M 59.039062 93.273438 L 51.839844 93.273438 \"/>\n",
       "<g style=\"fill:rgb(0%,0%,0%);fill-opacity:1;\">\n",
       "  <use xlink:href=\"#glyph1-1\" x=\"41.197266\" y=\"390.53125\"/>\n",
       "  <use xlink:href=\"#glyph1-2\" x=\"41.197266\" y=\"383.859375\"/>\n",
       "  <use xlink:href=\"#glyph1-3\" x=\"41.197266\" y=\"380.523438\"/>\n",
       "  <use xlink:href=\"#glyph1-1\" x=\"41.197266\" y=\"373.851562\"/>\n",
       "</g>\n",
       "<g style=\"fill:rgb(0%,0%,0%);fill-opacity:1;\">\n",
       "  <use xlink:href=\"#glyph1-1\" x=\"41.197266\" y=\"295.445312\"/>\n",
       "  <use xlink:href=\"#glyph1-2\" x=\"41.197266\" y=\"288.773438\"/>\n",
       "  <use xlink:href=\"#glyph1-3\" x=\"41.197266\" y=\"285.4375\"/>\n",
       "  <use xlink:href=\"#glyph1-4\" x=\"41.197266\" y=\"278.765625\"/>\n",
       "</g>\n",
       "<g style=\"fill:rgb(0%,0%,0%);fill-opacity:1;\">\n",
       "  <use xlink:href=\"#glyph1-1\" x=\"41.197266\" y=\"200.359375\"/>\n",
       "  <use xlink:href=\"#glyph1-2\" x=\"41.197266\" y=\"193.6875\"/>\n",
       "  <use xlink:href=\"#glyph1-5\" x=\"41.197266\" y=\"190.351562\"/>\n",
       "  <use xlink:href=\"#glyph1-1\" x=\"41.197266\" y=\"183.679688\"/>\n",
       "</g>\n",
       "<g style=\"fill:rgb(0%,0%,0%);fill-opacity:1;\">\n",
       "  <use xlink:href=\"#glyph1-1\" x=\"41.197266\" y=\"105.273438\"/>\n",
       "  <use xlink:href=\"#glyph1-2\" x=\"41.197266\" y=\"98.601562\"/>\n",
       "  <use xlink:href=\"#glyph1-5\" x=\"41.197266\" y=\"95.265625\"/>\n",
       "  <use xlink:href=\"#glyph1-4\" x=\"41.197266\" y=\"88.59375\"/>\n",
       "</g>\n",
       "<path style=\"fill:none;stroke-width:0.75;stroke-linecap:round;stroke-linejoin:round;stroke:rgb(0%,0%,0%);stroke-opacity:1;stroke-miterlimit:10;\" d=\"M 59.039062 430.558594 L 473.761719 430.558594 L 473.761719 59.039062 L 59.039062 59.039062 L 59.039062 430.558594 \"/>\n",
       "<g style=\"fill:rgb(0%,0%,0%);fill-opacity:1;\">\n",
       "  <use xlink:href=\"#glyph0-7\" x=\"263.398438\" y=\"484.716797\"/>\n",
       "</g>\n",
       "<g style=\"fill:rgb(0%,0%,0%);fill-opacity:1;\">\n",
       "  <use xlink:href=\"#glyph1-6\" x=\"12.396484\" y=\"247.800781\"/>\n",
       "</g>\n",
       "<g clip-path=\"url(#clip1)\" clip-rule=\"nonzero\">\n",
       "<path style=\"fill:none;stroke-width:0.75;stroke-linecap:round;stroke-linejoin:round;stroke:rgb(0%,0%,0%);stroke-opacity:1;stroke-miterlimit:10;\" d=\"M 59.039062 426.382812 L 473.761719 68.660156 \"/>\n",
       "</g>\n",
       "<path style=\"fill:none;stroke-width:0.75;stroke-linecap:round;stroke-linejoin:round;stroke:rgb(0%,0%,0%);stroke-opacity:1;stroke-miterlimit:10;\" d=\"M 74.398438 409.371094 L 78.238281 406.113281 L 82.078125 402.851562 L 85.921875 399.59375 L 89.761719 396.335938 L 93.601562 393.074219 L 97.441406 389.816406 L 120.480469 370.246094 L 124.320312 366.980469 L 128.160156 363.71875 L 147.359375 347.390625 L 166.558594 331.042969 L 178.078125 321.222656 L 181.921875 317.949219 L 193.441406 308.117188 L 204.960938 298.273438 L 212.640625 291.703125 L 224.160156 281.835938 L 235.679688 271.957031 L 239.519531 268.65625 L 243.359375 265.359375 L 247.199219 262.058594 L 254.878906 255.449219 L 262.558594 248.832031 L 274.078125 238.894531 L 277.921875 235.574219 L 281.761719 232.257812 L 285.601562 228.933594 L 289.441406 225.613281 L 293.28125 222.285156 L 297.121094 218.960938 L 300.960938 215.628906 L 304.800781 212.300781 L 308.640625 208.96875 L 320.160156 198.960938 L 327.839844 192.28125 L 343.199219 178.90625 L 350.878906 172.210938 L 358.558594 165.507812 L 362.398438 162.160156 L 366.238281 158.804688 L 370.078125 155.453125 L 373.921875 152.097656 L 385.441406 142.03125 L 389.28125 138.671875 L 393.121094 135.316406 L 404.640625 125.238281 L 408.480469 121.875 L 412.320312 118.515625 L 416.160156 115.152344 L 420 111.792969 L 435.359375 98.339844 L 439.199219 94.972656 L 446.878906 88.246094 L 454.558594 81.511719 L 458.398438 78.148438 \"/>\n",
       "<path style=\"fill:none;stroke-width:0.75;stroke-linecap:round;stroke-linejoin:round;stroke:rgb(0%,0%,0%);stroke-opacity:1;stroke-miterlimit:10;\" d=\"M 74.398438 416.898438 L 82.078125 410.164062 L 85.921875 406.800781 L 89.761719 403.433594 L 97.441406 396.707031 L 101.28125 393.339844 L 108.960938 386.613281 L 112.800781 383.253906 L 120.480469 376.527344 L 128.160156 369.808594 L 132 366.445312 L 135.839844 363.085938 L 139.679688 359.730469 L 147.359375 353.011719 L 162.71875 339.589844 L 178.078125 326.183594 L 181.921875 322.835938 L 185.761719 319.484375 L 189.601562 316.140625 L 193.441406 312.792969 L 204.960938 302.761719 L 212.640625 296.082031 L 220.320312 289.410156 L 224.160156 286.078125 L 228 282.742188 L 239.519531 272.757812 L 247.199219 266.109375 L 254.878906 259.46875 L 262.558594 252.835938 L 270.238281 246.210938 L 274.078125 242.902344 L 277.921875 239.59375 L 285.601562 232.984375 L 289.441406 229.683594 L 300.960938 219.792969 L 308.640625 213.207031 L 320.160156 203.339844 L 327.839844 196.769531 L 335.519531 190.207031 L 339.359375 186.929688 L 343.199219 183.648438 L 350.878906 177.09375 L 366.238281 164 L 370.078125 160.730469 L 373.921875 157.460938 L 381.601562 150.921875 L 385.441406 147.65625 L 389.28125 144.386719 L 404.640625 131.324219 L 408.480469 128.0625 L 412.320312 124.796875 L 435.359375 105.226562 L 439.199219 101.96875 L 443.039062 98.707031 L 450.71875 92.191406 L 454.558594 88.929688 L 458.398438 85.671875 \"/>\n",
       "<path style=\"fill:none;stroke-width:0.75;stroke-linecap:round;stroke-linejoin:round;stroke:rgb(0%,0%,0%);stroke-opacity:1;stroke-dasharray:0.75,2.25;stroke-miterlimit:10;\" d=\"M 74.398438 398.773438 L 78.238281 395.472656 L 82.078125 392.175781 L 85.921875 388.875 L 89.761719 385.578125 L 93.601562 382.277344 L 97.441406 378.980469 L 124.320312 355.875 L 128.160156 352.570312 L 135.839844 345.96875 L 139.679688 342.664062 L 143.519531 339.363281 L 151.199219 332.753906 L 155.039062 329.453125 L 178.078125 309.625 L 181.921875 306.316406 L 189.601562 299.707031 L 193.441406 296.398438 L 197.28125 293.09375 L 208.800781 283.167969 L 212.640625 279.863281 L 224.160156 269.9375 L 228 266.625 L 235.679688 260.007812 L 239.519531 256.695312 L 243.359375 253.386719 L 247.199219 250.074219 L 251.039062 246.765625 L 258.71875 240.140625 L 262.558594 236.832031 L 274.078125 226.894531 L 277.921875 223.582031 L 281.761719 220.265625 L 289.441406 213.640625 L 293.28125 210.324219 L 297.121094 207.011719 L 300.960938 203.695312 L 304.800781 200.382812 L 339.359375 170.535156 L 343.199219 167.214844 L 347.039062 163.898438 L 350.878906 160.578125 L 354.71875 157.261719 L 366.238281 147.300781 L 370.078125 143.984375 L 373.921875 140.664062 L 377.761719 137.34375 L 381.601562 134.019531 L 393.121094 124.058594 L 396.960938 120.734375 L 400.800781 117.414062 L 404.640625 114.089844 L 408.480469 110.769531 L 420 100.796875 L 423.839844 97.476562 L 435.359375 87.503906 L 439.199219 84.175781 L 446.878906 77.527344 L 450.71875 74.199219 L 454.558594 70.875 L 458.398438 67.546875 \"/>\n",
       "<path style=\"fill:none;stroke-width:0.75;stroke-linecap:round;stroke-linejoin:round;stroke:rgb(0%,0%,0%);stroke-opacity:1;stroke-dasharray:0.75,2.25;stroke-miterlimit:10;\" d=\"M 74.398438 427.496094 L 78.238281 424.167969 L 82.078125 420.84375 L 85.921875 417.515625 L 124.320312 384.273438 L 128.160156 380.953125 L 132 377.628906 L 135.839844 374.308594 L 139.679688 370.984375 L 178.078125 337.78125 L 181.921875 334.464844 L 185.761719 331.144531 L 193.441406 324.511719 L 197.28125 321.191406 L 228 294.660156 L 231.839844 291.347656 L 235.679688 288.03125 L 239.519531 284.71875 L 243.359375 281.402344 L 254.878906 271.464844 L 258.71875 268.148438 L 266.398438 261.523438 L 270.238281 258.214844 L 274.078125 254.902344 L 277.921875 251.589844 L 281.761719 248.277344 L 285.601562 244.96875 L 289.441406 241.65625 L 293.28125 238.347656 L 297.121094 235.035156 L 331.679688 205.257812 L 335.519531 201.953125 L 339.359375 198.644531 L 343.199219 195.339844 L 347.039062 192.03125 L 354.71875 185.421875 L 358.558594 182.113281 L 370.078125 172.199219 L 373.921875 168.894531 L 377.761719 165.589844 L 381.601562 162.289062 L 389.28125 155.679688 L 393.121094 152.378906 L 396.960938 149.074219 L 404.640625 142.472656 L 408.480469 139.167969 L 431.519531 119.363281 L 435.359375 116.066406 L 443.039062 109.464844 L 446.878906 106.167969 L 450.71875 102.867188 L 454.558594 99.570312 L 458.398438 96.269531 \"/>\n",
       "<g style=\"fill:rgb(0%,0%,0%);fill-opacity:1;\">\n",
       "  <use xlink:href=\"#glyph2-1\" x=\"217.898438\" y=\"34.116211\"/>\n",
       "  <use xlink:href=\"#glyph2-2\" x=\"225.908203\" y=\"34.116211\"/>\n",
       "  <use xlink:href=\"#glyph2-3\" x=\"229.913086\" y=\"34.116211\"/>\n",
       "  <use xlink:href=\"#glyph2-2\" x=\"238.326172\" y=\"34.116211\"/>\n",
       "  <use xlink:href=\"#glyph2-2\" x=\"242.331055\" y=\"34.116211\"/>\n",
       "  <use xlink:href=\"#glyph2-4\" x=\"246.335938\" y=\"34.116211\"/>\n",
       "  <use xlink:href=\"#glyph2-2\" x=\"254.345703\" y=\"34.116211\"/>\n",
       "  <use xlink:href=\"#glyph2-5\" x=\"258.350586\" y=\"34.116211\"/>\n",
       "  <use xlink:href=\"#glyph2-2\" x=\"266.360352\" y=\"34.116211\"/>\n",
       "  <use xlink:href=\"#glyph2-2\" x=\"270.365234\" y=\"34.116211\"/>\n",
       "  <use xlink:href=\"#glyph2-6\" x=\"274.370117\" y=\"34.116211\"/>\n",
       "  <use xlink:href=\"#glyph2-2\" x=\"282.783203\" y=\"34.116211\"/>\n",
       "  <use xlink:href=\"#glyph2-4\" x=\"286.788086\" y=\"34.116211\"/>\n",
       "  <use xlink:href=\"#glyph2-7\" x=\"294.797852\" y=\"34.116211\"/>\n",
       "  <use xlink:href=\"#glyph2-8\" x=\"298.802734\" y=\"34.116211\"/>\n",
       "  <use xlink:href=\"#glyph2-9\" x=\"306.8125\" y=\"34.116211\"/>\n",
       "</g>\n",
       "<g style=\"fill:rgb(0%,0%,0%);fill-opacity:1;\">\n",
       "  <use xlink:href=\"#glyph0-8\" x=\"148.398438\" y=\"484.716797\"/>\n",
       "  <use xlink:href=\"#glyph0-8\" x=\"151.734375\" y=\"484.716797\"/>\n",
       "  <use xlink:href=\"#glyph0-8\" x=\"155.070312\" y=\"484.716797\"/>\n",
       "  <use xlink:href=\"#glyph0-8\" x=\"158.40625\" y=\"484.716797\"/>\n",
       "  <use xlink:href=\"#glyph0-8\" x=\"161.742188\" y=\"484.716797\"/>\n",
       "  <use xlink:href=\"#glyph0-8\" x=\"165.078125\" y=\"484.716797\"/>\n",
       "  <use xlink:href=\"#glyph0-8\" x=\"168.414062\" y=\"484.716797\"/>\n",
       "  <use xlink:href=\"#glyph0-8\" x=\"171.75\" y=\"484.716797\"/>\n",
       "  <use xlink:href=\"#glyph0-8\" x=\"175.085938\" y=\"484.716797\"/>\n",
       "  <use xlink:href=\"#glyph0-8\" x=\"178.421875\" y=\"484.716797\"/>\n",
       "  <use xlink:href=\"#glyph0-8\" x=\"181.757812\" y=\"484.716797\"/>\n",
       "  <use xlink:href=\"#glyph0-8\" x=\"185.09375\" y=\"484.716797\"/>\n",
       "  <use xlink:href=\"#glyph0-8\" x=\"188.429688\" y=\"484.716797\"/>\n",
       "  <use xlink:href=\"#glyph0-8\" x=\"191.765625\" y=\"484.716797\"/>\n",
       "  <use xlink:href=\"#glyph0-8\" x=\"195.101562\" y=\"484.716797\"/>\n",
       "  <use xlink:href=\"#glyph0-8\" x=\"198.4375\" y=\"484.716797\"/>\n",
       "  <use xlink:href=\"#glyph0-8\" x=\"201.773438\" y=\"484.716797\"/>\n",
       "  <use xlink:href=\"#glyph0-8\" x=\"205.109375\" y=\"484.716797\"/>\n",
       "  <use xlink:href=\"#glyph0-8\" x=\"208.445312\" y=\"484.716797\"/>\n",
       "  <use xlink:href=\"#glyph0-8\" x=\"211.78125\" y=\"484.716797\"/>\n",
       "  <use xlink:href=\"#glyph0-8\" x=\"215.117188\" y=\"484.716797\"/>\n",
       "  <use xlink:href=\"#glyph0-8\" x=\"218.453125\" y=\"484.716797\"/>\n",
       "  <use xlink:href=\"#glyph0-8\" x=\"221.789062\" y=\"484.716797\"/>\n",
       "  <use xlink:href=\"#glyph0-8\" x=\"225.125\" y=\"484.716797\"/>\n",
       "  <use xlink:href=\"#glyph0-8\" x=\"228.460938\" y=\"484.716797\"/>\n",
       "  <use xlink:href=\"#glyph0-8\" x=\"231.796875\" y=\"484.716797\"/>\n",
       "  <use xlink:href=\"#glyph0-8\" x=\"235.132812\" y=\"484.716797\"/>\n",
       "  <use xlink:href=\"#glyph0-8\" x=\"238.46875\" y=\"484.716797\"/>\n",
       "  <use xlink:href=\"#glyph0-8\" x=\"241.804688\" y=\"484.716797\"/>\n",
       "  <use xlink:href=\"#glyph0-8\" x=\"245.140625\" y=\"484.716797\"/>\n",
       "  <use xlink:href=\"#glyph0-8\" x=\"248.476562\" y=\"484.716797\"/>\n",
       "  <use xlink:href=\"#glyph0-8\" x=\"251.8125\" y=\"484.716797\"/>\n",
       "  <use xlink:href=\"#glyph0-8\" x=\"255.148438\" y=\"484.716797\"/>\n",
       "  <use xlink:href=\"#glyph0-8\" x=\"258.484375\" y=\"484.716797\"/>\n",
       "  <use xlink:href=\"#glyph0-8\" x=\"261.820312\" y=\"484.716797\"/>\n",
       "  <use xlink:href=\"#glyph0-8\" x=\"265.15625\" y=\"484.716797\"/>\n",
       "  <use xlink:href=\"#glyph0-8\" x=\"268.492188\" y=\"484.716797\"/>\n",
       "  <use xlink:href=\"#glyph0-9\" x=\"271.828125\" y=\"484.716797\"/>\n",
       "  <use xlink:href=\"#glyph0-8\" x=\"275.824219\" y=\"484.716797\"/>\n",
       "  <use xlink:href=\"#glyph0-10\" x=\"279.160156\" y=\"484.716797\"/>\n",
       "  <use xlink:href=\"#glyph0-11\" x=\"287.164062\" y=\"484.716797\"/>\n",
       "  <use xlink:href=\"#glyph0-12\" x=\"293.835938\" y=\"484.716797\"/>\n",
       "  <use xlink:href=\"#glyph0-13\" x=\"299.835938\" y=\"484.716797\"/>\n",
       "  <use xlink:href=\"#glyph0-14\" x=\"305.835938\" y=\"484.716797\"/>\n",
       "  <use xlink:href=\"#glyph0-15\" x=\"312.507812\" y=\"484.716797\"/>\n",
       "  <use xlink:href=\"#glyph0-8\" x=\"315.84375\" y=\"484.716797\"/>\n",
       "  <use xlink:href=\"#glyph0-16\" x=\"319.179688\" y=\"484.716797\"/>\n",
       "  <use xlink:href=\"#glyph0-17\" x=\"327.183594\" y=\"484.716797\"/>\n",
       "  <use xlink:href=\"#glyph0-18\" x=\"329.847656\" y=\"484.716797\"/>\n",
       "  <use xlink:href=\"#glyph0-14\" x=\"335.847656\" y=\"484.716797\"/>\n",
       "  <use xlink:href=\"#glyph0-8\" x=\"342.519531\" y=\"484.716797\"/>\n",
       "  <use xlink:href=\"#glyph0-19\" x=\"345.855469\" y=\"484.716797\"/>\n",
       "  <use xlink:href=\"#glyph0-20\" x=\"349.851562\" y=\"484.716797\"/>\n",
       "  <use xlink:href=\"#glyph0-21\" x=\"357.855469\" y=\"484.716797\"/>\n",
       "  <use xlink:href=\"#glyph0-15\" x=\"363.855469\" y=\"484.716797\"/>\n",
       "  <use xlink:href=\"#glyph0-14\" x=\"367.191406\" y=\"484.716797\"/>\n",
       "  <use xlink:href=\"#glyph0-22\" x=\"373.863281\" y=\"484.716797\"/>\n",
       "  <use xlink:href=\"#glyph0-23\" x=\"379.863281\" y=\"484.716797\"/>\n",
       "</g>\n",
       "<g style=\"fill:rgb(0%,0%,0%);fill-opacity:1;\">\n",
       "  <use xlink:href=\"#glyph1-7\" x=\"12.396484\" y=\"312.300781\"/>\n",
       "  <use xlink:href=\"#glyph1-7\" x=\"12.396484\" y=\"308.964844\"/>\n",
       "  <use xlink:href=\"#glyph1-7\" x=\"12.396484\" y=\"305.628906\"/>\n",
       "  <use xlink:href=\"#glyph1-7\" x=\"12.396484\" y=\"302.292969\"/>\n",
       "  <use xlink:href=\"#glyph1-7\" x=\"12.396484\" y=\"298.957031\"/>\n",
       "  <use xlink:href=\"#glyph1-7\" x=\"12.396484\" y=\"295.621094\"/>\n",
       "  <use xlink:href=\"#glyph1-7\" x=\"12.396484\" y=\"292.285156\"/>\n",
       "  <use xlink:href=\"#glyph1-7\" x=\"12.396484\" y=\"288.949219\"/>\n",
       "  <use xlink:href=\"#glyph1-7\" x=\"12.396484\" y=\"285.613281\"/>\n",
       "  <use xlink:href=\"#glyph1-7\" x=\"12.396484\" y=\"282.277344\"/>\n",
       "  <use xlink:href=\"#glyph1-7\" x=\"12.396484\" y=\"278.941406\"/>\n",
       "  <use xlink:href=\"#glyph1-7\" x=\"12.396484\" y=\"275.605469\"/>\n",
       "  <use xlink:href=\"#glyph1-7\" x=\"12.396484\" y=\"272.269531\"/>\n",
       "  <use xlink:href=\"#glyph1-7\" x=\"12.396484\" y=\"268.933594\"/>\n",
       "  <use xlink:href=\"#glyph1-7\" x=\"12.396484\" y=\"265.597656\"/>\n",
       "  <use xlink:href=\"#glyph1-7\" x=\"12.396484\" y=\"262.261719\"/>\n",
       "  <use xlink:href=\"#glyph1-7\" x=\"12.396484\" y=\"258.925781\"/>\n",
       "  <use xlink:href=\"#glyph1-7\" x=\"12.396484\" y=\"255.589844\"/>\n",
       "  <use xlink:href=\"#glyph1-7\" x=\"12.396484\" y=\"252.253906\"/>\n",
       "  <use xlink:href=\"#glyph1-7\" x=\"12.396484\" y=\"248.917969\"/>\n",
       "  <use xlink:href=\"#glyph1-7\" x=\"12.396484\" y=\"245.582031\"/>\n",
       "  <use xlink:href=\"#glyph1-7\" x=\"12.396484\" y=\"242.246094\"/>\n",
       "  <use xlink:href=\"#glyph1-8\" x=\"12.396484\" y=\"238.910156\"/>\n",
       "  <use xlink:href=\"#glyph1-7\" x=\"12.396484\" y=\"234.914062\"/>\n",
       "  <use xlink:href=\"#glyph1-9\" x=\"12.396484\" y=\"231.578125\"/>\n",
       "  <use xlink:href=\"#glyph1-10\" x=\"12.396484\" y=\"224.246094\"/>\n",
       "  <use xlink:href=\"#glyph1-11\" x=\"12.396484\" y=\"221.582031\"/>\n",
       "  <use xlink:href=\"#glyph1-12\" x=\"12.396484\" y=\"211.585938\"/>\n",
       "  <use xlink:href=\"#glyph1-7\" x=\"12.396484\" y=\"204.914062\"/>\n",
       "  <use xlink:href=\"#glyph1-13\" x=\"12.396484\" y=\"201.578125\"/>\n",
       "  <use xlink:href=\"#glyph1-11\" x=\"12.396484\" y=\"197.582031\"/>\n",
       "  <use xlink:href=\"#glyph1-14\" x=\"12.396484\" y=\"187.585938\"/>\n",
       "  <use xlink:href=\"#glyph1-15\" x=\"12.396484\" y=\"181.585938\"/>\n",
       "</g>\n",
       "<g style=\"fill:rgb(0%,0%,0%);fill-opacity:1;\">\n",
       "  <use xlink:href=\"#glyph2-10\" x=\"134.398438\" y=\"16.834961\"/>\n",
       "  <use xlink:href=\"#glyph2-11\" x=\"144.007812\" y=\"16.834961\"/>\n",
       "  <use xlink:href=\"#glyph2-12\" x=\"152.017578\" y=\"16.834961\"/>\n",
       "  <use xlink:href=\"#glyph2-13\" x=\"160.027344\" y=\"16.834961\"/>\n",
       "  <use xlink:href=\"#glyph2-14\" x=\"168.037109\" y=\"16.834961\"/>\n",
       "  <use xlink:href=\"#glyph2-15\" x=\"176.046875\" y=\"16.834961\"/>\n",
       "  <use xlink:href=\"#glyph2-2\" x=\"180.84375\" y=\"16.834961\"/>\n",
       "  <use xlink:href=\"#glyph2-16\" x=\"184.848633\" y=\"16.834961\"/>\n",
       "  <use xlink:href=\"#glyph2-17\" x=\"194.458008\" y=\"16.834961\"/>\n",
       "  <use xlink:href=\"#glyph2-18\" x=\"198.462891\" y=\"16.834961\"/>\n",
       "  <use xlink:href=\"#glyph2-14\" x=\"205.666016\" y=\"16.834961\"/>\n",
       "  <use xlink:href=\"#glyph2-2\" x=\"213.675781\" y=\"16.834961\"/>\n",
       "  <use xlink:href=\"#glyph2-19\" x=\"217.680664\" y=\"16.834961\"/>\n",
       "  <use xlink:href=\"#glyph2-20\" x=\"225.69043\" y=\"16.834961\"/>\n",
       "  <use xlink:href=\"#glyph2-2\" x=\"233.700195\" y=\"16.834961\"/>\n",
       "  <use xlink:href=\"#glyph2-21\" x=\"237.705078\" y=\"16.834961\"/>\n",
       "  <use xlink:href=\"#glyph2-17\" x=\"246.506836\" y=\"16.834961\"/>\n",
       "  <use xlink:href=\"#glyph2-22\" x=\"250.511719\" y=\"16.834961\"/>\n",
       "  <use xlink:href=\"#glyph2-14\" x=\"263.318359\" y=\"16.834961\"/>\n",
       "  <use xlink:href=\"#glyph2-2\" x=\"271.328125\" y=\"16.834961\"/>\n",
       "  <use xlink:href=\"#glyph2-23\" x=\"275.333008\" y=\"16.834961\"/>\n",
       "  <use xlink:href=\"#glyph2-24\" x=\"280.129883\" y=\"16.834961\"/>\n",
       "  <use xlink:href=\"#glyph2-25\" x=\"288.931641\" y=\"16.834961\"/>\n",
       "  <use xlink:href=\"#glyph2-2\" x=\"294.536133\" y=\"16.834961\"/>\n",
       "  <use xlink:href=\"#glyph2-26\" x=\"298.541016\" y=\"16.834961\"/>\n",
       "  <use xlink:href=\"#glyph2-27\" x=\"306.550781\" y=\"16.834961\"/>\n",
       "  <use xlink:href=\"#glyph2-28\" x=\"314.560547\" y=\"16.834961\"/>\n",
       "  <use xlink:href=\"#glyph2-29\" x=\"326.560547\" y=\"16.834961\"/>\n",
       "  <use xlink:href=\"#glyph2-2\" x=\"336.961914\" y=\"16.834961\"/>\n",
       "  <use xlink:href=\"#glyph2-30\" x=\"340.966797\" y=\"16.834961\"/>\n",
       "  <use xlink:href=\"#glyph2-14\" x=\"351.368164\" y=\"16.834961\"/>\n",
       "  <use xlink:href=\"#glyph2-15\" x=\"359.37793\" y=\"16.834961\"/>\n",
       "  <use xlink:href=\"#glyph2-31\" x=\"364.174805\" y=\"16.834961\"/>\n",
       "  <use xlink:href=\"#glyph2-24\" x=\"375.382812\" y=\"16.834961\"/>\n",
       "  <use xlink:href=\"#glyph2-25\" x=\"384.18457\" y=\"16.834961\"/>\n",
       "  <use xlink:href=\"#glyph2-13\" x=\"389.789062\" y=\"16.834961\"/>\n",
       "</g>\n",
       "</g>\n",
       "</svg>\n"
      ],
      "text/plain": [
       "Plot with title “Packet Size vs Time for 54MB Network\n",
       "\n",
       "”"
      ]
     },
     "metadata": {
      "image/svg+xml": {
       "isolated": true
      }
     },
     "output_type": "display_data"
    },
    {
     "data": {
      "image/png": "[encoded data removed]",
      "image/svg+xml": [
       "<?xml version=\"1.0\" encoding=\"UTF-8\"?>\n",
       "<svg xmlns=\"http://www.w3.org/2000/svg\" xmlns:xlink=\"http://www.w3.org/1999/xlink\" width=\"504pt\" height=\"504pt\" viewBox=\"0 0 504 504\" version=\"1.1\">\n",
       "<defs>\n",
       "<g>\n",
       "<symbol overflow=\"visible\" id=\"glyph0-0\">\n",
       "<path style=\"stroke:none;\" d=\"\"/>\n",
       "</symbol>\n",
       "<symbol overflow=\"visible\" id=\"glyph0-1\">\n",
       "<path style=\"stroke:none;\" d=\"M 3.921875 -2.046875 L 3.921875 0 L 4.984375 0 L 4.984375 -2.046875 L 6.234375 -2.046875 L 6.234375 -2.984375 L 4.984375 -2.984375 L 4.984375 -8.515625 L 4.203125 -8.515625 L 0.34375 -3.15625 L 0.34375 -2.046875 Z M 3.921875 -2.984375 L 1.265625 -2.984375 L 3.921875 -6.703125 Z M 3.921875 -2.984375 \"/>\n",
       "</symbol>\n",
       "<symbol overflow=\"visible\" id=\"glyph0-2\">\n",
       "<path style=\"stroke:none;\" d=\"M 3.296875 -8.515625 C 2.515625 -8.515625 1.78125 -8.15625 1.34375 -7.578125 C 0.796875 -6.828125 0.515625 -5.6875 0.515625 -4.109375 C 0.515625 -1.25 1.46875 0.28125 3.296875 0.28125 C 5.09375 0.28125 6.078125 -1.25 6.078125 -4.046875 C 6.078125 -5.703125 5.8125 -6.796875 5.25 -7.578125 C 4.8125 -8.171875 4.109375 -8.515625 3.296875 -8.515625 Z M 3.296875 -7.578125 C 4.4375 -7.578125 5 -6.421875 5 -4.140625 C 5 -1.734375 4.453125 -0.59375 3.28125 -0.59375 C 2.15625 -0.59375 1.59375 -1.78125 1.59375 -4.109375 C 1.59375 -6.4375 2.15625 -7.578125 3.296875 -7.578125 Z M 3.296875 -7.578125 \"/>\n",
       "</symbol>\n",
       "<symbol overflow=\"visible\" id=\"glyph0-3\">\n",
       "<path style=\"stroke:none;\" d=\"M 5.96875 -6.28125 C 5.765625 -7.6875 4.859375 -8.515625 3.5625 -8.515625 C 2.625 -8.515625 1.78125 -8.046875 1.28125 -7.296875 C 0.75 -6.46875 0.515625 -5.421875 0.515625 -3.875 C 0.515625 -2.453125 0.734375 -1.53125 1.234375 -0.78125 C 1.6875 -0.09375 2.4375 0.28125 3.375 0.28125 C 4.984375 0.28125 6.15625 -0.921875 6.15625 -2.59375 C 6.15625 -4.171875 5.078125 -5.296875 3.546875 -5.296875 C 2.71875 -5.296875 2.046875 -4.96875 1.59375 -4.34375 C 1.609375 -6.421875 2.28125 -7.578125 3.484375 -7.578125 C 4.234375 -7.578125 4.75 -7.109375 4.921875 -6.28125 Z M 3.421875 -4.359375 C 4.4375 -4.359375 5.078125 -3.640625 5.078125 -2.515625 C 5.078125 -1.4375 4.359375 -0.65625 3.390625 -0.65625 C 2.40625 -0.65625 1.65625 -1.46875 1.65625 -2.5625 C 1.65625 -3.625 2.375 -4.359375 3.421875 -4.359375 Z M 3.421875 -4.359375 \"/>\n",
       "</symbol>\n",
       "<symbol overflow=\"visible\" id=\"glyph0-4\">\n",
       "<path style=\"stroke:none;\" d=\"M 4.6875 -4.46875 C 5.5625 -5 5.859375 -5.4375 5.859375 -6.234375 C 5.859375 -7.578125 4.8125 -8.515625 3.296875 -8.515625 C 1.796875 -8.515625 0.75 -7.578125 0.75 -6.234375 C 0.75 -5.453125 1.03125 -5.015625 1.890625 -4.46875 C 0.921875 -4.015625 0.4375 -3.296875 0.4375 -2.359375 C 0.4375 -0.796875 1.625 0.28125 3.296875 0.28125 C 4.984375 0.28125 6.15625 -0.796875 6.15625 -2.359375 C 6.15625 -3.296875 5.671875 -4.015625 4.6875 -4.46875 Z M 3.296875 -7.578125 C 4.203125 -7.578125 4.78125 -7.046875 4.78125 -6.21875 C 4.78125 -5.421875 4.1875 -4.890625 3.296875 -4.890625 C 2.40625 -4.890625 1.828125 -5.421875 1.828125 -6.234375 C 1.828125 -7.046875 2.40625 -7.578125 3.296875 -7.578125 Z M 3.296875 -4.015625 C 4.359375 -4.015625 5.078125 -3.34375 5.078125 -2.34375 C 5.078125 -1.328125 4.359375 -0.65625 3.28125 -0.65625 C 2.25 -0.65625 1.53125 -1.34375 1.53125 -2.34375 C 1.53125 -3.34375 2.25 -4.015625 3.296875 -4.015625 Z M 3.296875 -4.015625 \"/>\n",
       "</symbol>\n",
       "<symbol overflow=\"visible\" id=\"glyph0-5\">\n",
       "<path style=\"stroke:none;\" d=\"M 3.109375 -6.0625 L 3.109375 0 L 4.15625 0 L 4.15625 -8.515625 L 3.46875 -8.515625 C 3.09375 -7.203125 2.859375 -7.015625 1.21875 -6.8125 L 1.21875 -6.0625 Z M 3.109375 -6.0625 \"/>\n",
       "</symbol>\n",
       "<symbol overflow=\"visible\" id=\"glyph0-6\">\n",
       "<path style=\"stroke:none;\" d=\"M 6.078125 -1.046875 L 1.59375 -1.046875 C 1.703125 -1.734375 2.09375 -2.1875 3.125 -2.796875 L 4.328125 -3.4375 C 5.515625 -4.09375 6.125 -4.96875 6.125 -6.015625 C 6.125 -6.71875 5.84375 -7.375 5.34375 -7.84375 C 4.84375 -8.296875 4.21875 -8.515625 3.40625 -8.515625 C 2.328125 -8.515625 1.53125 -8.125 1.0625 -7.40625 C 0.75 -6.953125 0.625 -6.421875 0.59375 -5.5625 L 1.65625 -5.5625 C 1.6875 -6.125 1.765625 -6.484375 1.90625 -6.75 C 2.1875 -7.265625 2.734375 -7.578125 3.375 -7.578125 C 4.328125 -7.578125 5.046875 -6.90625 5.046875 -5.984375 C 5.046875 -5.3125 4.65625 -4.734375 3.90625 -4.3125 L 2.796875 -3.6875 C 1.015625 -2.671875 0.5 -1.875 0.40625 0 L 6.078125 0 Z M 6.078125 -1.046875 \"/>\n",
       "</symbol>\n",
       "<symbol overflow=\"visible\" id=\"glyph0-7\">\n",
       "<path style=\"stroke:none;\" d=\"M 2.203125 -3.703125 L 4.953125 -3.703125 C 5.640625 -3.703125 6.1875 -3.90625 6.640625 -4.328125 C 7.171875 -4.8125 7.40625 -5.375 7.40625 -6.1875 C 7.40625 -7.828125 6.4375 -8.75 4.703125 -8.75 L 1.09375 -8.75 L 1.09375 0 L 2.203125 0 Z M 2.203125 -4.6875 L 2.203125 -7.765625 L 4.53125 -7.765625 C 5.609375 -7.765625 6.234375 -7.1875 6.234375 -6.234375 C 6.234375 -5.265625 5.609375 -4.6875 4.53125 -4.6875 Z M 2.203125 -4.6875 \"/>\n",
       "</symbol>\n",
       "<symbol overflow=\"visible\" id=\"glyph0-8\">\n",
       "<path style=\"stroke:none;\" d=\"M 6.421875 -0.59375 C 6.3125 -0.5625 6.265625 -0.5625 6.203125 -0.5625 C 5.859375 -0.5625 5.65625 -0.75 5.65625 -1.0625 L 5.65625 -4.75 C 5.65625 -5.875 4.84375 -6.46875 3.296875 -6.46875 C 2.390625 -6.46875 1.625 -6.203125 1.21875 -5.734375 C 0.921875 -5.40625 0.796875 -5.046875 0.78125 -4.421875 L 1.78125 -4.421875 C 1.875 -5.203125 2.328125 -5.546875 3.265625 -5.546875 C 4.15625 -5.546875 4.671875 -5.203125 4.671875 -4.609375 L 4.671875 -4.34375 C 4.671875 -3.921875 4.421875 -3.75 3.625 -3.640625 C 2.203125 -3.46875 1.984375 -3.421875 1.609375 -3.265625 C 0.875 -2.96875 0.5 -2.40625 0.5 -1.578125 C 0.5 -0.4375 1.296875 0.28125 2.5625 0.28125 C 3.359375 0.28125 4 0 4.703125 -0.640625 C 4.78125 -0.015625 5.09375 0.28125 5.734375 0.28125 C 5.9375 0.28125 6.09375 0.25 6.421875 0.171875 Z M 4.671875 -1.984375 C 4.671875 -1.640625 4.578125 -1.4375 4.265625 -1.15625 C 3.859375 -0.796875 3.375 -0.59375 2.78125 -0.59375 C 2 -0.59375 1.546875 -0.96875 1.546875 -1.609375 C 1.546875 -2.265625 1.984375 -2.609375 3.0625 -2.765625 C 4.109375 -2.90625 4.328125 -2.953125 4.671875 -3.109375 Z M 4.671875 -1.984375 \"/>\n",
       "</symbol>\n",
       "<symbol overflow=\"visible\" id=\"glyph0-9\">\n",
       "<path style=\"stroke:none;\" d=\"M 5.65625 -4.171875 C 5.609375 -4.78125 5.46875 -5.1875 5.234375 -5.53125 C 4.796875 -6.125 4.046875 -6.46875 3.171875 -6.46875 C 1.46875 -6.46875 0.375 -5.125 0.375 -3.03125 C 0.375 -1.015625 1.453125 0.28125 3.15625 0.28125 C 4.65625 0.28125 5.609375 -0.625 5.71875 -2.15625 L 4.71875 -2.15625 C 4.546875 -1.15625 4.03125 -0.640625 3.1875 -0.640625 C 2.078125 -0.640625 1.421875 -1.546875 1.421875 -3.03125 C 1.421875 -4.609375 2.0625 -5.546875 3.15625 -5.546875 C 4 -5.546875 4.53125 -5.046875 4.640625 -4.171875 Z M 5.65625 -4.171875 \"/>\n",
       "</symbol>\n",
       "<symbol overflow=\"visible\" id=\"glyph0-10\">\n",
       "<path style=\"stroke:none;\" d=\"M 1.6875 -8.75 L 0.703125 -8.75 L 0.703125 0 L 1.6875 0 L 1.6875 -2.453125 L 2.65625 -3.40625 L 4.78125 0 L 6.03125 0 L 3.453125 -4.109375 L 5.640625 -6.28125 L 4.359375 -6.28125 L 1.6875 -3.625 Z M 1.6875 -8.75 \"/>\n",
       "</symbol>\n",
       "<symbol overflow=\"visible\" id=\"glyph0-11\">\n",
       "<path style=\"stroke:none;\" d=\"M 6.15625 -2.8125 C 6.15625 -3.765625 6.078125 -4.34375 5.90625 -4.8125 C 5.5 -5.84375 4.53125 -6.46875 3.359375 -6.46875 C 1.609375 -6.46875 0.484375 -5.125 0.484375 -3.0625 C 0.484375 -1 1.578125 0.28125 3.34375 0.28125 C 4.78125 0.28125 5.765625 -0.546875 6.03125 -1.90625 L 5.015625 -1.90625 C 4.734375 -1.078125 4.171875 -0.640625 3.375 -0.640625 C 2.734375 -0.640625 2.203125 -0.9375 1.859375 -1.46875 C 1.625 -1.828125 1.53125 -2.1875 1.53125 -2.8125 Z M 1.546875 -3.625 C 1.625 -4.78125 2.34375 -5.546875 3.34375 -5.546875 C 4.328125 -5.546875 5.09375 -4.734375 5.09375 -3.703125 C 5.09375 -3.671875 5.09375 -3.640625 5.078125 -3.625 Z M 1.546875 -3.625 \"/>\n",
       "</symbol>\n",
       "<symbol overflow=\"visible\" id=\"glyph0-12\">\n",
       "<path style=\"stroke:none;\" d=\"M 3.046875 -6.28125 L 2.015625 -6.28125 L 2.015625 -8.015625 L 1.015625 -8.015625 L 1.015625 -6.28125 L 0.171875 -6.28125 L 0.171875 -5.46875 L 1.015625 -5.46875 L 1.015625 -0.71875 C 1.015625 -0.078125 1.453125 0.28125 2.234375 0.28125 C 2.46875 0.28125 2.71875 0.25 3.046875 0.1875 L 3.046875 -0.640625 C 2.921875 -0.609375 2.765625 -0.59375 2.5625 -0.59375 C 2.140625 -0.59375 2.015625 -0.71875 2.015625 -1.15625 L 2.015625 -5.46875 L 3.046875 -5.46875 Z M 3.046875 -6.28125 \"/>\n",
       "</symbol>\n",
       "<symbol overflow=\"visible\" id=\"glyph0-13\">\n",
       "<path style=\"stroke:none;\" d=\"\"/>\n",
       "</symbol>\n",
       "<symbol overflow=\"visible\" id=\"glyph0-14\">\n",
       "<path style=\"stroke:none;\" d=\"M 7.15625 -6.1875 C 7.140625 -7.890625 5.96875 -8.890625 3.953125 -8.890625 C 2.03125 -8.890625 0.84375 -7.90625 0.84375 -6.328125 C 0.84375 -5.25 1.40625 -4.578125 2.5625 -4.28125 L 4.734375 -3.703125 C 5.828125 -3.421875 6.34375 -2.96875 6.34375 -2.296875 C 6.34375 -1.828125 6.078125 -1.34375 5.71875 -1.078125 C 5.359375 -0.84375 4.8125 -0.703125 4.109375 -0.703125 C 3.15625 -0.703125 2.515625 -0.9375 2.09375 -1.4375 C 1.765625 -1.828125 1.625 -2.25 1.625 -2.78125 L 0.578125 -2.78125 C 0.59375 -1.984375 0.75 -1.453125 1.09375 -0.96875 C 1.6875 -0.15625 2.703125 0.28125 4.03125 0.28125 C 5.078125 0.28125 5.921875 0.03125 6.484375 -0.390625 C 7.078125 -0.859375 7.453125 -1.640625 7.453125 -2.40625 C 7.453125 -3.484375 6.78125 -4.265625 5.59375 -4.59375 L 3.390625 -5.1875 C 2.34375 -5.46875 1.953125 -5.8125 1.953125 -6.484375 C 1.953125 -7.375 2.734375 -7.953125 3.90625 -7.953125 C 5.296875 -7.953125 6.078125 -7.3125 6.09375 -6.1875 Z M 7.15625 -6.1875 \"/>\n",
       "</symbol>\n",
       "<symbol overflow=\"visible\" id=\"glyph0-15\">\n",
       "<path style=\"stroke:none;\" d=\"M 1.796875 -6.28125 L 0.796875 -6.28125 L 0.796875 0 L 1.796875 0 Z M 1.796875 -8.75 L 0.796875 -8.75 L 0.796875 -7.484375 L 1.796875 -7.484375 Z M 1.796875 -8.75 \"/>\n",
       "</symbol>\n",
       "<symbol overflow=\"visible\" id=\"glyph0-16\">\n",
       "<path style=\"stroke:none;\" d=\"M 5.3125 -6.28125 L 0.625 -6.28125 L 0.625 -5.40625 L 4.125 -5.40625 L 0.375 -0.90625 L 0.375 0 L 5.484375 0 L 5.484375 -0.875 L 1.578125 -0.875 L 5.3125 -5.40625 Z M 5.3125 -6.28125 \"/>\n",
       "</symbol>\n",
       "<symbol overflow=\"visible\" id=\"glyph0-17\">\n",
       "<path style=\"stroke:none;\" d=\"M 2.828125 -8.75 C 1.625 -7.171875 0.875 -4.984375 0.875 -3.109375 C 0.875 -1.21875 1.625 0.96875 2.828125 2.546875 L 3.484375 2.546875 C 2.4375 0.828125 1.84375 -1.1875 1.84375 -3.109375 C 1.84375 -5.015625 2.4375 -7.046875 3.484375 -8.75 Z M 2.828125 -8.75 \"/>\n",
       "</symbol>\n",
       "<symbol overflow=\"visible\" id=\"glyph0-18\">\n",
       "<path style=\"stroke:none;\" d=\"M 0.953125 0 L 4.890625 0 C 5.71875 0 6.34375 -0.234375 6.796875 -0.734375 C 7.234375 -1.1875 7.46875 -1.8125 7.46875 -2.5 C 7.46875 -3.546875 7 -4.1875 5.875 -4.625 C 6.671875 -4.984375 7.09375 -5.640625 7.09375 -6.53125 C 7.09375 -7.15625 6.859375 -7.734375 6.390625 -8.140625 C 5.9375 -8.5625 5.34375 -8.75 4.5 -8.75 L 0.953125 -8.75 Z M 2.0625 -4.984375 L 2.0625 -7.765625 L 4.21875 -7.765625 C 4.84375 -7.765625 5.203125 -7.6875 5.5 -7.453125 C 5.8125 -7.21875 5.96875 -6.859375 5.96875 -6.375 C 5.96875 -5.90625 5.8125 -5.53125 5.5 -5.296875 C 5.203125 -5.0625 4.84375 -4.984375 4.21875 -4.984375 Z M 2.0625 -0.984375 L 2.0625 -4 L 4.78125 -4 C 5.328125 -4 5.6875 -3.859375 5.953125 -3.578125 C 6.21875 -3.296875 6.359375 -2.921875 6.359375 -2.484375 C 6.359375 -2.0625 6.21875 -1.6875 5.953125 -1.40625 C 5.6875 -1.109375 5.328125 -0.984375 4.78125 -0.984375 Z M 2.0625 -0.984375 \"/>\n",
       "</symbol>\n",
       "<symbol overflow=\"visible\" id=\"glyph0-19\">\n",
       "<path style=\"stroke:none;\" d=\"M 4.65625 -6.28125 L 2.921875 -1.390625 L 1.3125 -6.28125 L 0.234375 -6.28125 L 2.359375 0.03125 L 1.984375 1.015625 C 1.828125 1.46875 1.59375 1.625 1.171875 1.625 C 1.03125 1.625 0.859375 1.609375 0.640625 1.5625 L 0.640625 2.453125 C 0.859375 2.5625 1.0625 2.609375 1.3125 2.609375 C 1.640625 2.609375 1.984375 2.515625 2.25 2.3125 C 2.5625 2.09375 2.75 1.828125 2.9375 1.3125 L 5.734375 -6.28125 Z M 4.65625 -6.28125 \"/>\n",
       "</symbol>\n",
       "<symbol overflow=\"visible\" id=\"glyph0-20\">\n",
       "<path style=\"stroke:none;\" d=\"M 5.25 -4.53125 C 5.25 -5.765625 4.421875 -6.46875 2.96875 -6.46875 C 1.515625 -6.46875 0.5625 -5.71875 0.5625 -4.546875 C 0.5625 -3.5625 1.0625 -3.09375 2.5625 -2.734375 L 3.484375 -2.515625 C 4.1875 -2.34375 4.46875 -2.09375 4.46875 -1.625 C 4.46875 -1.046875 3.875 -0.640625 3 -0.640625 C 2.453125 -0.640625 2 -0.796875 1.75 -1.0625 C 1.59375 -1.25 1.53125 -1.421875 1.46875 -1.875 L 0.40625 -1.875 C 0.453125 -0.421875 1.265625 0.28125 2.921875 0.28125 C 4.5 0.28125 5.515625 -0.5 5.515625 -1.71875 C 5.515625 -2.65625 4.984375 -3.171875 3.734375 -3.46875 L 2.765625 -3.703125 C 1.953125 -3.890625 1.609375 -4.15625 1.609375 -4.59375 C 1.609375 -5.171875 2.125 -5.546875 2.9375 -5.546875 C 3.75 -5.546875 4.171875 -5.203125 4.203125 -4.53125 Z M 5.25 -4.53125 \"/>\n",
       "</symbol>\n",
       "<symbol overflow=\"visible\" id=\"glyph0-21\">\n",
       "<path style=\"stroke:none;\" d=\"M 1.109375 2.546875 C 2.3125 0.96875 3.078125 -1.21875 3.078125 -3.09375 C 3.078125 -4.984375 2.3125 -7.171875 1.109375 -8.75 L 0.453125 -8.75 C 1.515625 -7.03125 2.09375 -5.015625 2.09375 -3.09375 C 2.09375 -1.1875 1.515625 0.84375 0.453125 2.546875 Z M 1.109375 2.546875 \"/>\n",
       "</symbol>\n",
       "<symbol overflow=\"visible\" id=\"glyph1-0\">\n",
       "<path style=\"stroke:none;\" d=\"\"/>\n",
       "</symbol>\n",
       "<symbol overflow=\"visible\" id=\"glyph1-1\">\n",
       "<path style=\"stroke:none;\" d=\"M -3.75 -3.40625 L -3.75 -0.546875 L -2.875 -0.546875 L -2.875 -3.40625 Z M -3.75 -3.40625 \"/>\n",
       "</symbol>\n",
       "<symbol overflow=\"visible\" id=\"glyph1-2\">\n",
       "<path style=\"stroke:none;\" d=\"M -8.515625 -3.296875 C -8.515625 -2.515625 -8.15625 -1.78125 -7.578125 -1.34375 C -6.828125 -0.796875 -5.6875 -0.515625 -4.109375 -0.515625 C -1.25 -0.515625 0.28125 -1.46875 0.28125 -3.296875 C 0.28125 -5.09375 -1.25 -6.078125 -4.046875 -6.078125 C -5.703125 -6.078125 -6.796875 -5.8125 -7.578125 -5.25 C -8.171875 -4.8125 -8.515625 -4.109375 -8.515625 -3.296875 Z M -7.578125 -3.296875 C -7.578125 -4.4375 -6.421875 -5 -4.140625 -5 C -1.734375 -5 -0.59375 -4.453125 -0.59375 -3.28125 C -0.59375 -2.15625 -1.78125 -1.59375 -4.109375 -1.59375 C -6.4375 -1.59375 -7.578125 -2.15625 -7.578125 -3.296875 Z M -7.578125 -3.296875 \"/>\n",
       "</symbol>\n",
       "<symbol overflow=\"visible\" id=\"glyph1-3\">\n",
       "<path style=\"stroke:none;\" d=\"M -1.25 -2.296875 L -1.25 -1.046875 L 0 -1.046875 L 0 -2.296875 Z M -1.25 -2.296875 \"/>\n",
       "</symbol>\n",
       "<symbol overflow=\"visible\" id=\"glyph1-4\">\n",
       "<path style=\"stroke:none;\" d=\"M -8.515625 -5.71875 L -8.515625 -1.3125 L -3.875 -0.6875 L -3.875 -1.65625 C -4.46875 -2.140625 -4.671875 -2.5625 -4.671875 -3.21875 C -4.671875 -4.359375 -3.890625 -5.078125 -2.625 -5.078125 C -1.40625 -5.078125 -0.65625 -4.375 -0.65625 -3.21875 C -0.65625 -2.296875 -1.125 -1.734375 -2.09375 -1.46875 L -2.09375 -0.421875 C -1.390625 -0.5625 -1.0625 -0.6875 -0.75 -0.9375 C -0.09375 -1.421875 0.28125 -2.28125 0.28125 -3.234375 C 0.28125 -4.953125 -0.96875 -6.15625 -2.765625 -6.15625 C -4.453125 -6.15625 -5.609375 -5.046875 -5.609375 -3.40625 C -5.609375 -2.8125 -5.453125 -2.328125 -5.09375 -1.84375 L -7.46875 -2.171875 L -7.46875 -5.71875 Z M -8.515625 -5.71875 \"/>\n",
       "</symbol>\n",
       "<symbol overflow=\"visible\" id=\"glyph1-5\">\n",
       "<path style=\"stroke:none;\" d=\"M -3.765625 -2.234375 L -3.765625 -5.109375 C -3.765625 -6.109375 -3.28125 -6.546875 -2.203125 -6.546875 L -1.421875 -6.546875 C -0.890625 -6.546875 -0.359375 -6.640625 0 -6.796875 L 0 -8.140625 L -0.28125 -8.140625 C -0.5625 -7.734375 -0.875 -7.640625 -2.046875 -7.625 C -3.484375 -7.609375 -3.90625 -7.375 -4.3125 -6.4375 C -4.796875 -7.421875 -5.40625 -7.8125 -6.40625 -7.8125 C -7.921875 -7.8125 -8.75 -6.859375 -8.75 -5.140625 L -8.75 -1.109375 L 0 -1.109375 L 0 -2.234375 Z M -4.75 -2.234375 L -7.765625 -2.234375 L -7.765625 -4.9375 C -7.765625 -5.5625 -7.671875 -5.921875 -7.421875 -6.1875 C -7.171875 -6.484375 -6.78125 -6.640625 -6.25 -6.640625 C -5.21875 -6.640625 -4.75 -6.125 -4.75 -4.9375 Z M -4.75 -2.234375 \"/>\n",
       "</symbol>\n",
       "<symbol overflow=\"visible\" id=\"glyph1-6\">\n",
       "<path style=\"stroke:none;\" d=\"M -2.8125 -6.15625 C -3.765625 -6.15625 -4.34375 -6.078125 -4.8125 -5.90625 C -5.84375 -5.5 -6.46875 -4.53125 -6.46875 -3.359375 C -6.46875 -1.609375 -5.125 -0.484375 -3.0625 -0.484375 C -1 -0.484375 0.28125 -1.578125 0.28125 -3.34375 C 0.28125 -4.78125 -0.546875 -5.765625 -1.90625 -6.03125 L -1.90625 -5.015625 C -1.078125 -4.734375 -0.640625 -4.171875 -0.640625 -3.375 C -0.640625 -2.734375 -0.9375 -2.203125 -1.46875 -1.859375 C -1.828125 -1.625 -2.1875 -1.53125 -2.8125 -1.53125 Z M -3.625 -1.546875 C -4.78125 -1.625 -5.546875 -2.34375 -5.546875 -3.34375 C -5.546875 -4.328125 -4.734375 -5.09375 -3.703125 -5.09375 C -3.671875 -5.09375 -3.640625 -5.09375 -3.625 -5.078125 Z M -3.625 -1.546875 \"/>\n",
       "</symbol>\n",
       "<symbol overflow=\"visible\" id=\"glyph1-7\">\n",
       "<path style=\"stroke:none;\" d=\"M -4.53125 -5.25 C -5.765625 -5.25 -6.46875 -4.421875 -6.46875 -2.96875 C -6.46875 -1.515625 -5.71875 -0.5625 -4.546875 -0.5625 C -3.5625 -0.5625 -3.09375 -1.0625 -2.734375 -2.5625 L -2.515625 -3.484375 C -2.34375 -4.1875 -2.09375 -4.46875 -1.625 -4.46875 C -1.046875 -4.46875 -0.640625 -3.875 -0.640625 -3 C -0.640625 -2.453125 -0.796875 -2 -1.0625 -1.75 C -1.25 -1.59375 -1.421875 -1.53125 -1.875 -1.46875 L -1.875 -0.40625 C -0.421875 -0.453125 0.28125 -1.265625 0.28125 -2.921875 C 0.28125 -4.5 -0.5 -5.515625 -1.71875 -5.515625 C -2.65625 -5.515625 -3.171875 -4.984375 -3.46875 -3.734375 L -3.703125 -2.765625 C -3.890625 -1.953125 -4.15625 -1.609375 -4.59375 -1.609375 C -5.171875 -1.609375 -5.546875 -2.125 -5.546875 -2.9375 C -5.546875 -3.75 -5.203125 -4.171875 -4.53125 -4.203125 Z M -4.53125 -5.25 \"/>\n",
       "</symbol>\n",
       "<symbol overflow=\"visible\" id=\"glyph1-8\">\n",
       "<path style=\"stroke:none;\" d=\"M -6.28125 -1.796875 L -6.28125 -0.796875 L 0 -0.796875 L 0 -1.796875 Z M -8.75 -1.796875 L -8.75 -0.796875 L -7.484375 -0.796875 L -7.484375 -1.796875 Z M -8.75 -1.796875 \"/>\n",
       "</symbol>\n",
       "<symbol overflow=\"visible\" id=\"glyph1-9\">\n",
       "<path style=\"stroke:none;\" d=\"M -8.75 -5.9375 L -8.75 -4.9375 L -5.5 -4.9375 C -6.125 -4.53125 -6.46875 -3.859375 -6.46875 -3.015625 C -6.46875 -1.375 -5.15625 -0.3125 -3.15625 -0.3125 C -1.03125 -0.3125 0.28125 -1.359375 0.28125 -3.046875 C 0.28125 -3.90625 -0.046875 -4.515625 -0.828125 -5.046875 L 0 -5.046875 L 0 -5.9375 Z M -5.53125 -3.1875 C -5.53125 -4.265625 -4.578125 -4.9375 -3.078125 -4.9375 C -1.625 -4.9375 -0.65625 -4.25 -0.65625 -3.1875 C -0.65625 -2.09375 -1.625 -1.359375 -3.09375 -1.359375 C -4.5625 -1.359375 -5.53125 -2.09375 -5.53125 -3.1875 Z M -5.53125 -3.1875 \"/>\n",
       "</symbol>\n",
       "<symbol overflow=\"visible\" id=\"glyph1-10\">\n",
       "<path style=\"stroke:none;\" d=\"M 0 -5.78125 L -6.28125 -5.78125 L -6.28125 -4.78125 L -2.71875 -4.78125 C -1.4375 -4.78125 -0.59375 -4.109375 -0.59375 -3.078125 C -0.59375 -2.28125 -1.078125 -1.78125 -1.84375 -1.78125 L -6.28125 -1.78125 L -6.28125 -0.78125 L -1.4375 -0.78125 C -0.390625 -0.78125 0.28125 -1.5625 0.28125 -2.78125 C 0.28125 -3.703125 -0.046875 -4.296875 -0.875 -4.890625 L 0 -4.890625 Z M 0 -5.78125 \"/>\n",
       "</symbol>\n",
       "<symbol overflow=\"visible\" id=\"glyph1-11\">\n",
       "<path style=\"stroke:none;\" d=\"M -0.59375 -6.421875 C -0.5625 -6.3125 -0.5625 -6.265625 -0.5625 -6.203125 C -0.5625 -5.859375 -0.75 -5.65625 -1.0625 -5.65625 L -4.75 -5.65625 C -5.875 -5.65625 -6.46875 -4.84375 -6.46875 -3.296875 C -6.46875 -2.390625 -6.203125 -1.625 -5.734375 -1.21875 C -5.40625 -0.921875 -5.046875 -0.796875 -4.421875 -0.78125 L -4.421875 -1.78125 C -5.203125 -1.875 -5.546875 -2.328125 -5.546875 -3.265625 C -5.546875 -4.15625 -5.203125 -4.671875 -4.609375 -4.671875 L -4.34375 -4.671875 C -3.921875 -4.671875 -3.75 -4.421875 -3.640625 -3.625 C -3.46875 -2.203125 -3.421875 -1.984375 -3.265625 -1.609375 C -2.96875 -0.875 -2.40625 -0.5 -1.578125 -0.5 C -0.4375 -0.5 0.28125 -1.296875 0.28125 -2.5625 C 0.28125 -3.359375 0 -4 -0.640625 -4.703125 C -0.015625 -4.78125 0.28125 -5.09375 0.28125 -5.734375 C 0.28125 -5.9375 0.25 -6.09375 0.171875 -6.421875 Z M -1.984375 -4.671875 C -1.640625 -4.671875 -1.4375 -4.578125 -1.15625 -4.265625 C -0.796875 -3.859375 -0.59375 -3.375 -0.59375 -2.78125 C -0.59375 -2 -0.96875 -1.546875 -1.609375 -1.546875 C -2.265625 -1.546875 -2.609375 -1.984375 -2.765625 -3.0625 C -2.90625 -4.109375 -2.953125 -4.328125 -3.109375 -4.671875 Z M -1.984375 -4.671875 \"/>\n",
       "</symbol>\n",
       "<symbol overflow=\"visible\" id=\"glyph1-12\">\n",
       "<path style=\"stroke:none;\" d=\"M -8.75 -1.828125 L -8.75 -0.8125 L 0 -0.8125 L 0 -1.828125 Z M -8.75 -1.828125 \"/>\n",
       "</symbol>\n",
       "<symbol overflow=\"visible\" id=\"glyph2-0\">\n",
       "<path style=\"stroke:none;\" d=\"\"/>\n",
       "</symbol>\n",
       "<symbol overflow=\"visible\" id=\"glyph2-1\">\n",
       "<path style=\"stroke:none;\" d=\"M 3.25 -3.75 L 5.953125 -3.75 C 7.875 -3.75 9.125 -5.109375 9.125 -7.25 C 9.125 -9.34375 7.921875 -10.5 5.734375 -10.5 L 1.09375 -10.5 L 1.09375 0 L 3.25 0 Z M 3.25 -5.546875 L 3.25 -8.703125 L 5.265625 -8.703125 C 6.421875 -8.703125 6.953125 -8.203125 6.953125 -7.109375 C 6.953125 -6.046875 6.421875 -5.546875 5.265625 -5.546875 Z M 3.25 -5.546875 \"/>\n",
       "</symbol>\n",
       "<symbol overflow=\"visible\" id=\"glyph2-2\">\n",
       "<path style=\"stroke:none;\" d=\"M 7.546875 -0.25 C 7.1875 -0.578125 7.09375 -0.796875 7.09375 -1.203125 L 7.09375 -5.515625 C 7.09375 -7.109375 6 -7.90625 3.90625 -7.90625 C 1.796875 -7.90625 0.703125 -7.015625 0.578125 -5.21875 L 2.515625 -5.21875 C 2.625 -6.015625 2.953125 -6.28125 3.953125 -6.28125 C 4.71875 -6.28125 5.109375 -6.015625 5.109375 -5.5 C 5.109375 -5.25 4.984375 -5.015625 4.765625 -4.890625 C 4.5 -4.75 4.5 -4.75 3.5 -4.59375 L 2.6875 -4.453125 C 1.15625 -4.1875 0.40625 -3.40625 0.40625 -2 C 0.40625 -1.34375 0.59375 -0.796875 0.953125 -0.40625 C 1.390625 0.0625 2.078125 0.328125 2.765625 0.328125 C 3.625 0.328125 4.421875 -0.046875 5.125 -0.78125 C 5.125 -0.375 5.171875 -0.234375 5.359375 0 L 7.546875 0 Z M 5.109375 -3.125 C 5.109375 -1.953125 4.53125 -1.296875 3.515625 -1.296875 C 2.84375 -1.296875 2.421875 -1.65625 2.421875 -2.234375 C 2.421875 -2.84375 2.734375 -3.125 3.578125 -3.296875 L 4.265625 -3.421875 C 4.796875 -3.53125 4.890625 -3.5625 5.109375 -3.671875 Z M 5.109375 -3.125 \"/>\n",
       "</symbol>\n",
       "<symbol overflow=\"visible\" id=\"glyph2-3\">\n",
       "<path style=\"stroke:none;\" d=\"M 7.515625 -4.875 C 7.375 -6.765625 6.109375 -7.90625 4.15625 -7.90625 C 1.84375 -7.90625 0.484375 -6.375 0.484375 -3.734375 C 0.484375 -1.171875 1.828125 0.328125 4.140625 0.328125 C 6.015625 0.328125 7.328125 -0.828125 7.515625 -2.6875 L 5.59375 -2.6875 C 5.328125 -1.6875 4.921875 -1.296875 4.15625 -1.296875 C 3.125 -1.296875 2.5 -2.21875 2.5 -3.734375 C 2.5 -4.46875 2.65625 -5.15625 2.890625 -5.625 C 3.125 -6.046875 3.578125 -6.28125 4.15625 -6.28125 C 4.96875 -6.28125 5.359375 -5.890625 5.59375 -4.875 Z M 7.515625 -4.875 \"/>\n",
       "</symbol>\n",
       "<symbol overflow=\"visible\" id=\"glyph2-4\">\n",
       "<path style=\"stroke:none;\" d=\"M 2.859375 -4.75 L 2.859375 -10.5 L 0.84375 -10.5 L 0.84375 0 L 2.859375 0 L 2.859375 -2.546875 L 3.671875 -3.421875 L 5.53125 0 L 7.890625 0 L 5.0625 -4.84375 L 7.703125 -7.78125 L 5.421875 -7.78125 Z M 2.859375 -4.75 \"/>\n",
       "</symbol>\n",
       "<symbol overflow=\"visible\" id=\"glyph2-5\">\n",
       "<path style=\"stroke:none;\" d=\"M 7.546875 -3.25 C 7.5625 -3.421875 7.5625 -3.5 7.5625 -3.59375 C 7.5625 -4.375 7.453125 -5.09375 7.265625 -5.640625 C 6.734375 -7.0625 5.484375 -7.90625 3.921875 -7.90625 C 1.6875 -7.90625 0.3125 -6.296875 0.3125 -3.6875 C 0.3125 -1.203125 1.671875 0.328125 3.875 0.328125 C 5.625 0.328125 7.03125 -0.65625 7.484375 -2.1875 L 5.484375 -2.1875 C 5.25 -1.5625 4.6875 -1.203125 3.953125 -1.203125 C 3.375 -1.203125 2.90625 -1.453125 2.625 -1.890625 C 2.4375 -2.171875 2.359375 -2.515625 2.328125 -3.25 Z M 2.359375 -4.59375 C 2.5 -5.78125 3 -6.375 3.890625 -6.375 C 4.390625 -6.375 4.859375 -6.125 5.140625 -5.71875 C 5.328125 -5.4375 5.421875 -5.125 5.453125 -4.59375 Z M 2.359375 -4.59375 \"/>\n",
       "</symbol>\n",
       "<symbol overflow=\"visible\" id=\"glyph2-6\">\n",
       "<path style=\"stroke:none;\" d=\"M 4.34375 -7.625 L 3.21875 -7.625 L 3.21875 -9.703125 L 1.203125 -9.703125 L 1.203125 -7.625 L 0.203125 -7.625 L 0.203125 -6.28125 L 1.203125 -6.28125 L 1.203125 -1.5 C 1.203125 -0.28125 1.84375 0.328125 3.171875 0.328125 C 3.609375 0.328125 3.96875 0.28125 4.34375 0.171875 L 4.34375 -1.234375 C 4.140625 -1.203125 4.015625 -1.203125 3.875 -1.203125 C 3.34375 -1.203125 3.21875 -1.359375 3.21875 -2.046875 L 3.21875 -6.28125 L 4.34375 -6.28125 Z M 4.34375 -7.625 \"/>\n",
       "</symbol>\n",
       "<symbol overflow=\"visible\" id=\"glyph2-7\">\n",
       "<path style=\"stroke:none;\" d=\"\"/>\n",
       "</symbol>\n",
       "<symbol overflow=\"visible\" id=\"glyph2-8\">\n",
       "<path style=\"stroke:none;\" d=\"M 8.75 -7.296875 C 8.75 -8.265625 8.53125 -8.90625 8.015625 -9.484375 C 7.296875 -10.25 6.140625 -10.671875 4.625 -10.671875 C 2.109375 -10.671875 0.640625 -9.5 0.640625 -7.453125 C 0.640625 -5.8125 1.46875 -5.03125 3.59375 -4.625 L 5.078125 -4.34375 C 6.515625 -4.0625 7.046875 -3.65625 7.046875 -2.8125 C 7.046875 -1.9375 6.234375 -1.390625 4.921875 -1.390625 C 3.453125 -1.390625 2.640625 -2.015625 2.5625 -3.140625 L 0.46875 -3.140625 C 0.59375 -0.890625 2.125 0.328125 4.8125 0.328125 C 7.515625 0.328125 9.125 -0.9375 9.125 -3.0625 C 9.125 -4.71875 8.28125 -5.59375 6.34375 -5.96875 L 4.703125 -6.28125 C 3.15625 -6.578125 2.703125 -6.890625 2.703125 -7.65625 C 2.703125 -8.4375 3.421875 -8.953125 4.53125 -8.953125 C 5.890625 -8.953125 6.65625 -8.375 6.734375 -7.296875 Z M 8.75 -7.296875 \"/>\n",
       "</symbol>\n",
       "<symbol overflow=\"visible\" id=\"glyph2-9\">\n",
       "<path style=\"stroke:none;\" d=\"M 2.984375 -7.78125 L 0.96875 -7.78125 L 0.96875 0 L 2.984375 0 Z M 2.984375 -10.5 L 0.96875 -10.5 L 0.96875 -8.703125 L 2.984375 -8.703125 Z M 2.984375 -10.5 \"/>\n",
       "</symbol>\n",
       "<symbol overflow=\"visible\" id=\"glyph2-10\">\n",
       "<path style=\"stroke:none;\" d=\"M 6.609375 -7.78125 L 0.5625 -7.78125 L 0.5625 -6.15625 L 4.15625 -6.15625 L 0.296875 -1.625 L 0.296875 0 L 6.734375 0 L 6.734375 -1.625 L 2.796875 -1.625 L 6.609375 -6.15625 Z M 6.609375 -7.78125 \"/>\n",
       "</symbol>\n",
       "<symbol overflow=\"visible\" id=\"glyph2-11\">\n",
       "<path style=\"stroke:none;\" d=\"M 5.046875 0 L 7.71875 -7.78125 L 5.59375 -7.78125 L 4.015625 -2.09375 L 2.328125 -7.78125 L 0.203125 -7.78125 L 2.921875 0 Z M 5.046875 0 \"/>\n",
       "</symbol>\n",
       "<symbol overflow=\"visible\" id=\"glyph2-12\">\n",
       "<path style=\"stroke:none;\" d=\"M 7.28125 -5.265625 C 7.25 -6.921875 5.984375 -7.90625 3.890625 -7.90625 C 1.921875 -7.90625 0.6875 -6.921875 0.6875 -5.3125 C 0.6875 -4.796875 0.84375 -4.34375 1.125 -4.046875 C 1.390625 -3.78125 1.640625 -3.640625 2.390625 -3.40625 L 4.796875 -2.65625 C 5.296875 -2.5 5.46875 -2.328125 5.46875 -2.015625 C 5.46875 -1.546875 4.90625 -1.25 3.96875 -1.25 C 3.453125 -1.25 3.046875 -1.359375 2.78125 -1.53125 C 2.5625 -1.6875 2.484375 -1.84375 2.390625 -2.265625 L 0.421875 -2.265625 C 0.46875 -0.5625 1.734375 0.328125 4.09375 0.328125 C 5.171875 0.328125 6 0.09375 6.5625 -0.359375 C 7.140625 -0.828125 7.484375 -1.546875 7.484375 -2.3125 C 7.484375 -3.3125 6.984375 -3.96875 5.96875 -4.265625 L 3.421875 -5 C 2.859375 -5.171875 2.703125 -5.28125 2.703125 -5.609375 C 2.703125 -6.03125 3.171875 -6.328125 3.875 -6.328125 C 4.84375 -6.328125 5.3125 -5.984375 5.328125 -5.265625 Z M 7.28125 -5.265625 \"/>\n",
       "</symbol>\n",
       "<symbol overflow=\"visible\" id=\"glyph2-13\">\n",
       "<path style=\"stroke:none;\" d=\"M 3.3125 -4.15625 L 5.796875 -4.15625 C 6.734375 -4.15625 7.125 -3.78125 7.125 -2.90625 C 7.125 -2.828125 7.125 -2.671875 7.109375 -2.5 C 7.109375 -2.21875 7.109375 -1.953125 7.109375 -1.796875 C 7.109375 -0.828125 7.15625 -0.5 7.4375 0 L 9.75 0 L 9.75 -0.390625 C 9.421875 -0.578125 9.296875 -0.796875 9.296875 -1.25 C 9.234375 -4.34375 9.171875 -4.5 7.84375 -5.078125 C 9.015625 -5.53125 9.609375 -6.375 9.609375 -7.671875 C 9.609375 -8.5 9.328125 -9.265625 8.8125 -9.78125 C 8.34375 -10.265625 7.671875 -10.5 6.78125 -10.5 L 1.15625 -10.5 L 1.15625 0 L 3.3125 0 Z M 3.3125 -5.96875 L 3.3125 -8.703125 L 5.921875 -8.703125 C 6.546875 -8.703125 6.796875 -8.640625 7.0625 -8.421875 C 7.3125 -8.21875 7.453125 -7.84375 7.453125 -7.359375 C 7.453125 -6.859375 7.296875 -6.453125 7.0625 -6.234375 C 6.828125 -6.03125 6.546875 -5.96875 5.921875 -5.96875 Z M 3.3125 -5.96875 \"/>\n",
       "</symbol>\n",
       "<symbol overflow=\"visible\" id=\"glyph2-14\">\n",
       "<path style=\"stroke:none;\" d=\"M 5.828125 0 L 7.84375 0 L 7.84375 -10.5 L 5.828125 -10.5 L 5.828125 -6.765625 C 5.328125 -7.546875 4.65625 -7.90625 3.6875 -7.90625 C 1.828125 -7.90625 0.421875 -6.125 0.421875 -3.78125 C 0.421875 -2.71875 0.734375 -1.65625 1.25 -0.90625 C 1.78125 -0.15625 2.734375 0.328125 3.6875 0.328125 C 4.65625 0.328125 5.328125 -0.03125 5.828125 -0.796875 Z M 4.140625 -6.21875 C 5.15625 -6.21875 5.828125 -5.234375 5.828125 -3.75 C 5.828125 -2.328125 5.140625 -1.359375 4.140625 -1.359375 C 3.125 -1.359375 2.4375 -2.34375 2.4375 -3.78125 C 2.4375 -5.21875 3.125 -6.21875 4.140625 -6.21875 Z M 4.140625 -6.21875 \"/>\n",
       "</symbol>\n",
       "<symbol overflow=\"visible\" id=\"glyph2-15\">\n",
       "<path style=\"stroke:none;\" d=\"M 7.796875 0 L 7.796875 -7.78125 L 5.78125 -7.78125 L 5.78125 -2.90625 C 5.78125 -1.984375 5.125 -1.390625 4.15625 -1.390625 C 3.28125 -1.390625 2.859375 -1.84375 2.859375 -2.78125 L 2.859375 -7.78125 L 0.828125 -7.78125 L 0.828125 -2.359375 C 0.828125 -0.640625 1.78125 0.328125 3.4375 0.328125 C 4.5 0.328125 5.203125 -0.0625 5.78125 -0.921875 L 5.78125 0 Z M 7.796875 0 \"/>\n",
       "</symbol>\n",
       "<symbol overflow=\"visible\" id=\"glyph2-16\">\n",
       "<path style=\"stroke:none;\" d=\"M 2.984375 -10.5 L 0.96875 -10.5 L 0.96875 0 L 2.984375 0 Z M 2.984375 -10.5 \"/>\n",
       "</symbol>\n",
       "</g>\n",
       "</defs>\n",
       "<g id=\"surface264\">\n",
       "<rect x=\"0\" y=\"0\" width=\"504\" height=\"504\" style=\"fill:rgb(100%,100%,100%);fill-opacity:1;stroke:none;\"/>\n",
       "<path style=\"fill:none;stroke-width:0.75;stroke-linecap:round;stroke-linejoin:round;stroke:rgb(0%,0%,0%);stroke-opacity:1;stroke-miterlimit:10;\" d=\"M 77.101562 245.171875 C 77.101562 248.773438 71.699219 248.773438 71.699219 245.171875 C 71.699219 241.574219 77.101562 241.574219 77.101562 245.171875 \"/>\n",
       "<path style=\"fill:none;stroke-width:0.75;stroke-linecap:round;stroke-linejoin:round;stroke:rgb(0%,0%,0%);stroke-opacity:1;stroke-miterlimit:10;\" d=\"M 77.101562 261.96875 C 77.101562 265.570312 71.699219 265.570312 71.699219 261.96875 C 71.699219 258.371094 77.101562 258.371094 77.101562 261.96875 \"/>\n",
       "<path style=\"fill:none;stroke-width:0.75;stroke-linecap:round;stroke-linejoin:round;stroke:rgb(0%,0%,0%);stroke-opacity:1;stroke-miterlimit:10;\" d=\"M 77.101562 273.605469 C 77.101562 277.203125 71.699219 277.203125 71.699219 273.605469 C 71.699219 270.003906 77.101562 270.003906 77.101562 273.605469 \"/>\n",
       "<path style=\"fill:none;stroke-width:0.75;stroke-linecap:round;stroke-linejoin:round;stroke:rgb(0%,0%,0%);stroke-opacity:1;stroke-miterlimit:10;\" d=\"M 77.101562 238.558594 C 77.101562 242.160156 71.699219 242.160156 71.699219 238.558594 C 71.699219 234.960938 77.101562 234.960938 77.101562 238.558594 \"/>\n",
       "<path style=\"fill:none;stroke-width:0.75;stroke-linecap:round;stroke-linejoin:round;stroke:rgb(0%,0%,0%);stroke-opacity:1;stroke-miterlimit:10;\" d=\"M 112.007812 194.300781 C 112.007812 197.898438 106.609375 197.898438 106.609375 194.300781 C 106.609375 190.699219 112.007812 190.699219 112.007812 194.300781 \"/>\n",
       "<path style=\"fill:none;stroke-width:0.75;stroke-linecap:round;stroke-linejoin:round;stroke:rgb(0%,0%,0%);stroke-opacity:1;stroke-miterlimit:10;\" d=\"M 112.007812 211.855469 C 112.007812 215.457031 106.609375 215.457031 106.609375 211.855469 C 106.609375 208.257812 112.007812 208.257812 112.007812 211.855469 \"/>\n",
       "<path style=\"fill:none;stroke-width:0.75;stroke-linecap:round;stroke-linejoin:round;stroke:rgb(0%,0%,0%);stroke-opacity:1;stroke-miterlimit:10;\" d=\"M 112.007812 170.042969 C 112.007812 173.644531 106.609375 173.644531 106.609375 170.042969 C 106.609375 166.445312 112.007812 166.445312 112.007812 170.042969 \"/>\n",
       "<path style=\"fill:none;stroke-width:0.75;stroke-linecap:round;stroke-linejoin:round;stroke:rgb(0%,0%,0%);stroke-opacity:1;stroke-miterlimit:10;\" d=\"M 112.007812 216.324219 C 112.007812 219.921875 106.609375 219.921875 106.609375 216.324219 C 106.609375 212.722656 112.007812 212.722656 112.007812 216.324219 \"/>\n",
       "<path style=\"fill:none;stroke-width:0.75;stroke-linecap:round;stroke-linejoin:round;stroke:rgb(0%,0%,0%);stroke-opacity:1;stroke-miterlimit:10;\" d=\"M 146.917969 266.46875 C 146.917969 270.070312 141.519531 270.070312 141.519531 266.46875 C 141.519531 262.867188 146.917969 262.867188 146.917969 266.46875 \"/>\n",
       "<path style=\"fill:none;stroke-width:0.75;stroke-linecap:round;stroke-linejoin:round;stroke:rgb(0%,0%,0%);stroke-opacity:1;stroke-miterlimit:10;\" d=\"M 146.917969 98.335938 C 146.917969 101.9375 141.519531 101.9375 141.519531 98.335938 C 141.519531 94.734375 146.917969 94.734375 146.917969 98.335938 \"/>\n",
       "<path style=\"fill:none;stroke-width:0.75;stroke-linecap:round;stroke-linejoin:round;stroke:rgb(0%,0%,0%);stroke-opacity:1;stroke-miterlimit:10;\" d=\"M 146.917969 173.148438 C 146.917969 176.746094 141.519531 176.746094 141.519531 173.148438 C 141.519531 169.546875 146.917969 169.546875 146.917969 173.148438 \"/>\n",
       "<path style=\"fill:none;stroke-width:0.75;stroke-linecap:round;stroke-linejoin:round;stroke:rgb(0%,0%,0%);stroke-opacity:1;stroke-miterlimit:10;\" d=\"M 146.917969 125.367188 C 146.917969 128.96875 141.519531 128.96875 141.519531 125.367188 C 141.519531 121.769531 146.917969 121.769531 146.917969 125.367188 \"/>\n",
       "<path style=\"fill:none;stroke-width:0.75;stroke-linecap:round;stroke-linejoin:round;stroke:rgb(0%,0%,0%);stroke-opacity:1;stroke-miterlimit:10;\" d=\"M 181.828125 149.261719 C 181.828125 152.859375 176.425781 152.859375 176.425781 149.261719 C 176.425781 145.660156 181.828125 145.660156 181.828125 149.261719 \"/>\n",
       "<path style=\"fill:none;stroke-width:0.75;stroke-linecap:round;stroke-linejoin:round;stroke:rgb(0%,0%,0%);stroke-opacity:1;stroke-miterlimit:10;\" d=\"M 181.828125 72.800781 C 181.828125 76.398438 176.425781 76.398438 176.425781 72.800781 C 176.425781 69.199219 181.828125 69.199219 181.828125 72.800781 \"/>\n",
       "<path style=\"fill:none;stroke-width:0.75;stroke-linecap:round;stroke-linejoin:round;stroke:rgb(0%,0%,0%);stroke-opacity:1;stroke-miterlimit:10;\" d=\"M 181.828125 134.847656 C 181.828125 138.449219 176.425781 138.449219 176.425781 134.847656 C 176.425781 131.246094 181.828125 131.246094 181.828125 134.847656 \"/>\n",
       "<path style=\"fill:none;stroke-width:0.75;stroke-linecap:round;stroke-linejoin:round;stroke:rgb(0%,0%,0%);stroke-opacity:1;stroke-miterlimit:10;\" d=\"M 181.828125 195.351562 C 181.828125 198.953125 176.425781 198.953125 176.425781 195.351562 C 176.425781 191.75 181.828125 191.75 181.828125 195.351562 \"/>\n",
       "<path style=\"fill:none;stroke-width:0.75;stroke-linecap:round;stroke-linejoin:round;stroke:rgb(0%,0%,0%);stroke-opacity:1;stroke-miterlimit:10;\" d=\"M 216.738281 313.582031 C 216.738281 317.183594 211.335938 317.183594 211.335938 313.582031 C 211.335938 309.984375 216.738281 309.984375 216.738281 313.582031 \"/>\n",
       "<path style=\"fill:none;stroke-width:0.75;stroke-linecap:round;stroke-linejoin:round;stroke:rgb(0%,0%,0%);stroke-opacity:1;stroke-miterlimit:10;\" d=\"M 216.738281 395.085938 C 216.738281 398.6875 211.335938 398.6875 211.335938 395.085938 C 211.335938 391.488281 216.738281 391.488281 216.738281 395.085938 \"/>\n",
       "<path style=\"fill:none;stroke-width:0.75;stroke-linecap:round;stroke-linejoin:round;stroke:rgb(0%,0%,0%);stroke-opacity:1;stroke-miterlimit:10;\" d=\"M 216.738281 319.65625 C 216.738281 323.257812 211.335938 323.257812 211.335938 319.65625 C 211.335938 316.058594 216.738281 316.058594 216.738281 319.65625 \"/>\n",
       "<path style=\"fill:none;stroke-width:0.75;stroke-linecap:round;stroke-linejoin:round;stroke:rgb(0%,0%,0%);stroke-opacity:1;stroke-miterlimit:10;\" d=\"M 216.738281 316.742188 C 216.738281 320.34375 211.335938 320.34375 211.335938 316.742188 C 211.335938 313.140625 216.738281 313.140625 216.738281 316.742188 \"/>\n",
       "<path style=\"fill:none;stroke-width:0.75;stroke-linecap:round;stroke-linejoin:round;stroke:rgb(0%,0%,0%);stroke-opacity:1;stroke-miterlimit:10;\" d=\"M 251.644531 397.324219 C 251.644531 400.925781 246.246094 400.925781 246.246094 397.324219 C 246.246094 393.726562 251.644531 393.726562 251.644531 397.324219 \"/>\n",
       "<path style=\"fill:none;stroke-width:0.75;stroke-linecap:round;stroke-linejoin:round;stroke:rgb(0%,0%,0%);stroke-opacity:1;stroke-miterlimit:10;\" d=\"M 251.644531 330.332031 C 251.644531 333.933594 246.246094 333.933594 246.246094 330.332031 C 246.246094 326.730469 251.644531 326.730469 251.644531 330.332031 \"/>\n",
       "<path style=\"fill:none;stroke-width:0.75;stroke-linecap:round;stroke-linejoin:round;stroke:rgb(0%,0%,0%);stroke-opacity:1;stroke-miterlimit:10;\" d=\"M 251.644531 298.117188 C 251.644531 301.714844 246.246094 301.714844 246.246094 298.117188 C 246.246094 294.515625 251.644531 294.515625 251.644531 298.117188 \"/>\n",
       "<path style=\"fill:none;stroke-width:0.75;stroke-linecap:round;stroke-linejoin:round;stroke:rgb(0%,0%,0%);stroke-opacity:1;stroke-miterlimit:10;\" d=\"M 251.644531 416.800781 C 251.644531 420.398438 246.246094 420.398438 246.246094 416.800781 C 246.246094 413.199219 251.644531 413.199219 251.644531 416.800781 \"/>\n",
       "<path style=\"fill:none;stroke-width:0.75;stroke-linecap:round;stroke-linejoin:round;stroke:rgb(0%,0%,0%);stroke-opacity:1;stroke-miterlimit:10;\" d=\"M 286.554688 306.25 C 286.554688 309.851562 281.15625 309.851562 281.15625 306.25 C 281.15625 302.652344 286.554688 302.652344 286.554688 306.25 \"/>\n",
       "<path style=\"fill:none;stroke-width:0.75;stroke-linecap:round;stroke-linejoin:round;stroke:rgb(0%,0%,0%);stroke-opacity:1;stroke-miterlimit:10;\" d=\"M 286.554688 265.300781 C 286.554688 268.898438 281.15625 268.898438 281.15625 265.300781 C 281.15625 261.699219 286.554688 261.699219 286.554688 265.300781 \"/>\n",
       "<path style=\"fill:none;stroke-width:0.75;stroke-linecap:round;stroke-linejoin:round;stroke:rgb(0%,0%,0%);stroke-opacity:1;stroke-miterlimit:10;\" d=\"M 286.554688 246.433594 C 286.554688 250.035156 281.15625 250.035156 281.15625 246.433594 C 281.15625 242.835938 286.554688 242.835938 286.554688 246.433594 \"/>\n",
       "<path style=\"fill:none;stroke-width:0.75;stroke-linecap:round;stroke-linejoin:round;stroke:rgb(0%,0%,0%);stroke-opacity:1;stroke-miterlimit:10;\" d=\"M 286.554688 207.539062 C 286.554688 211.136719 281.15625 211.136719 281.15625 207.539062 C 281.15625 203.9375 286.554688 203.9375 286.554688 207.539062 \"/>\n",
       "<path style=\"fill:none;stroke-width:0.75;stroke-linecap:round;stroke-linejoin:round;stroke:rgb(0%,0%,0%);stroke-opacity:1;stroke-miterlimit:10;\" d=\"M 321.464844 167.617188 C 321.464844 171.21875 316.0625 171.21875 316.0625 167.617188 C 316.0625 164.019531 321.464844 164.019531 321.464844 167.617188 \"/>\n",
       "<path style=\"fill:none;stroke-width:0.75;stroke-linecap:round;stroke-linejoin:round;stroke:rgb(0%,0%,0%);stroke-opacity:1;stroke-miterlimit:10;\" d=\"M 321.464844 257.875 C 321.464844 261.476562 316.0625 261.476562 316.0625 257.875 C 316.0625 254.277344 321.464844 254.277344 321.464844 257.875 \"/>\n",
       "<path style=\"fill:none;stroke-width:0.75;stroke-linecap:round;stroke-linejoin:round;stroke:rgb(0%,0%,0%);stroke-opacity:1;stroke-miterlimit:10;\" d=\"M 321.464844 228.652344 C 321.464844 232.253906 316.0625 232.253906 316.0625 228.652344 C 316.0625 225.054688 321.464844 225.054688 321.464844 228.652344 \"/>\n",
       "<path style=\"fill:none;stroke-width:0.75;stroke-linecap:round;stroke-linejoin:round;stroke:rgb(0%,0%,0%);stroke-opacity:1;stroke-miterlimit:10;\" d=\"M 321.464844 159.761719 C 321.464844 163.363281 316.0625 163.363281 316.0625 159.761719 C 316.0625 156.160156 321.464844 156.160156 321.464844 159.761719 \"/>\n",
       "<path style=\"fill:none;stroke-width:0.75;stroke-linecap:round;stroke-linejoin:round;stroke:rgb(0%,0%,0%);stroke-opacity:1;stroke-miterlimit:10;\" d=\"M 356.371094 166.164062 C 356.371094 169.765625 350.972656 169.765625 350.972656 166.164062 C 350.972656 162.566406 356.371094 162.566406 356.371094 166.164062 \"/>\n",
       "<path style=\"fill:none;stroke-width:0.75;stroke-linecap:round;stroke-linejoin:round;stroke:rgb(0%,0%,0%);stroke-opacity:1;stroke-miterlimit:10;\" d=\"M 356.371094 225.910156 C 356.371094 229.507812 350.972656 229.507812 350.972656 225.910156 C 350.972656 222.308594 356.371094 222.308594 356.371094 225.910156 \"/>\n",
       "<path style=\"fill:none;stroke-width:0.75;stroke-linecap:round;stroke-linejoin:round;stroke:rgb(0%,0%,0%);stroke-opacity:1;stroke-miterlimit:10;\" d=\"M 356.371094 234.972656 C 356.371094 238.574219 350.972656 238.574219 350.972656 234.972656 C 350.972656 231.375 356.371094 231.375 356.371094 234.972656 \"/>\n",
       "<path style=\"fill:none;stroke-width:0.75;stroke-linecap:round;stroke-linejoin:round;stroke:rgb(0%,0%,0%);stroke-opacity:1;stroke-miterlimit:10;\" d=\"M 356.371094 328.996094 C 356.371094 332.59375 350.972656 332.59375 350.972656 328.996094 C 350.972656 325.394531 356.371094 325.394531 356.371094 328.996094 \"/>\n",
       "<path style=\"fill:none;stroke-width:0.75;stroke-linecap:round;stroke-linejoin:round;stroke:rgb(0%,0%,0%);stroke-opacity:1;stroke-miterlimit:10;\" d=\"M 391.28125 300.949219 C 391.28125 304.550781 385.882812 304.550781 385.882812 300.949219 C 385.882812 297.351562 391.28125 297.351562 391.28125 300.949219 \"/>\n",
       "<path style=\"fill:none;stroke-width:0.75;stroke-linecap:round;stroke-linejoin:round;stroke:rgb(0%,0%,0%);stroke-opacity:1;stroke-miterlimit:10;\" d=\"M 391.28125 216.105469 C 391.28125 219.707031 385.882812 219.707031 385.882812 216.105469 C 385.882812 212.507812 391.28125 212.507812 391.28125 216.105469 \"/>\n",
       "<path style=\"fill:none;stroke-width:0.75;stroke-linecap:round;stroke-linejoin:round;stroke:rgb(0%,0%,0%);stroke-opacity:1;stroke-miterlimit:10;\" d=\"M 391.28125 199.09375 C 391.28125 202.691406 385.882812 202.691406 385.882812 199.09375 C 385.882812 195.492188 391.28125 195.492188 391.28125 199.09375 \"/>\n",
       "<path style=\"fill:none;stroke-width:0.75;stroke-linecap:round;stroke-linejoin:round;stroke:rgb(0%,0%,0%);stroke-opacity:1;stroke-miterlimit:10;\" d=\"M 391.28125 214.21875 C 391.28125 217.820312 385.882812 217.820312 385.882812 214.21875 C 385.882812 210.617188 391.28125 210.617188 391.28125 214.21875 \"/>\n",
       "<path style=\"fill:none;stroke-width:0.75;stroke-linecap:round;stroke-linejoin:round;stroke:rgb(0%,0%,0%);stroke-opacity:1;stroke-miterlimit:10;\" d=\"M 426.191406 176.390625 C 426.191406 179.988281 420.789062 179.988281 420.789062 176.390625 C 420.789062 172.789062 426.191406 172.789062 426.191406 176.390625 \"/>\n",
       "<path style=\"fill:none;stroke-width:0.75;stroke-linecap:round;stroke-linejoin:round;stroke:rgb(0%,0%,0%);stroke-opacity:1;stroke-miterlimit:10;\" d=\"M 426.191406 224.054688 C 426.191406 227.65625 420.789062 227.65625 420.789062 224.054688 C 420.789062 220.453125 426.191406 220.453125 426.191406 224.054688 \"/>\n",
       "<path style=\"fill:none;stroke-width:0.75;stroke-linecap:round;stroke-linejoin:round;stroke:rgb(0%,0%,0%);stroke-opacity:1;stroke-miterlimit:10;\" d=\"M 426.191406 265.210938 C 426.191406 268.8125 420.789062 268.8125 420.789062 265.210938 C 420.789062 261.613281 426.191406 261.613281 426.191406 265.210938 \"/>\n",
       "<path style=\"fill:none;stroke-width:0.75;stroke-linecap:round;stroke-linejoin:round;stroke:rgb(0%,0%,0%);stroke-opacity:1;stroke-miterlimit:10;\" d=\"M 426.191406 230.132812 C 426.191406 233.730469 420.789062 233.730469 420.789062 230.132812 C 420.789062 226.53125 426.191406 226.53125 426.191406 230.132812 \"/>\n",
       "<path style=\"fill:none;stroke-width:0.75;stroke-linecap:round;stroke-linejoin:round;stroke:rgb(0%,0%,0%);stroke-opacity:1;stroke-miterlimit:10;\" d=\"M 461.101562 196.742188 C 461.101562 200.34375 455.699219 200.34375 455.699219 196.742188 C 455.699219 193.140625 461.101562 193.140625 461.101562 196.742188 \"/>\n",
       "<path style=\"fill:none;stroke-width:0.75;stroke-linecap:round;stroke-linejoin:round;stroke:rgb(0%,0%,0%);stroke-opacity:1;stroke-miterlimit:10;\" d=\"M 461.101562 230.308594 C 461.101562 233.910156 455.699219 233.910156 455.699219 230.308594 C 455.699219 226.707031 461.101562 226.707031 461.101562 230.308594 \"/>\n",
       "<path style=\"fill:none;stroke-width:0.75;stroke-linecap:round;stroke-linejoin:round;stroke:rgb(0%,0%,0%);stroke-opacity:1;stroke-miterlimit:10;\" d=\"M 461.101562 203.734375 C 461.101562 207.335938 455.699219 207.335938 455.699219 203.734375 C 455.699219 200.136719 461.101562 200.136719 461.101562 203.734375 \"/>\n",
       "<path style=\"fill:none;stroke-width:0.75;stroke-linecap:round;stroke-linejoin:round;stroke:rgb(0%,0%,0%);stroke-opacity:1;stroke-miterlimit:10;\" d=\"M 461.101562 133.328125 C 461.101562 136.929688 455.699219 136.929688 455.699219 133.328125 C 455.699219 129.730469 461.101562 129.730469 461.101562 133.328125 \"/>\n",
       "<path style=\"fill:none;stroke-width:0.75;stroke-linecap:round;stroke-linejoin:round;stroke:rgb(0%,0%,0%);stroke-opacity:1;stroke-miterlimit:10;\" d=\"M 91.855469 430.558594 L 440.945312 430.558594 \"/>\n",
       "<path style=\"fill:none;stroke-width:0.75;stroke-linecap:round;stroke-linejoin:round;stroke:rgb(0%,0%,0%);stroke-opacity:1;stroke-miterlimit:10;\" d=\"M 91.855469 430.558594 L 91.855469 437.761719 \"/>\n",
       "<path style=\"fill:none;stroke-width:0.75;stroke-linecap:round;stroke-linejoin:round;stroke:rgb(0%,0%,0%);stroke-opacity:1;stroke-miterlimit:10;\" d=\"M 161.671875 430.558594 L 161.671875 437.761719 \"/>\n",
       "<path style=\"fill:none;stroke-width:0.75;stroke-linecap:round;stroke-linejoin:round;stroke:rgb(0%,0%,0%);stroke-opacity:1;stroke-miterlimit:10;\" d=\"M 231.492188 430.558594 L 231.492188 437.761719 \"/>\n",
       "<path style=\"fill:none;stroke-width:0.75;stroke-linecap:round;stroke-linejoin:round;stroke:rgb(0%,0%,0%);stroke-opacity:1;stroke-miterlimit:10;\" d=\"M 301.308594 430.558594 L 301.308594 437.761719 \"/>\n",
       "<path style=\"fill:none;stroke-width:0.75;stroke-linecap:round;stroke-linejoin:round;stroke:rgb(0%,0%,0%);stroke-opacity:1;stroke-miterlimit:10;\" d=\"M 371.128906 430.558594 L 371.128906 437.761719 \"/>\n",
       "<path style=\"fill:none;stroke-width:0.75;stroke-linecap:round;stroke-linejoin:round;stroke:rgb(0%,0%,0%);stroke-opacity:1;stroke-miterlimit:10;\" d=\"M 440.945312 430.558594 L 440.945312 437.761719 \"/>\n",
       "<g style=\"fill:rgb(0%,0%,0%);fill-opacity:1;\">\n",
       "  <use xlink:href=\"#glyph0-1\" x=\"81.355469\" y=\"455.916016\"/>\n",
       "  <use xlink:href=\"#glyph0-2\" x=\"88.027344\" y=\"455.916016\"/>\n",
       "  <use xlink:href=\"#glyph0-2\" x=\"94.699219\" y=\"455.916016\"/>\n",
       "</g>\n",
       "<g style=\"fill:rgb(0%,0%,0%);fill-opacity:1;\">\n",
       "  <use xlink:href=\"#glyph0-3\" x=\"151.171875\" y=\"455.916016\"/>\n",
       "  <use xlink:href=\"#glyph0-2\" x=\"157.84375\" y=\"455.916016\"/>\n",
       "  <use xlink:href=\"#glyph0-2\" x=\"164.515625\" y=\"455.916016\"/>\n",
       "</g>\n",
       "<g style=\"fill:rgb(0%,0%,0%);fill-opacity:1;\">\n",
       "  <use xlink:href=\"#glyph0-4\" x=\"220.992188\" y=\"455.916016\"/>\n",
       "  <use xlink:href=\"#glyph0-2\" x=\"227.664062\" y=\"455.916016\"/>\n",
       "  <use xlink:href=\"#glyph0-2\" x=\"234.335938\" y=\"455.916016\"/>\n",
       "</g>\n",
       "<g style=\"fill:rgb(0%,0%,0%);fill-opacity:1;\">\n",
       "  <use xlink:href=\"#glyph0-5\" x=\"287.808594\" y=\"455.916016\"/>\n",
       "  <use xlink:href=\"#glyph0-2\" x=\"294.480469\" y=\"455.916016\"/>\n",
       "  <use xlink:href=\"#glyph0-2\" x=\"301.152344\" y=\"455.916016\"/>\n",
       "  <use xlink:href=\"#glyph0-2\" x=\"307.824219\" y=\"455.916016\"/>\n",
       "</g>\n",
       "<g style=\"fill:rgb(0%,0%,0%);fill-opacity:1;\">\n",
       "  <use xlink:href=\"#glyph0-5\" x=\"357.628906\" y=\"455.916016\"/>\n",
       "  <use xlink:href=\"#glyph0-6\" x=\"364.300781\" y=\"455.916016\"/>\n",
       "  <use xlink:href=\"#glyph0-2\" x=\"370.972656\" y=\"455.916016\"/>\n",
       "  <use xlink:href=\"#glyph0-2\" x=\"377.644531\" y=\"455.916016\"/>\n",
       "</g>\n",
       "<g style=\"fill:rgb(0%,0%,0%);fill-opacity:1;\">\n",
       "  <use xlink:href=\"#glyph0-5\" x=\"427.445312\" y=\"455.916016\"/>\n",
       "  <use xlink:href=\"#glyph0-1\" x=\"434.117188\" y=\"455.916016\"/>\n",
       "  <use xlink:href=\"#glyph0-2\" x=\"440.789062\" y=\"455.916016\"/>\n",
       "  <use xlink:href=\"#glyph0-2\" x=\"447.460938\" y=\"455.916016\"/>\n",
       "</g>\n",
       "<path style=\"fill:none;stroke-width:0.75;stroke-linecap:round;stroke-linejoin:round;stroke:rgb(0%,0%,0%);stroke-opacity:1;stroke-miterlimit:10;\" d=\"M 59.039062 337.746094 L 59.039062 128.953125 \"/>\n",
       "<path style=\"fill:none;stroke-width:0.75;stroke-linecap:round;stroke-linejoin:round;stroke:rgb(0%,0%,0%);stroke-opacity:1;stroke-miterlimit:10;\" d=\"M 59.039062 337.746094 L 51.839844 337.746094 \"/>\n",
       "<path style=\"fill:none;stroke-width:0.75;stroke-linecap:round;stroke-linejoin:round;stroke:rgb(0%,0%,0%);stroke-opacity:1;stroke-miterlimit:10;\" d=\"M 59.039062 233.351562 L 51.839844 233.351562 \"/>\n",
       "<path style=\"fill:none;stroke-width:0.75;stroke-linecap:round;stroke-linejoin:round;stroke:rgb(0%,0%,0%);stroke-opacity:1;stroke-miterlimit:10;\" d=\"M 59.039062 128.953125 L 51.839844 128.953125 \"/>\n",
       "<g style=\"fill:rgb(0%,0%,0%);fill-opacity:1;\">\n",
       "  <use xlink:href=\"#glyph1-1\" x=\"41.197266\" y=\"355.246094\"/>\n",
       "  <use xlink:href=\"#glyph1-2\" x=\"41.197266\" y=\"351.25\"/>\n",
       "  <use xlink:href=\"#glyph1-3\" x=\"41.197266\" y=\"344.578125\"/>\n",
       "  <use xlink:href=\"#glyph1-2\" x=\"41.197266\" y=\"341.242188\"/>\n",
       "  <use xlink:href=\"#glyph1-2\" x=\"41.197266\" y=\"334.570312\"/>\n",
       "  <use xlink:href=\"#glyph1-4\" x=\"41.197266\" y=\"327.898438\"/>\n",
       "</g>\n",
       "<g style=\"fill:rgb(0%,0%,0%);fill-opacity:1;\">\n",
       "  <use xlink:href=\"#glyph1-2\" x=\"41.197266\" y=\"248.851562\"/>\n",
       "  <use xlink:href=\"#glyph1-3\" x=\"41.197266\" y=\"242.179688\"/>\n",
       "  <use xlink:href=\"#glyph1-2\" x=\"41.197266\" y=\"238.84375\"/>\n",
       "  <use xlink:href=\"#glyph1-2\" x=\"41.197266\" y=\"232.171875\"/>\n",
       "  <use xlink:href=\"#glyph1-2\" x=\"41.197266\" y=\"225.5\"/>\n",
       "</g>\n",
       "<g style=\"fill:rgb(0%,0%,0%);fill-opacity:1;\">\n",
       "  <use xlink:href=\"#glyph1-2\" x=\"41.197266\" y=\"144.453125\"/>\n",
       "  <use xlink:href=\"#glyph1-3\" x=\"41.197266\" y=\"137.78125\"/>\n",
       "  <use xlink:href=\"#glyph1-2\" x=\"41.197266\" y=\"134.445312\"/>\n",
       "  <use xlink:href=\"#glyph1-2\" x=\"41.197266\" y=\"127.773438\"/>\n",
       "  <use xlink:href=\"#glyph1-4\" x=\"41.197266\" y=\"121.101562\"/>\n",
       "</g>\n",
       "<path style=\"fill:none;stroke-width:0.75;stroke-linecap:round;stroke-linejoin:round;stroke:rgb(0%,0%,0%);stroke-opacity:1;stroke-miterlimit:10;\" d=\"M 59.039062 430.558594 L 473.761719 430.558594 L 473.761719 59.039062 L 59.039062 59.039062 L 59.039062 430.558594 \"/>\n",
       "<g style=\"fill:rgb(0%,0%,0%);fill-opacity:1;\">\n",
       "  <use xlink:href=\"#glyph2-1\" x=\"180.398438\" y=\"34.116211\"/>\n",
       "  <use xlink:href=\"#glyph2-2\" x=\"190.007812\" y=\"34.116211\"/>\n",
       "  <use xlink:href=\"#glyph2-3\" x=\"198.017578\" y=\"34.116211\"/>\n",
       "  <use xlink:href=\"#glyph2-4\" x=\"206.027344\" y=\"34.116211\"/>\n",
       "  <use xlink:href=\"#glyph2-5\" x=\"214.037109\" y=\"34.116211\"/>\n",
       "  <use xlink:href=\"#glyph2-6\" x=\"222.046875\" y=\"34.116211\"/>\n",
       "  <use xlink:href=\"#glyph2-7\" x=\"226.84375\" y=\"34.116211\"/>\n",
       "  <use xlink:href=\"#glyph2-8\" x=\"230.848633\" y=\"34.116211\"/>\n",
       "  <use xlink:href=\"#glyph2-9\" x=\"240.458008\" y=\"34.116211\"/>\n",
       "  <use xlink:href=\"#glyph2-10\" x=\"244.462891\" y=\"34.116211\"/>\n",
       "  <use xlink:href=\"#glyph2-5\" x=\"251.666016\" y=\"34.116211\"/>\n",
       "  <use xlink:href=\"#glyph2-7\" x=\"259.675781\" y=\"34.116211\"/>\n",
       "  <use xlink:href=\"#glyph2-11\" x=\"263.680664\" y=\"34.116211\"/>\n",
       "  <use xlink:href=\"#glyph2-12\" x=\"271.69043\" y=\"34.116211\"/>\n",
       "  <use xlink:href=\"#glyph2-7\" x=\"279.700195\" y=\"34.116211\"/>\n",
       "  <use xlink:href=\"#glyph2-13\" x=\"283.705078\" y=\"34.116211\"/>\n",
       "  <use xlink:href=\"#glyph2-5\" x=\"294.106445\" y=\"34.116211\"/>\n",
       "  <use xlink:href=\"#glyph2-12\" x=\"302.116211\" y=\"34.116211\"/>\n",
       "  <use xlink:href=\"#glyph2-9\" x=\"310.125977\" y=\"34.116211\"/>\n",
       "  <use xlink:href=\"#glyph2-14\" x=\"314.130859\" y=\"34.116211\"/>\n",
       "  <use xlink:href=\"#glyph2-15\" x=\"322.932617\" y=\"34.116211\"/>\n",
       "  <use xlink:href=\"#glyph2-2\" x=\"331.734375\" y=\"34.116211\"/>\n",
       "  <use xlink:href=\"#glyph2-16\" x=\"339.744141\" y=\"34.116211\"/>\n",
       "  <use xlink:href=\"#glyph2-12\" x=\"343.749023\" y=\"34.116211\"/>\n",
       "</g>\n",
       "<g style=\"fill:rgb(0%,0%,0%);fill-opacity:1;\">\n",
       "  <use xlink:href=\"#glyph0-7\" x=\"213.898438\" y=\"484.716797\"/>\n",
       "  <use xlink:href=\"#glyph0-8\" x=\"221.902344\" y=\"484.716797\"/>\n",
       "  <use xlink:href=\"#glyph0-9\" x=\"228.574219\" y=\"484.716797\"/>\n",
       "  <use xlink:href=\"#glyph0-10\" x=\"234.574219\" y=\"484.716797\"/>\n",
       "  <use xlink:href=\"#glyph0-11\" x=\"240.574219\" y=\"484.716797\"/>\n",
       "  <use xlink:href=\"#glyph0-12\" x=\"247.246094\" y=\"484.716797\"/>\n",
       "  <use xlink:href=\"#glyph0-13\" x=\"250.582031\" y=\"484.716797\"/>\n",
       "  <use xlink:href=\"#glyph0-14\" x=\"253.917969\" y=\"484.716797\"/>\n",
       "  <use xlink:href=\"#glyph0-15\" x=\"261.921875\" y=\"484.716797\"/>\n",
       "  <use xlink:href=\"#glyph0-16\" x=\"264.585938\" y=\"484.716797\"/>\n",
       "  <use xlink:href=\"#glyph0-11\" x=\"270.585938\" y=\"484.716797\"/>\n",
       "  <use xlink:href=\"#glyph0-13\" x=\"277.257812\" y=\"484.716797\"/>\n",
       "  <use xlink:href=\"#glyph0-17\" x=\"280.59375\" y=\"484.716797\"/>\n",
       "  <use xlink:href=\"#glyph0-18\" x=\"284.589844\" y=\"484.716797\"/>\n",
       "  <use xlink:href=\"#glyph0-19\" x=\"292.59375\" y=\"484.716797\"/>\n",
       "  <use xlink:href=\"#glyph0-12\" x=\"298.59375\" y=\"484.716797\"/>\n",
       "  <use xlink:href=\"#glyph0-11\" x=\"301.929688\" y=\"484.716797\"/>\n",
       "  <use xlink:href=\"#glyph0-20\" x=\"308.601562\" y=\"484.716797\"/>\n",
       "  <use xlink:href=\"#glyph0-21\" x=\"314.601562\" y=\"484.716797\"/>\n",
       "</g>\n",
       "<g style=\"fill:rgb(0%,0%,0%);fill-opacity:1;\">\n",
       "  <use xlink:href=\"#glyph1-5\" x=\"12.396484\" y=\"271.300781\"/>\n",
       "  <use xlink:href=\"#glyph1-6\" x=\"12.396484\" y=\"262.636719\"/>\n",
       "  <use xlink:href=\"#glyph1-7\" x=\"12.396484\" y=\"255.964844\"/>\n",
       "  <use xlink:href=\"#glyph1-8\" x=\"12.396484\" y=\"249.964844\"/>\n",
       "  <use xlink:href=\"#glyph1-9\" x=\"12.396484\" y=\"247.300781\"/>\n",
       "  <use xlink:href=\"#glyph1-10\" x=\"12.396484\" y=\"240.628906\"/>\n",
       "  <use xlink:href=\"#glyph1-11\" x=\"12.396484\" y=\"233.957031\"/>\n",
       "  <use xlink:href=\"#glyph1-12\" x=\"12.396484\" y=\"227.285156\"/>\n",
       "  <use xlink:href=\"#glyph1-7\" x=\"12.396484\" y=\"224.621094\"/>\n",
       "</g>\n",
       "</g>\n",
       "</svg>\n"
      ],
      "text/plain": [
       "Plot with title “Packet Size vs Residuals”"
      ]
     },
     "metadata": {
      "image/svg+xml": {
       "isolated": true
      }
     },
     "output_type": "display_data"
    }
   ],
   "source": [
    "simple.lm(x54,y54,show.ci=TRUE, conf.level=0.95)\n",
    "title(xlab=\"                                     - Packet Size (Bytes)\")\n",
    "title(ylab=\"                      - Time (ms)\")\n",
    "title(main=\"Packet Size vs Time for 54MB Network\\n\\n\")\n",
    "m54 <- lm(y54~x54)\n",
    "summary(m54)\n",
    "resid <- resid(m54)\n",
    "plot(x54, resid, ylab=\"Residuals\", xlab=\"Packet Size (Bytes)\", main=\"Packet Size vs Residuals\")"
   ]
  },
  {
   "cell_type": "code",
   "execution_count": 28,
   "metadata": {
    "collapsed": false
   },
   "outputs": [
    {
     "name": "stdout",
     "output_type": "stream",
     "text": [
      "[1] \"This is a fairly good data set for linear regression.\"\n",
      "[1] \"The R2 value is .995, meaning the data is fit very well.\"\n",
      "[1] \"There are a few data points that are outside the prediction line (between x=600 adn 900),\"\n",
      "[1] \"however they still fall within the 95% confidence interval.\"\n",
      "[1] \"The residuals could MAYBE be nonlinear, but it's hard to tell.\"\n",
      "[1] \"The residuals are close to zero and likely indicate a good fit.\"\n"
     ]
    }
   ],
   "source": [
    "print(\"This is a fairly good data set for linear regression.\")\n",
    "print(\"The R2 value is .995, meaning the data is fit very well.\")\n",
    "print(\"There are a few data points that are outside the prediction line (between x=600 adn 900),\")\n",
    "print(\"however they still fall within the 95% confidence interval.\")\n",
    "print(\"The residuals could MAYBE be nonlinear, but it's hard to tell.\")\n",
    "print(\"The residuals are close to zero and likely indicate a good fit.\")"
   ]
  },
  {
   "cell_type": "code",
   "execution_count": null,
   "metadata": {
    "collapsed": false
   },
   "outputs": [],
   "source": []
  },
  {
   "cell_type": "code",
   "execution_count": null,
   "metadata": {
    "collapsed": true
   },
   "outputs": [],
   "source": []
  }
 ],
 "metadata": {
  "kernelspec": {
   "display_name": "R",
   "language": "R",
   "name": "ir"
  },
  "language_info": {
   "codemirror_mode": "r",
   "file_extension": ".r",
   "mimetype": "text/x-r-source",
   "name": "R",
   "pygments_lexer": "r",
   "version": "3.2.4"
  }
 },
 "nbformat": 4,
 "nbformat_minor": 0
}
