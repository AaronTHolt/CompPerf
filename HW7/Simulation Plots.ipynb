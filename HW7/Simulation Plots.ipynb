{
 "cells": [
  {
   "cell_type": "code",
   "execution_count": 5,
   "metadata": {
    "collapsed": false
   },
   "outputs": [],
   "source": [
    "%matplotlib inline\n",
    "import matplotlib.pyplot as plt\n",
    "import pandas as pd\n",
    "import numpy as np\n",
    "import os,sys"
   ]
  },
  {
   "cell_type": "code",
   "execution_count": 7,
   "metadata": {
    "collapsed": false
   },
   "outputs": [
    {
     "name": "stdout",
     "output_type": "stream",
     "text": [
      "closed has 9957 rows\n"
     ]
    },
    {
     "data": {
      "text/html": [
       "<div>\n",
       "<table border=\"1\" class=\"dataframe\">\n",
       "  <thead>\n",
       "    <tr style=\"text-align: right;\">\n",
       "      <th></th>\n",
       "      <th>time</th>\n",
       "      <th>resp</th>\n",
       "      <th>proxy</th>\n",
       "      <th>router</th>\n",
       "      <th>originA</th>\n",
       "      <th>originB</th>\n",
       "    </tr>\n",
       "  </thead>\n",
       "  <tbody>\n",
       "    <tr>\n",
       "      <th>0</th>\n",
       "      <td>10.036511</td>\n",
       "      <td>0.166524</td>\n",
       "      <td>0.637821</td>\n",
       "      <td>0.155142</td>\n",
       "      <td>0.924056</td>\n",
       "      <td>0.749871</td>\n",
       "    </tr>\n",
       "    <tr>\n",
       "      <th>1</th>\n",
       "      <td>20.075607</td>\n",
       "      <td>0.178683</td>\n",
       "      <td>0.614420</td>\n",
       "      <td>0.137205</td>\n",
       "      <td>0.981474</td>\n",
       "      <td>0.679607</td>\n",
       "    </tr>\n",
       "    <tr>\n",
       "      <th>2</th>\n",
       "      <td>30.141002</td>\n",
       "      <td>0.255604</td>\n",
       "      <td>0.620062</td>\n",
       "      <td>0.136784</td>\n",
       "      <td>0.980300</td>\n",
       "      <td>0.691470</td>\n",
       "    </tr>\n",
       "    <tr>\n",
       "      <th>3</th>\n",
       "      <td>40.216904</td>\n",
       "      <td>0.236859</td>\n",
       "      <td>0.595849</td>\n",
       "      <td>0.130627</td>\n",
       "      <td>0.986105</td>\n",
       "      <td>0.630321</td>\n",
       "    </tr>\n",
       "    <tr>\n",
       "      <th>4</th>\n",
       "      <td>50.229666</td>\n",
       "      <td>0.205837</td>\n",
       "      <td>0.577142</td>\n",
       "      <td>0.127432</td>\n",
       "      <td>0.989218</td>\n",
       "      <td>0.612193</td>\n",
       "    </tr>\n",
       "  </tbody>\n",
       "</table>\n",
       "</div>"
      ],
      "text/plain": [
       "        time      resp     proxy    router   originA   originB\n",
       "0  10.036511  0.166524  0.637821  0.155142  0.924056  0.749871\n",
       "1  20.075607  0.178683  0.614420  0.137205  0.981474  0.679607\n",
       "2  30.141002  0.255604  0.620062  0.136784  0.980300  0.691470\n",
       "3  40.216904  0.236859  0.595849  0.130627  0.986105  0.630321\n",
       "4  50.229666  0.205837  0.577142  0.127432  0.989218  0.612193"
      ]
     },
     "execution_count": 7,
     "metadata": {},
     "output_type": "execute_result"
    }
   ],
   "source": [
    "closed = pd.read_csv(\"ClosedAverage.csv\", \\\n",
    "            names=['time', 'resp', 'proxy', 'router', 'originA', 'originB'])\n",
    "print(\"closed has\", len(closed.index), \"rows\")\n",
    "closed[:5]"
   ]
  },
  {
   "cell_type": "code",
   "execution_count": 8,
   "metadata": {
    "collapsed": false
   },
   "outputs": [
    {
     "data": {
      "text/html": [
       "<div>\n",
       "<table border=\"1\" class=\"dataframe\">\n",
       "  <thead>\n",
       "    <tr style=\"text-align: right;\">\n",
       "      <th></th>\n",
       "      <th>time</th>\n",
       "      <th>resp</th>\n",
       "      <th>proxy</th>\n",
       "      <th>router</th>\n",
       "      <th>originA</th>\n",
       "      <th>originB</th>\n",
       "    </tr>\n",
       "  </thead>\n",
       "  <tbody>\n",
       "    <tr>\n",
       "      <th>9900</th>\n",
       "      <td>99439.909293</td>\n",
       "      <td>0.213893</td>\n",
       "      <td>0.568720</td>\n",
       "      <td>0.131192</td>\n",
       "      <td>0.984616</td>\n",
       "      <td>0.656018</td>\n",
       "    </tr>\n",
       "    <tr>\n",
       "      <th>9901</th>\n",
       "      <td>99449.946263</td>\n",
       "      <td>0.264462</td>\n",
       "      <td>0.568718</td>\n",
       "      <td>0.131192</td>\n",
       "      <td>0.984618</td>\n",
       "      <td>0.656012</td>\n",
       "    </tr>\n",
       "    <tr>\n",
       "      <th>9902</th>\n",
       "      <td>99459.954034</td>\n",
       "      <td>0.243375</td>\n",
       "      <td>0.568715</td>\n",
       "      <td>0.131192</td>\n",
       "      <td>0.984619</td>\n",
       "      <td>0.656008</td>\n",
       "    </tr>\n",
       "    <tr>\n",
       "      <th>9903</th>\n",
       "      <td>99469.982108</td>\n",
       "      <td>0.191640</td>\n",
       "      <td>0.568709</td>\n",
       "      <td>0.131190</td>\n",
       "      <td>0.984621</td>\n",
       "      <td>0.655995</td>\n",
       "    </tr>\n",
       "    <tr>\n",
       "      <th>9904</th>\n",
       "      <td>99479.994366</td>\n",
       "      <td>0.205872</td>\n",
       "      <td>0.568708</td>\n",
       "      <td>0.131188</td>\n",
       "      <td>0.984623</td>\n",
       "      <td>0.655983</td>\n",
       "    </tr>\n",
       "  </tbody>\n",
       "</table>\n",
       "</div>"
      ],
      "text/plain": [
       "              time      resp     proxy    router   originA   originB\n",
       "9900  99439.909293  0.213893  0.568720  0.131192  0.984616  0.656018\n",
       "9901  99449.946263  0.264462  0.568718  0.131192  0.984618  0.656012\n",
       "9902  99459.954034  0.243375  0.568715  0.131192  0.984619  0.656008\n",
       "9903  99469.982108  0.191640  0.568709  0.131190  0.984621  0.655995\n",
       "9904  99479.994366  0.205872  0.568708  0.131188  0.984623  0.655983"
      ]
     },
     "execution_count": 8,
     "metadata": {},
     "output_type": "execute_result"
    }
   ],
   "source": [
    "closed[9900:9905]"
   ]
  },
  {
   "cell_type": "markdown",
   "metadata": {},
   "source": [
    "Now, lets plot the response time and the utilization for one component"
   ]
  },
  {
   "cell_type": "code",
   "execution_count": 9,
   "metadata": {
    "collapsed": false
   },
   "outputs": [
    {
     "data": {
      "text/plain": [
       "<matplotlib.axes.AxesSubplot at 0x7f1284074630>"
      ]
     },
     "execution_count": 9,
     "metadata": {},
     "output_type": "execute_result"
    },
    {
     "data": {
      "image/png": "[encoded data removed]",
      "text/plain": [
       "<matplotlib.figure.Figure at 0x7f12840a1cf8>"
      ]
     },
     "metadata": {},
     "output_type": "display_data"
    }
   ],
   "source": [
    "closed['resp'].plot()"
   ]
  },
  {
   "cell_type": "code",
   "execution_count": 10,
   "metadata": {
    "collapsed": false
   },
   "outputs": [
    {
     "data": {
      "text/plain": [
       "<matplotlib.axes.AxesSubplot at 0x7f127fb01c50>"
      ]
     },
     "execution_count": 10,
     "metadata": {},
     "output_type": "execute_result"
    },
    {
     "data": {
      "image/png": "[encoded data removed]",
      "text/plain": [
       "<matplotlib.figure.Figure at 0x7f127fb0d898>"
      ]
     },
     "metadata": {},
     "output_type": "display_data"
    }
   ],
   "source": [
    "closed['router'].plot()"
   ]
  },
  {
   "cell_type": "markdown",
   "metadata": {},
   "source": [
    "It's clear there's a transient for the first ~40,000 seconds (recall that we're looking at the data divided into 10 second averages)"
   ]
  },
  {
   "cell_type": "code",
   "execution_count": 28,
   "metadata": {
    "collapsed": false
   },
   "outputs": [
    {
     "name": "stdout",
     "output_type": "stream",
     "text": [
      "Total observations =  9957\n",
      "Batch size =  99\n",
      "[0.20634523345954542, 0.21376052987943422, 0.20502804778060599, 0.21246032328502013, 0.20584922298271713, 0.20448452977584858, 0.20620477506359597, 0.20706785401949498, 0.2153153860760405, 0.20863541782108092, 0.20825563663811114, 0.21280931747670703, 0.20599780319806063, 0.2109109857786868, 0.21181390285717169, 0.21396542534980806, 0.21197563924536361, 0.216316978202303, 0.21105705755250503, 0.21216353195881826, 0.2099748878909293, 0.21769312961849493, 0.20708618012891919, 0.21668221054594944, 0.20127508693963628, 0.21065409952127276, 0.2131918874179293, 0.21226632340379797, 0.2158939921370808, 0.2088050923232424, 0.20812756265391916, 0.21399451710365661, 0.20735823782928292, 0.20503608686565661, 0.21233491398007073, 0.21409230940862625, 0.20345781490348477, 0.20931497974796967, 0.20599842390537368, 0.21404750969741421, 0.21344346217239402, 0.21133506783785869, 0.20793887140399991, 0.21624665245336355, 0.21377167240932313, 0.21082255425542426, 0.21064137518077769, 0.20752887174171716, 0.20229861808156568, 0.21153682668678789, 0.20818170136416173, 0.21213067496189902, 0.212107886394798, 0.20735021784942423, 0.21615365709049497, 0.21009652903890921, 0.2053704837569294, 0.21187882416780801, 0.20778221061408084, 0.21772080137763647, 0.20988102234218178, 0.20886725044134341, 0.20394039670894956, 0.21041291282809099, 0.20307826542690907, 0.2093009054462929, 0.20856552556025251, 0.21966962787750516, 0.21017705599992922, 0.20517765550966663, 0.21274826937151503, 0.21304475688759594, 0.20991151592180807, 0.2078305649598082, 0.20585335882342409, 0.21837902898403028, 0.21653038085031318, 0.21141666699958581, 0.20668827618739383, 0.20649581597235345, 0.21298390524611124, 0.20885667158411106, 0.21316045151238389, 0.21498756367857574, 0.21028902361671711, 0.21510022156739397, 0.21174977717953536, 0.21198657971969692, 0.21568566681208085, 0.20756688235696966, 0.21502885231447472, 0.21298330712363647, 0.21429281069117168, 0.2117712607862324, 0.21324835426531308, 0.20887201063077779, 0.2059300526288384, 0.20634231877250506, 0.21207277630644447, 0.21996821297575747, 0.21915803838943856]\n"
     ]
    }
   ],
   "source": [
    "# Run for long time \n",
    "# N observations\n",
    "# Divide up into batches\n",
    "# m batches size n each so m = N/n\n",
    "# Compute batch mean (xi)\n",
    "# Compute var of batch means as function of batch size (X is overall mean)\n",
    "# Var(x) = (1/(m-1))(xi-X)2\n",
    "# Plot variance versus size n\n",
    "# When n starts decreasing, have transient\n",
    "\n",
    "#closedAll = pd.read_csv(\"OmnetClosed.csv\", \\\n",
    "#            names=['time', 'resp', 'proxy', 'router', 'originA', 'originB'])\n",
    "\n",
    "#total_rows = len(closedAll.index)\n",
    "#print(\"Total observations = \", total_rows)\n",
    "import numpy as np\n",
    "from numpy import mean\n",
    "\n",
    "total_rows = len(closed.index)\n",
    "print(\"Total observations = \", total_rows)\n",
    "\n",
    "# m batches size n each so m = N/n\n",
    "batch_size = int((total_rows**(0.5)))\n",
    "print(\"Batch size = \", batch_size)\n",
    "\n",
    "batch_means = []\n",
    "variance = []\n",
    "overall_mean = mean(closed['resp'])\n",
    "\n",
    "for ii in range(0,total_rows,batch_size):\n",
    "    #print(i)\n",
    "    m_temp = mean(closed['resp'][ii:99+ii])\n",
    "    batch_means.append(m_temp)\n",
    "\n",
    "#print(batch_means)\n",
    "    \n",
    "\n",
    "for jj in range(0,len(batch_means)):\n",
    "    var = (1/(batch_size-1))\n",
    "    variance.append(var)\n",
    "\n",
    "\n",
    "\n",
    "    "
   ]
  },
  {
   "cell_type": "code",
   "execution_count": 52,
   "metadata": {
    "collapsed": false
   },
   "outputs": [],
   "source": [
    "import scipy\n",
    "def mean_confidence_interval(data, confidence=0.95):\n",
    "    a = 1.0*np.array(data)\n",
    "    n = len(a)\n",
    "    m, se = np.mean(a), scipy.stats.sem(a)\n",
    "    h = se * sp.stats.t._ppf((1+confidence)/2., n-1)\n",
    "    # return [m, [m-h, m+h]]\n",
    "    return [m, h]"
   ]
  },
  {
   "cell_type": "code",
   "execution_count": 53,
   "metadata": {
    "collapsed": false
   },
   "outputs": [
    {
     "name": "stdout",
     "output_type": "stream",
     "text": [
      "Last 5 measurements: \n",
      "time resp proxy router originA originB\n",
      "49999.897656465426,0.039093270671,0.577865,0.133549,0.999779,0.667094\n",
      "49999.929923779502,0.461592592368,0.577865,0.133549,0.999778,0.667094\n",
      "49999.949150078496,0.068900355486,0.577866,0.133549,0.999781,0.667096\n",
      "49999.976601088507,0.005503812923,0.577865,0.133549,0.999781,0.667095\n",
      "49999.994374383683,0.349631026105,0.577865,0.133549,0.99978,0.667095\n",
      "Avg response =  [0.3060261525690342, 0.34665668271691735, 0.40241130085256216, 0.36370661170851487, 0.416365659768348, 0.4508458641355258, 0.45878959455981722, 0.46910008926055424, 0.46158370373079971, 0.51374538532054048, 0.61510113089376028]\n",
      "Confint =  [0.011729182397462979, 0.013357357375828098, 0.015698035589229404, 0.014447759446995639, 0.016466558488056053, 0.018027323337851387, 0.018585328611868592, 0.019372190655263948, 0.019149478225205088, 0.021032860772764662, 0.024803480038475639]\n"
     ]
    }
   ],
   "source": [
    "#Problem 2\n",
    "#Report last 5 measurements:\n",
    "#49999.897656465426,0.039093270671,0.577865,0.133549,0.999779,0.667094\n",
    "#49999.929923779502,0.461592592368,0.577865,0.133549,0.999778,0.667094\n",
    "#49999.949150078496,0.068900355486,0.577866,0.133549,0.999781,0.667096\n",
    "#49999.976601088507,0.005503812923,0.577865,0.133549,0.999781,0.667095\n",
    "#49999.994374383683,0.349631026105,0.577865,0.133549,0.99978,0.667095\n",
    "\n",
    "import scipy as sp\n",
    "import scipy.stats\n",
    "import matplotlib.pyplot as plt\n",
    "\n",
    "print(\"Last 5 measurements: \")\n",
    "print('time', 'resp', 'proxy', 'router', 'originA', 'originB')\n",
    "print('''49999.897656465426,0.039093270671,0.577865,0.133549,0.999779,0.667094\n",
    "49999.929923779502,0.461592592368,0.577865,0.133549,0.999778,0.667094\n",
    "49999.949150078496,0.068900355486,0.577866,0.133549,0.999781,0.667096\n",
    "49999.976601088507,0.005503812923,0.577865,0.133549,0.999781,0.667095\n",
    "49999.994374383683,0.349631026105,0.577865,0.133549,0.99978,0.667095''')\n",
    "\n",
    "#Using R (or some other tool), make a plot of the response time as a function of the number of jobs in the system.\n",
    "#I'm averaging the last 10000 response times\n",
    "avg_response = []\n",
    "response_confint = []\n",
    "for ii in range(26,37):\n",
    "    file = \"OmnetClosed\" + str(ii) + \".csv\"\n",
    "    TehCSV = pd.read_csv(file, \\\n",
    "            names=['time', 'resp', 'proxy', 'router', 'originA', 'originB'])\n",
    "    last_N = TehCSV['resp'][-10000:]\n",
    "    #res[0]=mean, 1=confint\n",
    "    res = mean_confidence_interval(last_N)\n",
    "    avg_response.append(res[0])\n",
    "    response_confint.append(res[1])\n",
    "    \n",
    "print(\"Avg response = \", avg_response)\n",
    "print(\"Confint = \", response_confint)\n"
   ]
  },
  {
   "cell_type": "code",
   "execution_count": 56,
   "metadata": {
    "collapsed": false,
    "scrolled": true
   },
   "outputs": [
    {
     "data": {
      "image/png": "[encoded data removed]",
      "text/plain": [
       "<matplotlib.figure.Figure at 0x7f127e259860>"
      ]
     },
     "metadata": {},
     "output_type": "display_data"
    },
    {
     "name": "stdout",
     "output_type": "stream",
     "text": [
      "95% confidence intervals or last 10000 points shown on plot\n"
     ]
    }
   ],
   "source": [
    "x = []\n",
    "for jj in range(26,37):\n",
    "    x.append(jj)\n",
    "line0, = plt.plot(x, avg_response, 'bo-')\n",
    "plt.errorbar(x, avg_response, \n",
    "  yerr=response_confint, fmt='bo-')\n",
    "\n",
    "#title and axis labels\n",
    "plt.xlabel('Number of Jobs')\n",
    "plt.ylabel('Response Time (ms)')\n",
    "plt.title(\"Response Time VS Number of Jobs (Closed Sim, Last 10000 points)\")\n",
    "#plt.xscale('log', basex=2)\n",
    "#plt.yscale('log', basey=2)\n",
    "# plt.xscale('log')\n",
    "# plt.yscale('log')\n",
    "# plt.xticks([1,4,9,16,25,36,49,64,100,144], [1,4,9,16,25,36,49,64,100,144])\n",
    "# plt.xticklabels([1,4,9,16,25,36,49,64,81,100,121,144])\n",
    "#legend\n",
    "#plt.legend([line0, line1, line2], \n",
    "#  ['OpenMP', 'Hybrid', 'MPI'], loc=1)\n",
    "plt.show()\n",
    "print(\"95% confidence intervals or last 10000 points shown on plot\")"
   ]
  },
  {
   "cell_type": "code",
   "execution_count": 58,
   "metadata": {
    "collapsed": false
   },
   "outputs": [
    {
     "name": "stdout",
     "output_type": "stream",
     "text": [
      "15 ms interarrivaltime gets very close to 1, here are the last 5 measurements:\n",
      "49999.885753074046,0.014867338833,0.833873,0.183423,0.999982,0.99984\n",
      "49999.90796650579,0.024744846576,0.833873,0.183422,0.999981,0.99984\n",
      "49999.931279015363,60.418726752998,0.833873,0.183422,0.99998,0.999839\n",
      "49999.934273498183,0.03122815644,0.833873,0.183422,0.99998,0.999839\n",
      "49999.98892562328,0.006565631384,0.833872,0.183422,0.999983,0.99984\n",
      "\n"
     ]
    }
   ],
   "source": [
    "#Problem 3\n",
    "print(\"15 ms interarrivaltime gets very close to 1, here are the last 5 measurements:\")\n",
    "print('''49999.885753074046,0.014867338833,0.833873,0.183423,0.999982,0.99984\n",
    "49999.90796650579,0.024744846576,0.833873,0.183422,0.999981,0.99984\n",
    "49999.931279015363,60.418726752998,0.833873,0.183422,0.99998,0.999839\n",
    "49999.934273498183,0.03122815644,0.833873,0.183422,0.99998,0.999839\n",
    "49999.98892562328,0.006565631384,0.833872,0.183422,0.999983,0.99984\n",
    "''')"
   ]
  },
  {
   "cell_type": "code",
   "execution_count": 68,
   "metadata": {
    "collapsed": false
   },
   "outputs": [
    {
     "name": "stdout",
     "output_type": "stream",
     "text": [
      "OmnetOpen10_70.csv\n",
      "OmnetOpen11_72.csv\n",
      "OmnetOpen12_74.csv\n",
      "OmnetOpen13_76.csv\n",
      "OmnetOpen14_78.csv\n",
      "OmnetOpen15_80.csv\n",
      "OmnetOpen16_82.csv\n",
      "OmnetOpen17_84.csv\n",
      "OmnetOpen18_86.csv\n",
      "OmnetOpen19_88.csv\n",
      "OmnetOpen20_90.csv\n",
      "OmnetOpen21_92.csv\n",
      "OmnetOpen22_94.csv\n",
      "OmnetOpen23_96.csv\n"
     ]
    }
   ],
   "source": [
    "#Problem 4\n",
    "\n",
    "avg_response_4 = []\n",
    "proxy = []\n",
    "router = []\n",
    "originA = []\n",
    "originB = []\n",
    "for ii in range(0,14):\n",
    "    if ii<14:\n",
    "        file = \"OmnetOpen\" + str(ii+10) + \"_\" + str(ii*2+70) + \".csv\"\n",
    "        print(file)\n",
    "        TehCSV = pd.read_csv(file, \\\n",
    "                names=['time', 'resp', 'proxy', 'router', 'originA', 'originB'])\n",
    "        avg_response_4.append(mean(TehCSV['resp'][-10000:]))\n",
    "        proxy.append(mean(TehCSV['proxy'][-10000:]))\n",
    "        router.append(mean(TehCSV['router'][-10000:]))\n",
    "        originA.append(mean(TehCSV['originA'][-10000:]))\n",
    "        originB.append(mean(TehCSV['originB'][-10000:]))\n",
    "\n"
   ]
  },
  {
   "cell_type": "code",
   "execution_count": 80,
   "metadata": {
    "collapsed": false
   },
   "outputs": [
    {
     "data": {
      "image/png": "[encoded data removed]",
      "text/plain": [
       "<matplotlib.figure.Figure at 0x7f127e0eb2b0>"
      ]
     },
     "metadata": {},
     "output_type": "display_data"
    },
    {
     "data": {
      "image/png": "[encoded data removed]",
      "text/plain": [
       "<matplotlib.figure.Figure at 0x7f1274846d30>"
      ]
     },
     "metadata": {},
     "output_type": "display_data"
    },
    {
     "data": {
      "image/png": "[encoded data removed]",
      "text/plain": [
       "<matplotlib.figure.Figure at 0x7f12745170f0>"
      ]
     },
     "metadata": {},
     "output_type": "display_data"
    }
   ],
   "source": [
    "\n",
    "x = []\n",
    "for jj in range(0,14):\n",
    "    if ii<24:\n",
    "        x.append(jj+10)\n",
    "        \n",
    "#print(len(x), len(proxy))\n",
    "#print(x)\n",
    "#print(avg_response_4)\n",
    "        \n",
    "line0, = plt.plot(x, avg_response_4, 'bo-')\n",
    "plt.xlabel('Service Time (ms)')\n",
    "plt.ylabel('Response Time (ms)')\n",
    "plt.title(\"Response Time VS Service Time\")\n",
    "plt.show()\n",
    "\n",
    "line1, = plt.plot(x, proxy, 'ro-')\n",
    "line2, = plt.plot(x, router, 'go-')\n",
    "line3, = plt.plot(x, originA, 'co-')\n",
    "line4, = plt.plot(x, originB, 'ko-')\n",
    "plt.legend([line1, line2, line3, line4], \n",
    "  ['Proxy', 'Router', 'OriginA', 'OriginB'], loc=4)\n",
    "plt.xlabel('Utilization Percent (%)')\n",
    "plt.ylabel('Response Time (ms)')\n",
    "plt.title(\"Utilization Percent VS Service Time\")\n",
    "plt.show()\n",
    "\n",
    "line0, = plt.plot(x[0:9], avg_response_4[0:9], 'bo-')\n",
    "plt.xlabel('Service Time (ms)')\n",
    "plt.ylabel('Response Time (ms)')\n",
    "plt.title(\"Response Time VS Service Time\")\n",
    "plt.show()\n",
    "\n",
    "\n",
    "\n"
   ]
  },
  {
   "cell_type": "code",
   "execution_count": null,
   "metadata": {
    "collapsed": true
   },
   "outputs": [],
   "source": []
  }
 ],
 "metadata": {
  "kernelspec": {
   "display_name": "Python 3",
   "language": "python",
   "name": "python3"
  },
  "language_info": {
   "codemirror_mode": {
    "name": "ipython",
    "version": 3
   },
   "file_extension": ".py",
   "mimetype": "text/x-python",
   "name": "python",
   "nbconvert_exporter": "python",
   "pygments_lexer": "ipython3",
   "version": "3.4.3"
  }
 },
 "nbformat": 4,
 "nbformat_minor": 0
}
