{
 "cells": [
  {
   "cell_type": "code",
   "execution_count": 7,
   "metadata": {
    "collapsed": false
   },
   "outputs": [
    {
     "name": "stdout",
     "output_type": "stream",
     "text": [
      "Sat Feb 13 11:03:18 MST 2016\n",
      "\n"
     ]
    }
   ],
   "source": [
    "with open('data.txt') as f:\n",
    "    content = f.readlines()\n",
    "\n",
    "print content[0]"
   ]
  },
  {
   "cell_type": "code",
   "execution_count": 9,
   "metadata": {
    "collapsed": false
   },
   "outputs": [
    {
     "name": "stdout",
     "output_type": "stream",
     "text": [
      "Sample Number  0\n",
      "Sample Number  1\n",
      "Sample Number  2\n",
      "Sample Number  3\n",
      "Sample Number  4\n",
      "Sample Number  5\n",
      "Sample Number  6\n",
      "Sample Number  7\n",
      "Sample Number  8\n",
      "Sample Number  9\n",
      "Sample Number  10\n"
     ]
    }
   ],
   "source": [
    "sample = -1\n",
    "start = '0'\n",
    "end = '0'\n",
    "for line in content:\n",
    "    if 'Sat Feb 13' in line:\n",
    "        if start == '0':\n",
    "            start = line\n",
    "            \n",
    "            #Add to data structure\n",
    "            \n",
    "        else:\n",
    "            end = line\n",
    "            \n",
    "            sample += 1\n",
    "            print \"Sample Number \", sample\n",
    "            \n",
    "            #Add to data structure\n",
    "            \n",
    "        \n",
    "            \n",
    "            #clear\n",
    "            start = '0'\n",
    "            end = '0'\n",
    "        "
   ]
  },
  {
   "cell_type": "code",
   "execution_count": null,
   "metadata": {
    "collapsed": true
   },
   "outputs": [],
   "source": []
  }
 ],
 "metadata": {
  "kernelspec": {
   "display_name": "Python 2",
   "language": "python",
   "name": "python2"
  },
  "language_info": {
   "codemirror_mode": {
    "name": "ipython",
    "version": 2
   },
   "file_extension": ".py",
   "mimetype": "text/x-python",
   "name": "python",
   "nbconvert_exporter": "python",
   "pygments_lexer": "ipython2",
   "version": "2.7.11"
  }
 },
 "nbformat": 4,
 "nbformat_minor": 0
}
